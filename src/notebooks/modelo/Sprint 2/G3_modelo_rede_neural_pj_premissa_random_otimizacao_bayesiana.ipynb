{
 "cells": [
  {
   "cell_type": "markdown",
   "metadata": {
    "id": "mUhHmPliWe4I"
   },
   "source": [
    "# Importação das Bibliotecas que serão utilizadas no Modelo"
   ]
  },
  {
   "cell_type": "code",
   "execution_count": null,
   "metadata": {
    "colab": {
     "base_uri": "https://localhost:8080/"
    },
    "id": "tuPRD6dbGSOd",
    "outputId": "26dd7fab-ea55-4b7d-e66b-97952b502824"
   },
   "outputs": [],
   "source": [
    "!pip install --upgrade tensorflow-addons"
   ]
  },
  {
   "cell_type": "code",
   "execution_count": null,
   "metadata": {
    "id": "E7dzFab-JL9Z"
   },
   "outputs": [],
   "source": [
    "import tensorflow as tf\n",
    "from tensorflow import keras\n",
    "from tensorflow.keras import layers\n",
    "import pandas as pd\n",
    "import numpy as np\n",
    "from sklearn.model_selection import train_test_split\n",
    "from sklearn.preprocessing import MinMaxScaler\n",
    "from sklearn.preprocessing import RobustScaler\n",
    "from imblearn.over_sampling import SMOTE\n",
    "import matplotlib.pyplot as plt\n",
    "import gdown\n",
    "import plotly.express as px\n",
    "import plotly.graph_objects as go\n",
    "from tensorflow.keras import backend as K\n",
    "from sklearn.cluster import KMeans"
   ]
  },
  {
   "cell_type": "markdown",
   "metadata": {
    "id": "rpHUfSncWpaO"
   },
   "source": [
    "## Download dos arquivos contendo os datasets de consumo desde 2019 a 2024\n",
    "  - Aqui retiramos a base de 2020, por conta da pandemia do Coronavírus. Foi uma escolha do grupo devido à possibilidade de discrepância nas leituras"
   ]
  },
  {
   "cell_type": "code",
   "execution_count": null,
   "metadata": {
    "colab": {
     "base_uri": "https://localhost:8080/"
    },
    "id": "EG9a2W-kzQXc",
    "outputId": "208644ce-7740-4584-f8ff-cad5fda55c8b"
   },
   "outputs": [],
   "source": [
    "arquivo_destino_base = \"dataset_{}.csv\"\n",
    "\n",
    "ids = {\n",
    "    \"consumo_2024\": \"1-iXT7eaJWQokHf9cyfrB8N5wvkdhgjJW\",\n",
    "    \"consumo_2023\": \"1-WfvkRwaRr85B_Joxcm9xVdpyg5NBAmp\",\n",
    "    \"consumo_2022\": \"1-Uu4Tf4lufJVFeJnYKc5w7OeW66pe1eC\",\n",
    "    \"consumo_2021\": \"1-2PsTLzG4dcY4wM0p7vFfabUuLv950gC\",\n",
    "    \"consumo_2020\": \"1-1pOoa0eJlNJ94BMi7p4PTx5KUS96mhX\",\n",
    "    \"consumo_2019\": \"1-2PsTLzG4dcY4wM0p7vFfabUuLv950gC\",\n",
    "    \"CONSUMO_GERAL\": \"1-IOqfwmh_tTIDHeOer8J-HkGFtwuX67g\",\n",
    "}\n",
    "\n",
    "\n",
    "dataframes = {}\n",
    "\n",
    "\n",
    "for key, file_id in ids.items():\n",
    "    url = f\"https://drive.google.com/uc?id={file_id}\"\n",
    "    arquivo_destino = arquivo_destino_base.format(key)\n",
    "\n",
    "    gdown.download(url, arquivo_destino, quiet=False)"
   ]
  },
  {
   "cell_type": "code",
   "execution_count": null,
   "metadata": {
    "colab": {
     "base_uri": "https://localhost:8080/"
    },
    "id": "2OFwaINKz9a2",
    "outputId": "e2ab7b0c-79e9-4f86-d5a2-9fa98f8fa16e"
   },
   "outputs": [],
   "source": [
    "arquivos_csv = [\n",
    "    \"./dataset_consumo_2024.csv\",\n",
    "    \"./dataset_consumo_2023.csv\",\n",
    "    \"./dataset_consumo_2022.csv\",\n",
    "    \"./dataset_consumo_2021.csv\",\n",
    "    \"./dataset_consumo_2019.csv\",\n",
    "]\n",
    "\n",
    "ALL_COLUMNS_CONSUMO_GERAL = pd.concat([pd.read_csv(arquivo, delimiter=\";\") for arquivo in arquivos_csv], axis=0)"
   ]
  },
  {
   "cell_type": "code",
   "execution_count": null,
   "metadata": {
    "id": "QkGPmDOtKmkN"
   },
   "outputs": [],
   "source": [
    "consumo_geral = pd.read_csv('/content/dataset_CONSUMO_GERAL.csv')"
   ]
  },
  {
   "cell_type": "markdown",
   "metadata": {
    "id": "Z7-Y6UF0XCuM"
   },
   "source": [
    "## Download do dataset com o Target das Fraudes"
   ]
  },
  {
   "cell_type": "code",
   "execution_count": null,
   "metadata": {
    "colab": {
     "base_uri": "https://localhost:8080/",
     "height": 105
    },
    "id": "ULyqg7TpoDYI",
    "outputId": "07fb5a0c-a204-4e51-f8ee-e65572d98a2b"
   },
   "outputs": [],
   "source": [
    "file_id_fraudes = \"1-MbIlChqQapcxFkoJgpbQIsN9FBLfbX1\"\n",
    "url_fraudes = f\"https://drive.google.com/uc?id={file_id_fraudes}\"\n",
    "\n",
    "gdown.download(url_fraudes, quiet=False)"
   ]
  },
  {
   "cell_type": "code",
   "execution_count": null,
   "metadata": {
    "id": "6w7_peSCn7Ug"
   },
   "outputs": [],
   "source": [
    "fraudes = pd.read_csv('/content/fraudes.csv')"
   ]
  },
  {
   "cell_type": "markdown",
   "metadata": {
    "id": "ldtmRy7UXLY3"
   },
   "source": [
    "### A tabela \"ALL_COLUMNS_CONSUMO_GERAL\" possui todas as tabelas de consumo e a partir disso decidimos considerar algumas colunas categóricas que podem ajudar a melhorar o desempenho do nosso modelo"
   ]
  },
  {
   "cell_type": "code",
   "execution_count": null,
   "metadata": {
    "colab": {
     "base_uri": "https://localhost:8080/",
     "height": 652
    },
    "id": "UOb4m0J-5TCL",
    "outputId": "180f7799-1d43-438a-eff7-aca29fd140c8"
   },
   "outputs": [],
   "source": [
    "ALL_COLUMNS_CONSUMO_GERAL"
   ]
  },
  {
   "cell_type": "markdown",
   "metadata": {
    "id": "d_EHJc8LXlev"
   },
   "source": [
    "### Remoção de colunas indesejadas até o momento"
   ]
  },
  {
   "cell_type": "code",
   "execution_count": null,
   "metadata": {
    "id": "jC1ItnrL4iiS"
   },
   "outputs": [],
   "source": [
    "ALL_COLUMNS_CONSUMO_GERAL = ALL_COLUMNS_CONSUMO_GERAL.drop(columns=['Unnamed: 0', 'EMP_CODIGO', 'COD_GRUPO', 'COD_SETOR_COMERCIAL', 'NUM_QUADRA', 'COD_ROTA_LEITURA', 'SEQ_RESPONSAVEL', 'ECO_RESIDENCIAL', 'ECO_COMERCIAL', 'ECO_INDUSTRIAL', 'ECO_PUBLICA', 'ECO_OUTRAS','LTR_ATUAL', 'LTR_COLETADA', 'DAT_LEITURA', 'DIAS_LEITURA', 'COD_LEITURA_INF_1', 'COD_LEITURA_INF_2', 'COD_LEITURA_INF_3', 'HORA_LEITURA', 'DSC_SIMULTANEA', 'COD_LEITURA_INT','EXCECAO'])"
   ]
  },
  {
   "cell_type": "code",
   "execution_count": null,
   "metadata": {
    "colab": {
     "base_uri": "https://localhost:8080/"
    },
    "id": "SbkHY73-EKfq",
    "outputId": "ca92b92a-a4dc-4e54-b9fb-64854b10b84e"
   },
   "outputs": [],
   "source": [
    "ALL_COLUMNS_CONSUMO_GERAL.columns"
   ]
  },
  {
   "cell_type": "markdown",
   "metadata": {
    "id": "noqyuFdPXq6m"
   },
   "source": [
    "### Nessa seção queriamos validar a tabela de \"VOLUME_ESTIMADO_ACUM\" para ver se ela poderia agregar dentro do nosso modelo"
   ]
  },
  {
   "cell_type": "code",
   "execution_count": null,
   "metadata": {
    "colab": {
     "base_uri": "https://localhost:8080/",
     "height": 115
    },
    "id": "rXw_shC3ETEC",
    "outputId": "d6426431-4c6e-417e-958f-a9bf8a7fc8fb"
   },
   "outputs": [],
   "source": [
    "ALL_COLUMNS_CONSUMO_GERAL[['VOLUME_ESTIMADO_ACUM']].nunique()"
   ]
  },
  {
   "cell_type": "code",
   "execution_count": null,
   "metadata": {
    "colab": {
     "base_uri": "https://localhost:8080/",
     "height": 510
    },
    "id": "QQpwtHo1EQR1",
    "outputId": "694bf20e-6105-4913-c5d7-75b80f3c6d60"
   },
   "outputs": [],
   "source": [
    "ALL_COLUMNS_CONSUMO_GERAL[ALL_COLUMNS_CONSUMO_GERAL['VOLUME_ESTIMADO'] != 0]"
   ]
  },
  {
   "cell_type": "markdown",
   "metadata": {
    "id": "hpDnM5voX7uN"
   },
   "source": [
    "#### O insight retirado aqui é que talvez a melhor coluna para validação e ser utilizada como featura no modelo é a coluna de Volume Estimado. Ela possui maior consistência nos resultados, do que a coluna de Volume Estimado Acumulado"
   ]
  },
  {
   "cell_type": "markdown",
   "metadata": {
    "id": "lSkEsnRrZxSk"
   },
   "source": [
    "### Separação de Features relevantes\n",
    "\n",
    "Após pesquisas e visualizar as colunas disponíveis, percebemos uma coluna que poderia ser interessante para o processo de identificação de fraude. A coluna de \"DSC_OCORRENCIA\". Ela basicamente corresponde a descrição de como foi o processo de vistoria e coleta do responsável e em cada um dos domicílios (matrícula)\n",
    "\n",
    "Isso surgiu como uma possibilidade de tentar direcionar o modelo para casos nos quais há uma maior possibilidade de uma fraude, de acordo com a visualização do medidor em cada um desses domicílios."
   ]
  },
  {
   "cell_type": "code",
   "execution_count": null,
   "metadata": {
    "colab": {
     "base_uri": "https://localhost:8080/",
     "height": 441
    },
    "id": "XGr7R_w_Kei0",
    "outputId": "66966361-d092-47b1-efc5-37baa20dc0ce"
   },
   "outputs": [],
   "source": [
    "ALL_COLUMNS_CONSUMO_GERAL_PREMISSA_VINI = ALL_COLUMNS_CONSUMO_GERAL[ALL_COLUMNS_CONSUMO_GERAL['DSC_OCORRENCIA'].isin([\n",
    "    'NORMAL',\n",
    "    'MEDIDOR RETIRADO/FURTADO',\n",
    "    'LEITURA COLETADA PELO CLIENTE',\n",
    "    'MEDIDOR NÃO LOCALIZADO',\n",
    "    'IMÓVEL DESOCUPADO'\n",
    "])]\n",
    "\n",
    "ALL_COLUMNS_CONSUMO_GERAL_PREMISSA_VINI"
   ]
  },
  {
   "cell_type": "markdown",
   "metadata": {
    "id": "2h0_spJ_rGdD"
   },
   "source": [
    "## Tratando Dataframe com mais colunas targets adicionadas"
   ]
  },
  {
   "cell_type": "markdown",
   "metadata": {
    "id": "SEWOIr3RbEGS"
   },
   "source": [
    "#### Seperação do Dataframe apenas para a visualização das matriculas com Categoria Pessoa Jurídica"
   ]
  },
  {
   "cell_type": "code",
   "execution_count": null,
   "metadata": {
    "colab": {
     "base_uri": "https://localhost:8080/",
     "height": 424
    },
    "id": "id_RoNM8ZUGh",
    "outputId": "89386abe-49c2-487e-d770-28d41b038a5d"
   },
   "outputs": [],
   "source": [
    "dataframe_pj_premissa = ALL_COLUMNS_CONSUMO_GERAL_PREMISSA_VINI[ALL_COLUMNS_CONSUMO_GERAL_PREMISSA_VINI[\"CATEGORIA\"].isin([\"COMERCIAL\", \"PUBLICA\", \"INDUSTRIAL\"])]\n",
    "dataframe_pj_premissa"
   ]
  },
  {
   "cell_type": "markdown",
   "metadata": {
    "id": "jjuI7kQgbPQl"
   },
   "source": [
    "### Processo de One Hot Encoding para as Colunas, as quais serão as features para o nosso modelo"
   ]
  },
  {
   "cell_type": "code",
   "execution_count": null,
   "metadata": {
    "id": "tZlsXF8r0Ojo"
   },
   "outputs": [],
   "source": [
    "dataframe_pj_premissa = pd.get_dummies(dataframe_pj_premissa, columns=['TIPO_LIGACAO', 'DSC_OCORRENCIA', 'STA_TROCA', 'STA_ACEITA_LEITURA'], dtype='int')"
   ]
  },
  {
   "cell_type": "code",
   "execution_count": null,
   "metadata": {
    "colab": {
     "base_uri": "https://localhost:8080/",
     "height": 461
    },
    "id": "2J6lQ4lSR884",
    "outputId": "b63a7cb5-e4a7-4df6-8e67-85b70debe5bf"
   },
   "outputs": [],
   "source": [
    "dataframe_pj_premissa"
   ]
  },
  {
   "cell_type": "code",
   "execution_count": null,
   "metadata": {
    "colab": {
     "base_uri": "https://localhost:8080/"
    },
    "id": "5nIyTxQ03lDv",
    "outputId": "1ee76e30-81dd-4639-ba1c-f2b4978ff498"
   },
   "outputs": [],
   "source": [
    "fraudes.columns"
   ]
  },
  {
   "cell_type": "code",
   "execution_count": null,
   "metadata": {
    "colab": {
     "base_uri": "https://localhost:8080/",
     "height": 774
    },
    "id": "6bDV-ReHLWDi",
    "outputId": "72bad503-ba4c-429a-9403-27e1a2fae189"
   },
   "outputs": [],
   "source": [
    "fraudes"
   ]
  },
  {
   "cell_type": "code",
   "execution_count": null,
   "metadata": {
    "id": "3sqp4unc3MG-"
   },
   "outputs": [],
   "source": [
    "dataframe_fraudes_premissa = fraudes[['MATRICULA', 'DESCRICAO']].drop_duplicates()\n",
    "dataframe_fraudes_premissa = pd.get_dummies(dataframe_fraudes_premissa, columns=['DESCRICAO'], dtype='int')"
   ]
  },
  {
   "cell_type": "code",
   "execution_count": null,
   "metadata": {
    "colab": {
     "base_uri": "https://localhost:8080/"
    },
    "id": "AVlUTM94tGEY",
    "outputId": "00c06d09-62e2-4fe1-8bc3-cd1e82477177"
   },
   "outputs": [],
   "source": [
    "dataframe_fraudes_premissa['DESCRICAO_IRREGULARIDADE IDENTIFICADA'].unique()"
   ]
  },
  {
   "cell_type": "code",
   "execution_count": null,
   "metadata": {
    "colab": {
     "base_uri": "https://localhost:8080/"
    },
    "id": "PRc72FL9vIKC",
    "outputId": "96ca5206-c7f7-47c7-aba5-de23adaa5918"
   },
   "outputs": [],
   "source": [
    "len(dataframe_fraudes_premissa)"
   ]
  },
  {
   "cell_type": "code",
   "execution_count": null,
   "metadata": {
    "id": "0fMcRIGX4Tub"
   },
   "outputs": [],
   "source": [
    "dataframe_pj_premissa = pd.merge(dataframe_pj_premissa, dataframe_fraudes_premissa, on='MATRICULA', how='left')"
   ]
  },
  {
   "cell_type": "code",
   "execution_count": null,
   "metadata": {
    "colab": {
     "base_uri": "https://localhost:8080/",
     "height": 461
    },
    "id": "jWa718hq5QpO",
    "outputId": "54d5d6ad-7d4d-4aa0-a5cb-e7f9bf76d10c"
   },
   "outputs": [],
   "source": [
    "# dataframe_pj_premissa.drop_duplicates(subset=\"MATRICULA\", keep='first')\n",
    "dataframe_pj_premissa.dropna(subset=\"REFERENCIA\")"
   ]
  },
  {
   "cell_type": "code",
   "execution_count": null,
   "metadata": {
    "id": "MIPLa_N6uwna"
   },
   "outputs": [],
   "source": [
    "dataframe_pj_premissa = dataframe_pj_premissa.dropna(subset=\"COD_LATITUDE\")\n",
    "dataframe_pj_premissa = dataframe_pj_premissa.dropna(subset=\"COD_LONGITUDE\")"
   ]
  },
  {
   "cell_type": "markdown",
   "metadata": {
    "id": "xnlfnEVaUjeN"
   },
   "source": [
    "### Agrupamento dos clusteres por Latitude e Longitude"
   ]
  },
  {
   "cell_type": "markdown",
   "metadata": {
    "id": "MjXMQWnercTr"
   },
   "source": [
    "Aqui removendo os outliers nas colunas de latitude e longitude"
   ]
  },
  {
   "cell_type": "code",
   "execution_count": null,
   "metadata": {
    "id": "NFrN4XBsrcBS"
   },
   "outputs": [],
   "source": [
    "def remove_rows_with_column_value_greater_than_one(df, column_names):\n",
    "    condition = (df[column_names] > -10).any(axis=1)\n",
    "\n",
    "    df_filtered = df[~condition]\n",
    "\n",
    "    return df_filtered\n",
    "\n",
    "dataframe_pj_premissa = remove_rows_with_column_value_greater_than_one(dataframe_pj_premissa, ['COD_LATITUDE', 'COD_LONGITUDE'])"
   ]
  },
  {
   "cell_type": "code",
   "execution_count": null,
   "metadata": {
    "colab": {
     "base_uri": "https://localhost:8080/",
     "height": 1000
    },
    "id": "b2uBdLiWUqLK",
    "outputId": "7682cdd1-e289-44b1-8e0f-99c28e97cedf"
   },
   "outputs": [],
   "source": [
    "def plotar(n_clusters):\n",
    "\n",
    "  df_temp = dataframe_pj_premissa.copy()\n",
    "  kmeans = KMeans(n_clusters=n_clusters, random_state=42)\n",
    "  df_temp['cluster'] = kmeans.fit_predict(dataframe_pj_premissa[['COD_LATITUDE', 'COD_LONGITUDE']])\n",
    "\n",
    "  # visualizando\n",
    "  plt.figure(figsize=(10, 6))\n",
    "  plt.scatter(dataframe_pj_premissa['COD_LONGITUDE'], dataframe_pj_premissa['COD_LATITUDE'], c=df_temp['cluster'], cmap='viridis', marker='o', s=100)\n",
    "  plt.title(f\"K-Means Clustering com {n_clusters} Clusters\")\n",
    "  plt.xlabel(\"Longitude\")\n",
    "  plt.ylabel(\"Latitude\")\n",
    "  plt.show()\n",
    "\n",
    "\n",
    "\n",
    "# visulizar clusters do range de 2 para 17\n",
    "for x in range(2, 17):\n",
    "  print()\n",
    "  plotar(x)"
   ]
  },
  {
   "cell_type": "code",
   "execution_count": null,
   "metadata": {
    "colab": {
     "base_uri": "https://localhost:8080/"
    },
    "id": "yZ0J_PpZr_K7",
    "outputId": "ef54d4f6-6cc2-431f-e9bd-75a0f2fe628f"
   },
   "outputs": [],
   "source": [
    "kmeans = KMeans(n_clusters=20, random_state=42)\n",
    "dataframe_pj_premissa['cluster'] = kmeans.fit_predict(dataframe_pj_premissa[['COD_LATITUDE', 'COD_LONGITUDE']])"
   ]
  },
  {
   "cell_type": "code",
   "execution_count": null,
   "metadata": {
    "id": "TI8fEIeKsjSh"
   },
   "outputs": [],
   "source": [
    "dataframe_pj_premissa = dataframe_pj_premissa.drop(columns=['COD_LATITUDE', 'COD_LONGITUDE'])"
   ]
  },
  {
   "cell_type": "code",
   "execution_count": null,
   "metadata": {
    "id": "hnYIOvoeszaa"
   },
   "outputs": [],
   "source": [
    "dataframe_pj_premissa = pd.get_dummies(dataframe_pj_premissa, columns = ['cluster'], dtype=int)"
   ]
  },
  {
   "cell_type": "markdown",
   "metadata": {
    "id": "WKk7toKYflb8"
   },
   "source": [
    "### Normalizando com o Robust Scaler\n",
    "\n",
    "O RobustScaler é uma técnica de normalização usada para transformar dados. Ele é útil especialmente quando os dados contêm outliers, ou seja, valores atípicos que podem distorcer (neste caso o Consumo e o Volume) os resultados de outras técnicas de escalonamento, como StandardScaler ou MinMaxScaler.\n",
    "\n",
    "O RobustScaler transforma os dados subtraindo a mediana e dividindo pela amplitude interquartil (IQR, Interquartile Range). A mediana é o valor do ponto médio quando os dados são ordenados, e o IQR é a diferença entre o terceiro quartil (75º percentil) e o primeiro quartil (25º percentil).\n",
    "\n",
    "Esse método é menos sensível a outliers porque, ao contrário da média e do desvio padrão (usados pelo StandardScaler), a mediana e o IQR não são afetados por valores extremos."
   ]
  },
  {
   "cell_type": "code",
   "execution_count": null,
   "metadata": {
    "id": "sizbtxDrUkvL"
   },
   "outputs": [],
   "source": [
    "from sklearn.preprocessing import RobustScaler\n",
    "\n",
    "scaler = RobustScaler()\n",
    "\n",
    "dataframe_pj_premissa[['CONS_MEDIDO']] = scaler.fit_transform(dataframe_pj_premissa[['CONS_MEDIDO']])\n",
    "dataframe_pj_premissa[['VOLUME_ESTIMADO']] = scaler.fit_transform(dataframe_pj_premissa[['VOLUME_ESTIMADO']])"
   ]
  },
  {
   "cell_type": "code",
   "execution_count": null,
   "metadata": {
    "colab": {
     "base_uri": "https://localhost:8080/",
     "height": 273
    },
    "id": "Gb041Z7n7zUf",
    "outputId": "ac0a2dec-f465-4fb8-f7a8-6aa726e5ef63"
   },
   "outputs": [],
   "source": [
    "pivoted_df = pd.pivot_table(\n",
    "    dataframe_pj_premissa,\n",
    "    index='MATRICULA',\n",
    "    columns='REFERENCIA',\n",
    "    values=['CONS_MEDIDO', 'VOLUME_ESTIMADO'],\n",
    "    aggfunc='sum'\n",
    ")\n",
    "\n",
    "pivoted_df.columns = ['_'.join(col).strip() for col in pivoted_df.columns.values]\n",
    "pivoted_df = pivoted_df.reset_index()\n",
    "\n",
    "pivoted_df.head()"
   ]
  },
  {
   "cell_type": "code",
   "execution_count": null,
   "metadata": {
    "colab": {
     "base_uri": "https://localhost:8080/"
    },
    "id": "Qh6Wog6Wv2ks",
    "outputId": "7a70d8d9-3d8d-4e95-f519-2b058246dafb"
   },
   "outputs": [],
   "source": [
    "len(pivoted_df)"
   ]
  },
  {
   "cell_type": "markdown",
   "metadata": {
    "id": "kzm0etx4f39Y"
   },
   "source": [
    "### Atribuição de cada uma das variáveis categóricas ao dataframe com o consumo e volume históricos\n",
    "\n",
    "- É importante citar aqui que atribuímos a premissa que a primeira definição de tipo de ligação, descrição e os outros utilizados, serão os que tomaremos como base para inferência dentro do modelo"
   ]
  },
  {
   "cell_type": "code",
   "execution_count": null,
   "metadata": {
    "id": "lEg8bcZ8AWmA"
   },
   "outputs": [],
   "source": [
    "tipo_ligacao = dataframe_pj_premissa[['MATRICULA','TIPO_LIGACAO_Consumo Fixo', 'TIPO_LIGACAO_Hidrometrado']].drop_duplicates(subset='MATRICULA', keep='first')\n",
    "pivoted_df = pivoted_df.merge(tipo_ligacao, on='MATRICULA', how='left').fillna(0)"
   ]
  },
  {
   "cell_type": "code",
   "execution_count": null,
   "metadata": {
    "id": "b2Aj6H_iBS6h"
   },
   "outputs": [],
   "source": [
    "descricao_ocorrencia = dataframe_pj_premissa[['MATRICULA','DSC_OCORRENCIA_MEDIDOR NÃO LOCALIZADO', 'DSC_OCORRENCIA_MEDIDOR RETIRADO/FURTADO', 'DSC_OCORRENCIA_NORMAL']].drop_duplicates(subset='MATRICULA', keep='first')\n",
    "pivoted_df = pivoted_df.merge(descricao_ocorrencia, on='MATRICULA', how='left').fillna(0)"
   ]
  },
  {
   "cell_type": "code",
   "execution_count": null,
   "metadata": {
    "id": "faW98EliCUo6"
   },
   "outputs": [],
   "source": [
    "fraude_ou_não = dataframe_pj_premissa[['MATRICULA','DESCRICAO_IRREGULARIDADE IDENTIFICADA']].drop_duplicates(subset='MATRICULA', keep='first')\n",
    "pivoted_df = pivoted_df.merge(fraude_ou_não, on='MATRICULA', how='left').fillna(0)"
   ]
  },
  {
   "cell_type": "code",
   "execution_count": null,
   "metadata": {
    "colab": {
     "base_uri": "https://localhost:8080/"
    },
    "id": "lIMOhvMIywR7",
    "outputId": "58d87d0d-4bf4-4017-bdc2-c2bbcaf227b3"
   },
   "outputs": [],
   "source": [
    "dataframe_pj_premissa.columns.values"
   ]
  },
  {
   "cell_type": "code",
   "execution_count": null,
   "metadata": {
    "id": "l0N-8ppTs7Ky"
   },
   "outputs": [],
   "source": [
    "clusters = dataframe_pj_premissa[['MATRICULA','cluster_0', 'cluster_1', 'cluster_2', 'cluster_3', 'cluster_4',\n",
    "       'cluster_5', 'cluster_6', 'cluster_7', 'cluster_8', 'cluster_9',\n",
    "       'cluster_10', 'cluster_11', 'cluster_12', 'cluster_13',\n",
    "       'cluster_14', 'cluster_15', 'cluster_16', 'cluster_17',\n",
    "       'cluster_18', 'cluster_19']].drop_duplicates(subset='MATRICULA', keep='first')\n",
    "pivoted_df = pivoted_df.merge(clusters, on='MATRICULA', how='left').fillna(0)"
   ]
  },
  {
   "cell_type": "code",
   "execution_count": null,
   "metadata": {
    "id": "9Po2Vj6o9Smj"
   },
   "outputs": [],
   "source": [
    "pivoted_df = pivoted_df.fillna(0)"
   ]
  },
  {
   "cell_type": "code",
   "execution_count": null,
   "metadata": {
    "colab": {
     "base_uri": "https://localhost:8080/",
     "height": 461
    },
    "id": "0U6g1CIhDdtA",
    "outputId": "c00544a4-7d65-45e1-8f04-88a202e214d6"
   },
   "outputs": [],
   "source": [
    "pivoted_df"
   ]
  },
  {
   "cell_type": "code",
   "execution_count": null,
   "metadata": {
    "id": "WX4wNVRQwJ5g"
   },
   "outputs": [],
   "source": [
    "colunas_data = ['CONS_MEDIDO_2019-01-01', 'CONS_MEDIDO_2019-02-01',\n",
    "       'CONS_MEDIDO_2019-03-01', 'CONS_MEDIDO_2019-04-01',\n",
    "       'CONS_MEDIDO_2019-05-01', 'CONS_MEDIDO_2019-06-01',\n",
    "       'CONS_MEDIDO_2019-07-01', 'CONS_MEDIDO_2019-08-01',\n",
    "       'CONS_MEDIDO_2019-09-01', 'CONS_MEDIDO_2019-10-01',\n",
    "       'CONS_MEDIDO_2019-11-01', 'CONS_MEDIDO_2019-12-01',\n",
    "       'CONS_MEDIDO_2022-01-01', 'CONS_MEDIDO_2022-02-01',\n",
    "       'CONS_MEDIDO_2022-03-01', 'CONS_MEDIDO_2022-04-01',\n",
    "       'CONS_MEDIDO_2022-05-01', 'CONS_MEDIDO_2022-06-01',\n",
    "       'CONS_MEDIDO_2022-07-01', 'CONS_MEDIDO_2022-08-01',\n",
    "       'CONS_MEDIDO_2022-09-01', 'CONS_MEDIDO_2022-10-01',\n",
    "       'CONS_MEDIDO_2022-11-01', 'CONS_MEDIDO_2022-12-01',\n",
    "       'CONS_MEDIDO_2023-01-01', 'CONS_MEDIDO_2023-02-01',\n",
    "       'CONS_MEDIDO_2023-03-01', 'CONS_MEDIDO_2023-04-01',\n",
    "       'CONS_MEDIDO_2023-05-01', 'CONS_MEDIDO_2023-06-01',\n",
    "       'CONS_MEDIDO_2023-07-01', 'CONS_MEDIDO_2023-08-01',\n",
    "       'CONS_MEDIDO_2023-09-01', 'CONS_MEDIDO_2023-10-01',\n",
    "       'CONS_MEDIDO_2023-11-01', 'CONS_MEDIDO_2023-12-01',\n",
    "       'CONS_MEDIDO_2024-01-01', 'CONS_MEDIDO_2024-02-01',\n",
    "       'CONS_MEDIDO_2024-03-01', 'CONS_MEDIDO_2024-04-01',\n",
    "       'CONS_MEDIDO_2024-05-01', 'CONS_MEDIDO_2024-06-01',\n",
    "       'CONS_MEDIDO_2024-07-01', 'CONS_MEDIDO_2024-08-01']"
   ]
  },
  {
   "cell_type": "code",
   "execution_count": null,
   "metadata": {
    "colab": {
     "base_uri": "https://localhost:8080/"
    },
    "id": "f_fOIfAWwwv1",
    "outputId": "504bae49-ad59-475e-f762-feb7613b91b3"
   },
   "outputs": [],
   "source": [
    "np.unique(pivoted_df['DESCRICAO_IRREGULARIDADE IDENTIFICADA'].values, return_counts=True)"
   ]
  },
  {
   "cell_type": "markdown",
   "metadata": {
    "id": "57gpeUyH-Bjx"
   },
   "source": [
    "## Rodando o modelo"
   ]
  },
  {
   "cell_type": "markdown",
   "metadata": {
    "id": "iBJ21gZSXzNg"
   },
   "source": [
    "### Divisão de Treino e Teste"
   ]
  },
  {
   "cell_type": "code",
   "execution_count": null,
   "metadata": {
    "colab": {
     "base_uri": "https://localhost:8080/"
    },
    "id": "XAiaqzOm9hSY",
    "outputId": "e6f2c91b-d0ea-48e9-92f3-e95425b6d2e4"
   },
   "outputs": [],
   "source": [
    "pivoted_df.shape"
   ]
  },
  {
   "cell_type": "markdown",
   "metadata": {
    "id": "rPeNvcbLgh1h"
   },
   "source": [
    "#### Balanceando os dados com Smote (Synthetic Minority Over-sampling Technique)\n",
    "\n",
    "O smote é uma técnica de \"oversampling\" usada para balancear datasets com o objetivo de aumentar a quantidade de amostras da classe minoritária gerando novos exemplos sintéticos, em vez de simplesmente replicar os dados existentes. Isso ajuda a melhorar a performance de modelos de machine learning ao treinar com um dataset mais balanceado.\n",
    "\n",
    "Quando você treina um modelo de machine learning com um dataset desbalanceado (onde uma classe tem muito mais exemplos do que a outra), o modelo tende a favorecer a classe majoritária.\n",
    "\n",
    "Como resultado, o modelo pode ter um bom desempenho em termos de acurácia geral, mas um desempenho ruim ao identificar a classe minoritária (por exemplo, falhas, fraudes, etc.).\n",
    "\n",
    "O Smote ajuda a mitigar esse problema ao balancear o dataset, aumentando o número de exemplos da classe minoritária."
   ]
  },
  {
   "cell_type": "code",
   "execution_count": null,
   "metadata": {
    "id": "Efy-miOag6Jq"
   },
   "outputs": [],
   "source": [
    "def balanciar(df):\n",
    "  smote = SMOTE(random_state=42)\n",
    "  X = pivoted_df.drop('DESCRICAO_IRREGULARIDADE IDENTIFICADA', axis=1)\n",
    "  y = pivoted_df['DESCRICAO_IRREGULARIDADE IDENTIFICADA']\n",
    "  X_res, y_res = smote.fit_resample(X, y)\n",
    "  return pd.concat([X_res, y_res], axis=1)"
   ]
  },
  {
   "cell_type": "code",
   "execution_count": null,
   "metadata": {
    "id": "5P74LnL6N9Ui"
   },
   "outputs": [],
   "source": [
    "# from imblearn.under_sampling import RandomUnderSampler\n",
    "\n",
    "# def balanciar(df):\n",
    "#   rus = RandomUnderSampler(random_state=42)\n",
    "#   X = pivoted_df.drop('DESCRICAO_IRREGULARIDADE IDENTIFICADA', axis=1)\n",
    "#   y = pivoted_df['DESCRICAO_IRREGULARIDADE IDENTIFICADA']\n",
    "#   X_res, y_res = rus.fit_resample(X, y)\n",
    "#   return pd.concat([X_res, y_res], axis=1)"
   ]
  },
  {
   "cell_type": "code",
   "execution_count": null,
   "metadata": {
    "id": "alIELHxvdxrn"
   },
   "outputs": [],
   "source": [
    "# pivoted_df = balanciar(pivoted_df)"
   ]
  },
  {
   "cell_type": "code",
   "execution_count": null,
   "metadata": {
    "colab": {
     "base_uri": "https://localhost:8080/"
    },
    "id": "I7rhSEoIxijy",
    "outputId": "dedfe732-c7b8-413a-f701-4c284940e9ca"
   },
   "outputs": [],
   "source": [
    "np.unique(pivoted_df['DESCRICAO_IRREGULARIDADE IDENTIFICADA'].values, return_counts=True)"
   ]
  },
  {
   "cell_type": "code",
   "execution_count": null,
   "metadata": {
    "id": "WSuX6n27pLrJ"
   },
   "outputs": [],
   "source": [
    "pivoted_df = balanciar(pivoted_df.fillna(0))"
   ]
  },
  {
   "cell_type": "code",
   "execution_count": null,
   "metadata": {
    "colab": {
     "base_uri": "https://localhost:8080/"
    },
    "id": "DyCp1ciayKba",
    "outputId": "0195f281-3a18-4fda-8d77-28187139d06d"
   },
   "outputs": [],
   "source": [
    "pivoted_df.columns"
   ]
  },
  {
   "cell_type": "code",
   "execution_count": null,
   "metadata": {
    "id": "VN4ph0X3zJGc"
   },
   "outputs": [],
   "source": [
    "y = pivoted_df['DESCRICAO_IRREGULARIDADE IDENTIFICADA'].values\n",
    "X = pivoted_df.drop(['MATRICULA','DESCRICAO_IRREGULARIDADE IDENTIFICADA'], axis=1).values"
   ]
  },
  {
   "cell_type": "code",
   "execution_count": null,
   "metadata": {
    "id": "ZSYszgHggtMX"
   },
   "outputs": [],
   "source": [
    "x_train, x_val, y_train, y_val = train_test_split(X, y, test_size=0.30, random_state=42)"
   ]
  },
  {
   "cell_type": "code",
   "execution_count": null,
   "metadata": {
    "id": "ZFm6J8sOxRg0"
   },
   "outputs": [],
   "source": [
    "import tensorflow.keras as keras\n",
    "from tensorflow.keras import layers\n",
    "\n",
    "model = keras.Sequential([\n",
    "    keras.layers.Input(shape=(x_train.shape[1],)),\n",
    "    keras.layers.Dense(128, activation='relu'),\n",
    "    layers.Dropout(0.2),\n",
    "    keras.layers.Dense(64, activation='relu'),\n",
    "    layers.Dropout(0.2),\n",
    "    keras.layers.Dense(32, activation='relu'),\n",
    "    layers.Dropout(0.2),\n",
    "    keras.layers.Dense(16, activation='relu'),\n",
    "    layers.Dropout(0.2),\n",
    "    keras.layers.Dense(8, activation='relu'),\n",
    "    layers.Dropout(0.2),\n",
    "    keras.layers.Dense(1, activation='sigmoid')\n",
    "])"
   ]
  },
  {
   "cell_type": "code",
   "execution_count": null,
   "metadata": {
    "colab": {
     "base_uri": "https://localhost:8080/",
     "height": 510
    },
    "id": "uOTSy6YGzO6V",
    "outputId": "46af40bc-de8a-4be2-ac4e-37445e892da2"
   },
   "outputs": [],
   "source": [
    "model.summary()"
   ]
  },
  {
   "cell_type": "code",
   "execution_count": null,
   "metadata": {
    "id": "Ofmy8XI3yXch"
   },
   "outputs": [],
   "source": [
    "model.compile(loss='binary_crossentropy', optimizer='adam', metrics=['accuracy', 'precision', 'recall'])"
   ]
  },
  {
   "cell_type": "code",
   "execution_count": null,
   "metadata": {
    "colab": {
     "base_uri": "https://localhost:8080/"
    },
    "id": "jeA2K7Vhyq4K",
    "outputId": "63e2d658-cfe1-4695-d162-8ba63a33d8c9"
   },
   "outputs": [],
   "source": [
    "x_train.shape"
   ]
  },
  {
   "cell_type": "code",
   "execution_count": null,
   "metadata": {
    "colab": {
     "base_uri": "https://localhost:8080/"
    },
    "id": "sYob2bS3yth7",
    "outputId": "d871400b-241e-4911-f295-eab4a992c940"
   },
   "outputs": [],
   "source": [
    "y_train.shape"
   ]
  },
  {
   "cell_type": "code",
   "execution_count": null,
   "metadata": {
    "colab": {
     "base_uri": "https://localhost:8080/"
    },
    "id": "tWMuRmvayv9B",
    "outputId": "fbffa314-5786-4ff7-8d6e-3ec1b826dea5"
   },
   "outputs": [],
   "source": [
    "x_val.shape"
   ]
  },
  {
   "cell_type": "code",
   "execution_count": null,
   "metadata": {
    "colab": {
     "base_uri": "https://localhost:8080/"
    },
    "id": "hAzgCPnVy6qr",
    "outputId": "1cbec948-bca1-4b4c-c76f-cd2597da2c5f"
   },
   "outputs": [],
   "source": [
    "y_val.shape"
   ]
  },
  {
   "cell_type": "code",
   "execution_count": null,
   "metadata": {
    "colab": {
     "base_uri": "https://localhost:8080/"
    },
    "id": "TxelDmhByV8A",
    "outputId": "fa7c8124-36d6-4368-dc8f-7d45baa6319e"
   },
   "outputs": [],
   "source": [
    "early_stopping = keras.callbacks.EarlyStopping(monitor='val_loss', patience=5)\n",
    "\n",
    "result = model.fit(x_train, y_train, epochs=45, batch_size=64, validation_data=(x_val, y_val))"
   ]
  },
  {
   "cell_type": "code",
   "execution_count": null,
   "metadata": {
    "colab": {
     "base_uri": "https://localhost:8080/",
     "height": 542
    },
    "id": "sGL64Xx1_9Ne",
    "outputId": "70b95c51-b136-4cad-ebba-acb5fac2116a"
   },
   "outputs": [],
   "source": [
    "history = result.history\n",
    "fig = px.line(x=list(range(1, 46)), y=history['loss'], labels={'x': 'Épocas', 'y': 'Perda'}, title='Função de Custo durante o Treinamento')\n",
    "fig.update_traces(mode='lines+markers')\n",
    "fig.show()"
   ]
  },
  {
   "cell_type": "code",
   "execution_count": null,
   "metadata": {
    "colab": {
     "base_uri": "https://localhost:8080/",
     "height": 489
    },
    "id": "FiL4-WjYJqxo",
    "outputId": "c5b5ef23-c25b-424e-c192-3530a8bf838f"
   },
   "outputs": [],
   "source": [
    "import numpy as np\n",
    "import matplotlib.pyplot as plt\n",
    "from sklearn.metrics import confusion_matrix, ConfusionMatrixDisplay\n",
    "from keras.models import load_model\n",
    "\n",
    "y_pred = model.predict(x_val)\n",
    "y_pred = np.round(y_pred).astype(int)\n",
    "\n",
    "cm = confusion_matrix(y_val, y_pred)\n",
    "\n",
    "disp = ConfusionMatrixDisplay(confusion_matrix=cm, display_labels=[\"Não é fraude\", \"É fraude\"])\n",
    "disp.plot(cmap=plt.cm.Blues)\n",
    "plt.title('Matriz de Confusão')\n",
    "plt.show()"
   ]
  },
  {
   "cell_type": "code",
   "execution_count": null,
   "metadata": {
    "colab": {
     "base_uri": "https://localhost:8080/",
     "height": 474
    },
    "id": "1818bNL83CZS",
    "outputId": "20ccc9c7-0319-4f65-841d-7f058f5f4862"
   },
   "outputs": [],
   "source": [
    "plt.plot(result.history['loss'], label='loss')\n",
    "plt.plot(result.history['val_loss'], label='val_loss')\n",
    "plt.legend(['Erro Treino', 'Erro Teste'])\n",
    "plt.xlabel('Épocas')\n",
    "plt.ylabel('Função de Custo')\n",
    "plt.title('Training Validation')\n",
    "plt.show()"
   ]
  },
  {
   "cell_type": "code",
   "execution_count": null,
   "metadata": {
    "colab": {
     "base_uri": "https://localhost:8080/",
     "height": 698
    },
    "id": "UCIN40aMACtd",
    "outputId": "073695d9-c955-4320-91de-40e37034f874"
   },
   "outputs": [],
   "source": [
    "fig = go.Figure()\n",
    "\n",
    "fig.add_trace(go.Line(x=list(range(1, 26)), y=history['accuracy'], mode='lines+markers', name='Precisão de Treinamento'))\n",
    "\n",
    "fig.add_trace(go.Line(x=list(range(1, 26)), y=history['val_loss'], mode='lines+markers', name='Perda de Validação'))\n",
    "\n",
    "fig.update_layout(title='Precisão e Perda durante o Treinamento', xaxis_title='Épocas', yaxis_title='Valor', legend_title='Métrica')\n",
    "fig.show()"
   ]
  },
  {
   "cell_type": "code",
   "execution_count": null,
   "metadata": {
    "colab": {
     "base_uri": "https://localhost:8080/",
     "height": 1000
    },
    "id": "SmnkdbON7ZJf",
    "outputId": "4dbcb2c0-cda4-4efb-a48f-315f469cb41d"
   },
   "outputs": [],
   "source": [
    "from tensorflow.keras.utils import plot_model\n",
    "\n",
    "plot_model(model, to_file='model_visualization.png', show_shapes=True, show_layer_names=True)"
   ]
  },
  {
   "cell_type": "markdown",
   "metadata": {
    "id": "oG5Id7b8T9tb"
   },
   "source": [
    "### Agregação de hiperparâmetros"
   ]
  },
  {
   "cell_type": "code",
   "execution_count": null,
   "metadata": {
    "colab": {
     "base_uri": "https://localhost:8080/"
    },
    "id": "jilqcvnKTUFe",
    "outputId": "f33b46df-6e26-4582-a635-cf648af45492"
   },
   "outputs": [],
   "source": [
    "%pip install scikit-optimize"
   ]
  },
  {
   "cell_type": "code",
   "execution_count": null,
   "metadata": {
    "colab": {
     "base_uri": "https://localhost:8080/"
    },
    "id": "midq3LIpWlxe",
    "outputId": "fa89f653-9802-4bd1-c85a-b5a0003993bc"
   },
   "outputs": [],
   "source": [
    "from skopt import gp_minimize\n",
    "from skopt.space import Real, Integer\n",
    "from sklearn.model_selection import train_test_split\n",
    "from tensorflow import keras\n",
    "\n",
    "# Definindo a função objetivo\n",
    "def objective(params):\n",
    "    learning_rate, num_neurons, batch_size, dropout_rate = params\n",
    "\n",
    "    # Pegando a última 'val_loss' como métrica para otimização\n",
    "    val_loss = result.history['val_loss'][-1]\n",
    "    return val_loss\n",
    "\n",
    "# Definindo o espaço de busca\n",
    "space = [\n",
    "    Real(1e-4, 1e-2, \"log-uniform\", name='learning_rate'),  # Taxa de aprendizado\n",
    "    Integer(16, 256, name='num_neurons'),                 # Número de neurônios\n",
    "    Integer(16, 128, name='batch_size'),                   # Tamanho do batch\n",
    "    Real(0.1, 0.5, name='dropout_rate')                   # Olhar pro dropout\n",
    "]\n",
    "\n",
    "# Otimizando usando a otimização bayesiana\n",
    "result = gp_minimize(objective, space, n_calls=30, random_state=42)\n",
    "\n",
    "print(f\"Melhores hiperparâmetros: {result.x}\")\n",
    "print(f\"Menor val_loss: {result.fun}\")"
   ]
  },
  {
   "cell_type": "code",
   "execution_count": null,
   "metadata": {
    "colab": {
     "base_uri": "https://localhost:8080/"
    },
    "id": "nv3mHOehW6HF",
    "outputId": "808ab468-2be0-41b3-f6a0-38130f3987ad"
   },
   "outputs": [],
   "source": [
    "print(f\"Melhor taxa de aprendizado: {result.x[0]}, Melhor número de neurônios: {result.x[1]}\")"
   ]
  },
  {
   "cell_type": "markdown",
   "metadata": {
    "id": "Nq4PwxaKd2_-"
   },
   "source": [
    "### Random Search"
   ]
  },
  {
   "cell_type": "code",
   "execution_count": null,
   "metadata": {
    "id": "TKN5G3Uud5CS"
   },
   "outputs": [],
   "source": [
    "def create_model(learning_rate=0.001, dropout_rate=0.2):\n",
    "    model = keras.Sequential([\n",
    "        keras.layers.Input(shape=(x_train.shape[1],)),\n",
    "        keras.layers.Dense(128, activation='relu'),\n",
    "        layers.Dropout(dropout_rate),\n",
    "        keras.layers.Dense(64, activation='relu'),\n",
    "        layers.Dropout(dropout_rate),\n",
    "        keras.layers.Dense(32, activation='relu'),\n",
    "        layers.Dropout(dropout_rate),\n",
    "        keras.layers.Dense(16, activation='relu'),\n",
    "        layers.Dropout(dropout_rate),\n",
    "        keras.layers.Dense(8, activation='relu'),\n",
    "        layers.Dropout(dropout_rate),\n",
    "        keras.layers.Dense(1, activation='sigmoid')\n",
    "    ])\n",
    "\n",
    "    optimizer = keras.optimizers.Adam(learning_rate=learning_rate)\n",
    "    model.compile(optimizer=optimizer, loss='binary_crossentropy', metrics=['accuracy'])\n",
    "\n",
    "    return model"
   ]
  },
  {
   "cell_type": "code",
   "execution_count": null,
   "metadata": {
    "colab": {
     "base_uri": "https://localhost:8080/"
    },
    "id": "CKZm80JLqDK8",
    "outputId": "fa255dc9-8ffa-4122-be34-2c3e9b1adf91"
   },
   "outputs": [],
   "source": [
    "%pip install scikeras"
   ]
  },
  {
   "cell_type": "code",
   "execution_count": null,
   "metadata": {
    "colab": {
     "base_uri": "https://localhost:8080/"
    },
    "id": "JRZeSxTbnus-",
    "outputId": "ddd5a3a9-a330-4659-9899-a93bc8754ae7"
   },
   "outputs": [],
   "source": [
    "from sklearn.metrics import fbeta_score, make_scorer, accuracy_score, precision_score, recall_score\n",
    "from sklearn.model_selection import RandomizedSearchCV\n",
    "from scikeras.wrappers import KerasClassifier\n",
    "\n",
    "\n",
    "model = KerasClassifier(model=create_model, optimizer='adam')\n",
    "\n",
    "param_dist = {\n",
    "    'batch_size': [64, 128],\n",
    "    'epochs': [30, 45],\n",
    "}\n",
    "\n",
    "# Define the scoring metrics\n",
    "scoring = {\n",
    "    'accuracy': make_scorer(accuracy_score),\n",
    "    'precision': make_scorer(precision_score),\n",
    "    'recall': make_scorer(recall_score)}\n",
    "\n",
    "random_search = RandomizedSearchCV(\n",
    "    estimator=model,\n",
    "    param_distributions=param_dist,\n",
    "    n_iter=10,\n",
    "    cv=3,\n",
    "    verbose=2,\n",
    "    random_state=42,\n",
    "    n_jobs=1,\n",
    "    scoring=scoring,\n",
    "    refit='accuracy'\n",
    ")\n",
    "\n",
    "random_search.fit(x_train, y_train)\n",
    "\n",
    "print(random_search.best_params_)\n",
    "best_model = random_search.best_estimator_"
   ]
  }
 ],
 "metadata": {
  "accelerator": "GPU",
  "colab": {
   "gpuType": "T4",
   "machine_shape": "hm",
   "provenance": []
  },
  "kernelspec": {
   "display_name": "Python 3",
   "name": "python3"
  },
  "language_info": {
   "name": "python"
  }
 },
 "nbformat": 4,
 "nbformat_minor": 0
}
