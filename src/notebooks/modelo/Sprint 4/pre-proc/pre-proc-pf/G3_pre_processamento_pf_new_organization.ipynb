{
 "cells": [
  {
   "cell_type": "code",
   "execution_count": null,
   "metadata": {
    "id": "dCdINVejOt6E"
   },
   "outputs": [],
   "source": [
    "import tensorflow as tf\n",
    "from tensorflow import keras\n",
    "from tensorflow.keras import layers\n",
    "import pandas as pd\n",
    "import numpy as np\n",
    "from sklearn.model_selection import train_test_split\n",
    "from sklearn.preprocessing import MinMaxScaler\n",
    "from sklearn.preprocessing import RobustScaler\n",
    "import seaborn as sns\n",
    "from imblearn.over_sampling import SMOTE\n",
    "import gdown\n",
    "from sklearn.cluster import KMeans\n",
    "import matplotlib.pyplot as plt\n",
    "from sklearn.metrics import confusion_matrix, ConfusionMatrixDisplay"
   ]
  },
  {
   "cell_type": "code",
   "execution_count": null,
   "metadata": {
    "colab": {
     "base_uri": "https://localhost:8080/"
    },
    "id": "8LjTTQcwtOEw",
    "outputId": "9402bc65-eaa4-4e88-94c2-fcea0203a797"
   },
   "outputs": [],
   "source": [
    "arquivo_destino_base = \"dataset_{}.csv\"\n",
    "\n",
    "ids = {\n",
    "    \"consumo_2024\": \"1-iXT7eaJWQokHf9cyfrB8N5wvkdhgjJW\",\n",
    "    \"consumo_2023\": \"1-WfvkRwaRr85B_Joxcm9xVdpyg5NBAmp\",\n",
    "    \"consumo_2022\": \"1-Uu4Tf4lufJVFeJnYKc5w7OeW66pe1eC\",\n",
    "    \"consumo_2021\": \"1-2PsTLzG4dcY4wM0p7vFfabUuLv950gC\",\n",
    "    \"consumo_2020\": \"1-1pOoa0eJlNJ94BMi7p4PTx5KUS96mhX\",\n",
    "    \"consumo_2019\": \"1-2PsTLzG4dcY4wM0p7vFfabUuLv950gC\"\n",
    "}\n",
    "\n",
    "\n",
    "dataframes = {}\n",
    "\n",
    "\n",
    "for key, file_id in ids.items():\n",
    "    url = f\"https://drive.google.com/uc?id={file_id}\"\n",
    "    arquivo_destino = arquivo_destino_base.format(key)\n",
    "\n",
    "    gdown.download(url, arquivo_destino, quiet=False)"
   ]
  },
  {
   "cell_type": "code",
   "execution_count": null,
   "metadata": {
    "colab": {
     "base_uri": "https://localhost:8080/"
    },
    "id": "Or7wZVY8OxzB",
    "outputId": "e106a034-9a4d-4305-bce6-727a9b0d48f4"
   },
   "outputs": [],
   "source": [
    "# juntando todos os dataframes em um só\n",
    "\n",
    "arquivos_csv = [\n",
    "    \"./dataset_consumo_2024.csv\",\n",
    "    \"./dataset_consumo_2023.csv\",\n",
    "    \"./dataset_consumo_2022.csv\",\n",
    "    \"./dataset_consumo_2021.csv\",\n",
    "    \"./dataset_consumo_2019.csv\"\n",
    "]\n",
    "\n",
    "ALL_COLUMNS_CONSUMO_GERAL = pd.concat([pd.read_csv(arquivo, delimiter=\";\") for arquivo in arquivos_csv], axis=0)"
   ]
  },
  {
   "cell_type": "code",
   "execution_count": null,
   "metadata": {
    "colab": {
     "base_uri": "https://localhost:8080/",
     "height": 105
    },
    "id": "GnLkE_4OBJqu",
    "outputId": "b8c26a7b-2aec-41bc-e709-505636b6cb24"
   },
   "outputs": [],
   "source": [
    "file_id_fraudes = \"1-MbIlChqQapcxFkoJgpbQIsN9FBLfbX1\"\n",
    "url_fraudes = f\"https://drive.google.com/uc?id={file_id_fraudes}\"\n",
    "\n",
    "gdown.download(url_fraudes, quiet=False)"
   ]
  },
  {
   "cell_type": "code",
   "execution_count": null,
   "metadata": {
    "id": "m_ZUnDuReM-W"
   },
   "outputs": [],
   "source": [
    "# # diminuir dataset, reduzindo o numero de matrículas\n",
    "\n",
    "# def filtrar_por_matriculas(df, n=1000):\n",
    "#     matriculas = df['MATRICULA'].unique()[:n]\n",
    "\n",
    "#     df_filtrado = df[df['MATRICULA'].isin(matriculas)]\n",
    "\n",
    "#     return df_filtrado\n",
    "\n",
    "\n",
    "# df = filtrar_por_matriculas(ALL_COLUMNS_CONSUMO_GERAL)"
   ]
  },
  {
   "cell_type": "code",
   "execution_count": null,
   "metadata": {
    "id": "97RYGXWkBNdb"
   },
   "outputs": [],
   "source": [
    "fraudes = pd.read_csv('/content/fraudes.csv')"
   ]
  },
  {
   "cell_type": "code",
   "execution_count": null,
   "metadata": {
    "id": "X1ck49yHuMe1"
   },
   "outputs": [],
   "source": [
    "# removendo colunas que não seram utilizandas\n",
    "\n",
    "ALL_COLUMNS_CONSUMO_GERAL = ALL_COLUMNS_CONSUMO_GERAL.drop(columns=['Unnamed: 0', \"SUB_CATEGORIA\", \"STA_TROCA\", \"STA_ACEITA_LEITURA\", 'STA_TROCA', 'EMP_CODIGO', 'COD_GRUPO', 'COD_SETOR_COMERCIAL', 'NUM_QUADRA', 'COD_ROTA_LEITURA', 'SEQ_RESPONSAVEL', 'ECO_RESIDENCIAL', 'ECO_COMERCIAL', 'ECO_INDUSTRIAL', 'ECO_PUBLICA', 'ECO_OUTRAS','LTR_ATUAL', 'LTR_COLETADA', 'DAT_LEITURA', 'DIAS_LEITURA', 'COD_LEITURA_INF_1', 'COD_LEITURA_INF_2', 'COD_LEITURA_INF_3', 'HORA_LEITURA', 'DSC_SIMULTANEA', 'COD_LEITURA_INT','EXCECAO'])"
   ]
  },
  {
   "cell_type": "code",
   "execution_count": null,
   "metadata": {
    "colab": {
     "base_uri": "https://localhost:8080/",
     "height": 226
    },
    "id": "b8a3ckvsW3e9",
    "outputId": "00b8b18e-dd4f-452d-9a8a-61b5d7af6590"
   },
   "outputs": [],
   "source": [
    "ALL_COLUMNS_CONSUMO_GERAL.head()"
   ]
  },
  {
   "cell_type": "code",
   "execution_count": null,
   "metadata": {
    "id": "bCW3arLWeqob"
   },
   "outputs": [],
   "source": [
    "# remove linhas duplicadas\n",
    "\n",
    "def verificar_duplicatas_referencia(df):\n",
    "    df_duplicados = df[df.duplicated(subset=['MATRICULA', 'REFERENCIA'], keep=False)]\n",
    "\n",
    "    return df_duplicados\n",
    "\n",
    "df_sem_duplicadas = verificar_duplicatas_referencia(ALL_COLUMNS_CONSUMO_GERAL)"
   ]
  },
  {
   "cell_type": "code",
   "execution_count": null,
   "metadata": {
    "id": "N8nEhSC_HZzO"
   },
   "outputs": [],
   "source": [
    "sem_na = df_sem_duplicadas.dropna()"
   ]
  },
  {
   "cell_type": "code",
   "execution_count": null,
   "metadata": {
    "id": "PQWB46ACH7yl"
   },
   "outputs": [],
   "source": [
    "def remove_rows_with_column_value_greater_than_one(df, column_names):\n",
    "    # Verifica se algum valor em qualquer uma das colunas especificadas é maior que 1\n",
    "    condition = (df[column_names] > -10).any(axis=1)\n",
    "\n",
    "    # Filtra o DataFrame, removendo as linhas onde a condição é True\n",
    "    df_filtered = df[~condition]\n",
    "\n",
    "    return df_filtered\n",
    "\n",
    "# Exemplo de uso:\n",
    "df_sem_linhas = remove_rows_with_column_value_greater_than_one(sem_na, ['COD_LATITUDE', 'COD_LONGITUDE'])"
   ]
  },
  {
   "cell_type": "code",
   "execution_count": null,
   "metadata": {
    "id": "ohJrcpEWpdVj"
   },
   "outputs": [],
   "source": [
    "# tratando a longetude e latitude\n",
    "# verificando a quantidade de clusters é mais apropriada utilizando K-Means\n",
    "\n",
    "\n",
    "def plotar(n_clusters):\n",
    "  #clusterizando\n",
    "  df_temp = df_sem_linhas.copy()\n",
    "  kmeans = KMeans(n_clusters=n_clusters, random_state=42)\n",
    "  df_temp['cluster'] = kmeans.fit_predict(df_sem_linhas[['COD_LATITUDE', 'COD_LONGITUDE']])\n",
    "\n",
    "  # visualizando\n",
    "  plt.figure(figsize=(10, 6))\n",
    "  plt.scatter(df_sem_linhas['COD_LONGITUDE'], df_sem_linhas['COD_LATITUDE'], c=df_temp['cluster'], cmap='viridis', marker='o', s=100)\n",
    "  plt.title(f\"K-Means Clustering com {n_clusters} Clusters\")\n",
    "  plt.xlabel(\"Longitude\")\n",
    "  plt.ylabel(\"Latitude\")\n",
    "  plt.show()\n",
    "\n",
    "\n",
    "\n",
    "# visulizar clusters do range de 2 para 17\n",
    "# for x in range(2, 17):\n",
    "#   print()\n",
    "#   plotar(x)"
   ]
  },
  {
   "cell_type": "code",
   "execution_count": null,
   "metadata": {
    "colab": {
     "base_uri": "https://localhost:8080/"
    },
    "id": "IeOpptCYmq6n",
    "outputId": "d1855fc9-e6bb-40a5-8bb9-7d93f522edb7"
   },
   "outputs": [],
   "source": [
    "# clusterizando os dados de longetude e latitude\n",
    "\n",
    "kmeans = KMeans(n_clusters=20, random_state=42)\n",
    "df_sem_linhas['cluster'] = kmeans.fit_predict(df_sem_linhas[['COD_LATITUDE', 'COD_LONGITUDE']])"
   ]
  },
  {
   "cell_type": "code",
   "execution_count": null,
   "metadata": {
    "id": "tX8G6YuTsgXF"
   },
   "outputs": [],
   "source": [
    "# removendo colunas de longetude e latude\n",
    "\n",
    "df_loc_tratado = df_sem_linhas.drop(columns=['COD_LATITUDE', 'COD_LONGITUDE'])"
   ]
  },
  {
   "cell_type": "code",
   "execution_count": null,
   "metadata": {
    "id": "lPq8HAUss15I"
   },
   "outputs": [],
   "source": [
    "# fazendo one hot encoding\n",
    "\n",
    "df_loc_tratado_ohc = pd.get_dummies(df_loc_tratado, columns = ['cluster'], dtype=int)"
   ]
  },
  {
   "cell_type": "code",
   "execution_count": null,
   "metadata": {
    "colab": {
     "base_uri": "https://localhost:8080/"
    },
    "id": "f2te-nzUutQS",
    "outputId": "185a8733-467b-4ff5-b652-c503c51f2ab6"
   },
   "outputs": [],
   "source": [
    "df_loc_tratado_ohc.columns"
   ]
  },
  {
   "cell_type": "code",
   "execution_count": null,
   "metadata": {
    "id": "x6NOJxqSDJA-"
   },
   "outputs": [],
   "source": [
    "df_loc_tratado_ohc = df_loc_tratado_ohc[df_loc_tratado_ohc[\"CATEGORIA\"].isin([\"RESIDENCIAL\"])]\n",
    "df_loc_tratado_ohc = df_loc_tratado_ohc.drop(columns=\"CATEGORIA\")"
   ]
  },
  {
   "cell_type": "code",
   "execution_count": null,
   "metadata": {
    "id": "9Fa4L0i2XOPi"
   },
   "outputs": [],
   "source": [
    "scaler = RobustScaler()\n",
    "df_loc_tratado_ohc[['VOLUME_ESTIMADO_ACUM', 'VOLUME_ESTIMADO']] = scaler.fit_transform(df_loc_tratado_ohc[['VOLUME_ESTIMADO_ACUM', 'VOLUME_ESTIMADO']])"
   ]
  },
  {
   "cell_type": "code",
   "execution_count": null,
   "metadata": {
    "id": "lBjyCK7Rvdf5"
   },
   "outputs": [],
   "source": [
    "# pivotando a tabela\n",
    "\n",
    "pivoted_df = pd.pivot_table(\n",
    "    df_loc_tratado_ohc,\n",
    "    index='MATRICULA',\n",
    "    columns='REFERENCIA',\n",
    "    values=['CONS_MEDIDO', 'VOLUME_ESTIMADO'],\n",
    "    aggfunc='sum'\n",
    ")\n",
    "\n",
    "pivoted_df.columns = ['_'.join(col).strip() for col in pivoted_df.columns.values]\n",
    "pivoted_df = pivoted_df.reset_index()\n",
    "\n",
    "\n",
    "# adicinando as outras colunas\n",
    "\n",
    "other_columns = df_loc_tratado_ohc.drop(columns=['CONS_MEDIDO', 'VOLUME_ESTIMADO', 'REFERENCIA']).drop_duplicates()\n",
    "\n",
    "\n",
    "pivoted_df = pd.merge(pivoted_df, other_columns, on='MATRICULA', how='left')\n",
    "\n",
    "\n",
    "pivoted_df = pivoted_df.fillna(0)"
   ]
  },
  {
   "cell_type": "code",
   "execution_count": null,
   "metadata": {
    "colab": {
     "base_uri": "https://localhost:8080/",
     "height": 1000
    },
    "id": "X5l6AhpfwWbg",
    "outputId": "5dbfbfe7-74db-411a-849c-edcdc85666ce"
   },
   "outputs": [],
   "source": [
    "pivoted_df[\"DSC_OCORRENCIA\"].value_counts()"
   ]
  },
  {
   "cell_type": "code",
   "execution_count": null,
   "metadata": {
    "colab": {
     "base_uri": "https://localhost:8080/",
     "height": 273
    },
    "id": "kuG97th7yBdz",
    "outputId": "01813421-a087-4e4d-9cea-184ff134b290"
   },
   "outputs": [],
   "source": [
    "# balanciando e simplificando a coluna do tipo de ocorrencia para normal e não normal\n",
    "\n",
    "\n",
    "result = pivoted_df.copy()\n",
    "\n",
    "result['DSC_OCORRENCIA'] = pivoted_df['DSC_OCORRENCIA'].apply(lambda x: 1 if x == 'NORMAL' else 0)\n",
    "\n",
    "result.head()"
   ]
  },
  {
   "cell_type": "code",
   "execution_count": null,
   "metadata": {
    "id": "iRXDXGCr0rpW"
   },
   "outputs": [],
   "source": [
    "result = result.drop(columns=['FATURADO_MEDIA'])"
   ]
  },
  {
   "cell_type": "code",
   "execution_count": null,
   "metadata": {
    "id": "7351E37O3eSk"
   },
   "outputs": [],
   "source": [
    "result[\"TIPO_LIGACAO\"] = result[\"TIPO_LIGACAO\"].replace({\"Hidrometrado\": 0, \"Consumo Fixo\": 1})"
   ]
  },
  {
   "cell_type": "code",
   "execution_count": null,
   "metadata": {
    "id": "PwdG3ONz4g51"
   },
   "outputs": [],
   "source": [
    "result[\"TIPO_LIGACAO\"] = result[\"TIPO_LIGACAO\"].astype(int)"
   ]
  },
  {
   "cell_type": "code",
   "execution_count": null,
   "metadata": {
    "colab": {
     "base_uri": "https://localhost:8080/",
     "height": 178
    },
    "id": "erbzcxMe35uk",
    "outputId": "7b0af9a0-83bf-4827-b1fb-fe636a4a2a9d"
   },
   "outputs": [],
   "source": [
    "result[\"TIPO_LIGACAO\"].value_counts()"
   ]
  },
  {
   "cell_type": "code",
   "execution_count": null,
   "metadata": {
    "colab": {
     "base_uri": "https://localhost:8080/",
     "height": 1000
    },
    "id": "ZXjsKzUa3_dK",
    "outputId": "df4692d2-a880-4420-cf81-88fda12b5886"
   },
   "outputs": [],
   "source": [
    "result.dtypes"
   ]
  },
  {
   "cell_type": "code",
   "execution_count": null,
   "metadata": {
    "colab": {
     "base_uri": "https://localhost:8080/",
     "height": 472
    },
    "id": "YGGbD0si-Lc8",
    "outputId": "0474f5e9-9976-4a72-d959-409b860a798b"
   },
   "outputs": [],
   "source": [
    "def remove_outliers_and_plot(df, column_name):\n",
    "    # 1. Calcular os quartis\n",
    "    Q1 = df[column_name].quantile(0.25)\n",
    "    Q3 = df[column_name].quantile(0.75)\n",
    "\n",
    "    # 2. Calcular o IQR\n",
    "    IQR = Q3 - Q1\n",
    "\n",
    "    # 3. Determinar os limites superior e inferior\n",
    "    limite_inferior = Q1 - 1.5 * IQR\n",
    "    limite_superior = Q3 + 1.5 * IQR\n",
    "\n",
    "    # 4. Filtrar os dados para remover os outliers\n",
    "    df_filtrado = df[(df[column_name] >= limite_inferior) & (df[column_name] <= limite_superior)]\n",
    "\n",
    "    # 5. Plotar o boxplot com os dados filtrados\n",
    "    sns.boxplot(x=df_filtrado[column_name])\n",
    "    plt.title(f'Boxplot de {column_name} (Sem Outliers)')\n",
    "    plt.xlabel(column_name)\n",
    "    plt.show()\n",
    "\n",
    "    # Retornar o DataFrame filtrado\n",
    "    return df_filtrado\n",
    "\n",
    "# Exemplo de uso:\n",
    "df_sem_outliers = remove_outliers_and_plot(result, 'VOLUME_ESTIMADO_ACUM')"
   ]
  },
  {
   "cell_type": "code",
   "execution_count": null,
   "metadata": {
    "colab": {
     "base_uri": "https://localhost:8080/"
    },
    "id": "0jMgFGgz9Fzr",
    "outputId": "35fb79b8-5ee9-49c4-9021-ea1fc2e297c3"
   },
   "outputs": [],
   "source": [
    "df_sem_outliers[\"MATRICULA\"] = df_sem_outliers[\"MATRICULA\"].astype(int)"
   ]
  },
  {
   "cell_type": "code",
   "execution_count": null,
   "metadata": {
    "colab": {
     "base_uri": "https://localhost:8080/",
     "height": 461
    },
    "id": "ymfp_fv8-xoH",
    "outputId": "f02ad178-df54-4b6b-ca52-5792e5cd366b"
   },
   "outputs": [],
   "source": [
    "df_sem_outliers"
   ]
  },
  {
   "cell_type": "code",
   "execution_count": null,
   "metadata": {
    "id": "bKakCwrnAcN3"
   },
   "outputs": [],
   "source": [
    "dataframe_fraudes_premissa = fraudes[['MATRICULA', 'DESCRICAO']].drop_duplicates()\n",
    "dataframe_fraudes_premissa = pd.get_dummies(dataframe_fraudes_premissa, columns=['DESCRICAO'], dtype='int')"
   ]
  },
  {
   "cell_type": "code",
   "execution_count": null,
   "metadata": {
    "id": "XoF65SMg_em4"
   },
   "outputs": [],
   "source": [
    "dataframe_pj_premissa = pd.merge(df_sem_outliers, dataframe_fraudes_premissa, on='MATRICULA', how='left')"
   ]
  },
  {
   "cell_type": "code",
   "execution_count": null,
   "metadata": {
    "id": "-wlR24EMB2nh"
   },
   "outputs": [],
   "source": [
    "dataframe_pj_premissa['DESCRICAO_IRREGULARIDADE IDENTIFICADA'] = dataframe_pj_premissa['DESCRICAO_IRREGULARIDADE IDENTIFICADA'].fillna(0)"
   ]
  },
  {
   "cell_type": "code",
   "execution_count": null,
   "metadata": {
    "colab": {
     "base_uri": "https://localhost:8080/",
     "height": 178
    },
    "id": "R_QXGK3dB6ZM",
    "outputId": "1e58d307-967f-4cc7-9a37-fee9ed0d56b8"
   },
   "outputs": [],
   "source": [
    "dataframe_pj_premissa['DESCRICAO_IRREGULARIDADE IDENTIFICADA'].value_counts()"
   ]
  },
  {
   "cell_type": "code",
   "execution_count": null,
   "metadata": {
    "id": "UBRRXLFQCRBr"
   },
   "outputs": [],
   "source": [
    "dataframe_pj_premissa['DESCRICAO_IRREGULARIDADE IDENTIFICADA'] = dataframe_pj_premissa['DESCRICAO_IRREGULARIDADE IDENTIFICADA'].astype(int)"
   ]
  },
  {
   "cell_type": "code",
   "execution_count": null,
   "metadata": {
    "id": "CdvEDf7-CoYp"
   },
   "outputs": [],
   "source": [
    "def balanciar(df):\n",
    "  smote = SMOTE(random_state=42)\n",
    "  X = df.drop('DESCRICAO_IRREGULARIDADE IDENTIFICADA', axis=1)\n",
    "  y = df['DESCRICAO_IRREGULARIDADE IDENTIFICADA']\n",
    "  X_res, y_res = smote.fit_resample(X, y)\n",
    "  return pd.concat([X_res, y_res], axis=1)\n",
    "\n",
    "\n",
    "dataframe_pj_premissa = balanciar(dataframe_pj_premissa)"
   ]
  },
  {
   "cell_type": "code",
   "execution_count": null,
   "metadata": {
    "colab": {
     "base_uri": "https://localhost:8080/",
     "height": 461
    },
    "id": "TQJvZeTkC1OQ",
    "outputId": "af1eb49a-90e7-4e15-b90e-2b942d16937b"
   },
   "outputs": [],
   "source": [
    "dataframe_pj_premissa"
   ]
  },
  {
   "cell_type": "code",
   "execution_count": null,
   "metadata": {
    "colab": {
     "base_uri": "https://localhost:8080/"
    },
    "id": "I5Dz5a8uDeMX",
    "outputId": "96d4b794-d074-44ce-e786-325a7f60fab9"
   },
   "outputs": [],
   "source": [
    "np.unique(dataframe_pj_premissa['DESCRICAO_IRREGULARIDADE IDENTIFICADA'].values, return_counts=True)"
   ]
  },
  {
   "cell_type": "code",
   "execution_count": null,
   "metadata": {
    "colab": {
     "base_uri": "https://localhost:8080/"
    },
    "id": "BYre6Ssa7LhJ",
    "outputId": "995fb889-6139-4909-ab9e-227d1a98cb9c"
   },
   "outputs": [],
   "source": [
    "from google.colab import drive\n",
    "drive.mount('/content/drive')"
   ]
  },
  {
   "cell_type": "code",
   "execution_count": null,
   "metadata": {
    "id": "-JBoeea15d6H"
   },
   "outputs": [],
   "source": [
    "dataframe_pj_premissa.to_parquet('/content/drive/Shareddrives/LeakSeeker/pre_processado_pf.parquet')"
   ]
  }
 ],
 "metadata": {
  "accelerator": "GPU",
  "colab": {
   "gpuType": "T4",
   "provenance": []
  },
  "kernelspec": {
   "display_name": "Python 3",
   "name": "python3"
  },
  "language_info": {
   "name": "python"
  }
 },
 "nbformat": 4,
 "nbformat_minor": 0
}
