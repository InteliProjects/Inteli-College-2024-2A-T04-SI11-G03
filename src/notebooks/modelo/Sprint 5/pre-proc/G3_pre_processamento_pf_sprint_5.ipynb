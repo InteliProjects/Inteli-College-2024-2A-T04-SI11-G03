{
 "cells": [
  {
   "cell_type": "markdown",
   "metadata": {
    "id": "JiRJjzhVnBKt"
   },
   "source": [
    "## Importação de Biblioteca"
   ]
  },
  {
   "cell_type": "code",
   "execution_count": null,
   "metadata": {
    "colab": {
     "base_uri": "https://localhost:8080/"
    },
    "id": "cDnnzG_KRF3X",
    "outputId": "0d27da3c-05cf-499b-96e7-8c81e4bc76b8"
   },
   "outputs": [],
   "source": [
    "!pip install meteostat"
   ]
  },
  {
   "cell_type": "code",
   "execution_count": null,
   "metadata": {
    "id": "dCdINVejOt6E"
   },
   "outputs": [],
   "source": [
    "import tensorflow as tf\n",
    "from tensorflow import keras\n",
    "from tensorflow.keras import layers\n",
    "import pandas as pd\n",
    "import numpy as np\n",
    "from sklearn.model_selection import train_test_split\n",
    "from sklearn.preprocessing import MinMaxScaler\n",
    "from sklearn.preprocessing import RobustScaler\n",
    "import seaborn as sns\n",
    "# from imblearn.over_sampling import SMOTE\n",
    "import gdown\n",
    "from sklearn.cluster import KMeans\n",
    "import matplotlib.pyplot as plt\n",
    "from sklearn.metrics import confusion_matrix, ConfusionMatrixDisplay"
   ]
  },
  {
   "cell_type": "code",
   "execution_count": null,
   "metadata": {
    "colab": {
     "base_uri": "https://localhost:8080/"
    },
    "id": "8LjTTQcwtOEw",
    "outputId": "6c93610d-015f-4937-ca71-629801b70bf0"
   },
   "outputs": [],
   "source": [
    "arquivo_destino_base = \"dataset_{}.csv\"\n",
    "\n",
    "ids = {\n",
    "    \"consumo_2024\": \"1-iXT7eaJWQokHf9cyfrB8N5wvkdhgjJW\",\n",
    "    \"consumo_2023\": \"1-WfvkRwaRr85B_Joxcm9xVdpyg5NBAmp\",\n",
    "    \"consumo_2022\": \"1-Uu4Tf4lufJVFeJnYKc5w7OeW66pe1eC\",\n",
    "    \"consumo_2021\": \"1-2PsTLzG4dcY4wM0p7vFfabUuLv950gC\",\n",
    "    # \"consumo_2020\": \"1-1pOoa0eJlNJ94BMi7p4PTx5KUS96mhX\",\n",
    "    \"consumo_2019\": \"1-2PsTLzG4dcY4wM0p7vFfabUuLv950gC\"\n",
    "}\n",
    "\n",
    "\n",
    "dataframes = {}\n",
    "\n",
    "\n",
    "for key, file_id in ids.items():\n",
    "    url = f\"https://drive.google.com/uc?id={file_id}\"\n",
    "    arquivo_destino = arquivo_destino_base.format(key)\n",
    "\n",
    "    gdown.download(url, arquivo_destino, quiet=False)"
   ]
  },
  {
   "cell_type": "code",
   "execution_count": null,
   "metadata": {
    "colab": {
     "base_uri": "https://localhost:8080/"
    },
    "id": "Or7wZVY8OxzB",
    "outputId": "cc0503d4-745a-443e-e8ac-a7f6c0348781"
   },
   "outputs": [],
   "source": [
    "# juntando todos os dataframes em um só\n",
    "\n",
    "arquivos_csv = [\n",
    "    \"./dataset_consumo_2024.csv\",\n",
    "    \"./dataset_consumo_2023.csv\",\n",
    "    \"./dataset_consumo_2022.csv\",\n",
    "    \"./dataset_consumo_2021.csv\",\n",
    "    \"./dataset_consumo_2019.csv\"\n",
    "]\n",
    "\n",
    "ALL_COLUMNS_CONSUMO_GERAL = pd.concat([pd.read_csv(arquivo, delimiter=\";\") for arquivo in arquivos_csv], axis=0)"
   ]
  },
  {
   "cell_type": "code",
   "execution_count": null,
   "metadata": {
    "colab": {
     "base_uri": "https://localhost:8080/",
     "height": 458
    },
    "id": "USeBowfR_kt2",
    "outputId": "57f99bd6-0f74-4775-8703-57ed53a54b94"
   },
   "outputs": [],
   "source": [
    "ALL_COLUMNS_CONSUMO_GERAL['REFERENCIA']"
   ]
  },
  {
   "cell_type": "code",
   "execution_count": null,
   "metadata": {
    "id": "pOyG43qa9e2h"
   },
   "outputs": [],
   "source": [
    "def cortandoData(df, startAno, startMes, endAno, endMes):\n",
    "    start_date = f'{startAno}-{str(startMes).zfill(2)}-01'\n",
    "    end_date = f'{endAno}-{str(endMes).zfill(2)}-01'\n",
    "\n",
    "    df['REFERENCIA'] = pd.to_datetime(df['REFERENCIA'], format='%Y-%m-%d')\n",
    "\n",
    "    # Filtrando o DataFrame pela janela de tempo\n",
    "    mask = (df['REFERENCIA'] >= start_date) & (df['REFERENCIA'] <= end_date)\n",
    "    df_filtered = df.loc[mask]\n",
    "\n",
    "    return df_filtered\n",
    "\n",
    "ALL_COLUMNS_CONSUMO_GERAL = cortandoData(ALL_COLUMNS_CONSUMO_GERAL, 2022, 1, 2024, 1)"
   ]
  },
  {
   "cell_type": "code",
   "execution_count": null,
   "metadata": {
    "colab": {
     "base_uri": "https://localhost:8080/"
    },
    "id": "EOtQvdM4AiSJ",
    "outputId": "6cd0d0ff-8b4f-421c-cd62-c01303154e1b"
   },
   "outputs": [],
   "source": [
    "ALL_COLUMNS_CONSUMO_GERAL['REFERENCIA'].unique()"
   ]
  },
  {
   "cell_type": "code",
   "execution_count": null,
   "metadata": {
    "colab": {
     "base_uri": "https://localhost:8080/",
     "height": 105
    },
    "id": "GnLkE_4OBJqu",
    "outputId": "ddf22d91-043b-4cb8-91c2-67958779722b"
   },
   "outputs": [],
   "source": [
    "file_id_fraudes = \"1-MbIlChqQapcxFkoJgpbQIsN9FBLfbX1\"\n",
    "url_fraudes = f\"https://drive.google.com/uc?id={file_id_fraudes}\"\n",
    "\n",
    "gdown.download(url_fraudes, quiet=False)"
   ]
  },
  {
   "cell_type": "markdown",
   "metadata": {
    "id": "d70VooynymDX"
   },
   "source": [
    "# LEMBRAR DE TENTAR ADICIONAR ECO_RESIDENCIAL"
   ]
  },
  {
   "cell_type": "markdown",
   "metadata": {
    "id": "Kp8_z8GpnIUG"
   },
   "source": [
    "## Temperatura"
   ]
  },
  {
   "cell_type": "code",
   "execution_count": null,
   "metadata": {
    "colab": {
     "base_uri": "https://localhost:8080/"
    },
    "id": "OQYZ7D-rV-xd",
    "outputId": "c2400297-36a7-488e-b83b-264ffac21cf2"
   },
   "outputs": [],
   "source": [
    "import plotly.graph_objects as go\n",
    "from meteostat import Point, Daily\n",
    "from datetime import datetime\n",
    "\n",
    "# Define a localização geográfica: Campo Grande MT\n",
    "location = Point(-20.4435, -54.6478)\n",
    "\n",
    "# Define o intervalo de datas\n",
    "start = datetime(2022, 1, 1)\n",
    "end = datetime(2024, 1, 1)\n",
    "\n",
    "# Busca os dados diários de clima para a localização e período definidos\n",
    "data = Daily(location, start, end)\n",
    "data = data.fetch()\n",
    "\n",
    "# Calcula a média mensal dos dados climáticos\n",
    "df_monthly_weather_23 = data.resample('M').mean()\n",
    "\n",
    "# Renomeia as colunas do DataFrame para termos mais descritivos em português\n",
    "df_weather_23 = df_monthly_weather_23.rename(columns={\n",
    "    'tavg': 'Temperatura Média',\n",
    "    'tmin': 'Temperatura Mínima',\n",
    "    'tmax': 'Temperatura Máxima',\n",
    "    'prcp': 'Precipitação',\n",
    "    'snow': 'Neve',\n",
    "    'wdir': 'Direção do Vento',\n",
    "    'wspd': 'Velocidade do Vento',\n",
    "    'wpgt': 'Rajada Máxima de Vento',\n",
    "    'pres': 'Pressão Atmosférica',\n",
    "    'tsun': 'Insolação'\n",
    "})"
   ]
  },
  {
   "cell_type": "code",
   "execution_count": null,
   "metadata": {
    "colab": {
     "base_uri": "https://localhost:8080/",
     "height": 865
    },
    "id": "ZfpHAo7fWzv4",
    "outputId": "2f78befe-7c9f-4299-8f17-f80391cbc24b"
   },
   "outputs": [],
   "source": [
    "df_weather_23 = df_weather_23.drop(['Neve',\t'Direção do Vento', 'Velocidade do Vento',\t'Rajada Máxima de Vento', 'Pressão Atmosférica',\t'Insolação'], axis=1)\n",
    "df_weather_23"
   ]
  },
  {
   "cell_type": "code",
   "execution_count": null,
   "metadata": {
    "colab": {
     "base_uri": "https://localhost:8080/"
    },
    "id": "m2plgHc1Ymma",
    "outputId": "44f71929-aa7e-4d85-fc1d-2ce1ed0dc921"
   },
   "outputs": [],
   "source": [
    "len(df_weather_23)"
   ]
  },
  {
   "cell_type": "code",
   "execution_count": null,
   "metadata": {
    "colab": {
     "base_uri": "https://localhost:8080/",
     "height": 899
    },
    "id": "iIDCSB4njz9z",
    "outputId": "73ee7153-3f8c-4d81-f090-f54d3875d7f7"
   },
   "outputs": [],
   "source": [
    "ALL_COLUMNS_CONSUMO_GERAL['REFERENCIA'].value_counts()"
   ]
  },
  {
   "cell_type": "code",
   "execution_count": null,
   "metadata": {
    "colab": {
     "base_uri": "https://localhost:8080/"
    },
    "id": "b4W-rFYa7CZB",
    "outputId": "add6dae4-c61f-47e6-e6e5-2608f9b88034"
   },
   "outputs": [],
   "source": [
    "ALL_COLUMNS_CONSUMO_GERAL.columns.values"
   ]
  },
  {
   "cell_type": "code",
   "execution_count": null,
   "metadata": {
    "id": "L2-XN21XZBji"
   },
   "outputs": [],
   "source": [
    "ALL_COLUMNS_CONSUMO_GERAL['REFERENCIA'] = pd.to_datetime(ALL_COLUMNS_CONSUMO_GERAL['REFERENCIA'])\n",
    "\n",
    "ALL_COLUMNS_CONSUMO_GERAL['MES'] = ALL_COLUMNS_CONSUMO_GERAL['REFERENCIA'].dt.month\n",
    "\n",
    "df_weather_23['MES'] = df_weather_23.index.month\n",
    "\n",
    "# Agrupa os dados por mês e calcula a média do consumo medido ('CONS_MEDIDO') para cada mês\n",
    "consumo_medio_23 = ALL_COLUMNS_CONSUMO_GERAL.groupby('MES')['CONS_MEDIDO'].mean().reset_index()\n",
    "\n",
    "# Combina os dados de consumo médio com os dados meteorológicos com base na coluna 'MES'\n",
    "ALL_COLUMNS_CONSUMO_GERAL = pd.merge(ALL_COLUMNS_CONSUMO_GERAL, df_weather_23, on='MES')"
   ]
  },
  {
   "cell_type": "code",
   "execution_count": null,
   "metadata": {
    "colab": {
     "base_uri": "https://localhost:8080/",
     "height": 461
    },
    "id": "MGNSssTgZXSM",
    "outputId": "ea29e327-a48b-4db3-9822-3bfaa355109c"
   },
   "outputs": [],
   "source": [
    "ALL_COLUMNS_CONSUMO_GERAL"
   ]
  },
  {
   "cell_type": "code",
   "execution_count": null,
   "metadata": {
    "id": "m_ZUnDuReM-W"
   },
   "outputs": [],
   "source": [
    "# # diminuir dataset, reduzindo o numero de matrículas\n",
    "\n",
    "# def filtrar_por_matriculas(df, n=1000):\n",
    "#     matriculas = df['MATRICULA'].unique()[:n]\n",
    "\n",
    "#     df_filtrado = df[df['MATRICULA'].isin(matriculas)]\n",
    "\n",
    "#     return df_filtrado\n",
    "\n",
    "\n",
    "# df = filtrar_por_matriculas(ALL_COLUMNS_CONSUMO_GERAL)"
   ]
  },
  {
   "cell_type": "code",
   "execution_count": null,
   "metadata": {
    "id": "97RYGXWkBNdb"
   },
   "outputs": [],
   "source": [
    "fraudes = pd.read_csv('/content/fraudes.csv')"
   ]
  },
  {
   "cell_type": "code",
   "execution_count": null,
   "metadata": {
    "colab": {
     "base_uri": "https://localhost:8080/"
    },
    "id": "ykk4dXUvBZZw",
    "outputId": "b82dbe82-38f3-410e-f544-bf4b5f9deb68"
   },
   "outputs": [],
   "source": [
    "fraudes.columns.values"
   ]
  },
  {
   "cell_type": "code",
   "execution_count": null,
   "metadata": {
    "id": "W17xk6hIBUfg"
   },
   "outputs": [],
   "source": [
    "def cortandoDataFraude(df, startAno, endAno):\n",
    "    start_date = f'{startAno}'\n",
    "    end_date = f'{endAno}'\n",
    "\n",
    "    df['ANOOS'] = pd.to_datetime(df['ANOOS'], format='%Y')\n",
    "\n",
    "    # Filtrando o DataFrame pela janela de tempo\n",
    "    mask = (df['ANOOS'] >= start_date) & (df['ANOOS'] <= end_date)\n",
    "    df_filtered = df.loc[mask]\n",
    "\n",
    "    return df_filtered\n",
    "\n",
    "fraudes = cortandoDataFraude(fraudes, 2022, 2024)"
   ]
  },
  {
   "cell_type": "code",
   "execution_count": null,
   "metadata": {
    "id": "X1ck49yHuMe1"
   },
   "outputs": [],
   "source": [
    "# removendo colunas que não seram utilizandas\n",
    "\n",
    "ALL_COLUMNS_CONSUMO_GERAL = ALL_COLUMNS_CONSUMO_GERAL.drop(columns=['Unnamed: 0', \"SUB_CATEGORIA\", \"STA_TROCA\", \"STA_ACEITA_LEITURA\", 'STA_TROCA', 'EMP_CODIGO', 'COD_GRUPO', 'COD_SETOR_COMERCIAL', 'NUM_QUADRA', 'COD_ROTA_LEITURA', 'SEQ_RESPONSAVEL', 'ECO_RESIDENCIAL', 'ECO_COMERCIAL', 'ECO_INDUSTRIAL', 'ECO_PUBLICA', 'ECO_OUTRAS','LTR_ATUAL', 'LTR_COLETADA', 'DIAS_LEITURA', 'COD_LEITURA_INF_1', 'COD_LEITURA_INF_2', 'COD_LEITURA_INF_3', 'HORA_LEITURA', 'DSC_SIMULTANEA', 'COD_LEITURA_INT','EXCECAO'])"
   ]
  },
  {
   "cell_type": "code",
   "execution_count": null,
   "metadata": {
    "colab": {
     "base_uri": "https://localhost:8080/",
     "height": 244
    },
    "id": "b8a3ckvsW3e9",
    "outputId": "8ebe9a00-d659-4d2d-9c83-db2d38e4ce6e"
   },
   "outputs": [],
   "source": [
    "ALL_COLUMNS_CONSUMO_GERAL.head()"
   ]
  },
  {
   "cell_type": "code",
   "execution_count": null,
   "metadata": {
    "colab": {
     "base_uri": "https://localhost:8080/"
    },
    "id": "T5BiPqXNx2Fp",
    "outputId": "fb06e2cb-21df-4294-9e2b-1e82dad321e8"
   },
   "outputs": [],
   "source": [
    "ALL_COLUMNS_CONSUMO_GERAL['MATRICULA'].dtype"
   ]
  },
  {
   "cell_type": "code",
   "execution_count": null,
   "metadata": {
    "colab": {
     "base_uri": "https://localhost:8080/",
     "height": 694
    },
    "id": "L27zrbbZvDA6",
    "outputId": "7d3bb536-c43c-4789-bf5a-ac9351d0f941"
   },
   "outputs": [],
   "source": [
    "ALL_COLUMNS_CONSUMO_GERAL_UMA_MATRICULA = ALL_COLUMNS_CONSUMO_GERAL[ALL_COLUMNS_CONSUMO_GERAL['MATRICULA'] == 17719490.0]\n",
    "ALL_COLUMNS_CONSUMO_GERAL_UMA_MATRICULA['REFERENCIA'] = pd.to_datetime(ALL_COLUMNS_CONSUMO_GERAL_UMA_MATRICULA['REFERENCIA'])\n",
    "\n",
    "# Agrupando o consumo por data de referência\n",
    "df_agrupado = ALL_COLUMNS_CONSUMO_GERAL_UMA_MATRICULA.groupby('REFERENCIA')['CONS_MEDIDO'].sum().reset_index()\n",
    "\n",
    "# Plotando a distribuição do consumo medido por data\n",
    "# Plotando a distribuição do consumo medido por data utilizando gráfico de área\n",
    "plt.figure(figsize=(10, 6))\n",
    "plt.fill_between(df_agrupado['REFERENCIA'], df_agrupado['CONS_MEDIDO'], color='blue', alpha=0.5)\n",
    "plt.title('Distribuição do Consumo Medido por Data de Referência')\n",
    "plt.xlabel('Data de Referência')\n",
    "plt.ylabel('Consumo Medido (m³)')\n",
    "plt.xticks(rotation=45)\n",
    "plt.tight_layout()\n",
    "\n",
    "plt.show()"
   ]
  },
  {
   "cell_type": "code",
   "execution_count": null,
   "metadata": {
    "colab": {
     "base_uri": "https://localhost:8080/",
     "height": 542
    },
    "id": "ekxzM5XpyNrP",
    "outputId": "eac25fb3-602e-4a43-ff58-3d8259e20d15"
   },
   "outputs": [],
   "source": [
    "import plotly.express as px\n",
    "\n",
    "fig = px.line(df_agrupado, x='REFERENCIA', y='CONS_MEDIDO',\n",
    "              title='Distribuição do Consumo Medido por Data de Referência - Matrícula 17719490',\n",
    "              labels={'REFERENCIA': 'Data de Referência', 'CONS_MEDIDO': 'Consumo Medido (m³)'})\n",
    "\n",
    "# Ajustando o layout do gráfico\n",
    "fig.update_layout(xaxis_title='Data de Referência',\n",
    "                  yaxis_title='Consumo Medido (m³)',\n",
    "                  xaxis_tickangle=-45)\n",
    "\n",
    "# Exibir o gráfico\n",
    "fig.show()"
   ]
  },
  {
   "cell_type": "code",
   "execution_count": null,
   "metadata": {
    "id": "bCW3arLWeqob"
   },
   "outputs": [],
   "source": [
    "# # remove linhas duplicadas\n",
    "\n",
    "# def verificar_duplicatas_referencia(df):\n",
    "#     df_duplicados = df[df.duplicated(subset=['MATRICULA', 'REFERENCIA'], keep=False)]\n",
    "\n",
    "#     return df_duplicados\n",
    "\n",
    "# df_sem_duplicadas = verificar_duplicatas_referencia(ALL_COLUMNS_CONSUMO_GERAL)"
   ]
  },
  {
   "cell_type": "code",
   "execution_count": null,
   "metadata": {
    "id": "N8nEhSC_HZzO"
   },
   "outputs": [],
   "source": [
    "sem_na = ALL_COLUMNS_CONSUMO_GERAL.dropna()"
   ]
  },
  {
   "cell_type": "code",
   "execution_count": null,
   "metadata": {
    "colab": {
     "base_uri": "https://localhost:8080/",
     "height": 808
    },
    "id": "LGEF0pZEcz1g",
    "outputId": "4574f87e-c607-4873-cef3-dc593c422abc"
   },
   "outputs": [],
   "source": [
    "sem_na"
   ]
  },
  {
   "cell_type": "code",
   "execution_count": null,
   "metadata": {
    "id": "PQWB46ACH7yl"
   },
   "outputs": [],
   "source": [
    "def remove_rows_with_column_value_greater_than_one(df, column_names):\n",
    "    # Verifica se algum valor em qualquer uma das colunas especificadas é maior que 1\n",
    "    condition = (df[column_names] > 1).any(axis=1)\n",
    "\n",
    "    # Filtra o DataFrame, removendo as linhas onde a condição é True\n",
    "    df_filtered = df[~condition]\n",
    "\n",
    "    return df_filtered\n",
    "\n",
    "# Exemplo de uso:\n",
    "df_sem_linhas = remove_rows_with_column_value_greater_than_one(sem_na, ['COD_LATITUDE', 'COD_LONGITUDE'])"
   ]
  },
  {
   "cell_type": "code",
   "execution_count": null,
   "metadata": {
    "id": "ohJrcpEWpdVj"
   },
   "outputs": [],
   "source": [
    "# tratando a longetude e latitude\n",
    "# verificando a quantidade de clusters é mais apropriada utilizando K-Means\n",
    "\n",
    "\n",
    "def plotar(n_clusters):\n",
    "  #clusterizando\n",
    "  df_temp = df_sem_linhas.copy()\n",
    "  kmeans = KMeans(n_clusters=n_clusters, random_state=42)\n",
    "  df_temp['cluster'] = kmeans.fit_predict(df_sem_linhas[['COD_LATITUDE', 'COD_LONGITUDE']])\n",
    "\n",
    "  # visualizando\n",
    "  plt.figure(figsize=(10, 6))\n",
    "  plt.scatter(df_sem_linhas['COD_LONGITUDE'], df_sem_linhas['COD_LATITUDE'], c=df_temp['cluster'], cmap='viridis', marker='o', s=100)\n",
    "  plt.title(f\"K-Means Clustering com {n_clusters} Clusters\")\n",
    "  plt.xlabel(\"Longitude\")\n",
    "  plt.ylabel(\"Latitude\")\n",
    "  plt.show()\n",
    "\n",
    "\n",
    "\n",
    "# visulizar clusters do range de 2 para 17\n",
    "# for x in range(2, 17):\n",
    "#   print()\n",
    "#   plotar(x)"
   ]
  },
  {
   "cell_type": "code",
   "execution_count": null,
   "metadata": {
    "id": "IeOpptCYmq6n"
   },
   "outputs": [],
   "source": [
    "# clusterizando os dados de longetude e latitude\n",
    "\n",
    "kmeans = KMeans(n_clusters=20, random_state=42)\n",
    "df_sem_linhas['cluster'] = kmeans.fit_predict(df_sem_linhas[['COD_LATITUDE', 'COD_LONGITUDE']])"
   ]
  },
  {
   "cell_type": "code",
   "execution_count": null,
   "metadata": {
    "id": "tX8G6YuTsgXF"
   },
   "outputs": [],
   "source": [
    "# removendo colunas de longetude e latude\n",
    "\n",
    "df_loc_tratado = df_sem_linhas.drop(columns=['COD_LATITUDE', 'COD_LONGITUDE'])"
   ]
  },
  {
   "cell_type": "code",
   "execution_count": null,
   "metadata": {
    "id": "lPq8HAUss15I"
   },
   "outputs": [],
   "source": [
    "# fazendo one hot encoding\n",
    "\n",
    "df_loc_tratado_ohc = pd.get_dummies(df_loc_tratado, columns = ['cluster'], dtype=int)"
   ]
  },
  {
   "cell_type": "code",
   "execution_count": null,
   "metadata": {
    "colab": {
     "base_uri": "https://localhost:8080/"
    },
    "id": "f2te-nzUutQS",
    "outputId": "e2cf191d-aa55-4034-e065-f051c0f2c618"
   },
   "outputs": [],
   "source": [
    "df_loc_tratado_ohc.columns"
   ]
  },
  {
   "cell_type": "code",
   "execution_count": null,
   "metadata": {
    "id": "x6NOJxqSDJA-"
   },
   "outputs": [],
   "source": [
    "df_loc_tratado_ohc = df_loc_tratado_ohc[df_loc_tratado_ohc[\"CATEGORIA\"].isin([\"RESIDENCIAL\"])]\n",
    "df_loc_tratado_ohc = df_loc_tratado_ohc[df_loc_tratado_ohc[\"CATEGORIA\"].isin([\"RESIDENCIAL\"])]\n",
    "df_loc_tratado_ohc = df_loc_tratado_ohc.drop(columns=\"CATEGORIA\")"
   ]
  },
  {
   "cell_type": "code",
   "execution_count": null,
   "metadata": {
    "id": "9Fa4L0i2XOPi"
   },
   "outputs": [],
   "source": [
    "scaler = RobustScaler()\n",
    "df_loc_tratado_ohc[['VOLUME_ESTIMADO_ACUM', 'VOLUME_ESTIMADO']] = scaler.fit_transform(df_loc_tratado_ohc[['VOLUME_ESTIMADO_ACUM', 'VOLUME_ESTIMADO']])"
   ]
  },
  {
   "cell_type": "code",
   "execution_count": null,
   "metadata": {
    "id": "08Gtbo4jKuuu"
   },
   "outputs": [],
   "source": [
    "df_loc_tratado_ohc['Temperatura Média'] = df_loc_tratado_ohc['Temperatura Média'].astype(int)\n",
    "df_loc_tratado_ohc['Temperatura Mínima'] = df_loc_tratado_ohc['Temperatura Mínima'].astype(int)\n",
    "df_loc_tratado_ohc['Temperatura Máxima'] = df_loc_tratado_ohc['Temperatura Máxima'].astype(int)\n",
    "df_loc_tratado_ohc['Precipitação'] = df_loc_tratado_ohc['Precipitação'].astype(int)"
   ]
  },
  {
   "cell_type": "code",
   "execution_count": null,
   "metadata": {
    "colab": {
     "base_uri": "https://localhost:8080/"
    },
    "id": "wIydpYclLUJS",
    "outputId": "9229e692-381c-4452-d042-de43540689cf"
   },
   "outputs": [],
   "source": [
    "df_loc_tratado_ohc['Precipitação'].isna().sum()"
   ]
  },
  {
   "cell_type": "code",
   "execution_count": null,
   "metadata": {
    "id": "lBjyCK7Rvdf5"
   },
   "outputs": [],
   "source": [
    "# pivotando a tabela\n",
    "\n",
    "pivoted_df = pd.pivot_table(\n",
    "    df_loc_tratado_ohc,\n",
    "    index='MATRICULA',\n",
    "    columns='REFERENCIA',\n",
    "    values=['CONS_MEDIDO', 'VOLUME_ESTIMADO', 'Temperatura Média', 'Precipitação'],\n",
    "    aggfunc='sum'\n",
    ")\n",
    "\n",
    "pivoted_df.columns = ['_'.join([str(col[0]), col[1].strftime('%Y-%m-%d')]).strip() for col in pivoted_df.columns.values]\n",
    "pivoted_df = pivoted_df.reset_index()\n",
    "\n",
    "\n",
    "# adicinando as outras colunas\n",
    "\n",
    "other_columns = df_loc_tratado_ohc.drop(columns=['CONS_MEDIDO', 'VOLUME_ESTIMADO', 'REFERENCIA']).drop_duplicates()\n",
    "\n",
    "\n",
    "pivoted_df = pd.merge(pivoted_df, other_columns, on='MATRICULA', how='left')\n",
    "\n",
    "\n",
    "pivoted_df = pivoted_df.fillna(0)"
   ]
  },
  {
   "cell_type": "code",
   "execution_count": null,
   "metadata": {
    "colab": {
     "base_uri": "https://localhost:8080/"
    },
    "id": "D1-fO4PcLecp",
    "outputId": "03112d07-c1cf-4622-959d-aaaf9d1e2c3d"
   },
   "outputs": [],
   "source": [
    "pivoted_df.columns.values"
   ]
  },
  {
   "cell_type": "code",
   "execution_count": null,
   "metadata": {
    "id": "snxwV1fYmdZb"
   },
   "outputs": [],
   "source": [
    "pivoted_df = pivoted_df[pivoted_df['DSC_OCORRENCIA'].isin([\n",
    "    'NORMAL',\n",
    "    'MEDIDOR RETIRADO/FURTADO',\n",
    "    'MEDIDOR INVERTIDO/LIGAÇÃO LACRADA',\n",
    "    'LEITURA COLETADA PELO CLIENTE',\n",
    "    'MEDIDOR NÃO LOCALIZADO',\n",
    "    'IMÓVEL DESOCUPADO',\n",
    "    'HIDRÔMETRO COM CÚPULA VIRADA/TAMPADA',\n",
    "    'CAIXA DE PROTEÇÃO FECHADA',\n",
    "    'IMÓVEL A ALUGAR/VENDA'\n",
    "    'LIGAÇÃO NÃO LOCALIZADA'\n",
    "    'FRAUDE IDENTIFICADA'\n",
    "    'MEDIDOR COM DEFEITO/PARADO'\n",
    "    'CACHORRO BRAVO'\n",
    "])]"
   ]
  },
  {
   "cell_type": "code",
   "execution_count": null,
   "metadata": {
    "colab": {
     "base_uri": "https://localhost:8080/",
     "height": 335
    },
    "id": "X5l6AhpfwWbg",
    "outputId": "ed03b115-57c5-4e30-cf19-01de00e853c2"
   },
   "outputs": [],
   "source": [
    "pivoted_df[\"DSC_OCORRENCIA\"].value_counts()"
   ]
  },
  {
   "cell_type": "code",
   "execution_count": null,
   "metadata": {
    "colab": {
     "base_uri": "https://localhost:8080/",
     "height": 273
    },
    "id": "kuG97th7yBdz",
    "outputId": "6189bbc8-0bb2-4c58-e876-16f79f1fdf8c"
   },
   "outputs": [],
   "source": [
    "# balanciando e simplificando a coluna do tipo de ocorrencia para normal e não normal\n",
    "\n",
    "\n",
    "result = pivoted_df.copy()\n",
    "\n",
    "result['DSC_OCORRENCIA'] = pivoted_df['DSC_OCORRENCIA'].apply(lambda x: 1 if x == 'NORMAL' else 0)\n",
    "\n",
    "result.head()"
   ]
  },
  {
   "cell_type": "code",
   "execution_count": null,
   "metadata": {
    "id": "iRXDXGCr0rpW"
   },
   "outputs": [],
   "source": [
    "result = result.drop(columns=['FATURADO_MEDIA'])"
   ]
  },
  {
   "cell_type": "code",
   "execution_count": null,
   "metadata": {
    "colab": {
     "base_uri": "https://localhost:8080/"
    },
    "id": "7351E37O3eSk",
    "outputId": "7a1d46a0-ae92-49a7-ca49-81d27a94c323"
   },
   "outputs": [],
   "source": [
    "result[\"TIPO_LIGACAO\"] = result[\"TIPO_LIGACAO\"].replace({\"Hidrometrado\": 0, \"Consumo Fixo\": 1})"
   ]
  },
  {
   "cell_type": "code",
   "execution_count": null,
   "metadata": {
    "id": "PwdG3ONz4g51"
   },
   "outputs": [],
   "source": [
    "result[\"TIPO_LIGACAO\"] = result[\"TIPO_LIGACAO\"].astype(int)"
   ]
  },
  {
   "cell_type": "code",
   "execution_count": null,
   "metadata": {
    "colab": {
     "base_uri": "https://localhost:8080/",
     "height": 147
    },
    "id": "erbzcxMe35uk",
    "outputId": "e010eab0-6bd1-4638-c817-10a303b7c37c"
   },
   "outputs": [],
   "source": [
    "result[\"TIPO_LIGACAO\"].value_counts()"
   ]
  },
  {
   "cell_type": "code",
   "execution_count": null,
   "metadata": {
    "colab": {
     "base_uri": "https://localhost:8080/",
     "height": 458
    },
    "id": "ZXjsKzUa3_dK",
    "outputId": "ce1cda93-ecd0-4939-c0be-079738ea2523"
   },
   "outputs": [],
   "source": [
    "result.dtypes"
   ]
  },
  {
   "cell_type": "code",
   "execution_count": null,
   "metadata": {
    "colab": {
     "base_uri": "https://localhost:8080/",
     "height": 489
    },
    "id": "YGGbD0si-Lc8",
    "outputId": "84dea5d5-94af-46f5-9c73-0c426ae25756"
   },
   "outputs": [],
   "source": [
    "def remove_outliers_and_plot(df, column_name):\n",
    "    # 1. Calcular os quartis\n",
    "    Q1 = df[column_name].quantile(0.25)\n",
    "    Q3 = df[column_name].quantile(0.75)\n",
    "\n",
    "    # 2. Calcular o IQR\n",
    "    IQR = Q3 - Q1\n",
    "\n",
    "    # 3. Determinar os limites superior e inferior\n",
    "    limite_inferior = Q1 - 1.5 * IQR\n",
    "    limite_superior = Q3 + 1.5 * IQR\n",
    "\n",
    "    # 4. Filtrar os dados para remover os outliers\n",
    "    df_filtrado = df[(df[column_name] >= limite_inferior) & (df[column_name] <= limite_superior)]\n",
    "\n",
    "    # 5. Plotar o boxplot com os dados filtrados\n",
    "    sns.boxplot(x=df_filtrado[column_name])\n",
    "    plt.title(f'Boxplot de {column_name} (Sem Outliers)')\n",
    "    plt.xlabel(column_name)\n",
    "    plt.show()\n",
    "\n",
    "    # Retornar o DataFrame filtrado\n",
    "    return df_filtrado\n",
    "\n",
    "# Exemplo de uso:\n",
    "df_sem_outliers = remove_outliers_and_plot(result, 'VOLUME_ESTIMADO_ACUM')"
   ]
  },
  {
   "cell_type": "code",
   "execution_count": null,
   "metadata": {
    "colab": {
     "base_uri": "https://localhost:8080/"
    },
    "id": "0jMgFGgz9Fzr",
    "outputId": "0e11710e-ae88-4179-af55-e59c5a609fcc"
   },
   "outputs": [],
   "source": [
    "df_sem_outliers[\"MATRICULA\"] = df_sem_outliers[\"MATRICULA\"].astype(int)"
   ]
  },
  {
   "cell_type": "code",
   "execution_count": null,
   "metadata": {
    "colab": {
     "base_uri": "https://localhost:8080/",
     "height": 461
    },
    "id": "ymfp_fv8-xoH",
    "outputId": "8373f88a-b9c2-4b80-9cc1-5e49f35cf711"
   },
   "outputs": [],
   "source": [
    "df_sem_outliers"
   ]
  },
  {
   "cell_type": "code",
   "execution_count": null,
   "metadata": {
    "id": "bKakCwrnAcN3"
   },
   "outputs": [],
   "source": [
    "dataframe_fraudes_premissa = fraudes[['MATRICULA', 'DESCRICAO']].drop_duplicates()\n",
    "dataframe_fraudes_premissa = pd.get_dummies(dataframe_fraudes_premissa, columns=['DESCRICAO'], dtype='int')"
   ]
  },
  {
   "cell_type": "code",
   "execution_count": null,
   "metadata": {
    "id": "XoF65SMg_em4"
   },
   "outputs": [],
   "source": [
    "dataframe_pj_premissa = pd.merge(df_sem_outliers, dataframe_fraudes_premissa, on='MATRICULA', how='left')"
   ]
  },
  {
   "cell_type": "code",
   "execution_count": null,
   "metadata": {
    "id": "-wlR24EMB2nh"
   },
   "outputs": [],
   "source": [
    "dataframe_pj_premissa['DESCRICAO_IRREGULARIDADE IDENTIFICADA'] = dataframe_pj_premissa['DESCRICAO_IRREGULARIDADE IDENTIFICADA'].fillna(0)"
   ]
  },
  {
   "cell_type": "code",
   "execution_count": null,
   "metadata": {
    "colab": {
     "base_uri": "https://localhost:8080/",
     "height": 178
    },
    "id": "R_QXGK3dB6ZM",
    "outputId": "69984933-2c29-4ee7-e151-730a43eff73a"
   },
   "outputs": [],
   "source": [
    "dataframe_pj_premissa['DESCRICAO_IRREGULARIDADE IDENTIFICADA'].value_counts()"
   ]
  },
  {
   "cell_type": "code",
   "execution_count": null,
   "metadata": {
    "id": "UBRRXLFQCRBr"
   },
   "outputs": [],
   "source": [
    "dataframe_pj_premissa['DESCRICAO_IRREGULARIDADE IDENTIFICADA'] = dataframe_pj_premissa['DESCRICAO_IRREGULARIDADE IDENTIFICADA'].astype(int)"
   ]
  },
  {
   "cell_type": "code",
   "execution_count": null,
   "metadata": {
    "id": "CdvEDf7-CoYp"
   },
   "outputs": [],
   "source": [
    "# def balanciar(df):\n",
    "#   smote = SMOTE(random_state=42)\n",
    "#   X = df.drop(['DESCRICAO_IRREGULARIDADE IDENTIFICADA', 'REFERENCIA'], axis=1)\n",
    "#   y = df['DESCRICAO_IRREGULARIDADE IDENTIFICADA']\n",
    "#   X_res, y_res = smote.fit_resample(X, y)\n",
    "#   return pd.concat([X_res, y_res], axis=1)\n",
    "\n",
    "\n",
    "# dataframe_pj_premissa = balanciar(dataframe_pj_premissa)"
   ]
  },
  {
   "cell_type": "code",
   "execution_count": null,
   "metadata": {
    "id": "1mNXUmNTF2-N"
   },
   "outputs": [],
   "source": [
    "# rus = RandomUnderSampler(random_state=42)\n",
    "# X = pivoted_df.drop('DESCRICAO_IRREGULARIDADE IDENTIFICADA', axis=1)\n",
    "# y = pivoted_df['DESCRICAO_IRREGULARIDADE IDENTIFICADA']\n",
    "# X_res, y_res = rus.fit_resample(X, y)"
   ]
  },
  {
   "cell_type": "code",
   "execution_count": null,
   "metadata": {
    "colab": {
     "base_uri": "https://localhost:8080/"
    },
    "id": "I5Dz5a8uDeMX",
    "outputId": "4aa8b3cb-5828-44a9-d70d-7ec3e3495467"
   },
   "outputs": [],
   "source": [
    "np.unique(dataframe_pj_premissa['DESCRICAO_IRREGULARIDADE IDENTIFICADA'].values, return_counts=True)"
   ]
  },
  {
   "cell_type": "code",
   "execution_count": null,
   "metadata": {
    "colab": {
     "base_uri": "https://localhost:8080/"
    },
    "id": "rP_rTCH3JQR_",
    "outputId": "c868ab36-5062-488a-babf-ad6d967913fb"
   },
   "outputs": [],
   "source": [
    "dataframe_pj_premissa.columns.values"
   ]
  },
  {
   "cell_type": "code",
   "execution_count": null,
   "metadata": {
    "id": "26RRf0obMevY"
   },
   "outputs": [],
   "source": [
    "dataframe_pj_premissa.drop(columns=['Temperatura Média', 'Temperatura Mínima', 'Temperatura Máxima','Precipitação'], inplace=True)"
   ]
  },
  {
   "cell_type": "code",
   "execution_count": null,
   "metadata": {
    "colab": {
     "base_uri": "https://localhost:8080/",
     "height": 461
    },
    "id": "qTui4NXXMo8L",
    "outputId": "53fab77b-da6a-472d-b581-1190e01de487"
   },
   "outputs": [],
   "source": [
    "dataframe_pj_premissa"
   ]
  },
  {
   "cell_type": "code",
   "execution_count": null,
   "metadata": {
    "colab": {
     "base_uri": "https://localhost:8080/"
    },
    "id": "BYre6Ssa7LhJ",
    "outputId": "02e007bc-3f91-4b49-f909-c0dc89120999"
   },
   "outputs": [],
   "source": [
    "from google.colab import drive\n",
    "drive.mount('/content/drive')"
   ]
  },
  {
   "cell_type": "code",
   "execution_count": null,
   "metadata": {
    "id": "-JBoeea15d6H"
   },
   "outputs": [],
   "source": [
    "dataframe_pj_premissa.to_parquet('/content/drive/Shareddrives/LeakSeeker/pre_processado_pf.parquet')"
   ]
  },
  {
   "cell_type": "code",
   "execution_count": null,
   "metadata": {
    "id": "ND8D-HtYmvZ8"
   },
   "outputs": [],
   "source": [
    "# import folium\n",
    "# from sklearn.cluster import KMeans\n",
    "\n",
    "# centroides = kmeans.cluster_centers_\n",
    "\n",
    "# # Criar um mapa centrado nas coordenadas médias do dataset\n",
    "# media_lat = df_sem_linhas['COD_LATITUDE'].mean()\n",
    "# media_long = df_sem_linhas['COD_LONGITUDE'].mean()\n",
    "# mapa = folium.Map(location=[media_lat, media_long], zoom_start=12)\n",
    "\n",
    "# # Adicionar os pontos dos dados ao mapa\n",
    "# for i, row in df_sem_linhas.iterrows():\n",
    "#     folium.CircleMarker(location=[row['COD_LATITUDE'], row['COD_LONGITUDE']],\n",
    "#                         radius=5,\n",
    "#                         color='blue',\n",
    "#                         fill=True,\n",
    "#                         fill_color='blue',\n",
    "#                         fill_opacity=0.6).add_to(mapa)\n",
    "\n",
    "# # Adicionar os centróides dos clusters ao mapa com o número do cluster\n",
    "# for i, centroide in enumerate(centroides):\n",
    "#     folium.Marker(location=[centroide[0], centroide[1]],\n",
    "#                   popup=f'Cluster {i}',  # Exibe o número do cluster\n",
    "#                   icon=folium.DivIcon(html=f\"\"\"<div style=\"font-size: 12pt; color : red\">{i}</div>\"\"\")).add_to(mapa)\n",
    "\n",
    "# # Mostrar o mapa\n",
    "# mapa"
   ]
  },
  {
   "cell_type": "markdown",
   "metadata": {
    "id": "tqU9i12ytNL1"
   },
   "source": [
    "### Comportamento das Matrículas"
   ]
  },
  {
   "cell_type": "code",
   "execution_count": null,
   "metadata": {
    "colab": {
     "base_uri": "https://localhost:8080/",
     "height": 564
    },
    "id": "rNjco9SotMoW",
    "outputId": "f1920bd9-d938-4568-970e-9a56216b92ef"
   },
   "outputs": [],
   "source": [
    "fraudulentos = dataframe_pj_premissa[dataframe_pj_premissa['DESCRICAO_IRREGULARIDADE IDENTIFICADA'] == 1].head(5)\n",
    "nao_fraudulentos = dataframe_pj_premissa[dataframe_pj_premissa['DESCRICAO_IRREGULARIDADE IDENTIFICADA'] == 0].head(5)\n",
    "\n",
    "\n",
    "colunas_consumo = [col for col in dataframe_pj_premissa.columns if 'CONS_MEDIDO' in col]\n",
    "\n",
    "# Empilhar os dados para facilitar o plot\n",
    "dados_fraude = fraudulentos[colunas_consumo].stack()\n",
    "dados_nao_fraude = nao_fraudulentos[colunas_consumo].stack()\n",
    "\n",
    "# 3. Criar o histograma\n",
    "plt.figure(figsize=(12,6))\n",
    "\n",
    "sns.histplot(dados_fraude, color='red', label='Fraudulentos', kde=True, bins=10)\n",
    "sns.histplot(dados_nao_fraude, color='blue', label='Não Fraudulentos', kde=True, bins=10)\n",
    "\n",
    "plt.title('Comparação de Consumo entre Fraudulentos e Não Fraudulentos')\n",
    "plt.xlabel('Consumo Medido')\n",
    "plt.ylabel('Frequência')\n",
    "plt.legend()\n",
    "plt.show()"
   ]
  }
 ],
 "metadata": {
  "colab": {
   "machine_shape": "hm",
   "provenance": []
  },
  "kernelspec": {
   "display_name": "Python 3",
   "name": "python3"
  },
  "language_info": {
   "name": "python"
  }
 },
 "nbformat": 4,
 "nbformat_minor": 0
}
