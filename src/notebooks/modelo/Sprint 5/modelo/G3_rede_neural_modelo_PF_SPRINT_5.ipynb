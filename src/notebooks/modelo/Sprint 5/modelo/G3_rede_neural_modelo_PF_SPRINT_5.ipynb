{
 "cells": [
  {
   "cell_type": "markdown",
   "metadata": {
    "id": "MX2hY2cZeIAP"
   },
   "source": [
    "## Importação de bibliotecas e Dataframe"
   ]
  },
  {
   "cell_type": "code",
   "execution_count": null,
   "metadata": {
    "colab": {
     "base_uri": "https://localhost:8080/"
    },
    "id": "zxSCLwPo7ONr",
    "outputId": "cb5fe05a-7fad-4ee8-eeda-042d938fe6c7"
   },
   "outputs": [],
   "source": [
    "from google.colab import drive\n",
    "drive.mount('/content/drive')"
   ]
  },
  {
   "cell_type": "code",
   "execution_count": null,
   "metadata": {
    "colab": {
     "base_uri": "https://localhost:8080/"
    },
    "id": "o7yzqDjuJVxr",
    "outputId": "80ee80a4-bcf1-4f67-87c1-6ff1abc644ac"
   },
   "outputs": [],
   "source": [
    "%pip install optuna"
   ]
  },
  {
   "cell_type": "code",
   "execution_count": null,
   "metadata": {
    "colab": {
     "base_uri": "https://localhost:8080/"
    },
    "id": "taCv9mWi3DRx",
    "outputId": "f6276ad6-b700-47ec-9261-a672568a2eaa"
   },
   "outputs": [],
   "source": [
    "%pip install shap"
   ]
  },
  {
   "cell_type": "code",
   "execution_count": null,
   "metadata": {
    "colab": {
     "base_uri": "https://localhost:8080/"
    },
    "id": "9rUfSWsHvMmi",
    "outputId": "520485b9-4a9d-4ada-b138-c46773adf700"
   },
   "outputs": [],
   "source": [
    "%pip install imblearn"
   ]
  },
  {
   "cell_type": "code",
   "execution_count": null,
   "metadata": {
    "id": "dCdINVejOt6E"
   },
   "outputs": [],
   "source": [
    "import tensorflow as tf\n",
    "from tensorflow import keras\n",
    "from tensorflow.keras import layers\n",
    "import pandas as pd\n",
    "import numpy as np\n",
    "from sklearn.model_selection import train_test_split\n",
    "from sklearn.preprocessing import MinMaxScaler\n",
    "from sklearn.preprocessing import RobustScaler\n",
    "import seaborn as sns\n",
    "import shap\n",
    "from imblearn.over_sampling import SMOTE\n",
    "import gdown\n",
    "from sklearn.cluster import KMeans\n",
    "import matplotlib.pyplot as plt\n",
    "from sklearn.metrics import confusion_matrix, ConfusionMatrixDisplay\n",
    "from sklearn.metrics import classification_report, confusion_matrix, roc_auc_score, roc_curve, auc\n",
    "from sklearn.calibration import calibration_curve\n",
    "import optuna\n",
    "import numpy as np\n",
    "from sklearn.metrics import recall_score\n",
    "from tensorflow.keras.optimizers import Adam\n",
    "from tensorflow.keras.callbacks import EarlyStopping\n",
    "from keras.regularizers import l2\n",
    "from imblearn.under_sampling import RandomUnderSampler"
   ]
  },
  {
   "cell_type": "code",
   "execution_count": null,
   "metadata": {
    "colab": {
     "base_uri": "https://localhost:8080/",
     "height": 0
    },
    "id": "DyiXPxqLJbsb",
    "outputId": "8e411b6d-b344-4f3d-a1cd-f7c46591dfd7"
   },
   "outputs": [],
   "source": [
    "df_premissa = \"1Tai4rHDM0P9lGX-kR9gyxAQ80eL8r4SC\"\n",
    "url_fraudes = f\"https://drive.google.com/uc?id={df_premissa}\"\n",
    "gdown.download(url_fraudes, quiet=False)"
   ]
  },
  {
   "cell_type": "code",
   "execution_count": null,
   "metadata": {
    "id": "hSiBp2JHJ4On"
   },
   "outputs": [],
   "source": [
    "## https://drive.google.com/file/d/1Tai4rHDM0P9lGX-kR9gyxAQ80eL8r4SC/view?usp=sharing"
   ]
  },
  {
   "cell_type": "code",
   "execution_count": null,
   "metadata": {
    "id": "38ypkj8g7PQv"
   },
   "outputs": [],
   "source": [
    "dataframe_pj_premissa = pd.read_parquet('/content/pre_processado_pf.parquet')"
   ]
  },
  {
   "cell_type": "markdown",
   "metadata": {
    "id": "QiEGYknseOmg"
   },
   "source": [
    "## Separação de Treino e Teste"
   ]
  },
  {
   "cell_type": "code",
   "execution_count": null,
   "metadata": {
    "colab": {
     "base_uri": "https://localhost:8080/"
    },
    "id": "_3len5bTgFWU",
    "outputId": "d1da6a9f-3d3c-4a41-83d4-f2fef209721f"
   },
   "outputs": [],
   "source": [
    "dataframe_pj_premissa.columns.values"
   ]
  },
  {
   "cell_type": "code",
   "execution_count": null,
   "metadata": {
    "id": "yzFfZ5RYOQf6"
   },
   "outputs": [],
   "source": [
    "dataframe_pj_premissa = pd.get_dummies(dataframe_pj_premissa, columns=['TIPO_LIGACAO'], dtype=int)"
   ]
  },
  {
   "cell_type": "code",
   "execution_count": null,
   "metadata": {
    "colab": {
     "base_uri": "https://localhost:8080/",
     "height": 461
    },
    "id": "US_YPdneOB45",
    "outputId": "50d1ac26-5a0a-42b7-9e9f-ba7cdd93dff9"
   },
   "outputs": [],
   "source": [
    "dataframe_pj_premissa"
   ]
  },
  {
   "cell_type": "code",
   "execution_count": null,
   "metadata": {
    "id": "VN4ph0X3zJGc"
   },
   "outputs": [],
   "source": [
    "# y = dataframe_pj_premissa['DESCRICAO_IRREGULARIDADE IDENTIFICADA'].values\n",
    "# X = dataframe_pj_premissa.drop(['MATRICULA','DESCRICAO_IRREGULARIDADE IDENTIFICADA', 'DAT_LEITURA', 'MES'], axis=1).values"
   ]
  },
  {
   "cell_type": "code",
   "execution_count": null,
   "metadata": {
    "colab": {
     "base_uri": "https://localhost:8080/"
    },
    "id": "894x7AJEKPXy",
    "outputId": "93afaac2-548a-4005-90ff-c840057edc87"
   },
   "outputs": [],
   "source": [
    "for column in dataframe_pj_premissa.columns:\n",
    "    print(f\"Column: {column}, Data type: {dataframe_pj_premissa[column].dtype}\")"
   ]
  },
  {
   "cell_type": "code",
   "execution_count": null,
   "metadata": {
    "id": "5fneO2JdGJwn"
   },
   "outputs": [],
   "source": [
    "# smote = SMOTE(random_state=42)\n",
    "rus = RandomUnderSampler(random_state=42)\n",
    "X = dataframe_pj_premissa.drop(['MATRICULA','DESCRICAO_IRREGULARIDADE IDENTIFICADA', 'DAT_LEITURA', 'MES'], axis=1)\n",
    "y = dataframe_pj_premissa['DESCRICAO_IRREGULARIDADE IDENTIFICADA']\n",
    "X_res, y_res = rus.fit_resample(X, y)"
   ]
  },
  {
   "cell_type": "code",
   "execution_count": null,
   "metadata": {
    "id": "ZSYszgHggtMX"
   },
   "outputs": [],
   "source": [
    "X_train, X_test, y_train, y_test = train_test_split(X_res, y_res, test_size=0.20, random_state=42)"
   ]
  },
  {
   "cell_type": "code",
   "execution_count": null,
   "metadata": {
    "colab": {
     "base_uri": "https://localhost:8080/"
    },
    "id": "ZFm6J8sOxRg0",
    "outputId": "f3fbb4b7-d3e8-4cc3-bd31-1b4f327ccb07"
   },
   "outputs": [],
   "source": [
    "import tensorflow.keras as keras\n",
    "from tensorflow.keras import layers\n",
    "\n",
    "model = keras.Sequential([\n",
    "    keras.layers.Input(shape=(X_train.shape[1],)),\n",
    "    keras.layers.Dense(300, activation='relu'),\n",
    "    layers.Dropout(0.5),\n",
    "    keras.layers.Dense(300, activation='relu'),\n",
    "    layers.Dropout(0.5),\n",
    "    keras.layers.Dense(300, activation='relu'),\n",
    "    layers.Dropout(0.5),\n",
    "    keras.layers.Dense(124, activation='relu'),\n",
    "    keras.layers.Dense(64, activation='relu'),\n",
    "    keras.layers.Dense(1, activation='sigmoid')\n",
    "])\n",
    "\n",
    "model.compile(loss='binary_crossentropy', metrics=['accuracy', 'precision', 'recall'])\n",
    "\n",
    "early_stopping = keras.callbacks.EarlyStopping(monitor='val_loss', patience=5)\n",
    "\n",
    "result = model.fit(X_train, y_train, epochs=60, batch_size=32, validation_data=(X_test, y_test))\n",
    "\n",
    "loss, accuracy, precision, recall = model.evaluate(X_test, y_test)\n",
    "print(f'Test Loss: {loss:.4f}')\n",
    "print(f'Model Accuracy: {accuracy:.2f}')\n",
    "print(f'Model Precision: {precision:.2f}')\n",
    "print(f'Model Recall: {recall:.2f}')"
   ]
  },
  {
   "cell_type": "code",
   "execution_count": null,
   "metadata": {
    "colab": {
     "base_uri": "https://localhost:8080/",
     "height": 487
    },
    "id": "Y-dSKfvfE-NX",
    "outputId": "673b38ca-6a28-46b9-d858-3e22134b3788"
   },
   "outputs": [],
   "source": [
    "import matplotlib.pyplot as plt\n",
    "\n",
    "def plot_loss(history):\n",
    "    plt.figure(figsize=(10, 5))\n",
    "    plt.plot(history.history['loss'], label='Training Loss')\n",
    "    plt.plot(history.history['val_loss'], label='Validation Loss')\n",
    "    plt.xlabel('Epochs')\n",
    "    plt.ylabel('Loss')\n",
    "    plt.title('Training and Validation Loss')\n",
    "    plt.legend()\n",
    "    plt.show()\n",
    "\n",
    "# Supondo que `result` é o objeto retornado pelo `model.fit`\n",
    "plot_loss(result)"
   ]
  },
  {
   "cell_type": "code",
   "execution_count": null,
   "metadata": {
    "colab": {
     "base_uri": "https://localhost:8080/",
     "height": 489
    },
    "id": "H1iyqmjwQpRV",
    "outputId": "15447aca-4a33-4d54-e481-cae3b53150a2"
   },
   "outputs": [],
   "source": [
    "y_pred = model.predict(X_test)\n",
    "y_pred = np.round(y_pred).astype(int)\n",
    "\n",
    "cm = confusion_matrix(y_test, y_pred)\n",
    "\n",
    "disp = ConfusionMatrixDisplay(confusion_matrix=cm, display_labels=[0, 1])\n",
    "disp.plot(cmap=plt.cm.Blues)\n",
    "plt.title('Matriz de Confusão')\n",
    "plt.show()"
   ]
  },
  {
   "cell_type": "code",
   "execution_count": null,
   "metadata": {
    "colab": {
     "base_uri": "https://localhost:8080/",
     "height": 472
    },
    "id": "qx15DdaAHLrH",
    "outputId": "3d3ee437-7771-415a-a8d1-7c4febd3bf1a"
   },
   "outputs": [],
   "source": [
    "# Calculando a matriz de confusão em porcentagem\n",
    "cm_percentage = cm.astype('float') / cm.sum() * 100\n",
    "\n",
    "# Exibindo a matriz de confusão com porcentagens\n",
    "disp = ConfusionMatrixDisplay(confusion_matrix=cm_percentage, display_labels=[0, 1])\n",
    "disp.plot(cmap=plt.cm.Blues)\n",
    "\n",
    "plt.title('Matriz de Confusão em Porcentagem')\n",
    "plt.show()"
   ]
  },
  {
   "cell_type": "code",
   "execution_count": null,
   "metadata": {
    "colab": {
     "base_uri": "https://localhost:8080/",
     "height": 442
    },
    "id": "EL4E3MVUSikT",
    "outputId": "69fff3f9-5373-4eb6-beb4-e01ae720fc53"
   },
   "outputs": [],
   "source": [
    "model_para_timeseares = keras.Sequential(\n",
    "    [\n",
    "        layers.Input(shape=(20, 20)),\n",
    "        layers.Conv1D(\n",
    "            filters=32,\n",
    "            kernel_size=7,\n",
    "            padding=\"same\",\n",
    "            strides=2,\n",
    "            activation=\"relu\",\n",
    "        ),\n",
    "        layers.Dropout(rate=0.2),\n",
    "        layers.Conv1D(\n",
    "            filters=16,\n",
    "            kernel_size=7,\n",
    "            padding=\"same\",\n",
    "            strides=2,\n",
    "            activation=\"relu\",\n",
    "        ),\n",
    "        layers.Conv1DTranspose(\n",
    "            filters=16,\n",
    "            kernel_size=7,\n",
    "            padding=\"same\",\n",
    "            strides=2,\n",
    "            activation=\"relu\",\n",
    "        ),\n",
    "        layers.Dropout(rate=0.2),\n",
    "        layers.Conv1DTranspose(\n",
    "            filters=32,\n",
    "            kernel_size=7,\n",
    "            padding=\"same\",\n",
    "            strides=2,\n",
    "            activation=\"relu\",\n",
    "        ),\n",
    "        layers.Conv1DTranspose(filters=1, kernel_size=7, padding=\"same\"),\n",
    "    ]\n",
    ")\n",
    "model.compile(optimizer=keras.optimizers.Adam(learning_rate=0.001), loss=\"mse\")\n",
    "model.summary()"
   ]
  },
  {
   "cell_type": "code",
   "execution_count": null,
   "metadata": {
    "id": "_XPgVSKF7x7S"
   },
   "outputs": [],
   "source": [
    "import pickle\n",
    "\n",
    "with open(\"model_PF.pkl\", \"wb\") as file:\n",
    "    pickle.dump(model, file)"
   ]
  },
  {
   "cell_type": "code",
   "execution_count": null,
   "metadata": {
    "colab": {
     "base_uri": "https://localhost:8080/",
     "height": 663
    },
    "id": "NPdjsL4o9fJG",
    "outputId": "d0ad2a87-3b7c-4039-d1cb-51bf4281aa91"
   },
   "outputs": [],
   "source": [
    "y_pred_classes = (y_pred > 0.5).astype(int)\n",
    "\n",
    "print(\"Classification Report:\\n\", classification_report(y_test, y_pred_classes))\n",
    "\n",
    "y_pred_prob = model.predict(X_test).ravel()\n",
    "roc_auc = roc_auc_score(y_test, y_pred_classes)\n",
    "\n",
    "# Curva ROC\n",
    "fpr, tpr, thresholds = roc_curve(y_test, y_pred_classes)\n",
    "plt.figure()\n",
    "plt.plot(fpr, tpr, label=f'AUC-ROC (area = {roc_auc:.2f})')\n",
    "plt.plot([0, 1], [0, 1], 'k--')\n",
    "plt.xlabel('False Positive Rate')\n",
    "plt.ylabel('True Positive Rate')\n",
    "plt.title('ROC Curve')\n",
    "plt.legend(loc=\"lower right\")\n",
    "plt.show()"
   ]
  },
  {
   "cell_type": "markdown",
   "metadata": {
    "id": "FLWawi6Cx4qL"
   },
   "source": [
    "### Curva ROC\n",
    "\n",
    "AUC-ROC (Área Sob a Curva): A área sob a curva ROC é uma métrica que varia entre 0 e 1. Neste caso, o AUC-ROC é 0.70, o que indica que o modelo tem uma habilidade moderada de distinguir entre as classes positivas e negativas. Quanto mais próximo de 1, melhor o desempenho.\n",
    "\n",
    "Eixo Y (True Positive Rate): Taxa de verdadeiros positivos, ou seja, a proporção de casos positivos corretamente identificados pelo modelo.\n",
    "\n",
    "Eixo X (False Positive Rate): Taxa de falsos positivos, que indica a proporção de casos negativos incorretamente classificados como positivos."
   ]
  },
  {
   "cell_type": "code",
   "execution_count": null,
   "metadata": {
    "colab": {
     "base_uri": "https://localhost:8080/",
     "height": 474
    },
    "id": "9kNAIjf3JESH",
    "outputId": "75a18647-79af-49bc-96ef-87e1a078b03e"
   },
   "outputs": [],
   "source": [
    "plt.plot(result.history['precision'], label='Precisão Treinamento')\n",
    "plt.plot(result.history['val_precision'], label='Precisão Validação')\n",
    "plt.title('Curva de Precisão durante o Treinamento')\n",
    "plt.xlabel('Épocas')\n",
    "plt.ylabel('Precisão')\n",
    "plt.legend()\n",
    "plt.show()"
   ]
  },
  {
   "cell_type": "markdown",
   "metadata": {
    "id": "R1ABKKPmyCOU"
   },
   "source": [
    "### Curva de Precisão durante o Treinamento\n",
    "\n",
    "Eixo Y (Precisão): A métrica de precisão para o modelo ao longo do tempo, que é a proporção de previsões corretas feitas em relação a todas as previsões feitas.\n",
    "Eixo X (Épocas): As épocas são o número de vezes que o modelo percorreu o conjunto de dados durante o treinamento.\n",
    "\n",
    "Vemos uma melhora progressiva tanto no treinamento quanto na validação, mas com algumas oscilações na validação, o que pode indicar que o modelo está ajustando de maneira instável ao conjunto de validação em certas épocas."
   ]
  },
  {
   "cell_type": "code",
   "execution_count": null,
   "metadata": {
    "colab": {
     "base_uri": "https://localhost:8080/",
     "height": 474
    },
    "id": "KZ9l4-7V-SkY",
    "outputId": "d7f48727-5d82-404d-deae-1c433e1d9f54"
   },
   "outputs": [],
   "source": [
    "plt.plot(result.history['loss'], label='Perda Treinamento')\n",
    "plt.plot(result.history['val_loss'], label='Perda Validação')\n",
    "plt.title('Curva de Perda durante o Treinamento')\n",
    "plt.xlabel('Épocas')\n",
    "plt.ylabel('Perda')\n",
    "plt.legend()\n",
    "plt.show()"
   ]
  },
  {
   "cell_type": "markdown",
   "metadata": {
    "id": "rLVMVFuSyP_6"
   },
   "source": [
    "### Loss\n",
    "\n",
    "Eixo Y (Perda): Representa a função de perda (error) que o modelo tenta minimizar. No caso de classificação binária, a perda comumente usada é a entropia cruzada.\n",
    "Eixo X (Épocas): Assim como no gráfico anterior, as épocas representam o progresso do treinamento.\n",
    "\n",
    "A loss do treinamento e validação diminuem ao longo do tempo, indicando que o modelo está aprendendo. No entanto, há um comportamento instável na loss de validação, sugerindo que o modelo pode estar sofrendo com variações durante as diferentes épocas (possivelmente devido à variação nos dados de validação)."
   ]
  },
  {
   "cell_type": "code",
   "execution_count": null,
   "metadata": {
    "colab": {
     "base_uri": "https://localhost:8080/",
     "height": 489
    },
    "id": "5KHsnPqr-UuG",
    "outputId": "7610e670-0ba8-4ed1-8a4f-d58c1ed10a9e"
   },
   "outputs": [],
   "source": [
    "from sklearn.metrics import precision_recall_curve\n",
    "\n",
    "y_pred_prob = model.predict(X_test)\n",
    "\n",
    "precision, recall, _ = precision_recall_curve(y_test, y_pred_prob)\n",
    "\n",
    "plt.plot(recall, precision)\n",
    "plt.title('Curva de Precisão-Recall')\n",
    "plt.xlabel('Recall')\n",
    "plt.ylabel('Precisão')\n",
    "plt.show()"
   ]
  },
  {
   "cell_type": "markdown",
   "metadata": {
    "id": "a1nu9hLQyb2F"
   },
   "source": [
    "### Precisão-Recall\n",
    "\n",
    "A curva precisão-recall é útil em cenários com classes desbalanceadas. A curva decrescente sugere que, à medida que o modelo tenta maximizar o recall (encontrar mais verdadeiros positivos), a precisão diminui, o que é um comportamento esperado.\n",
    "\n",
    "Eixo Y (Precisão): A proporção de previsões corretas feitas pelo modelo em relação ao número total de previsões.\n",
    "Eixo X (Recall): Taxa de verdadeiros positivos sobre todos os exemplos positivos. Ou seja, o quão bem o modelo consegue encontrar todas as instâncias positivas."
   ]
  },
  {
   "cell_type": "code",
   "execution_count": null,
   "metadata": {
    "colab": {
     "base_uri": "https://localhost:8080/",
     "height": 472
    },
    "id": "w07YCpDdzweE",
    "outputId": "0b2423e8-af49-4afe-faa8-ed3b74d79081"
   },
   "outputs": [],
   "source": [
    "prob_true, prob_pred = calibration_curve(y_test, y_pred_prob, n_bins=10)\n",
    "plt.plot(prob_pred, prob_true, marker='o', label='Calibrated')\n",
    "plt.plot([0, 1], [0, 1], linestyle='--', label='Perfect Calibration')\n",
    "plt.xlabel('Predicted Probability')\n",
    "plt.ylabel('True Probability')\n",
    "plt.title('Calibration Plot')\n",
    "plt.legend()\n",
    "plt.show()"
   ]
  },
  {
   "cell_type": "markdown",
   "metadata": {
    "id": "5TtaR4ob4ZOH"
   },
   "source": [
    "## Calibration Plot"
   ]
  },
  {
   "cell_type": "markdown",
   "metadata": {
    "id": "MlvMp6Ox4cDq"
   },
   "source": [
    "Calibration Plot (Gráfico de Calibração), é utilizado para avaliar se as probabilidades previstas por um modelo estão bem calibradas, ou seja, se os valores de probabilidade estimados pelo modelo correspondem à frequência real dos eventos.\n",
    "\n",
    "\n",
    "O gráfico mostra que a linha azul está próxima da linha de calibração perfeita (linha laranja tracejada), o que sugere que as probabilidades previstas pelo modelo estão bem calibradas em várias regiões, especialmente para previsões acima de 0.6.\n",
    "\n",
    "Desvio abaixo de 0.4: Para valores de probabilidade menores que 0.4, o modelo tende a ser um pouco menos calibrado, prevendo probabilidades que subestimam a verdadeira taxa de eventos.\n",
    "\n",
    "Acima de 0.4: A linha azul se alinha bem à linha de calibração perfeita, sugerindo que, para previsões acima de 0.4, o modelo está fornecendo probabilidades bastante precisas."
   ]
  },
  {
   "cell_type": "code",
   "execution_count": null,
   "metadata": {
    "colab": {
     "base_uri": "https://localhost:8080/",
     "height": 472
    },
    "id": "pIykyDTx7o_O",
    "outputId": "bb4e2a05-7986-40f4-af4c-a468dd6c2535"
   },
   "outputs": [],
   "source": [
    "from sklearn.metrics import f1_score\n",
    "\n",
    "thresholds = np.arange(0, 1.1, 0.1)\n",
    "f1_scores = [f1_score(y_test, (y_pred_prob >= t).astype(int)) for t in thresholds]\n",
    "\n",
    "plt.figure()\n",
    "plt.plot(thresholds, f1_scores, marker='o', color='b', label='F1 Score')\n",
    "plt.xlabel('Threshold')\n",
    "plt.ylabel('F1 Score')\n",
    "plt.title('F1 Score vs Threshold')\n",
    "plt.legend(loc='lower right')\n",
    "plt.show()"
   ]
  },
  {
   "cell_type": "markdown",
   "metadata": {
    "id": "1EdeA4Nr8Piq"
   },
   "source": [
    "### F1 vs Limiar de decisão\n",
    "\n",
    "O F1 Score varia conforme ajustamos o limiar (threshold) de decisão. O F1 Score é uma métrica que equilibra precisão e recall. Podemos ver que o melhor F1 Score ocorre quando o threshold está em torno de 0.2 a 0.4. Isso indica que, neste intervalo, o modelo consegue o melhor equilíbrio entre precisão e recall. À medida que o threshold aumenta (mais próximo de 1.0), o F1 Score cai drasticamente, sugerindo que o modelo se torna mais conservador, classificando cada vez mais exemplos como negativos, o que diminui o recall, e, consequentemente, o F1 Score.\n",
    "\n",
    "Ponto de Otimização: O threshold de 0.3 parece ser o ideal, já que o F1 Score está no seu ponto máximo aqui. Ajustar o modelo para trabalhar com esse threshold pode proporcionar uma melhor performance geral."
   ]
  },
  {
   "cell_type": "code",
   "execution_count": null,
   "metadata": {
    "colab": {
     "base_uri": "https://localhost:8080/",
     "height": 472
    },
    "id": "30g0AM077ssC",
    "outputId": "1d5ef9c6-00da-4bb4-8303-dc82b72f644f"
   },
   "outputs": [],
   "source": [
    "precision, recall, _ = precision_recall_curve(y_test, y_pred_prob)\n",
    "pr_auc = auc(recall, precision)\n",
    "\n",
    "plt.figure()\n",
    "plt.plot(recall, precision, marker='.', label=f'PR AUC = {pr_auc:.2f}')\n",
    "plt.xlabel('Recall')\n",
    "plt.ylabel('Precision')\n",
    "plt.title('Precision-Recall Curve')\n",
    "plt.legend()\n",
    "plt.show()"
   ]
  },
  {
   "cell_type": "markdown",
   "metadata": {
    "id": "4QXk4Fpw8e5j"
   },
   "source": [
    " ### Precisão vs Recall\n",
    "\n",
    " A curva de precisão e recall mostra a relação entre as duas métricas à medida que ajustamos o threshold de decisão. O valor da AUC (Área Sob a Curva) é de 0.79, o que indica que o modelo tem uma boa capacidade de manter um equilíbrio entre precisão e recall. A curva começa alta (próximo de 1.0 tanto em precisão quanto em recall) e diminui à medida que o recall aumenta, o que é esperado.\n",
    "\n",
    "O valor da AUC de 0.79 é bom, sugerindo que o modelo pode ser eficaz, mas ainda há espaço para melhorias. Para problemas desbalanceados, como o que você provavelmente está enfrentando, essa curva é mais relevante do que a curva ROC. A queda acentuada da precisão para recalls mais altos indica que, ao tentar capturar mais exemplos positivos (aumentando o recall), a precisão diminui significativamente, sugerindo que o modelo está cometendo mais erros ao identificar falsos positivos."
   ]
  },
  {
   "cell_type": "markdown",
   "metadata": {
    "id": "XY-ywny0RVOo"
   },
   "source": [
    "### Acurácia por Cluster"
   ]
  },
  {
   "cell_type": "code",
   "execution_count": null,
   "metadata": {
    "colab": {
     "base_uri": "https://localhost:8080/"
    },
    "id": "68xahcMaRoBh",
    "outputId": "23632eb3-cc61-4963-d2fc-853bb6b38ac4"
   },
   "outputs": [],
   "source": [
    "X_test.columns.values"
   ]
  },
  {
   "cell_type": "code",
   "execution_count": null,
   "metadata": {
    "colab": {
     "base_uri": "https://localhost:8080/",
     "height": 458
    },
    "id": "e9GaWp2HixLP",
    "outputId": "4f9a6145-0a5c-43ec-e0db-8b00734a5126"
   },
   "outputs": [],
   "source": [
    "np.isnan(X_test).sum()"
   ]
  },
  {
   "cell_type": "code",
   "execution_count": null,
   "metadata": {
    "colab": {
     "base_uri": "https://localhost:8080/"
    },
    "id": "5IpCt4_Oiujj",
    "outputId": "502d7df4-c494-4b48-c7fd-9138983881bb"
   },
   "outputs": [],
   "source": [
    "print(type(X_test))"
   ]
  },
  {
   "cell_type": "code",
   "execution_count": null,
   "metadata": {
    "colab": {
     "base_uri": "https://localhost:8080/"
    },
    "id": "xQyzgGu_igup",
    "outputId": "d2c73235-41a6-4136-d5a9-580d2ca44132"
   },
   "outputs": [],
   "source": [
    "print(X_test.shape)"
   ]
  },
  {
   "cell_type": "code",
   "execution_count": null,
   "metadata": {
    "id": "ggTSsSAVjB2D"
   },
   "outputs": [],
   "source": [
    "X_test_array = X_test.to_numpy()"
   ]
  },
  {
   "cell_type": "code",
   "execution_count": null,
   "metadata": {
    "colab": {
     "base_uri": "https://localhost:8080/"
    },
    "id": "NaM1sjPaLDP6",
    "outputId": "debb33c2-6bac-4856-e668-5601d7250c0c"
   },
   "outputs": [],
   "source": [
    "matriz = pd.DataFrame(data={'cluster': np.argmax(X_test_array[:,-20:], axis=1),\n",
    "        'real': y_test,\n",
    "        'prev': np.argmax(model.predict(X_test_array), axis=1)})"
   ]
  },
  {
   "cell_type": "code",
   "execution_count": null,
   "metadata": {
    "id": "s0ZTDHe0LgOA"
   },
   "outputs": [],
   "source": [
    "matriz['acc'] = matriz.real == matriz.prev"
   ]
  },
  {
   "cell_type": "code",
   "execution_count": null,
   "metadata": {
    "colab": {
     "base_uri": "https://localhost:8080/",
     "height": 424
    },
    "id": "Gmz3dnxjLtqS",
    "outputId": "edf8d525-a3f0-47bd-8902-0c315da2e5df"
   },
   "outputs": [],
   "source": [
    "matriz"
   ]
  },
  {
   "cell_type": "code",
   "execution_count": null,
   "metadata": {
    "colab": {
     "base_uri": "https://localhost:8080/",
     "height": 81
    },
    "id": "FT9DH3NAMmRY",
    "outputId": "bcefbe3c-86d5-463f-df45-c0bedee4efb4"
   },
   "outputs": [],
   "source": [
    "matriz[matriz['cluster']==0]"
   ]
  },
  {
   "cell_type": "code",
   "execution_count": null,
   "metadata": {
    "colab": {
     "base_uri": "https://localhost:8080/",
     "height": 112
    },
    "id": "iAhSGNb0Lmf_",
    "outputId": "db1f4d49-8556-492f-daca-fab479992aed"
   },
   "outputs": [],
   "source": [
    "matriz[matriz['cluster']==0].pivot_table(index='real', columns='prev', values='acc', aggfunc='count')"
   ]
  },
  {
   "cell_type": "code",
   "execution_count": null,
   "metadata": {
    "id": "WMEV53NrLhMM"
   },
   "outputs": [],
   "source": [
    "acuracia_por_cluster = matriz.pivot_table(index='cluster', values='acc', aggfunc=['sum','count'])"
   ]
  },
  {
   "cell_type": "code",
   "execution_count": null,
   "metadata": {
    "id": "RuVWQQe5NK0E"
   },
   "outputs": [],
   "source": [
    "acuracia_por_cluster['acuracia'] = acuracia_por_cluster[('sum', 'acc')]/acuracia_por_cluster[('count', 'acc')]"
   ]
  },
  {
   "cell_type": "code",
   "execution_count": null,
   "metadata": {
    "colab": {
     "base_uri": "https://localhost:8080/",
     "height": 739
    },
    "id": "4o6EluXjNUs0",
    "outputId": "17529452-71a0-47bf-af6b-7417dbff7080"
   },
   "outputs": [],
   "source": [
    "acuracia_por_cluster"
   ]
  }
 ],
 "metadata": {
  "accelerator": "GPU",
  "colab": {
   "collapsed_sections": [
    "MX2hY2cZeIAP"
   ],
   "gpuType": "A100",
   "machine_shape": "hm",
   "provenance": []
  },
  "kernelspec": {
   "display_name": "Python 3",
   "name": "python3"
  },
  "language_info": {
   "name": "python"
  }
 },
 "nbformat": 4,
 "nbformat_minor": 0
}
