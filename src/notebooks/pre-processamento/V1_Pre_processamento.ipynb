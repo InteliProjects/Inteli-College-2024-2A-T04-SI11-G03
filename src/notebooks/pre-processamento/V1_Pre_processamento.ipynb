{
 "cells": [
  {
   "cell_type": "markdown",
   "id": "jaCMsJpAfoj6",
   "metadata": {
    "id": "jaCMsJpAfoj6"
   },
   "source": [
    "# **Atenção**\n",
    "\n",
    "## Para executar esse notebook utilize o T4 GPU\n",
    "\n",
    "Além disso, a saída de algumas células estão comentadas, visto que sua exibição implica na utilização de memória RAM do Colab, gerando erro de processamento. Os códigos estão funcionando, porém precisam de maior capacidade computacional para rodarem sem problemas. Na próxima sprint espera-se conseguir aprimorar as questões de eficiência."
   ]
  },
  {
   "cell_type": "markdown",
   "id": "MQGrhyPWtPF0",
   "metadata": {
    "id": "MQGrhyPWtPF0"
   },
   "source": [
    "# Integrantes"
   ]
  },
  {
   "cell_type": "markdown",
   "id": "8L00g2tktQk8",
   "metadata": {
    "id": "8L00g2tktQk8"
   },
   "source": [
    "- Dayllan Alho\n",
    "- Giovanna Furlan\n",
    "- Luiz Ferreira\n",
    "- Maria Luísa Maia\n",
    "- Thainá Lima\n",
    "- Vinicius Fernandes"
   ]
  },
  {
   "cell_type": "markdown",
   "id": "TkDurLIXtS5J",
   "metadata": {
    "id": "TkDurLIXtS5J"
   },
   "source": [
    "# Introdução"
   ]
  },
  {
   "cell_type": "markdown",
   "id": "7oXXoDjttY7N",
   "metadata": {
    "id": "7oXXoDjttY7N"
   },
   "source": [
    "## **Problema a ser resolvido**\n",
    "\n",
    "O projeto tem como objetivo desenvolver uma aplicação para a Aegea, uma empresa de saneamento, que melhore a detecção de fraudes no consumo de água. Essas fraudes, como a manipulação de hidrômetros e ligações clandestinas, não só prejudicam o faturamento e a qualidade do serviço, mas também podem causar danos à infraestrutura e representar riscos à saúde pública."
   ]
  },
  {
   "cell_type": "markdown",
   "id": "DElq-Uyvtc3m",
   "metadata": {
    "id": "DElq-Uyvtc3m"
   },
   "source": [
    "## **Solução Proposta**\n",
    "\n",
    "Para identificar as fraudes, foi proposto o desenvolvimento de uma aplicação baseada em Machine Learning que melhore a capacidade da Aegea de detectar comportamentos fraudulentos no consumo de água. Essa solução considera a influência de variáveis externas, como fatores econômicos, climáticos e geográficos, para aumentar a assertividade na identificação e melhorar os processos de negócio da empresa."
   ]
  },
  {
   "cell_type": "markdown",
   "id": "JzCU9rkxtkGa",
   "metadata": {
    "id": "JzCU9rkxtkGa"
   },
   "source": [
    "# Setup"
   ]
  },
  {
   "cell_type": "markdown",
   "id": "opCoDGsMtlhw",
   "metadata": {
    "id": "opCoDGsMtlhw"
   },
   "source": [
    "A configuração de setup é o processo de preparar e organizar o ambiente para uso. Envolvendo a instalação de bibliotecas e configuração de outros ajustes necessários. O objetivo é criar um ambiente funcional para executar tarefas específicas."
   ]
  },
  {
   "cell_type": "markdown",
   "id": "cxqx6tNptnNE",
   "metadata": {
    "id": "cxqx6tNptnNE"
   },
   "source": [
    "## Instalação das bibliotecas"
   ]
  },
  {
   "cell_type": "markdown",
   "id": "nSt8s7NHtqF9",
   "metadata": {
    "id": "nSt8s7NHtqF9"
   },
   "source": [
    " Nesta seção, são instaladas e importadas as bibliotecas necessárias para a manipulação, análise e visualização dos dados."
   ]
  },
  {
   "cell_type": "code",
   "execution_count": null,
   "id": "7df9140457caed5e",
   "metadata": {
    "ExecuteTime": {
     "end_time": "2024-08-18T18:13:51.581287Z",
     "start_time": "2024-08-18T18:13:51.118318Z"
    },
    "id": "7df9140457caed5e"
   },
   "outputs": [],
   "source": [
    "import numpy as np\n",
    "import pandas as pd\n",
    "import seaborn as sns\n",
    "from google.colab import drive\n",
    "from scipy import stats\n",
    "import os\n",
    "import gdown\n",
    "import requests\n",
    "from datetime import datetime\n",
    "import plotly.express as px\n",
    "import json\n",
    "from pandas import DataFrame\n",
    "from typing import List\n",
    "from sklearn.preprocessing import OneHotEncoder\n"
   ]
  },
  {
   "cell_type": "markdown",
   "id": "ALkqBufytrm2",
   "metadata": {
    "id": "ALkqBufytrm2"
   },
   "source": [
    "## **Importação da base de dados**\n",
    "\n",
    "Para realizar a análise, padronização e manipulação dos dados é necessário selecionar a base de dados desejada. Neste documento a importação da mesma será feita através do gdown e o arquivo está em formato CSV."
   ]
  },
  {
   "cell_type": "code",
   "execution_count": null,
   "id": "initial_id",
   "metadata": {
    "ExecuteTime": {
     "end_time": "2024-08-18T18:15:49.559851Z",
     "start_time": "2024-08-18T18:13:53.130151Z"
    },
    "collapsed": true,
    "id": "initial_id"
   },
   "outputs": [],
   "source": [
    "arquivo_base = \"dataset_{}.csv\"\n",
    "\n",
    "ids = {\n",
    "    \"CONSUMO_2024\": \"1-2YBshCNQI4pOMV83BGJnTrCFpDTcv_h\",\n",
    "    \"CONSUMO_2023\": \"1WmLtlgEgMvAqJ9kjxP_xT0oecsLaM_vr\",\n",
    "    \"CONSUMO_2022\": \"1-8l0qgFq40NhqZbMM_gBYJO32vSbr0eG\",\n",
    "    \"CONSUMO_2021\": \"12-fFTkYIDOIorDnj3zAWwynNPC6B8mb2\",\n",
    "    \"CONSUMO_2020\": \"1-1pOoa0eJlNJ94BMi7p4PTx5KUS96mhX\",\n",
    "    \"CONSUMO_2019\": \"1MRCFBXGPkdkEe546LbrOw3ypJRKi4ofG\",\n",
    "    \"FRAUDES\": \"1Yils9N2z5V_8SJLrmxtiIbauWFJ3WmWm\",\n",
    "}\n",
    "\n",
    "for key, file_id in ids.items():\n",
    "    url = f\"https://drive.google.com/uc?id={file_id}\"\n",
    "    arquivo_destino = arquivo_base.format(key)\n",
    "\n",
    "    gdown.download(url, arquivo_destino, quiet=False)"
   ]
  },
  {
   "cell_type": "code",
   "execution_count": null,
   "id": "_iBcKoYjjzFx",
   "metadata": {
    "id": "_iBcKoYjjzFx"
   },
   "outputs": [],
   "source": [
    "arquivos_csv = [\n",
    "    \"./dataset_CONSUMO_2024.csv\",\n",
    "    \"./dataset_CONSUMO_2023.csv\",\n",
    "    \"./dataset_CONSUMO_2022.csv\",\n",
    "    \"./dataset_CONSUMO_2021.csv\",\n",
    "    \"./dataset_CONSUMO_2020.csv\",\n",
    "    \"./dataset_CONSUMO_2019.csv\"\n",
    "]\n",
    "\n",
    "CONSUMO_GERAL = pd.concat([pd.read_csv(arquivo, delimiter=\",\") for arquivo in arquivos_csv], axis=0)\n",
    "\n",
    "# Lendo o arquivo de fraudes\n",
    "FRAUDES = pd.read_csv(\"./dataset_FRAUDES.csv\", delimiter=\",\")"
   ]
  },
  {
   "cell_type": "markdown",
   "id": "K6zIu9QJt7uN",
   "metadata": {
    "id": "K6zIu9QJt7uN"
   },
   "source": [
    "## **Visualização dos tipos das colunas**\n",
    "\n",
    "As colunas apresentadas nas tabelas disponibilizadas possuem diferentes tipos de dados, sendo divididos em:\n",
    "\n",
    "1. **float**: Responsável por armazenar números reais com casas decimais, utilizados para representar medidas ou valores contínuos.\n",
    "2. **int**: Responsável por armazenar números inteiros, normalmente utilizados para contagens ou identificadores.\n",
    "3. **object**: Utilizado para armazenar dados genéricos, como strings, representando características categóricas ou textuais.\n",
    "\n",
    "Como as colunas seguem o mesmo padrão, apresenta-se o exemplo de dtypes com o Consumo de 2024."
   ]
  },
  {
   "cell_type": "code",
   "execution_count": null,
   "id": "1du9wyPTuD1T",
   "metadata": {
    "colab": {
     "base_uri": "https://localhost:8080/",
     "height": 335
    },
    "id": "1du9wyPTuD1T",
    "outputId": "d6ae5c93-e93a-4046-b7bf-ca1d63a50d4e"
   },
   "outputs": [],
   "source": [
    "CONSUMO_GERAL.dtypes"
   ]
  },
  {
   "cell_type": "code",
   "execution_count": null,
   "id": "rLEPHWDJ3qPz",
   "metadata": {
    "colab": {
     "base_uri": "https://localhost:8080/",
     "height": 868
    },
    "id": "rLEPHWDJ3qPz",
    "outputId": "e24f9388-231b-411a-deb6-784d3b0c7b87"
   },
   "outputs": [],
   "source": [
    "FRAUDES.dtypes"
   ]
  },
  {
   "cell_type": "markdown",
   "id": "5f83abad439c9c3d",
   "metadata": {
    "id": "5f83abad439c9c3d"
   },
   "source": [
    "# Processamento e Transformação dos dados"
   ]
  },
  {
   "cell_type": "markdown",
   "id": "g9SoZS2-6mIt",
   "metadata": {
    "id": "g9SoZS2-6mIt"
   },
   "source": [
    "## Exclusão de colunas\n",
    "\n",
    "Devido às limitações de capacidade de RAM no Colab, e em conversa com o orientador, foi sugerido subir os dados já com as colunas removidas para tornar o carregamento mais leve. Essa decisão foi tomada considerando que a exclusão dessas colunas já está contemplada na análise dos dados."
   ]
  },
  {
   "cell_type": "code",
   "execution_count": null,
   "id": "EFBljoA7b_Mx",
   "metadata": {
    "id": "EFBljoA7b_Mx"
   },
   "outputs": [],
   "source": [
    "CONSUMO_GERAL = CONSUMO_GERAL.drop(columns=[\"SUB_CATEGORIA\"])"
   ]
  },
  {
   "cell_type": "markdown",
   "id": "JECPPIEHcGJY",
   "metadata": {
    "id": "JECPPIEHcGJY"
   },
   "source": [
    "## Transformação dos dados da coluna MATRICULA do Consumo Geral\n",
    "\n",
    "Isso foi feito no intuito de deixar a coluna Matricula tabela de consumo_geral e para que o dado seja mais leve para a memória ram"
   ]
  },
  {
   "cell_type": "code",
   "execution_count": null,
   "id": "40a50d4c82dbfd08",
   "metadata": {
    "id": "40a50d4c82dbfd08"
   },
   "outputs": [],
   "source": [
    "CONSUMO_GERAL[\"MATRICULA\"] = CONSUMO_GERAL[\"MATRICULA\"].astype(int)\n",
    "\n",
    "# mudando para int para ter uma eficiencia melhor de memoria\n",
    "CONSUMO_GERAL[\"CONS_MEDIDO\"] = CONSUMO_GERAL[\"CONS_MEDIDO\"].astype(int)"
   ]
  },
  {
   "cell_type": "markdown",
   "id": "I9NkSnAg6GLK",
   "metadata": {
    "id": "I9NkSnAg6GLK"
   },
   "source": [
    "## Verificação de valores nulos\n",
    "\n",
    "Processo importante para identificar dados ausentes no dataset. Esses valores podem afetar a precisão dos modelos e a qualidade das análises."
   ]
  },
  {
   "cell_type": "code",
   "execution_count": null,
   "id": "GD9pDrEk2kkU",
   "metadata": {
    "colab": {
     "base_uri": "https://localhost:8080/"
    },
    "id": "GD9pDrEk2kkU",
    "outputId": "c0de0256-53f8-4326-eb9f-99bb0d0de258"
   },
   "outputs": [],
   "source": [
    "def verificar_quant_de_nulos(df, nome):\n",
    "  print(f\"\\nValores nulos em {nome}:\")\n",
    "  print(df.isnull().sum())\n",
    "\n",
    "# Verificar valores nulos - CONSUMO_GERAL\n",
    "verificar_quant_de_nulos(CONSUMO_GERAL, \"CONSUMO_GERAL\")\n",
    "\n",
    "# Verificar valores nulos - FRAUDES\n",
    "verificar_quant_de_nulos(FRAUDES, \"FRAUDES\")"
   ]
  },
  {
   "cell_type": "markdown",
   "id": "4UEp8Xf05-n1",
   "metadata": {
    "id": "4UEp8Xf05-n1"
   },
   "source": [
    "## Tratamento de células vazias\n",
    "\n",
    "Algumas colunas do dataset continham valores nulos, o que poderia comprometer o pré-processamento e a manipulação dos dados. Para solucionar esse problema, foi implementada uma função que preenche esses valores nulos de maneira apropriada, dependendo do tipo de dado em cada coluna."
   ]
  },
  {
   "cell_type": "code",
   "execution_count": null,
   "id": "a23cd866b267b763",
   "metadata": {
    "id": "a23cd866b267b763"
   },
   "outputs": [],
   "source": [
    "class FillNullProcessor:\n",
    "    @staticmethod\n",
    "    def fill_missing_values_consumo_geral(df):\n",
    "        # Coordenadas padrão do centro de Mato Grosso\n",
    "        latitude_centro_MT = -12.6819\n",
    "        longitude_centro_MT = -56.9211\n",
    "\n",
    "        # Substituindo valores nulos em COD_LATITUDE e COD_LONGITUDE com as coordenadas padrão\n",
    "        df[\"COD_LATITUDE\"] = df[\"COD_LATITUDE\"].fillna(latitude_centro_MT)\n",
    "        df[\"COD_LONGITUDE\"] = df[\"COD_LONGITUDE\"].fillna(longitude_centro_MT)\n",
    "\n",
    "        # Convertendo para tipo numérico (float)\n",
    "        df[\"COD_LATITUDE\"] = pd.to_numeric(df[\"COD_LATITUDE\"], errors='coerce')\n",
    "        df[\"COD_LONGITUDE\"] = pd.to_numeric(df[\"COD_LONGITUDE\"], errors='coerce')\n",
    "\n",
    "        return df\n",
    "\n",
    "    @staticmethod\n",
    "    def fill_missing_values_fraudes(df):\n",
    "        # Substituindo valores nulos em colunas numéricas e categóricas com 0\n",
    "        df[\"COD_GRUPO\"] = df[\"COD_GRUPO\"].fillna(0)\n",
    "        df[\"SETOR\"] = df[\"SETOR\"].fillna(0)\n",
    "        df[\"DESCRSETORSOLICITANTE\"] = df[\"DESCRSETORSOLICITANTE\"].fillna(0)\n",
    "        df[\"CD_SUB_REGIAO\"] = df[\"CD_SUB_REGIAO\"].fillna(0.0)\n",
    "        df[\"CD_REGIAO\"] = df[\"CD_REGIAO\"].fillna(0.0)\n",
    "        df[\"PARECER_EXECUCAO\"] = df[\"PARECER_EXECUCAO\"].fillna(0)\n",
    "\n",
    "        # Convertendo a coluna de datas para o formato datetime antes de preencher os nulos\n",
    "        df[\"DT_FECHAMENTO\"] = pd.to_datetime(df[\"DT_FECHAMENTO\"], errors='coerce')\n",
    "\n",
    "        # Preenchendo valores nulos na coluna DT_FECHAMENTO com 0\n",
    "        df[\"DT_FECHAMENTO\"] = df[\"DT_FECHAMENTO\"].fillna(0)\n",
    "\n",
    "        # Convertendo colunas numéricas e categóricas para tipos numéricos apropriados\n",
    "        df[\"COD_GRUPO\"] = pd.to_numeric(df[\"COD_GRUPO\"], errors='coerce')\n",
    "        df[\"SETOR\"] = pd.to_numeric(df[\"SETOR\"], errors='coerce')\n",
    "        df[\"DESCRSETORSOLICITANTE\"] = pd.to_numeric(df[\"DESCRSETORSOLICITANTE\"], errors='coerce')\n",
    "        df[\"CD_SUB_REGIAO\"] = pd.to_numeric(df[\"CD_SUB_REGIAO\"], errors='coerce')\n",
    "        df[\"CD_REGIAO\"] = pd.to_numeric(df[\"CD_REGIAO\"], errors='coerce')\n",
    "        df[\"PARECER_EXECUCAO\"] = pd.to_numeric(df[\"PARECER_EXECUCAO\"], errors='coerce')\n",
    "\n",
    "        return df\n",
    "\n",
    "# Aplicando a função ao DataFrame FRAUDES\n",
    "FRAUDES = FillNullProcessor.fill_missing_values_fraudes(FRAUDES)\n",
    "CONSUMO_GERAL = FillNullProcessor.fill_missing_values_consumo_geral(CONSUMO_GERAL)"
   ]
  },
  {
   "cell_type": "code",
   "execution_count": null,
   "id": "THHMNDa5luyj",
   "metadata": {
    "colab": {
     "base_uri": "https://localhost:8080/"
    },
    "id": "THHMNDa5luyj",
    "outputId": "cec7f90b-dc1b-4c91-fd1d-a74508fe384e"
   },
   "outputs": [],
   "source": [
    "# Verificando se ainda existem valores nulos nos DataFrames\n",
    "print(\"Verificação de valores nulos em CONSUMO_GERAL:\")\n",
    "print(CONSUMO_GERAL.isnull().sum())\n",
    "\n",
    "print(\"\\nVerificação de valores nulos em FRAUDES:\")\n",
    "print(FRAUDES.isnull().sum())"
   ]
  },
  {
   "cell_type": "markdown",
   "id": "91JN6KS6_6sn",
   "metadata": {
    "id": "91JN6KS6_6sn"
   },
   "source": [
    "## Engenharia de recursos\n",
    "\n",
    "A engenharia de recursos envolve a criação e transformação de  features para melhorar a performance e a interpretabilidade do modelo. O objetivo é extrair informações mais relevantes e úteis dos dados brutos, adaptando-os para o modelo, como os realizados abaixo."
   ]
  },
  {
   "cell_type": "code",
   "execution_count": null,
   "id": "Ub7EhLEVAbZY",
   "metadata": {
    "id": "Ub7EhLEVAbZY"
   },
   "outputs": [],
   "source": [
    "# Multiplicar e converter a coluna CONS_MEDIDO em uma nova coluna\n",
    "\n",
    "# Verificar esse código a baixo:\n",
    "CONSUMO_GERAL['CONS_MEDIDO_EST_ANUAL'] = (CONSUMO_GERAL['CONS_MEDIDO'] * 12).astype('float32')\n",
    "\n",
    "# Converter a coluna REFERENCIA para datetime\n",
    "CONSUMO_GERAL['REFERENCIA'] = pd.to_datetime(CONSUMO_GERAL['REFERENCIA'], format='%Y-%m-%d')"
   ]
  },
  {
   "cell_type": "markdown",
   "id": "6aa4ab76",
   "metadata": {
    "id": "6aa4ab76"
   },
   "source": [
    "### Detecção de Anomalias no Padrão de Consumo Geográfico"
   ]
  },
  {
   "cell_type": "markdown",
   "id": "f66256a1",
   "metadata": {
    "id": "f66256a1"
   },
   "source": [
    "Pensamos em calcular estatísticas agregadas para o consumo em cada região (com base em latitude e longitude), e então identificar anomalias no consumo. Por exemplo, se o consumo de água em uma área específica está muito acima ou abaixo da média da área.\n",
    "\n",
    "**Observação:** Como neste momento de pré-processamento o código abaixo não está sendo utilizado, ele ficou comentado para evitar utilizar espaço na RAM e implicar em erro de processamento."
   ]
  },
  {
   "cell_type": "code",
   "execution_count": null,
   "id": "4562312f",
   "metadata": {
    "id": "4562312f"
   },
   "outputs": [],
   "source": [
    "# # Criando uma chave geográfica\n",
    "# CONSUMO_GERAL['geo_key'] = CONSUMO_GERAL['COD_LATITUDE'].round(3).astype(str) + \"_\" + CONSUMO_GERAL['COD_LONGITUDE'].round(3).astype(str)\n",
    "\n",
    "# # Calculando o consumo médio por região (agrupado pela chave geográfica)\n",
    "# consumo_medio_geo = CONSUMO_GERAL.groupby('geo_key')['CONS_MEDIDO'].mean()\n",
    "\n",
    "# # Comparando o consumo de cada ponto com a média da região\n",
    "# CONSUMO_GERAL['diferenca_media_geo'] = CONSUMO_GERAL['CONS_MEDIDO'] - CONSUMO_GERAL['geo_key'].map(consumo_medio_geo)\n",
    "\n",
    "# # Identificando possíveis fraudes se a diferença for muito grande (fora de 3 desvios padrões, por exemplo)\n",
    "# desvio_padrao_geo = CONSUMO_GERAL.groupby('geo_key')['CONS_MEDIDO'].std()\n",
    "\n",
    "# # Nesta parte há a possibilidade de adicionar uma variável a mais\n",
    "# #CONSUMO_GERAL['is_anomaly'] = (CONSUMO_GERAL['diferenca_media_geo'].abs() > 3 * CONSUMO_GERAL['geo_key'].map(desvio_padrao_geo))"
   ]
  },
  {
   "cell_type": "markdown",
   "id": "2JdCM3P6AvDQ",
   "metadata": {
    "id": "2JdCM3P6AvDQ"
   },
   "source": [
    "## Divisão das Categorias\n",
    "\n",
    "Foi realizada a divisão das categorias para a análise dos dados, estruturando-os nos grupos principais:\n",
    "\n",
    "1. **Categorias de Consumo**:\n",
    "   - **Residencial**: Relacionada ao consumo em residências.\n",
    "   - **Comercial**: Refere-se ao consumo em estabelecimentos comerciais.\n",
    "   - **Pública**: Abrange o consumo em prédios e serviços públicos.\n",
    "   - **Industrial**: Inclui o consumo em instalações industriais.\n",
    "\n",
    "2. **Categorias de Ligação:**\n",
    "\n",
    "- **Hidômetro:** Refere-se ao consumo medido por hidrômetro, que é o dispositivo utilizado para medir a quantidade de água consumida.\n",
    "- **Consumo Fixo:** Relacionado a uma estimativa ou tarifa fixa de consumo que não varia com o uso.\n",
    "\n",
    "Essa divisão visa proporcionar uma análise mais segmentada, permitindo análise dos padrões de consumo e possíveis irregularidades."
   ]
  },
  {
   "cell_type": "code",
   "execution_count": null,
   "id": "73dN_SleAUpX",
   "metadata": {
    "colab": {
     "base_uri": "https://localhost:8080/"
    },
    "id": "73dN_SleAUpX",
    "outputId": "c6660998-88dd-4b76-cf48-fa1f6c3c90c0"
   },
   "outputs": [],
   "source": [
    "class DataSeparatorHandler:\n",
    "    @staticmethod\n",
    "    def get_consumo_residencial(df):\n",
    "        # Divisão dos dados em categorias usando groupby\n",
    "        consumos = df.groupby('CATEGORIA')\n",
    "\n",
    "        # Acesso cada categoria conforme necessário\n",
    "        consumo_residencial = consumos.get_group('RESIDENCIAL')\n",
    "        consumo_comercial = consumos.get_group('COMERCIAL')\n",
    "        consumo_publica = consumos.get_group('PUBLICA')\n",
    "        consumo_industrial = consumos.get_group('INDUSTRIAL')\n",
    "\n",
    "        return consumo_residencial, consumo_comercial, consumo_publica, consumo_industrial\n",
    "\n",
    "# Aplicando a função e verificando as saídas\n",
    "consumo_residencial, consumo_comercial, consumo_publica, consumo_industrial = DataSeparatorHandler.get_consumo_residencial(CONSUMO_GERAL)\n",
    "\n",
    "# Exibindo as primeiras linhas de cada DataFrame\n",
    "print(\"Consumo Residencial:\")\n",
    "print(consumo_residencial.head())"
   ]
  },
  {
   "cell_type": "code",
   "execution_count": null,
   "id": "ZeDLgVzQuxkH",
   "metadata": {
    "colab": {
     "base_uri": "https://localhost:8080/"
    },
    "id": "ZeDLgVzQuxkH",
    "outputId": "d8df89f7-c6ad-435f-c9e9-eedd9e3e1e96"
   },
   "outputs": [],
   "source": [
    "print(\"Consumo Comercial:\")\n",
    "print(consumo_comercial.head())"
   ]
  },
  {
   "cell_type": "code",
   "execution_count": null,
   "id": "keJdjADeuzt_",
   "metadata": {
    "colab": {
     "base_uri": "https://localhost:8080/"
    },
    "id": "keJdjADeuzt_",
    "outputId": "d9f73a6b-2edd-40b8-a631-f84262cc5477"
   },
   "outputs": [],
   "source": [
    "print(\"Consumo Pública:\")\n",
    "print(consumo_publica.head())"
   ]
  },
  {
   "cell_type": "code",
   "execution_count": null,
   "id": "O7ya2IJDu1-V",
   "metadata": {
    "colab": {
     "base_uri": "https://localhost:8080/"
    },
    "id": "O7ya2IJDu1-V",
    "outputId": "8a27b259-03c7-418c-86ac-909e395969e6"
   },
   "outputs": [],
   "source": [
    "print(\"Consumo Industrial:\")\n",
    "print(consumo_industrial.head())"
   ]
  },
  {
   "cell_type": "code",
   "execution_count": null,
   "id": "awYUE49DmZMm",
   "metadata": {
    "id": "awYUE49DmZMm"
   },
   "outputs": [],
   "source": [
    "# Divisão dos dados em categorias usando groupby\n",
    "tipos_ligacao = CONSUMO_GERAL.groupby('TIPO_LIGACAO')\n",
    "\n",
    "# Acesso cada categoria conforme necessário\n",
    "consumo_hidrometrado = tipos_ligacao.get_group('Hidrometrado')\n",
    "consumo_fixo = tipos_ligacao.get_group('Consumo Fixo')"
   ]
  },
  {
   "cell_type": "code",
   "execution_count": null,
   "id": "xPcpXW-e9hEi",
   "metadata": {
    "id": "xPcpXW-e9hEi"
   },
   "outputs": [],
   "source": [
    "# Salvando os DataFrames em arquivos CSV\n",
    "CONSUMO_GERAL.to_csv(\"/content/drive/Shareddrives/LeakSeeker/DADOS_MODELO/consumo_geral.csv\", index=False)\n",
    "FRAUDES.to_csv(\"/content/drive/Shareddrives/LeakSeeker/DADOS_MODELO/fraudes.csv\", index=False)\n"
   ]
  }
 ],
 "metadata": {
  "accelerator": "GPU",
  "colab": {
   "gpuType": "T4",
   "provenance": [],
   "toc_visible": true
  },
  "kernelspec": {
   "display_name": "Python 3",
   "name": "python3"
  },
  "language_info": {
   "codemirror_mode": {
    "name": "ipython",
    "version": 3
   },
   "file_extension": ".py",
   "mimetype": "text/x-python",
   "name": "python",
   "nbconvert_exporter": "python",
   "pygments_lexer": "ipython3",
   "version": "3.12.2"
  }
 },
 "nbformat": 4,
 "nbformat_minor": 5
}
