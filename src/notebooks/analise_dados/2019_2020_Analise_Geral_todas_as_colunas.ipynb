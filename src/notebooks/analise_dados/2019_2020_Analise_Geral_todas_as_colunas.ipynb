{
 "cells": [
  {
   "cell_type": "markdown",
   "metadata": {
    "id": "bxx5WXLP9M5A"
   },
   "source": [
    "# Instalação das bibliotecas utilizadas\n",
    "\n",
    "Antes de iniciarmos a análise dos dados de Consumo no Google Colab, é essencial garantir que todas as bibliotecas necessárias estejam devidamente instaladas e atualizadas. No ambiente do Colab, embora muitas bibliotecas já venham pré-instaladas, pode ser necessário instalar ou atualizar pacotes adicionais para garantir que o código funcione corretamente, como por exemplo o MeteoStat, biblioteca utilizada para coletar os dados climáticos."
   ]
  },
  {
   "cell_type": "code",
   "execution_count": null,
   "metadata": {
    "colab": {
     "base_uri": "https://localhost:8080/"
    },
    "id": "3U4vq4yg4R1l",
    "outputId": "48f0fd03-12bb-44a4-a8a6-da7387434be1"
   },
   "outputs": [],
   "source": [
    "!pip install meteostat"
   ]
  },
  {
   "cell_type": "code",
   "execution_count": null,
   "metadata": {
    "id": "bqxHzAFV4R1m"
   },
   "outputs": [],
   "source": [
    "# Importação das bibliotecas\n",
    "\n",
    "import numpy as np\n",
    "import pandas as pd\n",
    "import gdown\n",
    "import plotly.graph_objects as go\n",
    "from meteostat import Point, Daily\n",
    "from datetime import datetime"
   ]
  },
  {
   "cell_type": "code",
   "execution_count": null,
   "metadata": {
    "colab": {
     "base_uri": "https://localhost:8080/"
    },
    "id": "NAdMmdul4R1n",
    "outputId": "7dbef0c6-b743-4457-eefc-2c514e236804"
   },
   "outputs": [],
   "source": [
    "arquivo_destino_base = \"dataset_{}.csv\"\n",
    "\n",
    "ids = {\n",
    "    \"consumo_2019\": \"1-2PsTLzG4dcY4wM0p7vFfabUuLv950gC\",\n",
    "    \"consumo_2020\": \"1-GqmDmxn-DpXJnoU05mcZ3U7Dvx8M_ZG\",\n",
    "}\n",
    "\n",
    "dataframes = {}\n",
    "\n",
    "for key, file_id in ids.items():\n",
    "    url = f\"https://drive.google.com/uc?id={file_id}\"\n",
    "    arquivo_destino = arquivo_destino_base.format(key)\n",
    "\n",
    "    gdown.download(url, arquivo_destino, quiet=False)\n",
    "    df = pd.read_csv(arquivo_destino, sep=\";\")\n",
    "    dataframes[key] = df\n"
   ]
  },
  {
   "cell_type": "code",
   "execution_count": null,
   "metadata": {
    "colab": {
     "base_uri": "https://localhost:8080/"
    },
    "id": "SyshTVn34R1n",
    "outputId": "1e03301d-17ac-4e2d-c004-e932b521d73f"
   },
   "outputs": [],
   "source": [
    "df_19 = pd.read_csv(\"/content/dataset_consumo_2019.csv\", delimiter=\";\")\n",
    "df_20 = pd.read_csv(\"/content/dataset_consumo_2020.csv\", delimiter=\";\")"
   ]
  },
  {
   "cell_type": "markdown",
   "metadata": {
    "id": "487Iq8QSCSbf"
   },
   "source": [
    "# Estruturação dos datasets - 2019\n",
    "\n",
    "Nesta seção, iremos organizar os arquivos, dataset do Consumo 2019 na integra, com todas as colunas disponibilizadas pelo parceiro, e os dados climáticos, que serão utilizados.\n",
    "\n",
    "**Desta forma, se precisarmos de mais colunas e features, será de fácil recuperação**"
   ]
  },
  {
   "cell_type": "markdown",
   "metadata": {
    "id": "XOkKpj-Izltb"
   },
   "source": [
    "Para o código a seguir é importante ressaltar que a Latitude e a Longitude foram retiradas de: [Campo Grande MS](https://pt.db-city.com/Brasil--Mato-Grosso-do-Sul--Campo-Grande)"
   ]
  },
  {
   "cell_type": "code",
   "execution_count": null,
   "metadata": {
    "colab": {
     "base_uri": "https://localhost:8080/",
     "height": 738
    },
    "id": "DvasTHQIzns2",
    "outputId": "1f0b400f-1c4f-4c37-97cf-658bd96831ca"
   },
   "outputs": [],
   "source": [
    "# Define a localização geográfica\n",
    "location = Point(-20.4435, -54.6478)\n",
    "\n",
    "# Define o intervalo de datas\n",
    "start = datetime(2019, 1, 1)\n",
    "end = datetime(2019, 12, 31)\n",
    "\n",
    "# Busca os dados diários de clima para a localização e período definidos\n",
    "data = Daily(location, start, end)\n",
    "data = data.fetch()\n",
    "\n",
    "# Calcula a média mensal dos dados climáticos\n",
    "df_monthly_weather_19 = data.resample('M').mean()\n",
    "\n",
    "# Renomeia as colunas do DataFrame para termos mais descritivos em português\n",
    "df_weather_19 = df_monthly_weather_19.rename(columns={\n",
    "    'tavg': 'Temperatura Média',\n",
    "    'tmin': 'Temperatura Mínima',\n",
    "    'tmax': 'Temperatura Máxima',\n",
    "    'prcp': 'Precipitação',\n",
    "    'snow': 'Neve',\n",
    "    'wdir': 'Direção do Vento',\n",
    "    'wspd': 'Velocidade do Vento',\n",
    "    'wpgt': 'Rajada Máxima de Vento',\n",
    "    'pres': 'Pressão Atmosférica',\n",
    "    'tsun': 'Insolação'\n",
    "})\n",
    "\n",
    "# Exibe o DataFrame renomeado\n",
    "df_weather_19"
   ]
  },
  {
   "cell_type": "markdown",
   "metadata": {
    "id": "0YwWmbQ_z5By"
   },
   "source": [
    "A seguir iremos remover as colunas que julgamos não serem importantes para entender a mudança do consumo da água."
   ]
  },
  {
   "cell_type": "markdown",
   "metadata": {
    "id": "eEWdh3mSz_zD"
   },
   "source": [
    "Aqui fizemos uma descrição estatística básica nas colunas e seus valores"
   ]
  },
  {
   "cell_type": "code",
   "execution_count": null,
   "metadata": {
    "colab": {
     "base_uri": "https://localhost:8080/"
    },
    "id": "r2sPFXhUnYlp",
    "outputId": "58b61326-cabd-4c13-eaca-665b07c569de"
   },
   "outputs": [],
   "source": [
    "print(\"\\nDescrição estatística básica:\")\n",
    "print(df_19.describe())"
   ]
  },
  {
   "cell_type": "code",
   "execution_count": null,
   "metadata": {
    "colab": {
     "base_uri": "https://localhost:8080/",
     "height": 457
    },
    "id": "L9ENRBOLz74V",
    "outputId": "e1084be5-2f77-4e83-b8d5-bf3057903f87"
   },
   "outputs": [],
   "source": [
    "# Remove as colunas desnecessárias do DataFrame\n",
    "df_weather_19 = df_weather_19.drop(columns=['Neve', 'Precipitação', 'Direção do Vento', 'Velocidade do Vento', 'Rajada Máxima de Vento', 'Pressão Atmosférica', 'Insolação'])\n",
    "df_weather_19"
   ]
  },
  {
   "cell_type": "code",
   "execution_count": null,
   "metadata": {
    "id": "uUpX5EGw1JIL"
   },
   "outputs": [],
   "source": [
    "# Converte a coluna 'REFERENCIA' para o tipo datetime, garantindo que as datas sejam reconhecidas corretamente\n",
    "df_19['REFERENCIA'] = pd.to_datetime(df_19['REFERENCIA'])\n",
    "\n",
    "# Cria uma nova coluna 'MES' extraindo o número do mês da coluna 'REFERENCIA'\n",
    "df_19['MES'] = df_19['REFERENCIA'].dt.month\n",
    "\n",
    "# Extrai o número do mês do índice (assumindo que o índice do DataFrame é uma coluna datetime) e cria uma nova coluna 'MES'\n",
    "df_weather_19['MES'] = df_weather_19.index.month\n",
    "\n",
    "# Agrupa os dados por mês e calcula a média do consumo medido ('CONS_MEDIDO') para cada mês\n",
    "consumo_medio_19 = df_19.groupby('MES')['CONS_MEDIDO'].mean().reset_index()\n",
    "\n",
    "# Combina os dados de consumo médio com os dados meteorológicos com base na coluna 'MES'\n",
    "df_combined_19 = pd.merge(consumo_medio_19, df_weather_19, on='MES')"
   ]
  },
  {
   "cell_type": "markdown",
   "metadata": {
    "id": "mTLjdOot1OQO"
   },
   "source": [
    "## Big Numbers\n",
    "\n",
    "Nesta seção, apresentamos os alguns indicadores e métricas do nosso dataset, destacando valores significativos que fornecem uma visão rápida e intuitiva sobre o comportamento dos dados"
   ]
  },
  {
   "cell_type": "code",
   "execution_count": null,
   "metadata": {
    "colab": {
     "base_uri": "https://localhost:8080/"
    },
    "id": "ZQErwcjj1QuW",
    "outputId": "63ea052c-9aa8-4d0b-ca71-a4d9780071f4"
   },
   "outputs": [],
   "source": [
    "# Obtém o número de linhas e colunas do DataFrame 'df_19'\n",
    "linhas, colunas = df_19.shape\n",
    "\n",
    "print(f\"O DataFrame de 2019 tem {linhas} linhas e {colunas} colunas.\")"
   ]
  },
  {
   "cell_type": "code",
   "execution_count": null,
   "metadata": {
    "colab": {
     "base_uri": "https://localhost:8080/"
    },
    "id": "xOLRI8w01VNp",
    "outputId": "0373e68e-0303-4cfe-f2f5-427bc89062a9"
   },
   "outputs": [],
   "source": [
    "# Extrai os valores únicos da coluna 'MATRICULA' no DataFrame 'df_19'\n",
    "matriculas_unicas = df_19['MATRICULA'].unique()\n",
    "\n",
    "# Calcula o número total de valores únicos na coluna 'MATRICULA'\n",
    "tamanho = len(matriculas_unicas)\n",
    "\n",
    "print(f\"O DataFrame de 2019 tem {tamanho} matrículas únicas\")"
   ]
  },
  {
   "cell_type": "code",
   "execution_count": null,
   "metadata": {
    "colab": {
     "base_uri": "https://localhost:8080/"
    },
    "id": "XoPe0OBE1bKH",
    "outputId": "b9b633ae-4677-4711-ba55-9bf5b056a4bb"
   },
   "outputs": [],
   "source": [
    "# Calcula a soma total dos valores na coluna 'CONS_MEDIDO' no DataFrame 'df_19'\n",
    "soma_consumo = df_19['CONS_MEDIDO'].sum()\n",
    "\n",
    "print(f\"Em 2019 foi consumido {soma_consumo} m^3\")"
   ]
  },
  {
   "cell_type": "markdown",
   "metadata": {
    "id": "12PeXii81riw"
   },
   "source": [
    "## Gráficos\n",
    "\n",
    "Nesta seção, apresentamos uma série de visualizações que ilustram as principais tendências e padrões encontrados nos dados. Os gráficos fornecem uma maneira intuitiva de entender a distribuição, variação e correlação entre as diferentes variáveis analisadas.\n"
   ]
  },
  {
   "cell_type": "markdown",
   "metadata": {
    "id": "o_9ufjjV1usc"
   },
   "source": [
    "### Consumo Médio Mensal e Temperatura Média\n",
    "\n",
    "Este gráfico ilustra a relação entre o consumo médio de água e a temperatura média ao longo dos meses. A linha verde tracejada representa o consumo médio mensal, enquanto a linha vermelha sólida mostra a variação da temperatura média mensal.\n"
   ]
  },
  {
   "cell_type": "code",
   "execution_count": null,
   "metadata": {
    "colab": {
     "base_uri": "https://localhost:8080/",
     "height": 517
    },
    "id": "gi15qZqU1xNy",
    "outputId": "cdb33659-99aa-4a04-853a-df2452612654"
   },
   "outputs": [],
   "source": [
    "# Cria uma figura para o gráfico\n",
    "fig = go.Figure()\n",
    "\n",
    "# Adiciona o consumo médio mensal ao gráfico\n",
    "fig.add_trace(go.Scatter(\n",
    "    x=df_combined_19['MES'],\n",
    "    y=df_combined_19['CONS_MEDIDO'],\n",
    "    mode='lines+markers',\n",
    "    name='Consumo Médio',\n",
    "    line=dict(color='green', dash='dash')\n",
    "))\n",
    "\n",
    "# Adiciona a temperatura média mensal ao gráfico\n",
    "fig.add_trace(go.Scatter(\n",
    "    x=df_combined_19['MES'],\n",
    "    y=df_combined_19['Temperatura Média'],\n",
    "    mode='lines+markers',\n",
    "    name='Temp. Média',\n",
    "    line=dict(color='red'),\n",
    "    yaxis='y2'\n",
    "))\n",
    "\n",
    "# Configura o layout do gráfico\n",
    "fig.update_layout(\n",
    "    title='Consumo Médio Mensal e Temperatura Média - 2019',\n",
    "    xaxis=dict(title='Mês', tickmode='array', tickvals=list(range(1, 13))),\n",
    "    yaxis=dict(title='Consumo Médio'),\n",
    "    yaxis2=dict(\n",
    "        title='Temperatura (°C)',\n",
    "        overlaying='y',\n",
    "        side='right'\n",
    "    ),\n",
    "    legend=dict(\n",
    "        x=0.5,\n",
    "        y=-0.2,\n",
    "        orientation=\"h\",\n",
    "        xanchor=\"center\"\n",
    "    ),\n",
    "    width=800,\n",
    "    height=500\n",
    ")\n",
    "\n",
    "# Exibe o gráfico\n",
    "fig.show()"
   ]
  },
  {
   "cell_type": "code",
   "execution_count": null,
   "metadata": {
    "colab": {
     "base_uri": "https://localhost:8080/"
    },
    "id": "KOHOXm1O130R",
    "outputId": "9d42270e-da7a-4c1a-a219-c238e0577982"
   },
   "outputs": [],
   "source": [
    "# Calcula a correlação de Pearson entre o consumo médio e a temperatura média\n",
    "correlation_19 = df_combined_19['CONS_MEDIDO'].corr(df_combined_19['Temperatura Média'])\n",
    "\n",
    "print(f\"Correlação de Pearson entre Consumo Médio e Temperatura Média: {correlation_19:.2f}\")"
   ]
  },
  {
   "cell_type": "code",
   "execution_count": null,
   "metadata": {
    "colab": {
     "base_uri": "https://localhost:8080/"
    },
    "id": "0kr_vA8R164i",
    "outputId": "ee4efb8c-2ce9-4bea-c1bf-437b133283dc"
   },
   "outputs": [],
   "source": [
    "# Obtém os valores únicos da coluna 'CATEGORIA' no DataFrame 'df_19'\n",
    "categorias_unicas = df_19['CATEGORIA'].unique()\n",
    "\n",
    "categorias_unicas"
   ]
  },
  {
   "cell_type": "markdown",
   "metadata": {
    "id": "BEMlVE6j1_Bk"
   },
   "source": [
    "Este gráfico apresenta a análise do consumo médio de água na categoria **Pública** em relação à temperatura média ao longo dos meses."
   ]
  },
  {
   "cell_type": "code",
   "execution_count": null,
   "metadata": {
    "colab": {
     "base_uri": "https://localhost:8080/",
     "height": 517
    },
    "id": "ZlHdIKad2Bal",
    "outputId": "384db130-5986-4d3b-f977-644af1180f29"
   },
   "outputs": [],
   "source": [
    "# Filtra os dados para a categoria 'PUBLICA'\n",
    "consumo_publica_19 = df_19[df_19['CATEGORIA'] == 'PUBLICA']\n",
    "\n",
    "# Calcula o consumo médio mensal para a categoria 'PUBLICA'\n",
    "consumo_medio_publica_19 = consumo_publica_19.groupby('MES').agg({'CONS_MEDIDO': 'mean'}).reset_index()\n",
    "\n",
    "# Combina o consumo médio mensal com os dados de temperatura média com base no mês\n",
    "df_combined_publica_19 = pd.merge(consumo_medio_publica_19, df_weather_19, on='MES')\n",
    "\n",
    "# Cria uma figura para o gráfico\n",
    "fig = go.Figure()\n",
    "\n",
    "# Adiciona a linha do consumo médio para a categoria 'PUBLICA'\n",
    "fig.add_trace(go.Scatter(\n",
    "    x=df_combined_publica_19['MES'],\n",
    "    y=df_combined_publica_19['CONS_MEDIDO'],\n",
    "    mode='lines+markers',\n",
    "    name='Consumo Médio (Categoria: Pública)',\n",
    "    line=dict(color='green', dash='dash')\n",
    "))\n",
    "\n",
    "# Adiciona a linha da temperatura média\n",
    "fig.add_trace(go.Scatter(\n",
    "    x=df_combined_publica_19['MES'],\n",
    "    y=df_combined_publica_19['Temperatura Média'],\n",
    "    mode='lines+markers',\n",
    "    name='Temp. Média',\n",
    "    line=dict(color='red'),\n",
    "    yaxis='y2'\n",
    "))\n",
    "\n",
    "# Configura o layout do gráfico\n",
    "fig.update_layout(\n",
    "    title='Consumo Médio Mensal e Temperatura Média para Categoria Pública - 2019',\n",
    "    xaxis=dict(title='Mês', tickmode='array', tickvals=list(range(1, 13))),\n",
    "    yaxis=dict(title='Consumo Médio'),\n",
    "    yaxis2=dict(\n",
    "        title='Temperatura (°C)',\n",
    "        overlaying='y',\n",
    "        side='right'\n",
    "    ),\n",
    "    legend=dict(\n",
    "        x=0.5,\n",
    "        y=-0.2,\n",
    "        orientation=\"h\",\n",
    "        xanchor=\"center\"\n",
    "    ),\n",
    "    width=800,\n",
    "    height=500\n",
    ")\n",
    "\n",
    "# Exibe o gráfico\n",
    "fig.show()"
   ]
  },
  {
   "cell_type": "code",
   "execution_count": null,
   "metadata": {
    "colab": {
     "base_uri": "https://localhost:8080/"
    },
    "id": "LaMt8RQQ2G_I",
    "outputId": "90890123-a499-4e75-8367-42211ba6aadb"
   },
   "outputs": [],
   "source": [
    "# Calcula a correlação de Pearson entre o consumo médio e a temperatura média para a categoria 'Pública'\n",
    "correlacao_pearson = df_combined_publica_19['CONS_MEDIDO'].corr(df_combined_publica_19['Temperatura Média'])\n",
    "\n",
    "print(f\"Correlação de Pearson entre Consumo Médio e Temperatura Média para a Categoria Pública: {correlacao_pearson:.2f}\")"
   ]
  },
  {
   "cell_type": "markdown",
   "metadata": {
    "id": "c0l2vPBD2K4J"
   },
   "source": [
    "Este gráfico apresenta a análise do consumo médio de água na categoria **Comercial** em relação à temperatura média ao longo dos meses."
   ]
  },
  {
   "cell_type": "code",
   "execution_count": null,
   "metadata": {
    "colab": {
     "base_uri": "https://localhost:8080/",
     "height": 517
    },
    "id": "x0HYEssF2OQn",
    "outputId": "5309bbc6-a654-484a-ee67-5964063fb3bb"
   },
   "outputs": [],
   "source": [
    "# Filtra os dados para a categoria 'COMERCIAL'\n",
    "consumo_comercial_19 = df_19[df_19['CATEGORIA'] == 'COMERCIAL']\n",
    "\n",
    "# Calcula o consumo médio mensal para a categoria 'COMERCIAL'\n",
    "consumo_medio_comercial_19 = consumo_comercial_19.groupby('MES').agg({'CONS_MEDIDO': 'mean'}).reset_index()\n",
    "\n",
    "# Combina o consumo médio mensal com os dados de temperatura média com base no mês\n",
    "df_combined_comercial_19 = pd.merge(consumo_medio_comercial_19, df_weather_19, on='MES')\n",
    "\n",
    "# Cria uma figura para o gráfico\n",
    "fig = go.Figure()\n",
    "\n",
    "# Adiciona a linha do consumo médio para a categoria 'COMERCIAL'\n",
    "fig.add_trace(go.Scatter(\n",
    "    x=df_combined_comercial_19['MES'],\n",
    "    y=df_combined_comercial_19['CONS_MEDIDO'],\n",
    "    mode='lines+markers',\n",
    "    name='Consumo Médio (Categoria: Comercial)',\n",
    "    line=dict(color='green', dash='dash')\n",
    "))\n",
    "\n",
    "# Adiciona a linha da temperatura média\n",
    "fig.add_trace(go.Scatter(\n",
    "    x=df_combined_comercial_19['MES'],\n",
    "    y=df_combined_comercial_19['Temperatura Média'],\n",
    "    mode='lines+markers',\n",
    "    name='Temp. Média',\n",
    "    line=dict(color='red'),\n",
    "    yaxis='y2'\n",
    "))\n",
    "\n",
    "# Configura o layout do gráfico\n",
    "fig.update_layout(\n",
    "    title='Consumo Médio Mensal e Temperatura Média para Categoria Comercial - 2019',\n",
    "    xaxis=dict(title='Mês', tickmode='array', tickvals=list(range(1, 13))),\n",
    "    yaxis=dict(title='Consumo Médio'),\n",
    "    yaxis2=dict(\n",
    "        title='Temperatura (°C)',\n",
    "        overlaying='y',\n",
    "        side='right'\n",
    "    ),\n",
    "    legend=dict(\n",
    "        x=0.5,\n",
    "        y=-0.2,\n",
    "        orientation=\"h\",\n",
    "        xanchor=\"center\"\n",
    "    ),\n",
    "    width=800,\n",
    "    height=500\n",
    ")\n",
    "\n",
    "# Exibe o gráfico\n",
    "fig.show()"
   ]
  },
  {
   "cell_type": "code",
   "execution_count": null,
   "metadata": {
    "colab": {
     "base_uri": "https://localhost:8080/"
    },
    "id": "odN2Rupq2S1R",
    "outputId": "dc16d0f6-ae46-4111-82d6-b925e747ed95"
   },
   "outputs": [],
   "source": [
    "# Calcula a correlação de Pearson entre o consumo médio e a temperatura média para a categoria 'Comercial'\n",
    "correlacao_pearson = df_combined_comercial_19['CONS_MEDIDO'].corr(df_combined_comercial_19['Temperatura Média'])\n",
    "\n",
    "print(f\"Correlação de Pearson entre Consumo Médio e Temperatura Média para a Categoria Comercial: {correlacao_pearson:.4f}\")"
   ]
  },
  {
   "cell_type": "markdown",
   "metadata": {
    "id": "QzD2naQq2WBp"
   },
   "source": [
    "Este gráfico apresenta a análise do consumo médio de água na categoria **Residencial** em relação à temperatura média ao longo dos meses."
   ]
  },
  {
   "cell_type": "code",
   "execution_count": null,
   "metadata": {
    "colab": {
     "base_uri": "https://localhost:8080/",
     "height": 517
    },
    "id": "UfVi5LeX2Yn9",
    "outputId": "cfcb4fa5-2835-4c09-ad43-6e9081fe5d49"
   },
   "outputs": [],
   "source": [
    "# Filtra os dados para a categoria 'RESIDENCIAL'\n",
    "consumo_residencial_19 = df_19[df_19['CATEGORIA'] == 'RESIDENCIAL']\n",
    "\n",
    "# Calcula o consumo médio mensal para a categoria 'RESIDENCIAL'\n",
    "consumo_medio_residencial_19 = consumo_residencial_19.groupby('MES').agg({'CONS_MEDIDO': 'mean'}).reset_index()\n",
    "\n",
    "# Combina o consumo médio mensal com os dados de temperatura média com base no mês\n",
    "df_combined_residencial_19 = pd.merge(consumo_medio_residencial_19, df_weather_19, on='MES')\n",
    "\n",
    "# Cria uma figura para o gráfico\n",
    "fig = go.Figure()\n",
    "\n",
    "# Adiciona a linha do consumo médio para a categoria 'RESIDENCIAL'\n",
    "fig.add_trace(go.Scatter(\n",
    "    x=df_combined_residencial_19['MES'],\n",
    "    y=df_combined_residencial_19['CONS_MEDIDO'],\n",
    "    mode='lines+markers',\n",
    "    name='Consumo Médio (Categoria: Residencial)',\n",
    "    line=dict(color='green', dash='dash')\n",
    "))\n",
    "\n",
    "# Adiciona a linha da temperatura média\n",
    "fig.add_trace(go.Scatter(\n",
    "    x=df_combined_residencial_19['MES'],\n",
    "    y=df_combined_residencial_19['Temperatura Média'],\n",
    "    mode='lines+markers',\n",
    "    name='Temp. Média',\n",
    "    line=dict(color='red'),\n",
    "    yaxis='y2'\n",
    "))\n",
    "\n",
    "# Configura o layout do gráfico\n",
    "fig.update_layout(\n",
    "    title='Consumo Médio Mensal e Temperatura Média para Categoria Residencial - 2019',\n",
    "    xaxis=dict(title='Mês', tickmode='array', tickvals=list(range(1, 13))),\n",
    "    yaxis=dict(title='Consumo Médio'),\n",
    "    yaxis2=dict(\n",
    "        title='Temperatura (°C)',\n",
    "        overlaying='y',\n",
    "        side='right'\n",
    "    ),\n",
    "    legend=dict(\n",
    "        x=0.5,\n",
    "        y=-0.2,\n",
    "        orientation=\"h\",\n",
    "        xanchor=\"center\"\n",
    "    ),\n",
    "    width=800,\n",
    "    height=500\n",
    ")\n",
    "\n",
    "# Exibe o gráfico\n",
    "fig.show()"
   ]
  },
  {
   "cell_type": "code",
   "execution_count": null,
   "metadata": {
    "colab": {
     "base_uri": "https://localhost:8080/"
    },
    "id": "mXR-Lwo22cor",
    "outputId": "07388f3c-1ade-4685-8a68-1336ab3f31e3"
   },
   "outputs": [],
   "source": [
    "# Calcula a correlação de Pearson entre o consumo médio e a temperatura média para a categoria 'Residencial'\n",
    "correlacao_pearson = df_combined_residencial_19['CONS_MEDIDO'].corr(df_combined_residencial_19['Temperatura Média'])\n",
    "\n",
    "print(f\"Correlação de Pearson entre Consumo Médio e Temperatura Média para a Categoria Residencial: {correlacao_pearson:.4f}\")"
   ]
  },
  {
   "cell_type": "markdown",
   "metadata": {
    "id": "tWb4-RLb2lOT"
   },
   "source": [
    "Este gráfico apresenta a análise do consumo médio de água na categoria **Industrial** em relação à temperatura média ao longo dos meses."
   ]
  },
  {
   "cell_type": "code",
   "execution_count": null,
   "metadata": {
    "colab": {
     "base_uri": "https://localhost:8080/",
     "height": 517
    },
    "id": "QS2yQUNY2m-N",
    "outputId": "86552d8f-d321-4628-bab4-67d478fc88f6"
   },
   "outputs": [],
   "source": [
    "# Filtra os dados para a categoria 'INDUSTRIAL'\n",
    "consumo_industrial_19 = df_19[df_19['CATEGORIA'] == 'INDUSTRIAL']\n",
    "\n",
    "# Calcula o consumo médio mensal para a categoria 'INDUSTRIAL'\n",
    "consumo_medio_industrial_19 = consumo_industrial_19.groupby('MES').agg({'CONS_MEDIDO': 'mean'}).reset_index()\n",
    "\n",
    "# Combina o consumo médio mensal com os dados de temperatura média com base no mês\n",
    "df_combined_industrial_19 = pd.merge(consumo_medio_industrial_19, df_weather_19, on='MES')\n",
    "\n",
    "# Cria uma figura para o gráfico\n",
    "fig = go.Figure()\n",
    "\n",
    "# Adiciona a linha do consumo médio para a categoria 'INDUSTRIAL'\n",
    "fig.add_trace(go.Scatter(\n",
    "    x=df_combined_industrial_19['MES'],\n",
    "    y=df_combined_industrial_19['CONS_MEDIDO'],\n",
    "    mode='lines+markers',\n",
    "    name='Consumo Médio (Categoria: Industrial)',\n",
    "    line=dict(color='green', dash='dash')\n",
    "))\n",
    "\n",
    "# Adiciona a linha da temperatura média\n",
    "fig.add_trace(go.Scatter(\n",
    "    x=df_combined_industrial_19['MES'],\n",
    "    y=df_combined_industrial_19['Temperatura Média'],\n",
    "    mode='lines+markers',\n",
    "    name='Temp. Média',\n",
    "    line=dict(color='red'),\n",
    "    yaxis='y2'\n",
    "))\n",
    "\n",
    "# Configura o layout do gráfico\n",
    "fig.update_layout(\n",
    "    title='Consumo Médio Mensal e Temperatura Média para Categoria Industrial - 2019',\n",
    "    xaxis=dict(title='Mês', tickmode='array', tickvals=list(range(1, 13))),\n",
    "    yaxis=dict(title='Consumo Médio'),\n",
    "    yaxis2=dict(\n",
    "        title='Temperatura (°C)',\n",
    "        overlaying='y',\n",
    "        side='right'\n",
    "    ),\n",
    "    legend=dict(\n",
    "        x=0.5,\n",
    "        y=-0.2,\n",
    "        orientation=\"h\",\n",
    "        xanchor=\"center\"\n",
    "    ),\n",
    "    width=800,\n",
    "    height=500\n",
    ")\n",
    "\n",
    "# Exibe o gráfico\n",
    "fig.show()"
   ]
  },
  {
   "cell_type": "code",
   "execution_count": null,
   "metadata": {
    "colab": {
     "base_uri": "https://localhost:8080/"
    },
    "id": "hJehR8sm2xmE",
    "outputId": "631e7ab7-397f-45b5-8e20-aefbdf18477a"
   },
   "outputs": [],
   "source": [
    "# Calcula a correlação de Pearson entre o consumo médio e a temperatura média para a categoria 'Industrial'\n",
    "correlacao_pearson = df_combined_industrial_19['CONS_MEDIDO'].corr(df_combined_industrial_19['Temperatura Média'])\n",
    "\n",
    "print(f\"Correlação de Pearson entre Consumo Médio e Temperatura Média para a Categoria Industrial: {correlacao_pearson:.4f}\")"
   ]
  },
  {
   "cell_type": "markdown",
   "metadata": {
    "id": "n_YrFRTF2xQ5"
   },
   "source": [
    "### Consumo Médio Mensal por Categoria\n",
    "\n",
    "Nesta seção, apresentamos uma análise detalhada do consumo médio mensal de água para diferentes categorias: Pública, Comercial, Residencial e Industrial. Ao comparar essas categorias lado a lado, podemos identificar padrões de consumo específicos, sazonalidades e variações que refletem as diferentes necessidades e comportamentos de cada grupo ao longo do ano.\n"
   ]
  },
  {
   "cell_type": "code",
   "execution_count": null,
   "metadata": {
    "colab": {
     "base_uri": "https://localhost:8080/",
     "height": 517
    },
    "id": "C1a7L50O23Nm",
    "outputId": "db4d2991-03b8-414e-a8a3-c2fa608a9c0f"
   },
   "outputs": [],
   "source": [
    "# Define as categorias a serem analisadas\n",
    "categorias = ['PUBLICA', 'COMERCIAL', 'RESIDENCIAL', 'INDUSTRIAL']\n",
    "\n",
    "# Cria uma figura para o gráfico\n",
    "fig = go.Figure()\n",
    "\n",
    "# Loop para adicionar uma linha para cada categoria no gráfico\n",
    "for categoria in categorias:\n",
    "    consumo_categoria = df_19[df_19['CATEGORIA'] == categoria]\n",
    "    consumo_medio_categoria = consumo_categoria.groupby('MES').agg({'CONS_MEDIDO': 'mean'}).reset_index()\n",
    "\n",
    "    # Adiciona a linha do consumo médio da categoria ao gráfico\n",
    "    fig.add_trace(go.Scatter(\n",
    "        x=consumo_medio_categoria['MES'],\n",
    "        y=consumo_medio_categoria['CONS_MEDIDO'],\n",
    "        mode='lines+markers',\n",
    "        name=f'Consumo Médio (Categoria: {categoria})'\n",
    "    ))\n",
    "\n",
    "# Configura o layout do gráfico\n",
    "fig.update_layout(\n",
    "    title='Consumo Médio Mensal por Categoria - 2019',\n",
    "    xaxis=dict(title='Mês', tickmode='array', tickvals=list(range(1, 13))),\n",
    "    yaxis=dict(title='Consumo Médio'),\n",
    "    legend=dict(\n",
    "        x=1,\n",
    "        y=1,\n",
    "        orientation=\"v\",\n",
    "        font=dict(size=10),\n",
    "    ),\n",
    "    margin=dict(l=40, r=40, t=40, b=40),\n",
    "    width=800,\n",
    "    height=500\n",
    ")\n",
    "\n",
    "# Exibe o gráfico\n",
    "fig.show()"
   ]
  },
  {
   "cell_type": "markdown",
   "metadata": {
    "id": "CuaqRcVt2-dn"
   },
   "source": [
    "### Consumo Médio Mensal por Tipo de Ligação\n",
    "\n",
    "Nesta seção, exploramos o consumo médio mensal de água segmentado por tipo de ligação: Hidrometrado e Consumo Fixo. Essa análise permite observar como o consumo varia ao longo do ano para cada tipo de ligação.\n"
   ]
  },
  {
   "cell_type": "code",
   "execution_count": null,
   "metadata": {
    "colab": {
     "base_uri": "https://localhost:8080/",
     "height": 517
    },
    "id": "cfTCGN552_x2",
    "outputId": "8f85be5f-f94f-49a3-ddd4-dffad700cf72"
   },
   "outputs": [],
   "source": [
    "# Obtém os valores únicos da coluna 'TIPO_LIGACAO' no DataFrame 'df_19'\n",
    "tipo_ligacao = df_19['TIPO_LIGACAO'].unique()\n",
    "\n",
    "# Define os tipos de ligação a serem analisados\n",
    "tipos_ligacao = ['Hidrometrado', 'Consumo Fixo']\n",
    "\n",
    "# Cria uma figura para o gráfico\n",
    "fig = go.Figure()\n",
    "\n",
    "# Loop para adicionar uma linha para cada tipo de ligação no gráfico\n",
    "for tipo in tipos_ligacao:\n",
    "    consumo_tipo = df_19[df_19['TIPO_LIGACAO'] == tipo]\n",
    "    consumo_medio_tipo = consumo_tipo.groupby('MES').agg({'CONS_MEDIDO': 'mean'}).reset_index()\n",
    "\n",
    "    # Adiciona a linha do consumo médio do tipo de ligação ao gráfico\n",
    "    fig.add_trace(go.Scatter(\n",
    "        x=consumo_medio_tipo['MES'],\n",
    "        y=consumo_medio_tipo['CONS_MEDIDO'],\n",
    "        mode='lines+markers',\n",
    "        name=f'Consumo Médio ({tipo})'\n",
    "    ))\n",
    "\n",
    "# Configura o layout do gráfico\n",
    "fig.update_layout(\n",
    "    title='Consumo Médio Mensal por Tipo de Ligação - 2019',\n",
    "    xaxis=dict(title='Mês', tickmode='array', tickvals=list(range(1, 13))),\n",
    "    yaxis=dict(title='Consumo Médio'),\n",
    "    legend=dict(\n",
    "        x=1,\n",
    "        y=1,\n",
    "        orientation=\"v\",\n",
    "        font=dict(size=10),\n",
    "    ),\n",
    "    margin=dict(l=40, r=40, t=40, b=40),\n",
    "    width=800,\n",
    "    height=500\n",
    ")\n",
    "\n",
    "# Exibe o gráfico\n",
    "fig.show()\n"
   ]
  },
  {
   "cell_type": "markdown",
   "metadata": {
    "id": "8pC9zfHr3F2L"
   },
   "source": [
    "### Consumo Médio Mensal por Subcategoria\n",
    "\n",
    "Nesta seção, analisamos o consumo médio mensal de água segmentado por subcategoria. As subcategorias incluem Pública, Comercial, Residencial, Residencial Social, Industrial e Residencial Indubrasil.\n"
   ]
  },
  {
   "cell_type": "code",
   "execution_count": null,
   "metadata": {
    "colab": {
     "base_uri": "https://localhost:8080/",
     "height": 517
    },
    "id": "R1KxMeiS3Hil",
    "outputId": "6ae6bb5a-6090-468e-8bb0-99af24401c82"
   },
   "outputs": [],
   "source": [
    "# Obtém os valores únicos da coluna 'SUB_CATEGORIA' no DataFrame 'df_19'\n",
    "sub_categoria = df_19['SUB_CATEGORIA'].unique()\n",
    "\n",
    "\n",
    "# Define as subcategorias a serem analisadas\n",
    "sub_categorias = ['PUBLICA', 'COMERCIAL', 'RESIDENCIAL', 'RES. SOCIAL', 'INDUSTRIAL', 'RES. INDUBRASIL']\n",
    "\n",
    "# Cria uma figura para o gráfico\n",
    "fig = go.Figure()\n",
    "\n",
    "# Loop para adicionar uma linha para cada subcategoria no gráfico\n",
    "for sub_categoria in sub_categorias:\n",
    "    consumo_sub_categoria = df_19[df_19['SUB_CATEGORIA'] == sub_categoria]\n",
    "    consumo_medio_sub_categoria = consumo_sub_categoria.groupby('MES').agg({'CONS_MEDIDO': 'mean'}).reset_index()\n",
    "\n",
    "    # Adiciona a linha do consumo médio da subcategoria ao gráfico\n",
    "    fig.add_trace(go.Scatter(\n",
    "        x=consumo_medio_sub_categoria['MES'],\n",
    "        y=consumo_medio_sub_categoria['CONS_MEDIDO'],\n",
    "        mode='lines+markers',\n",
    "        name=f'Consumo Médio ({sub_categoria})'\n",
    "    ))\n",
    "\n",
    "# Configura o layout do gráfico\n",
    "fig.update_layout(\n",
    "    title='Consumo Médio Mensal por Subcategoria - 2019',\n",
    "    xaxis=dict(title='Mês', tickmode='array', tickvals=list(range(1, 13))),\n",
    "    yaxis=dict(title='Consumo Médio'),\n",
    "    legend=dict(\n",
    "        x=1,\n",
    "        y=1,\n",
    "        orientation=\"v\",\n",
    "        font=dict(size=10),\n",
    "    ),\n",
    "    margin=dict(l=40, r=40, t=40, b=40),\n",
    "    width=800,\n",
    "    height=500\n",
    ")\n",
    "\n",
    "# Exibe o gráfico\n",
    "fig.show()"
   ]
  },
  {
   "cell_type": "markdown",
   "metadata": {
    "id": "_-GJXq3NAH_F"
   },
   "source": [
    "# Estruturação dos datasets - 2020\n",
    "\n",
    "Nesta seção, iremos organizar os arquivos, dataset do Consumo 2020 na integra, com todas as colunas disponibilizadas pelo parceiro, e os dados climáticos, que serão utilizados.\n",
    "\n",
    "**Desta forma, se precisarmos de mais colunas e features, será de fácil recuperação**"
   ]
  },
  {
   "cell_type": "markdown",
   "metadata": {
    "id": "6M1YdisdAH_h"
   },
   "source": [
    "Para o código a seguir é importante ressaltar que a Latitude e a Longitude foram retiradas de: [Campo Grande MS](https://pt.db-city.com/Brasil--Mato-Grosso-do-Sul--Campo-Grande)"
   ]
  },
  {
   "cell_type": "code",
   "execution_count": null,
   "metadata": {
    "colab": {
     "base_uri": "https://localhost:8080/",
     "height": 738
    },
    "id": "amYDPEITAH_h",
    "outputId": "d606a227-48a8-49c6-87d4-f190dccce853"
   },
   "outputs": [],
   "source": [
    "# Define a localização geográfica\n",
    "location = Point(-20.4435, -54.6478)\n",
    "\n",
    "# Define o intervalo de datas\n",
    "start = datetime(2020, 1, 1)\n",
    "end = datetime(2020, 12, 31)\n",
    "\n",
    "# Busca os dados diários de clima para a localização e período definidos\n",
    "data = Daily(location, start, end)\n",
    "data = data.fetch()\n",
    "\n",
    "# Calcula a média mensal dos dados climáticos\n",
    "df_monthly_weather_20 = data.resample('M').mean()\n",
    "\n",
    "# Renomeia as colunas do DataFrame para termos mais descritivos em português\n",
    "df_weather_20 = df_monthly_weather_20.rename(columns={\n",
    "    'tavg': 'Temperatura Média',\n",
    "    'tmin': 'Temperatura Mínima',\n",
    "    'tmax': 'Temperatura Máxima',\n",
    "    'prcp': 'Precipitação',\n",
    "    'snow': 'Neve',\n",
    "    'wdir': 'Direção do Vento',\n",
    "    'wspd': 'Velocidade do Vento',\n",
    "    'wpgt': 'Rajada Máxima de Vento',\n",
    "    'pres': 'Pressão Atmosférica',\n",
    "    'tsun': 'Insolação'\n",
    "})\n",
    "\n",
    "# Exibe o DataFrame renomeado\n",
    "df_weather_20"
   ]
  },
  {
   "cell_type": "markdown",
   "metadata": {
    "id": "8PnRrrajAH_i"
   },
   "source": [
    "A seguir iremos remover as colunas que julgamos não serem importantes para entender a mudança do consumo da água."
   ]
  },
  {
   "cell_type": "markdown",
   "metadata": {
    "id": "hKzZiELdAH_j"
   },
   "source": [
    "Aqui fizemos uma descrição estatística básica nas colunas e seus valores"
   ]
  },
  {
   "cell_type": "code",
   "execution_count": null,
   "metadata": {
    "colab": {
     "base_uri": "https://localhost:8080/"
    },
    "id": "m0AwStJZAH_l",
    "outputId": "e3a0c161-cc6a-4fd1-b65a-34c96f27e45c"
   },
   "outputs": [],
   "source": [
    "print(\"\\nDescrição estatística básica:\")\n",
    "print(df_20.describe())"
   ]
  },
  {
   "cell_type": "code",
   "execution_count": null,
   "metadata": {
    "colab": {
     "base_uri": "https://localhost:8080/",
     "height": 457
    },
    "id": "q6pyu-YyAH_p",
    "outputId": "69c8180f-2d2f-4ccf-f618-96cdd3f7061a"
   },
   "outputs": [],
   "source": [
    "# Remove as colunas desnecessárias do DataFrame\n",
    "df_weather_20 = df_weather_20.drop(columns=['Neve', 'Precipitação', 'Direção do Vento', 'Velocidade do Vento', 'Rajada Máxima de Vento', 'Pressão Atmosférica', 'Insolação'])\n",
    "df_weather_20"
   ]
  },
  {
   "cell_type": "code",
   "execution_count": null,
   "metadata": {
    "id": "wYFn8CgBAH_s"
   },
   "outputs": [],
   "source": [
    "# Converte a coluna 'REFERENCIA' para o tipo datetime, garantindo que as datas sejam reconhecidas corretamente\n",
    "df_20['REFERENCIA'] = pd.to_datetime(df_20['REFERENCIA'])\n",
    "\n",
    "# Cria uma nova coluna 'MES' extraindo o número do mês da coluna 'REFERENCIA'\n",
    "df_20['MES'] = df_20['REFERENCIA'].dt.month\n",
    "\n",
    "# Extrai o número do mês do índice (assumindo que o índice do DataFrame é uma coluna datetime) e cria uma nova coluna 'MES'\n",
    "df_weather_20['MES'] = df_weather_20.index.month\n",
    "\n",
    "# Agrupa os dados por mês e calcula a média do consumo medido ('CONS_MEDIDO') para cada mês\n",
    "consumo_medio_20 = df_20.groupby('MES')['CONS_MEDIDO'].mean().reset_index()\n",
    "\n",
    "# Combina os dados de consumo médio com os dados meteorológicos com base na coluna 'MES'\n",
    "df_combined_20 = pd.merge(consumo_medio_20, df_weather_20, on='MES')"
   ]
  },
  {
   "cell_type": "markdown",
   "metadata": {
    "id": "aTaRk7PNAH_w"
   },
   "source": [
    "## Big Numbers\n",
    "\n",
    "Nesta seção, apresentamos os alguns indicadores e métricas do nosso dataset, destacando valores significativos que fornecem uma visão rápida e intuitiva sobre o comportamento dos dados"
   ]
  },
  {
   "cell_type": "code",
   "execution_count": null,
   "metadata": {
    "colab": {
     "base_uri": "https://localhost:8080/"
    },
    "id": "jVtD4-lfAH_x",
    "outputId": "3b16854f-0d30-4884-dfb7-b73d16db047d"
   },
   "outputs": [],
   "source": [
    "# Obtém o número de linhas e colunas do DataFrame 'df_20'\n",
    "linhas, colunas = df_20.shape\n",
    "\n",
    "print(f\"O DataFrame de 2020 tem {linhas} linhas e {colunas} colunas.\")"
   ]
  },
  {
   "cell_type": "code",
   "execution_count": null,
   "metadata": {
    "colab": {
     "base_uri": "https://localhost:8080/"
    },
    "id": "gigYxY-5AH_x",
    "outputId": "13baf1d5-a37c-4c08-fa5e-5a0f958c8220"
   },
   "outputs": [],
   "source": [
    "# Extrai os valores únicos da coluna 'MATRICULA' no DataFrame 'df_20'\n",
    "matriculas_unicas = df_20['MATRICULA'].unique()\n",
    "\n",
    "# Calcula o número total de valores únicos na coluna 'MATRICULA'\n",
    "tamanho = len(matriculas_unicas)\n",
    "\n",
    "print(f\"O DataFrame de 2020 tem {tamanho} matrículas únicas\")"
   ]
  },
  {
   "cell_type": "code",
   "execution_count": null,
   "metadata": {
    "colab": {
     "base_uri": "https://localhost:8080/"
    },
    "id": "OyedDS3fAH_x",
    "outputId": "763f6d89-1ca2-45ee-c7dc-7d501c012c0f"
   },
   "outputs": [],
   "source": [
    "# Calcula a soma total dos valores na coluna 'CONS_MEDIDO' no DataFrame 'df_20'\n",
    "soma_consumo = df_20['CONS_MEDIDO'].sum()\n",
    "\n",
    "print(f\"Em 2020 foi consumido {soma_consumo} m^3\")"
   ]
  },
  {
   "cell_type": "markdown",
   "metadata": {
    "id": "EINWTTHpAH_y"
   },
   "source": [
    "## Gráficos\n",
    "\n",
    "Nesta seção, apresentamos uma série de visualizações que ilustram as principais tendências e padrões encontrados nos dados. Os gráficos fornecem uma maneira intuitiva de entender a distribuição, variação e correlação entre as diferentes variáveis analisadas.\n"
   ]
  },
  {
   "cell_type": "markdown",
   "metadata": {
    "id": "FGHP24kOAH_y"
   },
   "source": [
    "### Consumo Médio Mensal e Temperatura Média\n",
    "\n",
    "Este gráfico ilustra a relação entre o consumo médio de água e a temperatura média ao longo dos meses. A linha verde tracejada representa o consumo médio mensal, enquanto a linha vermelha sólida mostra a variação da temperatura média mensal.\n"
   ]
  },
  {
   "cell_type": "code",
   "execution_count": null,
   "metadata": {
    "colab": {
     "base_uri": "https://localhost:8080/",
     "height": 517
    },
    "id": "bqMPaCKdAH_z",
    "outputId": "6c0acc7c-eb4c-4b32-a6e3-2899f44c17e3"
   },
   "outputs": [],
   "source": [
    "# Cria uma figura para o gráfico\n",
    "fig = go.Figure()\n",
    "\n",
    "# Adiciona o consumo médio mensal ao gráfico\n",
    "fig.add_trace(go.Scatter(\n",
    "    x=df_combined_20['MES'],\n",
    "    y=df_combined_20['CONS_MEDIDO'],\n",
    "    mode='lines+markers',\n",
    "    name='Consumo Médio',\n",
    "    line=dict(color='green', dash='dash')\n",
    "))\n",
    "\n",
    "# Adiciona a temperatura média mensal ao gráfico\n",
    "fig.add_trace(go.Scatter(\n",
    "    x=df_combined_20['MES'],\n",
    "    y=df_combined_20['Temperatura Média'],\n",
    "    mode='lines+markers',\n",
    "    name='Temp. Média',\n",
    "    line=dict(color='red'),\n",
    "    yaxis='y2'\n",
    "))\n",
    "\n",
    "# Configura o layout do gráfico\n",
    "fig.update_layout(\n",
    "    title='Consumo Médio Mensal e Temperatura Média - 2020',\n",
    "    xaxis=dict(title='Mês', tickmode='array', tickvals=list(range(1, 13))),\n",
    "    yaxis=dict(title='Consumo Médio'),\n",
    "    yaxis2=dict(\n",
    "        title='Temperatura (°C)',\n",
    "        overlaying='y',\n",
    "        side='right'\n",
    "    ),\n",
    "    legend=dict(\n",
    "        x=0.5,\n",
    "        y=-0.2,\n",
    "        orientation=\"h\",\n",
    "        xanchor=\"center\"\n",
    "    ),\n",
    "    width=800,\n",
    "    height=500\n",
    ")\n",
    "\n",
    "# Exibe o gráfico\n",
    "fig.show()"
   ]
  },
  {
   "cell_type": "code",
   "execution_count": null,
   "metadata": {
    "colab": {
     "base_uri": "https://localhost:8080/"
    },
    "id": "QOW9J7XWAH_z",
    "outputId": "201d68fb-5481-4b5e-e07b-3d977ff64060"
   },
   "outputs": [],
   "source": [
    "# Calcula a correlação de Pearson entre o consumo médio e a temperatura média\n",
    "correlation_20 = df_combined_20['CONS_MEDIDO'].corr(df_combined_20['Temperatura Média'])\n",
    "\n",
    "print(f\"Correlação de Pearson entre Consumo Médio e Temperatura Média: {correlation_20:.2f}\")"
   ]
  },
  {
   "cell_type": "code",
   "execution_count": null,
   "metadata": {
    "colab": {
     "base_uri": "https://localhost:8080/"
    },
    "id": "bi_iFVb8AH_0",
    "outputId": "24200333-a0f3-42dc-f138-74dce19400c4"
   },
   "outputs": [],
   "source": [
    "# Obtém os valores únicos da coluna 'CATEGORIA' no DataFrame 'df_20'\n",
    "categorias_unicas = df_20['CATEGORIA'].unique()\n",
    "\n",
    "categorias_unicas"
   ]
  },
  {
   "cell_type": "markdown",
   "metadata": {
    "id": "BO8y3fHHAH_0"
   },
   "source": [
    "Este gráfico apresenta a análise do consumo médio de água na categoria **Pública** em relação à temperatura média ao longo dos meses."
   ]
  },
  {
   "cell_type": "code",
   "execution_count": null,
   "metadata": {
    "colab": {
     "base_uri": "https://localhost:8080/",
     "height": 517
    },
    "id": "e-whLdDzAH_1",
    "outputId": "980f6cad-56e1-4a53-9722-5296008c9f7f"
   },
   "outputs": [],
   "source": [
    "# Filtra os dados para a categoria 'PUBLICA'\n",
    "consumo_publica_20 = df_20[df_20['CATEGORIA'] == 'PUBLICA']\n",
    "\n",
    "# Calcula o consumo médio mensal para a categoria 'PUBLICA'\n",
    "consumo_medio_publica_20 = consumo_publica_20.groupby('MES').agg({'CONS_MEDIDO': 'mean'}).reset_index()\n",
    "\n",
    "# Combina o consumo médio mensal com os dados de temperatura média com base no mês\n",
    "df_combined_publica_20 = pd.merge(consumo_medio_publica_20, df_weather_20, on='MES')\n",
    "\n",
    "# Cria uma figura para o gráfico\n",
    "fig = go.Figure()\n",
    "\n",
    "# Adiciona a linha do consumo médio para a categoria 'PUBLICA'\n",
    "fig.add_trace(go.Scatter(\n",
    "    x=df_combined_publica_20['MES'],\n",
    "    y=df_combined_publica_20['CONS_MEDIDO'],\n",
    "    mode='lines+markers',\n",
    "    name='Consumo Médio (Categoria: Pública)',\n",
    "    line=dict(color='green', dash='dash')\n",
    "))\n",
    "\n",
    "# Adiciona a linha da temperatura média\n",
    "fig.add_trace(go.Scatter(\n",
    "    x=df_combined_publica_20['MES'],\n",
    "    y=df_combined_publica_20['Temperatura Média'],\n",
    "    mode='lines+markers',\n",
    "    name='Temp. Média',\n",
    "    line=dict(color='red'),\n",
    "    yaxis='y2'\n",
    "))\n",
    "\n",
    "# Configura o layout do gráfico\n",
    "fig.update_layout(\n",
    "    title='Consumo Médio Mensal e Temperatura Média para Categoria Pública - 2020',\n",
    "    xaxis=dict(title='Mês', tickmode='array', tickvals=list(range(1, 13))),\n",
    "    yaxis=dict(title='Consumo Médio'),\n",
    "    yaxis2=dict(\n",
    "        title='Temperatura (°C)',\n",
    "        overlaying='y',\n",
    "        side='right'\n",
    "    ),\n",
    "    legend=dict(\n",
    "        x=0.5,\n",
    "        y=-0.2,\n",
    "        orientation=\"h\",\n",
    "        xanchor=\"center\"\n",
    "    ),\n",
    "    width=800,\n",
    "    height=500\n",
    ")\n",
    "\n",
    "# Exibe o gráfico\n",
    "fig.show()"
   ]
  },
  {
   "cell_type": "code",
   "execution_count": null,
   "metadata": {
    "colab": {
     "base_uri": "https://localhost:8080/"
    },
    "id": "ZNX_OKJiAH_4",
    "outputId": "fe448c35-29b9-4fa9-a0d8-055d3df0bba7"
   },
   "outputs": [],
   "source": [
    "# Calcula a correlação de Pearson entre o consumo médio e a temperatura média para a categoria 'Pública'\n",
    "correlacao_pearson = df_combined_publica_20['CONS_MEDIDO'].corr(df_combined_publica_20['Temperatura Média'])\n",
    "\n",
    "print(f\"Correlação de Pearson entre Consumo Médio e Temperatura Média para a Categoria Pública: {correlacao_pearson:.2f}\")"
   ]
  },
  {
   "cell_type": "markdown",
   "metadata": {
    "id": "VYLOBUTQAH_5"
   },
   "source": [
    "Este gráfico apresenta a análise do consumo médio de água na categoria **Comercial** em relação à temperatura média ao longo dos meses."
   ]
  },
  {
   "cell_type": "code",
   "execution_count": null,
   "metadata": {
    "colab": {
     "base_uri": "https://localhost:8080/",
     "height": 517
    },
    "id": "A_TkehZoAH_8",
    "outputId": "45330eb2-1c30-44c6-940a-78d6fce63601"
   },
   "outputs": [],
   "source": [
    "# Filtra os dados para a categoria 'COMERCIAL'\n",
    "consumo_comercial_20 = df_20[df_20['CATEGORIA'] == 'COMERCIAL']\n",
    "\n",
    "# Calcula o consumo médio mensal para a categoria 'COMERCIAL'\n",
    "consumo_medio_comercial_20 = consumo_comercial_20.groupby('MES').agg({'CONS_MEDIDO': 'mean'}).reset_index()\n",
    "\n",
    "# Combina o consumo médio mensal com os dados de temperatura média com base no mês\n",
    "df_combined_comercial_20 = pd.merge(consumo_medio_comercial_20, df_weather_20, on='MES')\n",
    "\n",
    "# Cria uma figura para o gráfico\n",
    "fig = go.Figure()\n",
    "\n",
    "# Adiciona a linha do consumo médio para a categoria 'COMERCIAL'\n",
    "fig.add_trace(go.Scatter(\n",
    "    x=df_combined_comercial_20['MES'],\n",
    "    y=df_combined_comercial_20['CONS_MEDIDO'],\n",
    "    mode='lines+markers',\n",
    "    name='Consumo Médio (Categoria: Comercial)',\n",
    "    line=dict(color='green', dash='dash')\n",
    "))\n",
    "\n",
    "# Adiciona a linha da temperatura média\n",
    "fig.add_trace(go.Scatter(\n",
    "    x=df_combined_comercial_20['MES'],\n",
    "    y=df_combined_comercial_20['Temperatura Média'],\n",
    "    mode='lines+markers',\n",
    "    name='Temp. Média',\n",
    "    line=dict(color='red'),\n",
    "    yaxis='y2'\n",
    "))\n",
    "\n",
    "# Configura o layout do gráfico\n",
    "fig.update_layout(\n",
    "    title='Consumo Médio Mensal e Temperatura Média para Categoria Comercial - 2020',\n",
    "    xaxis=dict(title='Mês', tickmode='array', tickvals=list(range(1, 13))),\n",
    "    yaxis=dict(title='Consumo Médio'),\n",
    "    yaxis2=dict(\n",
    "        title='Temperatura (°C)',\n",
    "        overlaying='y',\n",
    "        side='right'\n",
    "    ),\n",
    "    legend=dict(\n",
    "        x=0.5,\n",
    "        y=-0.2,\n",
    "        orientation=\"h\",\n",
    "        xanchor=\"center\"\n",
    "    ),\n",
    "    width=800,\n",
    "    height=500\n",
    ")\n",
    "\n",
    "# Exibe o gráfico\n",
    "fig.show()"
   ]
  },
  {
   "cell_type": "code",
   "execution_count": null,
   "metadata": {
    "colab": {
     "base_uri": "https://localhost:8080/"
    },
    "id": "oYTJMrO4AH__",
    "outputId": "ae5b27c9-0311-41ba-a9fb-c67de9848284"
   },
   "outputs": [],
   "source": [
    "# Calcula a correlação de Pearson entre o consumo médio e a temperatura média para a categoria 'Comercial'\n",
    "correlacao_pearson = df_combined_comercial_20['CONS_MEDIDO'].corr(df_combined_comercial_20['Temperatura Média'])\n",
    "\n",
    "print(f\"Correlação de Pearson entre Consumo Médio e Temperatura Média para a Categoria Comercial: {correlacao_pearson:.4f}\")"
   ]
  },
  {
   "cell_type": "markdown",
   "metadata": {
    "id": "hY1HsW6NAIAA"
   },
   "source": [
    "Este gráfico apresenta a análise do consumo médio de água na categoria **Residencial** em relação à temperatura média ao longo dos meses."
   ]
  },
  {
   "cell_type": "code",
   "execution_count": null,
   "metadata": {
    "colab": {
     "base_uri": "https://localhost:8080/",
     "height": 517
    },
    "id": "9JzICdyyAIAA",
    "outputId": "1cc6ed2f-8b00-4a12-d829-68c1263f05a7"
   },
   "outputs": [],
   "source": [
    "# Filtra os dados para a categoria 'RESIDENCIAL'\n",
    "consumo_residencial_20 = df_20[df_20['CATEGORIA'] == 'RESIDENCIAL']\n",
    "\n",
    "# Calcula o consumo médio mensal para a categoria 'RESIDENCIAL'\n",
    "consumo_medio_residencial_20 = consumo_residencial_20.groupby('MES').agg({'CONS_MEDIDO': 'mean'}).reset_index()\n",
    "\n",
    "# Combina o consumo médio mensal com os dados de temperatura média com base no mês\n",
    "df_combined_residencial_20 = pd.merge(consumo_medio_residencial_20, df_weather_20, on='MES')\n",
    "\n",
    "# Cria uma figura para o gráfico\n",
    "fig = go.Figure()\n",
    "\n",
    "# Adiciona a linha do consumo médio para a categoria 'RESIDENCIAL'\n",
    "fig.add_trace(go.Scatter(\n",
    "    x=df_combined_residencial_20['MES'],\n",
    "    y=df_combined_residencial_20['CONS_MEDIDO'],\n",
    "    mode='lines+markers',\n",
    "    name='Consumo Médio (Categoria: Residencial)',\n",
    "    line=dict(color='green', dash='dash')\n",
    "))\n",
    "\n",
    "# Adiciona a linha da temperatura média\n",
    "fig.add_trace(go.Scatter(\n",
    "    x=df_combined_residencial_20['MES'],\n",
    "    y=df_combined_residencial_20['Temperatura Média'],\n",
    "    mode='lines+markers',\n",
    "    name='Temp. Média',\n",
    "    line=dict(color='red'),\n",
    "    yaxis='y2'\n",
    "))\n",
    "\n",
    "# Configura o layout do gráfico\n",
    "fig.update_layout(\n",
    "    title='Consumo Médio Mensal e Temperatura Média para Categoria Residencial - 2020',\n",
    "    xaxis=dict(title='Mês', tickmode='array', tickvals=list(range(1, 13))),\n",
    "    yaxis=dict(title='Consumo Médio'),\n",
    "    yaxis2=dict(\n",
    "        title='Temperatura (°C)',\n",
    "        overlaying='y',\n",
    "        side='right'\n",
    "    ),\n",
    "    legend=dict(\n",
    "        x=0.5,\n",
    "        y=-0.2,\n",
    "        orientation=\"h\",\n",
    "        xanchor=\"center\"\n",
    "    ),\n",
    "    width=800,\n",
    "    height=500\n",
    ")\n",
    "\n",
    "# Exibe o gráfico\n",
    "fig.show()"
   ]
  },
  {
   "cell_type": "code",
   "execution_count": null,
   "metadata": {
    "colab": {
     "base_uri": "https://localhost:8080/"
    },
    "id": "q-jmw2TrAIAB",
    "outputId": "719a982f-f004-496e-a066-2ce9add912ff"
   },
   "outputs": [],
   "source": [
    "# Calcula a correlação de Pearson entre o consumo médio e a temperatura média para a categoria 'Residencial'\n",
    "correlacao_pearson = df_combined_residencial_20['CONS_MEDIDO'].corr(df_combined_residencial_20['Temperatura Média'])\n",
    "\n",
    "print(f\"Correlação de Pearson entre Consumo Médio e Temperatura Média para a Categoria Residencial: {correlacao_pearson:.4f}\")"
   ]
  },
  {
   "cell_type": "markdown",
   "metadata": {
    "id": "1j2q3XrJAIAB"
   },
   "source": [
    "Este gráfico apresenta a análise do consumo médio de água na categoria **Industrial** em relação à temperatura média ao longo dos meses."
   ]
  },
  {
   "cell_type": "code",
   "execution_count": null,
   "metadata": {
    "colab": {
     "base_uri": "https://localhost:8080/",
     "height": 517
    },
    "id": "Ajy7j-_fAIAC",
    "outputId": "9e372c16-9fef-488e-a37e-15b1b20c480e"
   },
   "outputs": [],
   "source": [
    "# Filtra os dados para a categoria 'INDUSTRIAL'\n",
    "consumo_industrial_20 = df_20[df_20['CATEGORIA'] == 'INDUSTRIAL']\n",
    "\n",
    "# Calcula o consumo médio mensal para a categoria 'INDUSTRIAL'\n",
    "consumo_medio_industrial_20 = consumo_industrial_20.groupby('MES').agg({'CONS_MEDIDO': 'mean'}).reset_index()\n",
    "\n",
    "# Combina o consumo médio mensal com os dados de temperatura média com base no mês\n",
    "df_combined_industrial_20 = pd.merge(consumo_medio_industrial_20, df_weather_20, on='MES')\n",
    "\n",
    "# Cria uma figura para o gráfico\n",
    "fig = go.Figure()\n",
    "\n",
    "# Adiciona a linha do consumo médio para a categoria 'INDUSTRIAL'\n",
    "fig.add_trace(go.Scatter(\n",
    "    x=df_combined_industrial_20['MES'],\n",
    "    y=df_combined_industrial_20['CONS_MEDIDO'],\n",
    "    mode='lines+markers',\n",
    "    name='Consumo Médio (Categoria: Industrial)',\n",
    "    line=dict(color='green', dash='dash')\n",
    "))\n",
    "\n",
    "# Adiciona a linha da temperatura média\n",
    "fig.add_trace(go.Scatter(\n",
    "    x=df_combined_industrial_20['MES'],\n",
    "    y=df_combined_industrial_20['Temperatura Média'],\n",
    "    mode='lines+markers',\n",
    "    name='Temp. Média',\n",
    "    line=dict(color='red'),\n",
    "    yaxis='y2'\n",
    "))\n",
    "\n",
    "# Configura o layout do gráfico\n",
    "fig.update_layout(\n",
    "    title='Consumo Médio Mensal e Temperatura Média para Categoria Industrial - 2020',\n",
    "    xaxis=dict(title='Mês', tickmode='array', tickvals=list(range(1, 13))),\n",
    "    yaxis=dict(title='Consumo Médio'),\n",
    "    yaxis2=dict(\n",
    "        title='Temperatura (°C)',\n",
    "        overlaying='y',\n",
    "        side='right'\n",
    "    ),\n",
    "    legend=dict(\n",
    "        x=0.5,\n",
    "        y=-0.2,\n",
    "        orientation=\"h\",\n",
    "        xanchor=\"center\"\n",
    "    ),\n",
    "    width=800,\n",
    "    height=500\n",
    ")\n",
    "\n",
    "# Exibe o gráfico\n",
    "fig.show()"
   ]
  },
  {
   "cell_type": "code",
   "execution_count": null,
   "metadata": {
    "colab": {
     "base_uri": "https://localhost:8080/"
    },
    "id": "hUrCDQm6AIAC",
    "outputId": "868f33bf-11be-4b2b-c04b-49aa8df52cdf"
   },
   "outputs": [],
   "source": [
    "# Calcula a correlação de Pearson entre o consumo médio e a temperatura média para a categoria 'Industrial'\n",
    "correlacao_pearson = df_combined_industrial_20['CONS_MEDIDO'].corr(df_combined_industrial_20['Temperatura Média'])\n",
    "\n",
    "print(f\"Correlação de Pearson entre Consumo Médio e Temperatura Média para a Categoria Industrial: {correlacao_pearson:.4f}\")"
   ]
  },
  {
   "cell_type": "markdown",
   "metadata": {
    "id": "K8ejvAUyAIAD"
   },
   "source": [
    "### Consumo Médio Mensal por Categoria\n",
    "\n",
    "Nesta seção, apresentamos uma análise detalhada do consumo médio mensal de água para diferentes categorias: Pública, Comercial, Residencial e Industrial. Ao comparar essas categorias lado a lado, podemos identificar padrões de consumo específicos, sazonalidades e variações que refletem as diferentes necessidades e comportamentos de cada grupo ao longo do ano de 2024.\n"
   ]
  },
  {
   "cell_type": "code",
   "execution_count": null,
   "metadata": {
    "colab": {
     "base_uri": "https://localhost:8080/",
     "height": 517
    },
    "id": "uf3BtlVpAIAD",
    "outputId": "1babd206-44cf-45fb-d4b8-3ea8b379d245"
   },
   "outputs": [],
   "source": [
    "# Define as categorias a serem analisadas\n",
    "categorias = ['PUBLICA', 'COMERCIAL', 'RESIDENCIAL', 'INDUSTRIAL']\n",
    "\n",
    "# Cria uma figura para o gráfico\n",
    "fig = go.Figure()\n",
    "\n",
    "# Loop para adicionar uma linha para cada categoria no gráfico\n",
    "for categoria in categorias:\n",
    "    consumo_categoria = df_20[df_20['CATEGORIA'] == categoria]\n",
    "    consumo_medio_categoria = consumo_categoria.groupby('MES').agg({'CONS_MEDIDO': 'mean'}).reset_index()\n",
    "\n",
    "    # Adiciona a linha do consumo médio da categoria ao gráfico\n",
    "    fig.add_trace(go.Scatter(\n",
    "        x=consumo_medio_categoria['MES'],\n",
    "        y=consumo_medio_categoria['CONS_MEDIDO'],\n",
    "        mode='lines+markers',\n",
    "        name=f'Consumo Médio (Categoria: {categoria})'\n",
    "    ))\n",
    "\n",
    "# Configura o layout do gráfico\n",
    "fig.update_layout(\n",
    "    title='Consumo Médio Mensal por Categoria - 2020',\n",
    "    xaxis=dict(title='Mês', tickmode='array', tickvals=list(range(1, 13))),\n",
    "    yaxis=dict(title='Consumo Médio'),\n",
    "    legend=dict(\n",
    "        x=1,\n",
    "        y=1,\n",
    "        orientation=\"v\",\n",
    "        font=dict(size=10),\n",
    "    ),\n",
    "    margin=dict(l=40, r=40, t=40, b=40),\n",
    "    width=800,\n",
    "    height=500\n",
    ")\n",
    "\n",
    "# Exibe o gráfico\n",
    "fig.show()"
   ]
  },
  {
   "cell_type": "markdown",
   "metadata": {
    "id": "oWaO-m9KAIAD"
   },
   "source": [
    "### Consumo Médio Mensal por Tipo de Ligação\n",
    "\n",
    "Nesta seção, exploramos o consumo médio mensal de água segmentado por tipo de ligação: Hidrometrado e Consumo Fixo. Essa análise permite observar como o consumo varia ao longo do ano para cada tipo de ligação.\n"
   ]
  },
  {
   "cell_type": "code",
   "execution_count": null,
   "metadata": {
    "colab": {
     "base_uri": "https://localhost:8080/",
     "height": 517
    },
    "id": "WdE8hixeAIAE",
    "outputId": "18c0e726-9650-4158-a94c-33e73211d4b1"
   },
   "outputs": [],
   "source": [
    "# Obtém os valores únicos da coluna 'TIPO_LIGACAO' no DataFrame 'df_20'\n",
    "tipo_ligacao = df_20['TIPO_LIGACAO'].unique()\n",
    "\n",
    "# Define os tipos de ligação a serem analisados\n",
    "tipos_ligacao = ['Hidrometrado', 'Consumo Fixo']\n",
    "\n",
    "# Cria uma figura para o gráfico\n",
    "fig = go.Figure()\n",
    "\n",
    "# Loop para adicionar uma linha para cada tipo de ligação no gráfico\n",
    "for tipo in tipos_ligacao:\n",
    "    consumo_tipo = df_20[df_20['TIPO_LIGACAO'] == tipo]\n",
    "    consumo_medio_tipo = consumo_tipo.groupby('MES').agg({'CONS_MEDIDO': 'mean'}).reset_index()\n",
    "\n",
    "    # Adiciona a linha do consumo médio do tipo de ligação ao gráfico\n",
    "    fig.add_trace(go.Scatter(\n",
    "        x=consumo_medio_tipo['MES'],\n",
    "        y=consumo_medio_tipo['CONS_MEDIDO'],\n",
    "        mode='lines+markers',\n",
    "        name=f'Consumo Médio ({tipo})'\n",
    "    ))\n",
    "\n",
    "# Configura o layout do gráfico\n",
    "fig.update_layout(\n",
    "    title='Consumo Médio Mensal por Tipo de Ligação - 2020',\n",
    "    xaxis=dict(title='Mês', tickmode='array', tickvals=list(range(1, 13))),\n",
    "    yaxis=dict(title='Consumo Médio'),\n",
    "    legend=dict(\n",
    "        x=1,\n",
    "        y=1,\n",
    "        orientation=\"v\",\n",
    "        font=dict(size=10),\n",
    "    ),\n",
    "    margin=dict(l=40, r=40, t=40, b=40),\n",
    "    width=800,\n",
    "    height=500\n",
    ")\n",
    "\n",
    "# Exibe o gráfico\n",
    "fig.show()\n"
   ]
  },
  {
   "cell_type": "markdown",
   "metadata": {
    "id": "JS3DbaEYAIAE"
   },
   "source": [
    "### Consumo Médio Mensal por Subcategoria\n",
    "\n",
    "Nesta seção, analisamos o consumo médio mensal de água segmentado por subcategoria. As subcategorias incluem Pública, Comercial, Residencial, Residencial Social, Industrial e Residencial Indubrasil.\n"
   ]
  },
  {
   "cell_type": "code",
   "execution_count": null,
   "metadata": {
    "colab": {
     "base_uri": "https://localhost:8080/",
     "height": 517
    },
    "id": "E2nI2qqDAIAE",
    "outputId": "67728de4-63c1-4ba6-a83c-0e2b4738757f"
   },
   "outputs": [],
   "source": [
    "# Obtém os valores únicos da coluna 'SUB_CATEGORIA' no DataFrame 'df_20'\n",
    "sub_categoria = df_20['SUB_CATEGORIA'].unique()\n",
    "\n",
    "\n",
    "# Define as subcategorias a serem analisadas\n",
    "sub_categorias = ['PUBLICA', 'COMERCIAL', 'RESIDENCIAL', 'RES. SOCIAL', 'INDUSTRIAL', 'RES. INDUBRASIL']\n",
    "\n",
    "# Cria uma figura para o gráfico\n",
    "fig = go.Figure()\n",
    "\n",
    "# Loop para adicionar uma linha para cada subcategoria no gráfico\n",
    "for sub_categoria in sub_categorias:\n",
    "    consumo_sub_categoria = df_20[df_20['SUB_CATEGORIA'] == sub_categoria]\n",
    "    consumo_medio_sub_categoria = consumo_sub_categoria.groupby('MES').agg({'CONS_MEDIDO': 'mean'}).reset_index()\n",
    "\n",
    "    # Adiciona a linha do consumo médio da subcategoria ao gráfico\n",
    "    fig.add_trace(go.Scatter(\n",
    "        x=consumo_medio_sub_categoria['MES'],\n",
    "        y=consumo_medio_sub_categoria['CONS_MEDIDO'],\n",
    "        mode='lines+markers',\n",
    "        name=f'Consumo Médio ({sub_categoria})'\n",
    "    ))\n",
    "\n",
    "# Configura o layout do gráfico\n",
    "fig.update_layout(\n",
    "    title='Consumo Médio Mensal por Subcategoria - 2020',\n",
    "    xaxis=dict(title='Mês', tickmode='array', tickvals=list(range(1, 13))),\n",
    "    yaxis=dict(title='Consumo Médio'),\n",
    "    legend=dict(\n",
    "        x=1,\n",
    "        y=1,\n",
    "        orientation=\"v\",\n",
    "        font=dict(size=10),\n",
    "    ),\n",
    "    margin=dict(l=40, r=40, t=40, b=40),\n",
    "    width=800,\n",
    "    height=500\n",
    ")\n",
    "\n",
    "# Exibe o gráfico\n",
    "fig.show()"
   ]
  }
 ],
 "metadata": {
  "colab": {
   "provenance": [],
   "toc_visible": true
  },
  "kernelspec": {
   "display_name": "Python 3",
   "name": "python3"
  },
  "language_info": {
   "name": "python"
  }
 },
 "nbformat": 4,
 "nbformat_minor": 0
}
