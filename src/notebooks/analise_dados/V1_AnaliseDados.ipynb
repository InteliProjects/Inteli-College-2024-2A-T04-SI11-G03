{
 "cells": [
  {
   "cell_type": "markdown",
   "metadata": {
    "id": "D02F7ac000lR"
   },
   "source": [
    "# Instalação das bibliotecas utilizadas\n",
    "\n",
    "Antes de iniciarmos a análise dos dados de Consumo no Google Colab, é essencial garantir que todas as bibliotecas necessárias estejam devidamente instaladas e atualizadas. No ambiente do Colab, embora muitas bibliotecas já venham pré-instaladas, pode ser necessário instalar ou atualizar pacotes adicionais para garantir que o código funcione corretamente, como por exemplo o MeteoStat, biblioteca utilizada para coletar os dados climáticos."
   ]
  },
  {
   "cell_type": "code",
   "execution_count": null,
   "metadata": {
    "colab": {
     "base_uri": "https://localhost:8080/"
    },
    "id": "dFj65NOc1xG_",
    "outputId": "e818ae1d-8cb1-4028-f926-15d05b27bb53"
   },
   "outputs": [],
   "source": [
    "!pip install meteostat"
   ]
  },
  {
   "cell_type": "code",
   "execution_count": null,
   "metadata": {
    "id": "MDZEXNP_hP7g"
   },
   "outputs": [],
   "source": [
    "# Importação das bibliotecas\n",
    "\n",
    "import numpy as np\n",
    "import pandas as pd\n",
    "import gdown\n",
    "import plotly.graph_objects as go\n",
    "from meteostat import Point, Daily\n",
    "from datetime import datetime"
   ]
  },
  {
   "cell_type": "code",
   "execution_count": null,
   "metadata": {
    "colab": {
     "base_uri": "https://localhost:8080/"
    },
    "id": "A447phGGiRfc",
    "outputId": "eb2554b8-c522-4ee1-bb62-33d50470c1de"
   },
   "outputs": [],
   "source": [
    "# Define o nome base para salvar os arquivos baixados\n",
    "arquivo_destino_base = \"dataset_{}.csv\"\n",
    "\n",
    "# IDs dos arquivos no Google Drive, organizados por ano\n",
    "ids = {\n",
    "    \"consumo_2024\": \"1-2YBshCNQI4pOMV83BGJnTrCFpDTcv_h\",\n",
    "    \"consumo_2023\": \"1WmLtlgEgMvAqJ9kjxP_xT0oecsLaM_vr\",\n",
    "    \"consumo_2022\": \"1-8l0qgFq40NhqZbMM_gBYJO32vSbr0eG\",\n",
    "    \"consumo_2021\": \"12-fFTkYIDOIorDnj3zAWwynNPC6B8mb2\",\n",
    "    \"consumo_2020\": \"1-1pOoa0eJlNJ94BMi7p4PTx5KUS96mhX\",\n",
    "    \"consumo_2019\": \"1MRCFBXGPkdkEe546LbrOw3ypJRKi4ofG\",\n",
    "}\n",
    "\n",
    "# Dicionário para armazenar os DataFrames\n",
    "dataframes = {}\n",
    "\n",
    "# Baixa e lê cada arquivo, salvando-o em um DataFrame\n",
    "for key, file_id in ids.items():\n",
    "    url = f\"https://drive.google.com/uc?id={file_id}\"\n",
    "    arquivo_destino = arquivo_destino_base.format(key)\n",
    "\n",
    "    gdown.download(url, arquivo_destino, quiet=False)\n",
    "    df = pd.read_csv(arquivo_destino, sep=\";\")\n",
    "    dataframes[key] = df"
   ]
  },
  {
   "cell_type": "markdown",
   "metadata": {
    "id": "_1xIxqsP0-5L"
   },
   "source": [
    "# Consumo 2019"
   ]
  },
  {
   "cell_type": "markdown",
   "metadata": {
    "id": "lfEYUUilaKGn"
   },
   "source": [
    "## Estruturação dos datasets\n",
    "\n",
    "Nesta seção, iremos organizar os arquivos, dataset do Consumo 2019 e os dados climáticos, que serão utilizados."
   ]
  },
  {
   "cell_type": "code",
   "execution_count": null,
   "metadata": {
    "id": "FcrLyxmPVuHQ"
   },
   "outputs": [],
   "source": [
    "df_19 = pd.read_csv(\"/content/dataset_consumo_2019.csv\", delimiter=\",\")"
   ]
  },
  {
   "cell_type": "code",
   "execution_count": null,
   "metadata": {
    "colab": {
     "base_uri": "https://localhost:8080/",
     "height": 443
    },
    "id": "KIGFRCgXueaG",
    "outputId": "f3c07a53-1d9f-4a56-e55b-88d38c40fee6"
   },
   "outputs": [],
   "source": [
    "df_19"
   ]
  },
  {
   "cell_type": "markdown",
   "metadata": {
    "id": "YwpCXWbHMGAU"
   },
   "source": [
    "Para o código a seguir é importante ressaltar que a Latitude e a Longitude foram retiradas de: [Campo Grande MS](https://pt.db-city.com/Brasil--Mato-Grosso-do-Sul--Campo-Grande)"
   ]
  },
  {
   "cell_type": "code",
   "execution_count": null,
   "metadata": {
    "id": "Z7fMbcurkBfO"
   },
   "outputs": [],
   "source": [
    "# Define a localização geográfica\n",
    "location = Point(-20.4435, -54.6478)\n",
    "\n",
    "# Define o intervalo de datas\n",
    "start = datetime(2019, 1, 1)\n",
    "end = datetime(2019, 12, 31)\n",
    "\n",
    "# Busca os dados diários de clima para a localização e período definidos\n",
    "data = Daily(location, start, end)\n",
    "data = data.fetch()\n",
    "\n",
    "# Calcula a média mensal dos dados climáticos\n",
    "df_monthly_weather_19 = data.resample('M').mean()"
   ]
  },
  {
   "cell_type": "code",
   "execution_count": null,
   "metadata": {
    "colab": {
     "base_uri": "https://localhost:8080/",
     "height": 737
    },
    "id": "ak1-CNennkiW",
    "outputId": "84c4c004-93c3-48b3-dcff-bf5dbfb2b36a"
   },
   "outputs": [],
   "source": [
    "# Renomeia as colunas do DataFrame para termos mais descritivos em português\n",
    "df_weather_19 = df_monthly_weather_19.rename(columns={\n",
    "    'tavg': 'Temperatura Média',\n",
    "    'tmin': 'Temperatura Mínima',\n",
    "    'tmax': 'Temperatura Máxima',\n",
    "    'prcp': 'Precipitação',\n",
    "    'snow': 'Neve',\n",
    "    'wdir': 'Direção do Vento',\n",
    "    'wspd': 'Velocidade do Vento',\n",
    "    'wpgt': 'Rajada Máxima de Vento',\n",
    "    'pres': 'Pressão Atmosférica',\n",
    "    'tsun': 'Insolação'\n",
    "})\n",
    "\n",
    "# Exibe o DataFrame renomeado\n",
    "df_weather_19"
   ]
  },
  {
   "cell_type": "markdown",
   "metadata": {
    "id": "s4CHAybrNMGn"
   },
   "source": [
    "A seguir iremos remover as colunas que julgamos não serem importantes para entender a mudança do consumo da água."
   ]
  },
  {
   "cell_type": "code",
   "execution_count": null,
   "metadata": {
    "id": "FxAE-CRRn2rR"
   },
   "outputs": [],
   "source": [
    "# Remove as colunas desnecessárias do DataFrame\n",
    "df_weather_19 = df_weather_19.drop(columns=['Neve', 'Precipitação', 'Direção do Vento', 'Velocidade do Vento', 'Rajada Máxima de Vento', 'Pressão Atmosférica', 'Insolação'])\n",
    "df_weather_19"
   ]
  },
  {
   "cell_type": "code",
   "execution_count": null,
   "metadata": {
    "id": "T_TgkkemprqT"
   },
   "outputs": [],
   "source": [
    "# Converte a coluna 'REFERENCIA' para o tipo datetime, garantindo que as datas sejam reconhecidas corretamente\n",
    "df_19['REFERENCIA'] = pd.to_datetime(df_19['REFERENCIA'])\n",
    "\n",
    "# Cria uma nova coluna 'MES' extraindo o número do mês da coluna 'REFERENCIA'\n",
    "df_19['MES'] = df_19['REFERENCIA'].dt.month\n",
    "\n",
    "# Extrai o número do mês do índice (assumindo que o índice do DataFrame é uma coluna datetime) e cria uma nova coluna 'MES'\n",
    "df_weather_19['MES'] = df_weather_19.index.month\n",
    "\n",
    "# Agrupa os dados por mês e calcula a média do consumo medido ('CONS_MEDIDO') para cada mês\n",
    "consumo_medio_19 = df_19.groupby('MES')['CONS_MEDIDO'].mean().reset_index()\n",
    "\n",
    "# Combina os dados de consumo médio com os dados meteorológicos com base na coluna 'MES'\n",
    "df_combined_19 = pd.merge(consumo_medio_19, df_weather_19, on='MES')"
   ]
  },
  {
   "cell_type": "markdown",
   "metadata": {
    "id": "7rPt2KzehBO3"
   },
   "source": [
    "## Big Numbers\n",
    "\n",
    "Nesta seção, apresentamos os alguns indicadores e métricas do nosso dataset, destacando valores significativos que fornecem uma visão rápida e intuitiva sobre o comportamento dos dados"
   ]
  },
  {
   "cell_type": "code",
   "execution_count": null,
   "metadata": {
    "colab": {
     "base_uri": "https://localhost:8080/"
    },
    "id": "8mXD9m3Fywrf",
    "outputId": "7f051d03-0f8b-47fd-98d7-cfa815a702ed"
   },
   "outputs": [],
   "source": [
    "# Obtém o número de linhas e colunas do DataFrame 'df_19'\n",
    "linhas, colunas = df_19.shape\n",
    "\n",
    "print(f\"O DataFrame de 2019 tem {linhas} linhas e {colunas} colunas.\")"
   ]
  },
  {
   "cell_type": "code",
   "execution_count": null,
   "metadata": {
    "colab": {
     "base_uri": "https://localhost:8080/"
    },
    "id": "e_5r5SX9fr2M",
    "outputId": "5cf0f023-3b4d-44df-c4d8-34dd6ddf7d12"
   },
   "outputs": [],
   "source": [
    "# Extrai os valores únicos da coluna 'MATRICULA' no DataFrame 'df_19'\n",
    "matriculas_unicas = df_19['MATRICULA'].unique()\n",
    "\n",
    "# Calcula o número total de valores únicos na coluna 'MATRICULA'\n",
    "tamanho = len(matriculas_unicas)\n",
    "\n",
    "print(f\"O DataFrame de 2019 tem {tamanho} matrículas únicas\")"
   ]
  },
  {
   "cell_type": "code",
   "execution_count": null,
   "metadata": {
    "colab": {
     "base_uri": "https://localhost:8080/"
    },
    "id": "svxIFA22gh4C",
    "outputId": "2cd66693-8d32-4e5b-a28f-e9ef81c691cd"
   },
   "outputs": [],
   "source": [
    "# Calcula a soma total dos valores na coluna 'CONS_MEDIDO' no DataFrame 'df_19'\n",
    "soma_consumo = df_19['CONS_MEDIDO'].sum()\n",
    "\n",
    "print(f\"Em 2019 foi consumido {soma_consumo} m^3\")"
   ]
  },
  {
   "cell_type": "markdown",
   "metadata": {
    "id": "ESyHg5_AaNbV"
   },
   "source": [
    "## Gráficos\n",
    "\n",
    "Nesta seção, apresentamos uma série de visualizações que ilustram as principais tendências e padrões encontrados nos dados. Os gráficos fornecem uma maneira intuitiva de entender a distribuição, variação e correlação entre as diferentes variáveis analisadas.\n"
   ]
  },
  {
   "cell_type": "markdown",
   "metadata": {
    "id": "VQMY-2qOaPoQ"
   },
   "source": [
    "### Consumo Médio Mensal e Temperatura Média\n",
    "\n",
    "Este gráfico ilustra a relação entre o consumo médio de água e a temperatura média ao longo dos meses de 2019. A linha verde tracejada representa o consumo médio mensal, enquanto a linha vermelha sólida mostra a variação da temperatura média mensal.\n"
   ]
  },
  {
   "cell_type": "code",
   "execution_count": null,
   "metadata": {
    "colab": {
     "base_uri": "https://localhost:8080/",
     "height": 517
    },
    "id": "UEunIE4Qq5FJ",
    "outputId": "895a467c-f5d8-40b5-e886-37cffd43e6e9"
   },
   "outputs": [],
   "source": [
    "# Cria uma figura para o gráfico\n",
    "fig = go.Figure()\n",
    "\n",
    "# Adiciona o consumo médio mensal ao gráfico\n",
    "fig.add_trace(go.Scatter(\n",
    "    x=df_combined_19['MES'],\n",
    "    y=df_combined_19['CONS_MEDIDO'],\n",
    "    mode='lines+markers',\n",
    "    name='Consumo Médio',\n",
    "    line=dict(color='green', dash='dash')\n",
    "))\n",
    "\n",
    "# Adiciona a temperatura média mensal ao gráfico\n",
    "fig.add_trace(go.Scatter(\n",
    "    x=df_combined_19['MES'],\n",
    "    y=df_combined_19['Temperatura Média'],\n",
    "    mode='lines+markers',\n",
    "    name='Temp. Média',\n",
    "    line=dict(color='red'),\n",
    "    yaxis='y2'\n",
    "))\n",
    "\n",
    "# Configura o layout do gráfico\n",
    "fig.update_layout(\n",
    "    title='Consumo Médio Mensal e Temperatura Média - 2019',\n",
    "    xaxis=dict(title='Mês', tickmode='array', tickvals=list(range(1, 13))),\n",
    "    yaxis=dict(title='Consumo Médio'),\n",
    "    yaxis2=dict(\n",
    "        title='Temperatura (°C)',\n",
    "        overlaying='y',\n",
    "        side='right'\n",
    "    ),\n",
    "    legend=dict(\n",
    "        x=0.5,\n",
    "        y=-0.2,\n",
    "        orientation=\"h\",\n",
    "        xanchor=\"center\"\n",
    "    ),\n",
    "    width=800,\n",
    "    height=500\n",
    ")\n",
    "\n",
    "# Exibe o gráfico\n",
    "fig.show()"
   ]
  },
  {
   "cell_type": "code",
   "execution_count": null,
   "metadata": {
    "colab": {
     "base_uri": "https://localhost:8080/"
    },
    "id": "o-L1dPxZrOVd",
    "outputId": "2139cf55-f7be-4a89-a256-5ed7225d63d8"
   },
   "outputs": [],
   "source": [
    "# Calcula a correlação de Pearson entre o consumo médio e a temperatura média\n",
    "correlation_19 = df_combined_19['CONS_MEDIDO'].corr(df_combined_19['Temperatura Média'])\n",
    "\n",
    "print(f\"Correlação de Pearson entre Consumo Médio e Temperatura Média: {correlation_19:.2f}\")"
   ]
  },
  {
   "cell_type": "markdown",
   "metadata": {
    "id": "CQYD6FA5aVj1"
   },
   "source": [
    "### Consumo Médio Mensal e Temperatura Média por Categoria"
   ]
  },
  {
   "cell_type": "code",
   "execution_count": null,
   "metadata": {
    "colab": {
     "base_uri": "https://localhost:8080/"
    },
    "id": "E4IJT-j_2_IH",
    "outputId": "486d0467-d175-4cf1-e8f0-8fa7064f0c2c"
   },
   "outputs": [],
   "source": [
    "# Obtém os valores únicos da coluna 'CATEGORIA' no DataFrame 'df_19'\n",
    "categorias_unicas = df_19['CATEGORIA'].unique()\n",
    "\n",
    "categorias_unicas"
   ]
  },
  {
   "cell_type": "markdown",
   "metadata": {
    "id": "TyZl05_vWENo"
   },
   "source": [
    "Este gráfico apresenta a análise do consumo médio de água na categoria **Pública** em relação à temperatura média ao longo dos meses de 2019."
   ]
  },
  {
   "cell_type": "code",
   "execution_count": null,
   "metadata": {
    "colab": {
     "base_uri": "https://localhost:8080/",
     "height": 517
    },
    "id": "oi--yzAE4Bkd",
    "outputId": "6dc2a921-d24a-4558-b98a-bd0f62b2704f"
   },
   "outputs": [],
   "source": [
    "# Filtra os dados para a categoria 'PUBLICA'\n",
    "consumo_publica_19 = df_19[df_19['CATEGORIA'] == 'PUBLICA']\n",
    "\n",
    "# Calcula o consumo médio mensal para a categoria 'PUBLICA'\n",
    "consumo_medio_publica_19 = consumo_publica_19.groupby('MES').agg({'CONS_MEDIDO': 'mean'}).reset_index()\n",
    "\n",
    "# Combina o consumo médio mensal com os dados de temperatura média com base no mês\n",
    "df_combined_publica_19 = pd.merge(consumo_medio_publica_19, df_weather_19, on='MES')\n",
    "\n",
    "# Cria uma figura para o gráfico\n",
    "fig = go.Figure()\n",
    "\n",
    "# Adiciona a linha do consumo médio para a categoria 'PUBLICA'\n",
    "fig.add_trace(go.Scatter(\n",
    "    x=df_combined_publica_19['MES'],\n",
    "    y=df_combined_publica_19['CONS_MEDIDO'],\n",
    "    mode='lines+markers',\n",
    "    name='Consumo Médio (Categoria: Pública)',\n",
    "    line=dict(color='green', dash='dash')\n",
    "))\n",
    "\n",
    "# Adiciona a linha da temperatura média\n",
    "fig.add_trace(go.Scatter(\n",
    "    x=df_combined_publica_19['MES'],\n",
    "    y=df_combined_publica_19['Temperatura Média'],\n",
    "    mode='lines+markers',\n",
    "    name='Temp. Média',\n",
    "    line=dict(color='red'),\n",
    "    yaxis='y2'\n",
    "))\n",
    "\n",
    "# Configura o layout do gráfico\n",
    "fig.update_layout(\n",
    "    title='Consumo Médio Mensal e Temperatura Média para Categoria Pública - 2019',\n",
    "    xaxis=dict(title='Mês', tickmode='array', tickvals=list(range(1, 13))),\n",
    "    yaxis=dict(title='Consumo Médio'),\n",
    "    yaxis2=dict(\n",
    "        title='Temperatura (°C)',\n",
    "        overlaying='y',\n",
    "        side='right'\n",
    "    ),\n",
    "    legend=dict(\n",
    "        x=0.5,\n",
    "        y=-0.2,\n",
    "        orientation=\"h\",\n",
    "        xanchor=\"center\"\n",
    "    ),\n",
    "    width=800,\n",
    "    height=500\n",
    ")\n",
    "\n",
    "# Exibe o gráfico\n",
    "fig.show()"
   ]
  },
  {
   "cell_type": "code",
   "execution_count": null,
   "metadata": {
    "colab": {
     "base_uri": "https://localhost:8080/"
    },
    "id": "kk2qnbEC514W",
    "outputId": "54dc3b4b-144e-40b3-9833-e33d0f87ef1c"
   },
   "outputs": [],
   "source": [
    "# Calcula a correlação de Pearson entre o consumo médio e a temperatura média para a categoria 'Pública'\n",
    "correlacao_pearson = df_combined_publica_19['CONS_MEDIDO'].corr(df_combined_publica_19['Temperatura Média'])\n",
    "\n",
    "print(f\"Correlação de Pearson entre Consumo Médio e Temperatura Média para a Categoria Pública: {correlacao_pearson:.2f}\")"
   ]
  },
  {
   "cell_type": "markdown",
   "metadata": {
    "id": "oiT3JdDVWs6v"
   },
   "source": [
    "Este gráfico apresenta a análise do consumo médio de água na categoria **Comercial** em relação à temperatura média ao longo dos meses de 2019."
   ]
  },
  {
   "cell_type": "code",
   "execution_count": null,
   "metadata": {
    "colab": {
     "base_uri": "https://localhost:8080/",
     "height": 517
    },
    "id": "u2dDgqz96g7B",
    "outputId": "12f12448-1b4e-4825-90d0-da915d1e5f9e"
   },
   "outputs": [],
   "source": [
    "# Filtra os dados para a categoria 'COMERCIAL'\n",
    "consumo_comercial_19 = df_19[df_19['CATEGORIA'] == 'COMERCIAL']\n",
    "\n",
    "# Calcula o consumo médio mensal para a categoria 'COMERCIAL'\n",
    "consumo_medio_comercial_19 = consumo_comercial_19.groupby('MES').agg({'CONS_MEDIDO': 'mean'}).reset_index()\n",
    "\n",
    "# Combina o consumo médio mensal com os dados de temperatura média com base no mês\n",
    "df_combined_comercial_19 = pd.merge(consumo_medio_comercial_19, df_weather_19, on='MES')\n",
    "\n",
    "# Cria uma figura para o gráfico\n",
    "fig = go.Figure()\n",
    "\n",
    "# Adiciona a linha do consumo médio para a categoria 'COMERCIAL'\n",
    "fig.add_trace(go.Scatter(\n",
    "    x=df_combined_comercial_19['MES'],\n",
    "    y=df_combined_comercial_19['CONS_MEDIDO'],\n",
    "    mode='lines+markers',\n",
    "    name='Consumo Médio (Categoria: Comercial)',\n",
    "    line=dict(color='green', dash='dash')\n",
    "))\n",
    "\n",
    "# Adiciona a linha da temperatura média\n",
    "fig.add_trace(go.Scatter(\n",
    "    x=df_combined_comercial_19['MES'],\n",
    "    y=df_combined_comercial_19['Temperatura Média'],\n",
    "    mode='lines+markers',\n",
    "    name='Temp. Média',\n",
    "    line=dict(color='red'),\n",
    "    yaxis='y2'\n",
    "))\n",
    "\n",
    "# Configura o layout do gráfico\n",
    "fig.update_layout(\n",
    "    title='Consumo Médio Mensal e Temperatura Média para Categoria Comercial - 2019',\n",
    "    xaxis=dict(title='Mês', tickmode='array', tickvals=list(range(1, 13))),\n",
    "    yaxis=dict(title='Consumo Médio'),\n",
    "    yaxis2=dict(\n",
    "        title='Temperatura (°C)',\n",
    "        overlaying='y',\n",
    "        side='right'\n",
    "    ),\n",
    "    legend=dict(\n",
    "        x=0.5,\n",
    "        y=-0.2,\n",
    "        orientation=\"h\",\n",
    "        xanchor=\"center\"\n",
    "    ),\n",
    "    width=800,\n",
    "    height=500\n",
    ")\n",
    "\n",
    "# Exibe o gráfico\n",
    "fig.show()"
   ]
  },
  {
   "cell_type": "code",
   "execution_count": null,
   "metadata": {
    "colab": {
     "base_uri": "https://localhost:8080/"
    },
    "id": "71Uhix8c64DO",
    "outputId": "9f5566bc-918a-4eff-ffe3-dd65a31e3d05"
   },
   "outputs": [],
   "source": [
    "# Calcula a correlação de Pearson entre o consumo médio e a temperatura média para a categoria 'Comercial'\n",
    "correlacao_pearson = df_combined_comercial_19['CONS_MEDIDO'].corr(df_combined_comercial_19['Temperatura Média'])\n",
    "\n",
    "print(f\"Correlação de Pearson entre Consumo Médio e Temperatura Média para a Categoria Comercial: {correlacao_pearson:.4f}\")"
   ]
  },
  {
   "cell_type": "markdown",
   "metadata": {
    "id": "moMKVcZVXAN6"
   },
   "source": [
    "Este gráfico apresenta a análise do consumo médio de água na categoria **Residencial** em relação à temperatura média ao longo dos meses de 2019."
   ]
  },
  {
   "cell_type": "code",
   "execution_count": null,
   "metadata": {
    "colab": {
     "base_uri": "https://localhost:8080/",
     "height": 517
    },
    "id": "Tu8-x43sXq8C",
    "outputId": "7f0cd34f-c0b7-407e-bfa3-6c8e07389557"
   },
   "outputs": [],
   "source": [
    "# Filtra os dados para a categoria 'RESIDENCIAL'\n",
    "consumo_residencial_19 = df_19[df_19['CATEGORIA'] == 'RESIDENCIAL']\n",
    "\n",
    "# Calcula o consumo médio mensal para a categoria 'RESIDENCIAL'\n",
    "consumo_medio_residencial_19 = consumo_residencial_19.groupby('MES').agg({'CONS_MEDIDO': 'mean'}).reset_index()\n",
    "\n",
    "# Combina o consumo médio mensal com os dados de temperatura média com base no mês\n",
    "df_combined_residencial_19 = pd.merge(consumo_medio_residencial_19, df_weather_19, on='MES')\n",
    "\n",
    "# Cria uma figura para o gráfico\n",
    "fig = go.Figure()\n",
    "\n",
    "# Adiciona a linha do consumo médio para a categoria 'RESIDENCIAL'\n",
    "fig.add_trace(go.Scatter(\n",
    "    x=df_combined_residencial_19['MES'],\n",
    "    y=df_combined_residencial_19['CONS_MEDIDO'],\n",
    "    mode='lines+markers',\n",
    "    name='Consumo Médio (Categoria: Residencial)',\n",
    "    line=dict(color='green', dash='dash')\n",
    "))\n",
    "\n",
    "# Adiciona a linha da temperatura média\n",
    "fig.add_trace(go.Scatter(\n",
    "    x=df_combined_residencial_19['MES'],\n",
    "    y=df_combined_residencial_19['Temperatura Média'],\n",
    "    mode='lines+markers',\n",
    "    name='Temp. Média',\n",
    "    line=dict(color='red'),\n",
    "    yaxis='y2'\n",
    "))\n",
    "\n",
    "# Configura o layout do gráfico\n",
    "fig.update_layout(\n",
    "    title='Consumo Médio Mensal e Temperatura Média para Categoria Residencial - 2019',\n",
    "    xaxis=dict(title='Mês', tickmode='array', tickvals=list(range(1, 13))),\n",
    "    yaxis=dict(title='Consumo Médio'),\n",
    "    yaxis2=dict(\n",
    "        title='Temperatura (°C)',\n",
    "        overlaying='y',\n",
    "        side='right'\n",
    "    ),\n",
    "    legend=dict(\n",
    "        x=0.5,\n",
    "        y=-0.2,\n",
    "        orientation=\"h\",\n",
    "        xanchor=\"center\"\n",
    "    ),\n",
    "    width=800,\n",
    "    height=500\n",
    ")\n",
    "\n",
    "# Exibe o gráfico\n",
    "fig.show()"
   ]
  },
  {
   "cell_type": "code",
   "execution_count": null,
   "metadata": {
    "colab": {
     "base_uri": "https://localhost:8080/"
    },
    "id": "3gfkCCp4Zqic",
    "outputId": "d6916854-52f0-4c24-fc19-5d9bd4e3e52a"
   },
   "outputs": [],
   "source": [
    "# Calcula a correlação de Pearson entre o consumo médio e a temperatura média para a categoria 'Residencial'\n",
    "correlacao_pearson = df_combined_residencial_19['CONS_MEDIDO'].corr(df_combined_residencial_19['Temperatura Média'])\n",
    "\n",
    "print(f\"Correlação de Pearson entre Consumo Médio e Temperatura Média para a Categoria Residencial: {correlacao_pearson:.4f}\")"
   ]
  },
  {
   "cell_type": "markdown",
   "metadata": {
    "id": "zhM5n-WiXQD8"
   },
   "source": [
    "Este gráfico apresenta a análise do consumo médio de água na categoria **Industrial** em relação à temperatura média ao longo dos meses de 2019."
   ]
  },
  {
   "cell_type": "code",
   "execution_count": null,
   "metadata": {
    "colab": {
     "base_uri": "https://localhost:8080/",
     "height": 517
    },
    "id": "loQZ6VL5Z1lv",
    "outputId": "64496dbf-3a56-40f5-c5a4-cf07376b0efb"
   },
   "outputs": [],
   "source": [
    "# Filtra os dados para a categoria 'INDUSTRIAL'\n",
    "consumo_industrial_19 = df_19[df_19['CATEGORIA'] == 'INDUSTRIAL']\n",
    "\n",
    "# Calcula o consumo médio mensal para a categoria 'INDUSTRIAL'\n",
    "consumo_medio_industrial_19 = consumo_industrial_19.groupby('MES').agg({'CONS_MEDIDO': 'mean'}).reset_index()\n",
    "\n",
    "# Combina o consumo médio mensal com os dados de temperatura média com base no mês\n",
    "df_combined_industrial_19 = pd.merge(consumo_medio_industrial_19, df_weather_19, on='MES')\n",
    "\n",
    "# Cria uma figura para o gráfico\n",
    "fig = go.Figure()\n",
    "\n",
    "# Adiciona a linha do consumo médio para a categoria 'INDUSTRIAL'\n",
    "fig.add_trace(go.Scatter(\n",
    "    x=df_combined_industrial_19['MES'],\n",
    "    y=df_combined_industrial_19['CONS_MEDIDO'],\n",
    "    mode='lines+markers',\n",
    "    name='Consumo Médio (Categoria: Industrial)',\n",
    "    line=dict(color='green', dash='dash')\n",
    "))\n",
    "\n",
    "# Adiciona a linha da temperatura média\n",
    "fig.add_trace(go.Scatter(\n",
    "    x=df_combined_industrial_19['MES'],\n",
    "    y=df_combined_industrial_19['Temperatura Média'],\n",
    "    mode='lines+markers',\n",
    "    name='Temp. Média',\n",
    "    line=dict(color='red'),\n",
    "    yaxis='y2'\n",
    "))\n",
    "\n",
    "# Configura o layout do gráfico\n",
    "fig.update_layout(\n",
    "    title='Consumo Médio Mensal e Temperatura Média para Categoria Industrial - 2019',\n",
    "    xaxis=dict(title='Mês', tickmode='array', tickvals=list(range(1, 13))),\n",
    "    yaxis=dict(title='Consumo Médio'),\n",
    "    yaxis2=dict(\n",
    "        title='Temperatura (°C)',\n",
    "        overlaying='y',\n",
    "        side='right'\n",
    "    ),\n",
    "    legend=dict(\n",
    "        x=0.5,\n",
    "        y=-0.2,\n",
    "        orientation=\"h\",\n",
    "        xanchor=\"center\"\n",
    "    ),\n",
    "    width=800,\n",
    "    height=500\n",
    ")\n",
    "\n",
    "# Exibe o gráfico\n",
    "fig.show()"
   ]
  },
  {
   "cell_type": "code",
   "execution_count": null,
   "metadata": {
    "colab": {
     "base_uri": "https://localhost:8080/"
    },
    "id": "tDR7QjQ4aQDB",
    "outputId": "768894d4-0deb-4481-dd91-dae8e9af294a"
   },
   "outputs": [],
   "source": [
    "# Calcula a correlação de Pearson entre o consumo médio e a temperatura média para a categoria 'Industrial'\n",
    "correlacao_pearson = df_combined_industrial_19['CONS_MEDIDO'].corr(df_combined_industrial_19['Temperatura Média'])\n",
    "\n",
    "print(f\"Correlação de Pearson entre Consumo Médio e Temperatura Média para a Categoria Industrial: {correlacao_pearson:.4f}\")"
   ]
  },
  {
   "cell_type": "markdown",
   "metadata": {
    "id": "vRzLf8r2aapd"
   },
   "source": [
    "### Consumo Médio Mensal por Categoria\n",
    "\n",
    "Nesta seção, apresentamos uma análise detalhada do consumo médio mensal de água para diferentes categorias: Pública, Comercial, Residencial e Industrial. Ao comparar essas categorias lado a lado, podemos identificar padrões de consumo específicos, sazonalidades e variações que refletem as diferentes necessidades e comportamentos de cada grupo ao longo do ano de 2019.\n"
   ]
  },
  {
   "cell_type": "code",
   "execution_count": null,
   "metadata": {
    "colab": {
     "base_uri": "https://localhost:8080/",
     "height": 517
    },
    "id": "QBSguJZ7aevb",
    "outputId": "f9f8446f-fddc-4eb1-bb69-893378f15e29"
   },
   "outputs": [],
   "source": [
    "# Define as categorias a serem analisadas\n",
    "categorias = ['PUBLICA', 'COMERCIAL', 'RESIDENCIAL', 'INDUSTRIAL']\n",
    "\n",
    "# Cria uma figura para o gráfico\n",
    "fig = go.Figure()\n",
    "\n",
    "# Loop para adicionar uma linha para cada categoria no gráfico\n",
    "for categoria in categorias:\n",
    "    consumo_categoria = df_19[df_19['CATEGORIA'] == categoria]\n",
    "    consumo_medio_categoria = consumo_categoria.groupby('MES').agg({'CONS_MEDIDO': 'mean'}).reset_index()\n",
    "\n",
    "    # Adiciona a linha do consumo médio da categoria ao gráfico\n",
    "    fig.add_trace(go.Scatter(\n",
    "        x=consumo_medio_categoria['MES'],\n",
    "        y=consumo_medio_categoria['CONS_MEDIDO'],\n",
    "        mode='lines+markers',\n",
    "        name=f'Consumo Médio (Categoria: {categoria})'\n",
    "    ))\n",
    "\n",
    "# Configura o layout do gráfico\n",
    "fig.update_layout(\n",
    "    title='Consumo Médio Mensal por Categoria - 2019',\n",
    "    xaxis=dict(title='Mês', tickmode='array', tickvals=list(range(1, 13))),\n",
    "    yaxis=dict(title='Consumo Médio'),\n",
    "    legend=dict(\n",
    "        x=1,\n",
    "        y=1,\n",
    "        orientation=\"v\",\n",
    "        font=dict(size=10),\n",
    "    ),\n",
    "    margin=dict(l=40, r=40, t=40, b=40),\n",
    "    width=800,\n",
    "    height=500\n",
    ")\n",
    "\n",
    "# Exibe o gráfico\n",
    "fig.show()"
   ]
  },
  {
   "cell_type": "markdown",
   "metadata": {
    "id": "uDYNi1YcckE9"
   },
   "source": [
    "### Consumo Médio Mensal por Tipo de Ligação\n",
    "\n",
    "Nesta seção, exploramos o consumo médio mensal de água segmentado por tipo de ligação: Hidrometrado e Consumo Fixo. Essa análise permite observar como o consumo varia ao longo do ano para cada tipo de ligação.\n"
   ]
  },
  {
   "cell_type": "code",
   "execution_count": null,
   "metadata": {
    "colab": {
     "base_uri": "https://localhost:8080/"
    },
    "id": "YNcfc83Ncrcx",
    "outputId": "3f5a162c-0e8f-46d7-83ff-2befa9e8bbda"
   },
   "outputs": [],
   "source": [
    "# Obtém os valores únicos da coluna 'TIPO_LIGACAO' no DataFrame 'df_19'\n",
    "tipo_ligacao = df_19['TIPO_LIGACAO'].unique()\n",
    "tipo_ligacao"
   ]
  },
  {
   "cell_type": "code",
   "execution_count": null,
   "metadata": {
    "colab": {
     "base_uri": "https://localhost:8080/",
     "height": 517
    },
    "id": "EIAAw6oicxsS",
    "outputId": "1eea4205-b2eb-44aa-fa6a-91fca7448e57"
   },
   "outputs": [],
   "source": [
    "# Define os tipos de ligação a serem analisados\n",
    "tipos_ligacao = ['Hidrometrado', 'Consumo Fixo']\n",
    "\n",
    "# Cria uma figura para o gráfico\n",
    "fig = go.Figure()\n",
    "\n",
    "# Loop para adicionar uma linha para cada tipo de ligação no gráfico\n",
    "for tipo in tipos_ligacao:\n",
    "    consumo_tipo = df_19[df_19['TIPO_LIGACAO'] == tipo]\n",
    "    consumo_medio_tipo = consumo_tipo.groupby('MES').agg({'CONS_MEDIDO': 'mean'}).reset_index()\n",
    "\n",
    "    # Adiciona a linha do consumo médio do tipo de ligação ao gráfico\n",
    "    fig.add_trace(go.Scatter(\n",
    "        x=consumo_medio_tipo['MES'],\n",
    "        y=consumo_medio_tipo['CONS_MEDIDO'],\n",
    "        mode='lines+markers',\n",
    "        name=f'Consumo Médio ({tipo})'\n",
    "    ))\n",
    "\n",
    "# Configura o layout do gráfico\n",
    "fig.update_layout(\n",
    "    title='Consumo Médio Mensal por Tipo de Ligação - 2019',\n",
    "    xaxis=dict(title='Mês', tickmode='array', tickvals=list(range(1, 13))),\n",
    "    yaxis=dict(title='Consumo Médio'),\n",
    "    legend=dict(\n",
    "        x=1,\n",
    "        y=1,\n",
    "        orientation=\"v\",\n",
    "        font=dict(size=10),\n",
    "    ),\n",
    "    margin=dict(l=40, r=40, t=40, b=40),\n",
    "    width=800,\n",
    "    height=500\n",
    ")\n",
    "\n",
    "# Exibe o gráfico\n",
    "fig.show()"
   ]
  },
  {
   "cell_type": "markdown",
   "metadata": {
    "id": "brYdXq-jdUAW"
   },
   "source": [
    "### Consumo Médio Mensal por Subcategoria\n",
    "\n",
    "Nesta seção, analisamos o consumo médio mensal de água segmentado por subcategoria. As subcategorias incluem Pública, Comercial, Residencial, Residencial Social, Industrial e Residencial Indubrasil.\n"
   ]
  },
  {
   "cell_type": "code",
   "execution_count": null,
   "metadata": {
    "colab": {
     "base_uri": "https://localhost:8080/"
    },
    "id": "RH4oR_f1dZU6",
    "outputId": "e995fe8b-04cf-4f5c-8a32-cd41a76ef591"
   },
   "outputs": [],
   "source": [
    "# Obtém os valores únicos da coluna 'SUB_CATEGORIA' no DataFrame 'df_19'\n",
    "sub_categoria = df_19['SUB_CATEGORIA'].unique()\n",
    "sub_categoria"
   ]
  },
  {
   "cell_type": "code",
   "execution_count": null,
   "metadata": {
    "colab": {
     "base_uri": "https://localhost:8080/",
     "height": 517
    },
    "id": "NHUjg6cpdlCL",
    "outputId": "9fa5d08a-a246-4db6-e8bf-c12b6d908bc8"
   },
   "outputs": [],
   "source": [
    "# Define as subcategorias a serem analisadas\n",
    "sub_categorias = ['PUBLICA', 'COMERCIAL', 'RESIDENCIAL', 'RES. SOCIAL', 'INDUSTRIAL', 'RES. INDUBRASIL']\n",
    "\n",
    "# Cria uma figura para o gráfico\n",
    "fig = go.Figure()\n",
    "\n",
    "# Loop para adicionar uma linha para cada subcategoria no gráfico\n",
    "for sub_categoria in sub_categorias:\n",
    "    consumo_sub_categoria = df_19[df_19['SUB_CATEGORIA'] == sub_categoria]\n",
    "    consumo_medio_sub_categoria = consumo_sub_categoria.groupby('MES').agg({'CONS_MEDIDO': 'mean'}).reset_index()\n",
    "\n",
    "    # Adiciona a linha do consumo médio da subcategoria ao gráfico\n",
    "    fig.add_trace(go.Scatter(\n",
    "        x=consumo_medio_sub_categoria['MES'],\n",
    "        y=consumo_medio_sub_categoria['CONS_MEDIDO'],\n",
    "        mode='lines+markers',\n",
    "        name=f'Consumo Médio ({sub_categoria})'\n",
    "    ))\n",
    "\n",
    "# Configura o layout do gráfico\n",
    "fig.update_layout(\n",
    "    title='Consumo Médio Mensal por Subcategoria - 2019',\n",
    "    xaxis=dict(title='Mês', tickmode='array', tickvals=list(range(1, 13))),\n",
    "    yaxis=dict(title='Consumo Médio'),\n",
    "    legend=dict(\n",
    "        x=1,\n",
    "        y=1,\n",
    "        orientation=\"v\",\n",
    "        font=dict(size=10),\n",
    "    ),\n",
    "    margin=dict(l=40, r=40, t=40, b=40),\n",
    "    width=800,\n",
    "    height=500\n",
    ")\n",
    "\n",
    "# Exibe o gráfico\n",
    "fig.show()"
   ]
  },
  {
   "cell_type": "code",
   "execution_count": null,
   "metadata": {
    "colab": {
     "base_uri": "https://localhost:8080/",
     "height": 654
    },
    "id": "5tJcyT0rd6CL",
    "outputId": "1da02d93-9bd9-4bf3-d4fd-b22ecd005b5a"
   },
   "outputs": [],
   "source": [
    "df_res_indubrasil = df_19[df_19['SUB_CATEGORIA'] == 'RES. INDUBRASIL']\n",
    "df_res_indubrasil"
   ]
  },
  {
   "cell_type": "markdown",
   "metadata": {
    "id": "fm6Ruon1h60j"
   },
   "source": [
    "# Consumo 2020"
   ]
  },
  {
   "cell_type": "markdown",
   "metadata": {
    "id": "U9pnOT3hhzsk"
   },
   "source": [
    "## Estruturação dos datasets\n",
    "\n",
    "Nesta seção, iremos organizar os arquivos, dataset do Consumo 2020 e os dados climáticos, que serão utilizados."
   ]
  },
  {
   "cell_type": "code",
   "execution_count": null,
   "metadata": {
    "id": "fQauY-c3hzsl"
   },
   "outputs": [],
   "source": [
    "df_20 = pd.read_csv(\"/content/dataset_consumo_2020.csv\", delimiter=\",\")"
   ]
  },
  {
   "cell_type": "code",
   "execution_count": null,
   "metadata": {
    "colab": {
     "base_uri": "https://localhost:8080/",
     "height": 443
    },
    "id": "QkRnLmmFhzsl",
    "outputId": "fbda6027-9338-4a85-c751-e4f98958001b"
   },
   "outputs": [],
   "source": [
    "df_20"
   ]
  },
  {
   "cell_type": "markdown",
   "metadata": {
    "id": "5vmCPzMWZpyY"
   },
   "source": [
    "Para o código a seguir é importante ressaltar que a Latitude e a Longitude foram retiradas de: [Campo Grande MS](https://pt.db-city.com/Brasil--Mato-Grosso-do-Sul--Campo-Grande)"
   ]
  },
  {
   "cell_type": "code",
   "execution_count": null,
   "metadata": {
    "id": "7Yx_aG9Ohzsm"
   },
   "outputs": [],
   "source": [
    "# Define a localização geográfica\n",
    "location = Point(-20.4435, -54.6478)\n",
    "\n",
    "# Define as datas de início e fim\n",
    "start = datetime(2020, 1, 1)\n",
    "end = datetime(2020, 12, 31)\n",
    "\n",
    "# Busca os dados diários para a localização e período definidos\n",
    "data = Daily(location, start, end)\n",
    "data = data.fetch()\n",
    "\n",
    "# Calcula a média mensal dos dados diários\n",
    "df_monthly_weather_20 = data.resample('M').mean()"
   ]
  },
  {
   "cell_type": "code",
   "execution_count": null,
   "metadata": {
    "colab": {
     "base_uri": "https://localhost:8080/",
     "height": 737
    },
    "id": "Z9pRGdXwhzsm",
    "outputId": "3218b08f-4451-459f-b310-800978d650a6"
   },
   "outputs": [],
   "source": [
    "# Renomeia as colunas do DataFrame para nomes mais descritivos\n",
    "df_weather_20 = df_monthly_weather_20.rename(columns={\n",
    "    'tavg': 'Temperatura Média',\n",
    "    'tmin': 'Temperatura Mínima',\n",
    "    'tmax': 'Temperatura Máxima',\n",
    "    'prcp': 'Precipitação',\n",
    "    'snow': 'Neve',\n",
    "    'wdir': 'Direção do Vento',\n",
    "    'wspd': 'Velocidade do Vento',\n",
    "    'wpgt': 'Rajada Máxima de Vento',\n",
    "    'pres': 'Pressão Atmosférica',\n",
    "    'tsun': 'Insolação'\n",
    "})\n",
    "\n",
    "# Exibe o DataFrame renomeado\n",
    "df_weather_20"
   ]
  },
  {
   "cell_type": "code",
   "execution_count": null,
   "metadata": {
    "colab": {
     "base_uri": "https://localhost:8080/",
     "height": 457
    },
    "id": "YzRXoYLyhzsm",
    "outputId": "a100a371-41c1-4a86-af45-48180e1df7b8"
   },
   "outputs": [],
   "source": [
    "# Remove as colunas desnecessárias do DataFrame\n",
    "df_weather_20 = df_weather_20.drop(columns=['Neve', 'Precipitação', 'Direção do Vento', 'Velocidade do Vento', 'Rajada Máxima de Vento', 'Pressão Atmosférica', 'Insolação'])\n",
    "\n",
    "df_weather_20"
   ]
  },
  {
   "cell_type": "code",
   "execution_count": null,
   "metadata": {
    "id": "8kgLDswNhzsm"
   },
   "outputs": [],
   "source": [
    "# Converte a coluna 'REFERENCIA' para o tipo datetime\n",
    "df_20['REFERENCIA'] = pd.to_datetime(df_20['REFERENCIA'])\n",
    "\n",
    "# Extrai o mês da coluna 'REFERENCIA' e cria a coluna 'MES'\n",
    "df_20['MES'] = df_20['REFERENCIA'].dt.month\n",
    "\n",
    "# Extrai o mês do índice do DataFrame de clima e cria a coluna 'MES'\n",
    "df_weather_20['MES'] = df_weather_20.index.month\n",
    "\n",
    "# Calcula o consumo médio mensal e reseta o índice\n",
    "consumo_medio_20 = df_20.groupby('MES')['CONS_MEDIDO'].mean().reset_index()\n",
    "\n",
    "# Combina o consumo médio mensal com os dados climáticos com base na coluna 'MES'\n",
    "df_combined_20 = pd.merge(consumo_medio_20, df_weather_20, on='MES')"
   ]
  },
  {
   "cell_type": "markdown",
   "metadata": {
    "id": "S8XR72rehzsn"
   },
   "source": [
    "## Big Numbers\n",
    "\n",
    "Nesta seção, apresentamos os alguns indicadores e métricas do nosso dataset, destacando valores significativos que fornecem uma visão rápida e intuitiva sobre o comportamento dos dados."
   ]
  },
  {
   "cell_type": "code",
   "execution_count": null,
   "metadata": {
    "colab": {
     "base_uri": "https://localhost:8080/"
    },
    "id": "oFNkurAzhzsn",
    "outputId": "ca7d4983-459f-4e05-812d-d1f0b93e29b8"
   },
   "outputs": [],
   "source": [
    "# Obtém o número de linhas e colunas do DataFrame 'df_20'\n",
    "linhas, colunas = df_20.shape\n",
    "\n",
    "print(f\"O DataFrame de 2020 tem {linhas} linhas e {colunas} colunas.\")"
   ]
  },
  {
   "cell_type": "code",
   "execution_count": null,
   "metadata": {
    "colab": {
     "base_uri": "https://localhost:8080/"
    },
    "id": "TmnQfwhdhzsn",
    "outputId": "e5280c1b-6dc9-4eaa-f5b5-736d3c3ecad3"
   },
   "outputs": [],
   "source": [
    "# Obtém os valores únicos da coluna 'MATRICULA' no DataFrame 'df_20'\n",
    "matriculas_unicas = df_20['MATRICULA'].unique()\n",
    "\n",
    "# Calcula o número total de matrículas únicas\n",
    "tamanho = len(matriculas_unicas)\n",
    "\n",
    "print(f\"O DataFrame de 2020 tem {tamanho} matrículas únicas\")"
   ]
  },
  {
   "cell_type": "code",
   "execution_count": null,
   "metadata": {
    "colab": {
     "base_uri": "https://localhost:8080/"
    },
    "id": "Gt0za9Unhzsn",
    "outputId": "06387998-ef2e-4f17-9b5a-9277bd8f2c28"
   },
   "outputs": [],
   "source": [
    "# Calcula a soma total do consumo medido no DataFrame 'df_20'\n",
    "soma_consumo = df_20['CONS_MEDIDO'].sum()\n",
    "\n",
    "print(f\"Em 2020 foi consumido {soma_consumo} m^3\")"
   ]
  },
  {
   "cell_type": "markdown",
   "metadata": {
    "id": "kgEAjn0Lhzso"
   },
   "source": [
    "## Gráficos\n",
    "\n",
    "Nesta seção, apresentamos uma série de visualizações que ilustram as principais tendências e padrões encontrados nos dados. Os gráficos fornecem uma maneira intuitiva de entender a distribuição, variação e correlação entre as diferentes variáveis analisadas.\n"
   ]
  },
  {
   "cell_type": "markdown",
   "metadata": {
    "id": "ngixW9XBhzso"
   },
   "source": [
    "### Consumo Médio Mensal e Temperatura Média\n",
    "\n",
    "Este gráfico ilustra a relação entre o consumo médio de água e a temperatura média ao longo dos meses de 2020. A linha verde tracejada representa o consumo médio mensal, enquanto a linha vermelha sólida mostra a variação da temperatura média mensal.\n"
   ]
  },
  {
   "cell_type": "code",
   "execution_count": null,
   "metadata": {
    "colab": {
     "base_uri": "https://localhost:8080/",
     "height": 517
    },
    "id": "sZAW6Dmwhzso",
    "outputId": "ce00e44b-85ba-4db5-93fa-d5c64d8159fa"
   },
   "outputs": [],
   "source": [
    "# Cria uma figura para o gráfico\n",
    "fig = go.Figure()\n",
    "\n",
    "# Adiciona a linha do consumo médio ao gráfico\n",
    "fig.add_trace(go.Scatter(\n",
    "    x=df_combined_20['MES'],\n",
    "    y=df_combined_20['CONS_MEDIDO'],\n",
    "    mode='lines+markers',\n",
    "    name='Consumo Médio',\n",
    "    line=dict(color='green', dash='dash')\n",
    "))\n",
    "\n",
    "# Adiciona a linha da temperatura média ao gráfico\n",
    "fig.add_trace(go.Scatter(\n",
    "    x=df_combined_20['MES'],\n",
    "    y=df_combined_20['Temperatura Média'],\n",
    "    mode='lines+markers',\n",
    "    name='Temp. Média',\n",
    "    line=dict(color='red'),\n",
    "    yaxis='y2'\n",
    "))\n",
    "\n",
    "# Configura o layout do gráfico\n",
    "fig.update_layout(\n",
    "    title='Consumo Médio Mensal e Temperatura Média - 2020',  # Título do gráfico\n",
    "    xaxis=dict(title='Mês', tickmode='array', tickvals=list(range(1, 13))),  # Configuração do eixo x\n",
    "    yaxis=dict(title='Consumo Médio'),  # Configuração do primeiro eixo y\n",
    "    yaxis2=dict(  # Configuração do segundo eixo y (temperatura)\n",
    "        title='Temperatura (°C)',\n",
    "        overlaying='y',\n",
    "        side='right'\n",
    "    ),\n",
    "    legend=dict(\n",
    "        x=0.5,  # Posiciona a legenda ao centro\n",
    "        y=-0.2,  # Posiciona a legenda abaixo do gráfico\n",
    "        orientation=\"h\",\n",
    "        xanchor=\"center\"\n",
    "    ),\n",
    "    width=800,  # Define a largura do gráfico\n",
    "    height=500  # Define a altura do gráfico\n",
    ")\n",
    "\n",
    "# Exibe o gráfico\n",
    "fig.show()"
   ]
  },
  {
   "cell_type": "code",
   "execution_count": null,
   "metadata": {
    "colab": {
     "base_uri": "https://localhost:8080/"
    },
    "id": "174ohBkQhzso",
    "outputId": "525bae80-5350-4a2b-aa97-cad77325e1ea"
   },
   "outputs": [],
   "source": [
    "# Calcula a correlação de Pearson entre o consumo médio e a temperatura média\n",
    "correlation_20 = df_combined_20['CONS_MEDIDO'].corr(df_combined_20['Temperatura Média'])\n",
    "\n",
    "print(f\"Correlação de Pearson entre Consumo Médio e Temperatura Média: {correlation_20:.2f}\")"
   ]
  },
  {
   "cell_type": "markdown",
   "metadata": {
    "id": "aSwedTrXhzso"
   },
   "source": [
    "### Consumo Médio Mensal e Temperatura Média por Categoria"
   ]
  },
  {
   "cell_type": "code",
   "execution_count": null,
   "metadata": {
    "colab": {
     "base_uri": "https://localhost:8080/"
    },
    "id": "IRNI1FmZhzso",
    "outputId": "cc811d7c-2d71-405e-ceff-dcc68ea71733"
   },
   "outputs": [],
   "source": [
    "categorias_unicas = df_20['CATEGORIA'].unique()\n",
    "categorias_unicas"
   ]
  },
  {
   "cell_type": "code",
   "execution_count": null,
   "metadata": {
    "colab": {
     "base_uri": "https://localhost:8080/",
     "height": 517
    },
    "id": "fTA0UqIDhzso",
    "outputId": "2151e3d0-50a0-44a3-e63c-6e362c4811ab"
   },
   "outputs": [],
   "source": [
    "# Filtra os dados para a categoria 'PUBLICA'\n",
    "consumo_publica_20 = df_20[df_20['CATEGORIA'] == 'PUBLICA']\n",
    "\n",
    "# Calcula o consumo médio mensal para a categoria 'PUBLICA'\n",
    "consumo_medio_publica_20 = consumo_publica_20.groupby('MES').agg({'CONS_MEDIDO': 'mean'}).reset_index()\n",
    "\n",
    "# Combina o consumo médio mensal com os dados de temperatura média com base no mês\n",
    "df_combined_publica_20 = pd.merge(consumo_medio_publica_20, df_weather_20, on='MES')\n",
    "\n",
    "# Cria uma figura para o gráfico\n",
    "fig = go.Figure()\n",
    "\n",
    "# Adiciona a linha do consumo médio para a categoria 'PUBLICA'\n",
    "fig.add_trace(go.Scatter(\n",
    "    x=df_combined_publica_20['MES'],\n",
    "    y=df_combined_publica_20['CONS_MEDIDO'],\n",
    "    mode='lines+markers',\n",
    "    name='Consumo Médio (Categoria: Pública)',\n",
    "    line=dict(color='green', dash='dash')\n",
    "))\n",
    "\n",
    "# Adiciona a linha da temperatura média\n",
    "fig.add_trace(go.Scatter(\n",
    "    x=df_combined_publica_20['MES'],\n",
    "    y=df_combined_publica_20['Temperatura Média'],\n",
    "    mode='lines+markers',\n",
    "    name='Temp. Média',\n",
    "    line=dict(color='red'),\n",
    "    yaxis='y2'\n",
    "))\n",
    "\n",
    "# Configura o layout do gráfico\n",
    "fig.update_layout(\n",
    "    title='Consumo Médio Mensal e Temperatura Média para Categoria Pública - 2020',\n",
    "    xaxis=dict(title='Mês', tickmode='array', tickvals=list(range(1, 13))),\n",
    "    yaxis=dict(title='Consumo Médio'),\n",
    "    yaxis2=dict(\n",
    "        title='Temperatura (°C)',\n",
    "        overlaying='y',\n",
    "        side='right'\n",
    "    ),\n",
    "    legend=dict(\n",
    "        x=0.5,\n",
    "        y=-0.2,\n",
    "        orientation=\"h\",\n",
    "        xanchor=\"center\"\n",
    "    ),\n",
    "    width=800,\n",
    "    height=500\n",
    ")\n",
    "\n",
    "# Exibe o gráfico\n",
    "fig.show()"
   ]
  },
  {
   "cell_type": "code",
   "execution_count": null,
   "metadata": {
    "colab": {
     "base_uri": "https://localhost:8080/"
    },
    "id": "Cpuc7SWjhzso",
    "outputId": "68dc89f0-71ae-4880-a084-02c64b9b0e19"
   },
   "outputs": [],
   "source": [
    "# Calcula a correlação de Pearson entre o consumo médio e a temperatura média\n",
    "correlacao_pearson = df_combined_publica_20['CONS_MEDIDO'].corr(df_combined_publica_20['Temperatura Média'])\n",
    "\n",
    "print(f\"Correlação de Pearson entre Consumo Médio e Temperatura Média para a Categoria Pública: {correlacao_pearson:.4f}\")"
   ]
  },
  {
   "cell_type": "code",
   "execution_count": null,
   "metadata": {
    "colab": {
     "base_uri": "https://localhost:8080/",
     "height": 1000
    },
    "id": "R4vXY8T6hzso",
    "outputId": "2ac645ed-0f5d-4af8-bb76-35eac606ebb2"
   },
   "outputs": [],
   "source": [
    "consumo_comercial_20 = df_20[df_20['CATEGORIA'] == 'COMERCIAL']\n",
    "\n",
    "consumo_medio_comercial_20 = consumo_comercial_20.groupby('MES').agg({'CONS_MEDIDO': 'mean'}).reset_index()\n",
    "\n",
    "df_combined_comercial_20 = pd.merge(consumo_medio_comercial_20, df_weather_20, on='MES')\n",
    "\n",
    "fig = go.Figure()\n",
    "\n",
    "fig.add_trace(go.Scatter(\n",
    "    x=df_combined_comercial_20['MES'],\n",
    "    y=df_combined_comercial_20['CONS_MEDIDO'],\n",
    "    mode='lines+markers',\n",
    "    name='Consumo Médio (Categoria: Comercial)',\n",
    "    line=dict(color='green', dash='dash')\n",
    "))\n",
    "\n",
    "fig.add_trace(go.Scatter(\n",
    "    x=df_combined_comercial_20['MES'],\n",
    "    y=df_combined_comercial_20['Temperatura Média'],\n",
    "    mode='lines+markers',\n",
    "    name='Temp. Média',\n",
    "    line=dict(color='red'),\n",
    "    yaxis='y2'\n",
    "))# Filtra os dados para a categoria 'COMERCIAL'\n",
    "consumo_comercial_20 = df_20[df_20['CATEGORIA'] == 'COMERCIAL']\n",
    "\n",
    "# Calcula o consumo médio mensal para a categoria 'COMERCIAL'\n",
    "consumo_medio_comercial_20 = consumo_comercial_20.groupby('MES').agg({'CONS_MEDIDO': 'mean'}).reset_index()\n",
    "\n",
    "# Combina o consumo médio mensal com os dados de temperatura média com base no mês\n",
    "df_combined_comercial_20 = pd.merge(consumo_medio_comercial_20, df_weather_20, on='MES')\n",
    "\n",
    "# Cria uma figura para o gráfico\n",
    "fig = go.Figure()\n",
    "\n",
    "# Adiciona a linha do consumo médio para a categoria 'COMERCIAL'\n",
    "fig.add_trace(go.Scatter(\n",
    "    x=df_combined_comercial_20['MES'],\n",
    "    y=df_combined_comercial_20['CONS_MEDIDO'],\n",
    "    mode='lines+markers',\n",
    "    name='Consumo Médio (Categoria: Comercial)',\n",
    "    line=dict(color='green', dash='dash')\n",
    "))\n",
    "\n",
    "# Adiciona a linha da temperatura média\n",
    "fig.add_trace(go.Scatter(\n",
    "    x=df_combined_comercial_20['MES'],\n",
    "    y=df_combined_comercial_20['Temperatura Média'],\n",
    "    mode='lines+markers',\n",
    "    name='Temp. Média',\n",
    "    line=dict(color='red'),\n",
    "    yaxis='y2'\n",
    "))\n",
    "\n",
    "# Configura o layout do gráfico\n",
    "fig.update_layout(\n",
    "    title='Consumo Médio Mensal e Temperatura Média para Categoria Comercial - 2020',\n",
    "    xaxis=dict(title='Mês', tickmode='array', tickvals=list(range(1, 13))),\n",
    "    yaxis=dict(title='Consumo Médio'),\n",
    "    yaxis2=dict(\n",
    "        title='Temperatura (°C)',\n",
    "        overlaying='y',\n",
    "        side='right'\n",
    "    ),\n",
    "    legend=dict(\n",
    "        x=0.5,\n",
    "        y=-0.2,\n",
    "        orientation=\"h\",\n",
    "        xanchor=\"center\"\n",
    "    ),\n",
    "    width=800,\n",
    "    height=500\n",
    ")\n",
    "\n",
    "# Exibe o gráfico\n",
    "fig.show()\n",
    "\n",
    "fig.update_layout(\n",
    "    title='Consumo Médio Mensal e Temperatura Média para Categoria Comercial - 2020',\n",
    "    xaxis=dict(title='Mês', tickmode='array', tickvals=list(range(1, 13))),\n",
    "    yaxis=dict(title='Consumo Médio'),\n",
    "    yaxis2=dict(\n",
    "        title='Temperatura (°C)',\n",
    "        overlaying='y',\n",
    "        side='right'\n",
    "    ),\n",
    "    legend=dict(\n",
    "        x=0.5,\n",
    "        y=-0.2,\n",
    "        orientation=\"h\",\n",
    "        xanchor=\"center\"\n",
    "    ),\n",
    "    width=800,\n",
    "    height=500\n",
    ")\n",
    "\n",
    "fig.show()"
   ]
  },
  {
   "cell_type": "code",
   "execution_count": null,
   "metadata": {
    "colab": {
     "base_uri": "https://localhost:8080/"
    },
    "id": "fG_vJwVjhzsp",
    "outputId": "f8de65ac-0d19-4fcd-e122-cfa578169e28"
   },
   "outputs": [],
   "source": [
    "# Calcula a correlação de Pearson entre o consumo médio e a temperatura média\n",
    "correlacao_pearson = df_combined_comercial_20['CONS_MEDIDO'].corr(df_combined_comercial_20['Temperatura Média'])\n",
    "\n",
    "print(f\"Correlação de Pearson entre Consumo Médio e Temperatura Média para a Categoria Comercial: {correlacao_pearson:.4f}\")"
   ]
  },
  {
   "cell_type": "code",
   "execution_count": null,
   "metadata": {
    "colab": {
     "base_uri": "https://localhost:8080/",
     "height": 517
    },
    "id": "CefFEUBHhzsp",
    "outputId": "2aea89bc-bdae-488c-fa30-82a551ed682c"
   },
   "outputs": [],
   "source": [
    "# Filtra os dados para a categoria 'RESIDENCIAL'\n",
    "consumo_residencial_20 = df_20[df_20['CATEGORIA'] == 'RESIDENCIAL']\n",
    "\n",
    "# Calcula o consumo médio mensal para a categoria 'RESIDENCIAL'\n",
    "consumo_medio_residencial_20 = consumo_residencial_20.groupby('MES').agg({'CONS_MEDIDO': 'mean'}).reset_index()\n",
    "\n",
    "# Combina o consumo médio mensal com os dados de temperatura média com base no mês\n",
    "df_combined_residencial_20 = pd.merge(consumo_medio_residencial_20, df_weather_20, on='MES')\n",
    "\n",
    "# Cria uma figura para o gráfico\n",
    "fig = go.Figure()\n",
    "\n",
    "# Adiciona a linha do consumo médio para a categoria 'RESIDENCIAL'\n",
    "fig.add_trace(go.Scatter(\n",
    "    x=df_combined_residencial_20['MES'],\n",
    "    y=df_combined_residencial_20['CONS_MEDIDO'],\n",
    "    mode='lines+markers',\n",
    "    name='Consumo Médio (Categoria: Residencial)',\n",
    "    line=dict(color='green', dash='dash')\n",
    "))\n",
    "\n",
    "# Adiciona a linha da temperatura média\n",
    "fig.add_trace(go.Scatter(\n",
    "    x=df_combined_residencial_20['MES'],\n",
    "    y=df_combined_residencial_20['Temperatura Média'],\n",
    "    mode='lines+markers',\n",
    "    name='Temp. Média',\n",
    "    line=dict(color='red'),\n",
    "    yaxis='y2'\n",
    "))\n",
    "\n",
    "# Configura o layout do gráfico\n",
    "fig.update_layout(\n",
    "    title='Consumo Médio Mensal e Temperatura Média para Categoria Residencial - 2020',\n",
    "    xaxis=dict(title='Mês', tickmode='array', tickvals=list(range(1, 13))),\n",
    "    yaxis=dict(title='Consumo Médio'),\n",
    "    yaxis2=dict(\n",
    "        title='Temperatura (°C)',\n",
    "        overlaying='y',\n",
    "        side='right'\n",
    "    ),\n",
    "    legend=dict(\n",
    "        x=0.5,\n",
    "        y=-0.2,\n",
    "        orientation=\"h\",\n",
    "        xanchor=\"center\"\n",
    "    ),\n",
    "    width=800,\n",
    "    height=500\n",
    ")\n",
    "\n",
    "# Exibe o gráfico\n",
    "fig.show()"
   ]
  },
  {
   "cell_type": "code",
   "execution_count": null,
   "metadata": {
    "colab": {
     "base_uri": "https://localhost:8080/"
    },
    "id": "ekbNvuf-hzsp",
    "outputId": "f5a3427f-6ebf-4294-856b-1eaa7be50498"
   },
   "outputs": [],
   "source": [
    "# Calcula a correlação de Pearson entre o consumo médio e a temperatura média\n",
    "correlacao_pearson = df_combined_residencial_20['CONS_MEDIDO'].corr(df_combined_residencial_20['Temperatura Média'])\n",
    "\n",
    "print(f\"Correlação de Pearson entre Consumo Médio e Temperatura Média para a Categoria Residencial: {correlacao_pearson:.4f}\")"
   ]
  },
  {
   "cell_type": "code",
   "execution_count": null,
   "metadata": {
    "colab": {
     "base_uri": "https://localhost:8080/",
     "height": 517
    },
    "id": "UlxHAFxjhzsp",
    "outputId": "f91c2185-3179-4059-f0e1-5fcbc3028e22"
   },
   "outputs": [],
   "source": [
    "# Filtra os dados para a categoria 'INDUSTRIAL'\n",
    "consumo_industrial_20 = df_20[df_20['CATEGORIA'] == 'INDUSTRIAL']\n",
    "\n",
    "# Calcula o consumo médio mensal para a categoria 'INDUSTRIAL'\n",
    "consumo_medio_industrial_20 = consumo_industrial_20.groupby('MES').agg({'CONS_MEDIDO': 'mean'}).reset_index()\n",
    "\n",
    "# Combina o consumo médio mensal com os dados de temperatura média com base no mês\n",
    "df_combined_industrial_20 = pd.merge(consumo_medio_industrial_20, df_weather_20, on='MES')\n",
    "\n",
    "# Cria uma figura para o gráfico\n",
    "fig = go.Figure()\n",
    "\n",
    "# Adiciona a linha do consumo médio para a categoria 'INDUSTRIAL'\n",
    "fig.add_trace(go.Scatter(\n",
    "    x=df_combined_industrial_20['MES'],\n",
    "    y=df_combined_industrial_20['CONS_MEDIDO'],\n",
    "    mode='lines+markers',\n",
    "    name='Consumo Médio (Categoria: Industrial)',\n",
    "    line=dict(color='green', dash='dash')\n",
    "))\n",
    "\n",
    "# Adiciona a linha da temperatura média\n",
    "fig.add_trace(go.Scatter(\n",
    "    x=df_combined_industrial_20['MES'],\n",
    "    y=df_combined_industrial_20['Temperatura Média'],\n",
    "    mode='lines+markers',\n",
    "    name='Temp. Média',\n",
    "    line=dict(color='red'),\n",
    "    yaxis='y2'\n",
    "))\n",
    "\n",
    "# Configura o layout do gráfico\n",
    "fig.update_layout(\n",
    "    title='Consumo Médio Mensal e Temperatura Média para Categoria Industrial - 2020',\n",
    "    xaxis=dict(title='Mês', tickmode='array', tickvals=list(range(1, 13))),\n",
    "    yaxis=dict(title='Consumo Médio'),\n",
    "    yaxis2=dict(\n",
    "        title='Temperatura (°C)',\n",
    "        overlaying='y',\n",
    "        side='right'\n",
    "    ),\n",
    "    legend=dict(\n",
    "        x=0.5,\n",
    "        y=-0.2,\n",
    "        orientation=\"h\",\n",
    "        xanchor=\"center\"\n",
    "    ),\n",
    "    width=800,\n",
    "    height=500\n",
    ")\n",
    "\n",
    "# Exibe o gráfico\n",
    "fig.show()"
   ]
  },
  {
   "cell_type": "code",
   "execution_count": null,
   "metadata": {
    "colab": {
     "base_uri": "https://localhost:8080/"
    },
    "id": "DW_Rci0ohzsp",
    "outputId": "1eb62763-1679-4655-c869-1077e78212eb"
   },
   "outputs": [],
   "source": [
    "# Calcula a correlação de Pearson entre o consumo médio e a temperatura média\n",
    "correlacao_pearson = df_combined_industrial_20['CONS_MEDIDO'].corr(df_combined_industrial_20['Temperatura Média'])\n",
    "\n",
    "print(f\"Correlação de Pearson entre Consumo Médio e Temperatura Média para a Categoria Industrial: {correlacao_pearson:.4f}\")"
   ]
  },
  {
   "cell_type": "markdown",
   "metadata": {
    "id": "38NfDK2Phzsp"
   },
   "source": [
    "### Consumo Médio Mensal por Categoria\n",
    "\n",
    "Nesta seção, apresentamos uma análise detalhada do consumo médio mensal de água para diferentes categorias: Pública, Comercial, Residencial e Industrial. Ao comparar essas categorias lado a lado, podemos identificar padrões de consumo específicos, sazonalidades e variações que refletem as diferentes necessidades e comportamentos de cada grupo ao longo do ano de 2020.\n"
   ]
  },
  {
   "cell_type": "code",
   "execution_count": null,
   "metadata": {
    "colab": {
     "base_uri": "https://localhost:8080/",
     "height": 517
    },
    "id": "rZPr0KTShzsp",
    "outputId": "aa4f36d2-6861-479a-eb0a-6d9915aa66f2"
   },
   "outputs": [],
   "source": [
    "# Define as categorias a serem analisadas\n",
    "categorias = ['PUBLICA', 'COMERCIAL', 'RESIDENCIAL', 'INDUSTRIAL']\n",
    "\n",
    "# Cria uma figura para o gráfico\n",
    "fig = go.Figure()\n",
    "\n",
    "# Loop para adicionar uma linha para cada categoria no gráfico\n",
    "for categoria in categorias:\n",
    "    consumo_categoria = df_20[df_20['CATEGORIA'] == categoria]  # Filtra os dados pela categoria\n",
    "    consumo_medio_categoria = consumo_categoria.groupby('MES').agg({'CONS_MEDIDO': 'mean'}).reset_index()  # Calcula o consumo médio mensal\n",
    "\n",
    "    # Adiciona a linha do consumo médio da categoria ao gráfico\n",
    "    fig.add_trace(go.Scatter(\n",
    "        x=consumo_medio_categoria['MES'],\n",
    "        y=consumo_medio_categoria['CONS_MEDIDO'],\n",
    "        mode='lines+markers',\n",
    "        name=f'Consumo Médio (Categoria: {categoria})'\n",
    "    ))\n",
    "\n",
    "# Configura o layout do gráfico\n",
    "fig.update_layout(\n",
    "    title='Consumo Médio Mensal por Categoria - 2020',\n",
    "    xaxis=dict(title='Mês', tickmode='array', tickvals=list(range(1, 13))),\n",
    "    yaxis=dict(title='Consumo Médio'),\n",
    "    legend=dict(\n",
    "        x=1,\n",
    "        y=1,\n",
    "        orientation=\"v\",\n",
    "        font=dict(size=10),\n",
    "    ),\n",
    "    margin=dict(l=40, r=40, t=40, b=40),\n",
    "    width=800,\n",
    "    height=500\n",
    ")\n",
    "\n",
    "# Exibe o gráfico\n",
    "fig.show()"
   ]
  },
  {
   "cell_type": "markdown",
   "metadata": {
    "id": "B7ekKUozhzsp"
   },
   "source": [
    "### Consumo Médio Mensal por Tipo de Ligação\n",
    "\n",
    "Nesta seção, exploramos o consumo médio mensal de água segmentado por tipo de ligação: Hidrometrado e Consumo Fixo. Essa análise permite observar como o consumo varia ao longo do ano para cada tipo de ligação.\n"
   ]
  },
  {
   "cell_type": "code",
   "execution_count": null,
   "metadata": {
    "colab": {
     "base_uri": "https://localhost:8080/"
    },
    "id": "i3zDjJ-4hzsp",
    "outputId": "01972b7e-5c08-450f-8051-3bb5dcd7cbdb"
   },
   "outputs": [],
   "source": [
    "# Obtém os valores únicos da coluna 'TIPO_LIGACAO' no DataFrame 'df_19'\n",
    "tipo_ligacao = df_20['TIPO_LIGACAO'].unique()\n",
    "tipo_ligacao"
   ]
  },
  {
   "cell_type": "code",
   "execution_count": null,
   "metadata": {
    "colab": {
     "base_uri": "https://localhost:8080/",
     "height": 517
    },
    "id": "MwAKg4Nthzsq",
    "outputId": "cae78784-a800-4c39-84a1-d902ea984b7f"
   },
   "outputs": [],
   "source": [
    "# Define os tipos de ligação a serem analisados\n",
    "tipos_ligacao = ['Hidrometrado', 'Consumo Fixo']\n",
    "\n",
    "# Cria uma figura para o gráfico\n",
    "fig = go.Figure()\n",
    "\n",
    "# Loop para adicionar uma linha para cada tipo de ligação no gráfico\n",
    "for tipo in tipos_ligacao:\n",
    "    consumo_tipo = df_20[df_20['TIPO_LIGACAO'] == tipo]  # Filtra os dados pelo tipo de ligação\n",
    "    consumo_medio_tipo = consumo_tipo.groupby('MES').agg({'CONS_MEDIDO': 'mean'}).reset_index()  # Calcula o consumo médio mensal\n",
    "\n",
    "    # Adiciona a linha do consumo médio do tipo de ligação ao gráfico\n",
    "    fig.add_trace(go.Scatter(\n",
    "        x=consumo_medio_tipo['MES'],\n",
    "        y=consumo_medio_tipo['CONS_MEDIDO'],\n",
    "        mode='lines+markers',\n",
    "        name=f'Consumo Médio ({tipo})'\n",
    "    ))\n",
    "\n",
    "# Configura o layout do gráfico\n",
    "fig.update_layout(\n",
    "    title='Consumo Médio Mensal por Tipo de Ligação - 2020',\n",
    "    xaxis=dict(title='Mês', tickmode='array', tickvals=list(range(1, 13))),\n",
    "    yaxis=dict(title='Consumo Médio'),\n",
    "    legend=dict(\n",
    "        x=1,\n",
    "        y=1,\n",
    "        orientation=\"v\",\n",
    "        font=dict(size=10),\n",
    "    ),\n",
    "    margin=dict(l=40, r=40, t=40, b=40),\n",
    "    width=800,\n",
    "    height=500\n",
    ")\n",
    "\n",
    "# Exibe o gráfico\n",
    "fig.show()"
   ]
  },
  {
   "cell_type": "markdown",
   "metadata": {
    "id": "zOgdBEOxhzsq"
   },
   "source": [
    "### Consumo Médio Mensal por Subcategoria\n",
    "\n",
    "Nesta seção, analisamos o consumo médio mensal de água segmentado por subcategoria. As subcategorias incluem Pública, Comercial, Residencial, Residencial Social, Industrial e Residencial Indubrasil.\n"
   ]
  },
  {
   "cell_type": "code",
   "execution_count": null,
   "metadata": {
    "colab": {
     "base_uri": "https://localhost:8080/"
    },
    "id": "n-KDfD47hzsq",
    "outputId": "5d2bf89b-ab0f-481f-b053-1bed57e88e8e"
   },
   "outputs": [],
   "source": [
    "sub_categoria = df_20['SUB_CATEGORIA'].unique()\n",
    "sub_categoria"
   ]
  },
  {
   "cell_type": "code",
   "execution_count": null,
   "metadata": {
    "colab": {
     "base_uri": "https://localhost:8080/",
     "height": 517
    },
    "id": "zzh2BR6rhzsq",
    "outputId": "d656ee99-f44f-472c-dce5-b00e996cec54"
   },
   "outputs": [],
   "source": [
    "# Define as subcategorias a serem analisadas\n",
    "sub_categorias = ['PUBLICA', 'COMERCIAL', 'RESIDENCIAL', 'RES. SOCIAL', 'INDUSTRIAL', 'RES. INDUBRASIL']\n",
    "\n",
    "# Cria uma figura para o gráfico\n",
    "fig = go.Figure()\n",
    "\n",
    "# Loop para adicionar uma linha para cada subcategoria no gráfico\n",
    "for sub_categoria in sub_categorias:\n",
    "    consumo_sub_categoria = df_20[df_20['SUB_CATEGORIA'] == sub_categoria]  # Filtra os dados pela subcategoria\n",
    "    consumo_medio_sub_categoria = consumo_sub_categoria.groupby('MES').agg({'CONS_MEDIDO': 'mean'}).reset_index()  # Calcula o consumo médio mensal\n",
    "\n",
    "    # Adiciona a linha do consumo médio da subcategoria ao gráfico\n",
    "    fig.add_trace(go.Scatter(\n",
    "        x=consumo_medio_sub_categoria['MES'],\n",
    "        y=consumo_medio_sub_categoria['CONS_MEDIDO'],\n",
    "        mode='lines+markers',\n",
    "        name=f'Consumo Médio ({sub_categoria})'\n",
    "    ))\n",
    "\n",
    "# Configura o layout do gráfico\n",
    "fig.update_layout(\n",
    "    title='Consumo Médio Mensal por Subcategoria - 2020',\n",
    "    xaxis=dict(title='Mês', tickmode='array', tickvals=list(range(1, 13))),\n",
    "    yaxis=dict(title='Consumo Médio'),\n",
    "    legend=dict(\n",
    "        x=1,\n",
    "        y=1,\n",
    "        orientation=\"v\",\n",
    "        font=dict(size=10),\n",
    "    ),\n",
    "    margin=dict(l=40, r=40, t=40, b=40),\n",
    "    width=800,\n",
    "    height=500\n",
    ")\n",
    "\n",
    "# Exibe o gráfico\n",
    "fig.show()"
   ]
  },
  {
   "cell_type": "markdown",
   "metadata": {
    "id": "9g1zeu_alCMe"
   },
   "source": [
    "# Consumo 2021\n"
   ]
  },
  {
   "cell_type": "markdown",
   "metadata": {
    "id": "8LQjU-P8lCMp"
   },
   "source": [
    "## Estruturação dos datasets\n",
    "\n",
    "Nesta seção, iremos organizar os arquivos, dataset do Consumo 2021 e os dados climáticos, que serão utilizados."
   ]
  },
  {
   "cell_type": "code",
   "execution_count": null,
   "metadata": {
    "id": "H2-mPD_vlCMp"
   },
   "outputs": [],
   "source": [
    "df_21 = pd.read_csv(\"/content/dataset_consumo_2021.csv\", delimiter=\",\")"
   ]
  },
  {
   "cell_type": "code",
   "execution_count": null,
   "metadata": {
    "colab": {
     "base_uri": "https://localhost:8080/",
     "height": 443
    },
    "id": "WyCff7VYlCMp",
    "outputId": "1d5d36f8-d6ea-4f35-ed09-ea5c7b707cb3"
   },
   "outputs": [],
   "source": [
    "df_21"
   ]
  },
  {
   "cell_type": "markdown",
   "metadata": {
    "id": "NpE-pQnUr9H-"
   },
   "source": [
    "Para o código a seguir é importante ressaltar que a Latitude e a Longitude foram retiradas de: [Campo Grande MS](https://pt.db-city.com/Brasil--Mato-Grosso-do-Sul--Campo-Grande)"
   ]
  },
  {
   "cell_type": "code",
   "execution_count": null,
   "metadata": {
    "id": "hSlGG0u-lCMq"
   },
   "outputs": [],
   "source": [
    "# Define a localização geográfica\n",
    "location = Point(-20.4435, -54.6478)\n",
    "\n",
    "# Define as datas de início e fim\n",
    "start = datetime(2021, 1, 1)\n",
    "end = datetime(2021, 12, 31)\n",
    "\n",
    "# Busca os dados diários para a localização e período definidos\n",
    "data = Daily(location, start, end)\n",
    "data = data.fetch()\n",
    "\n",
    "# Calcula a média mensal dos dados diários\n",
    "df_monthly_weather_21 = data.resample('M').mean()"
   ]
  },
  {
   "cell_type": "code",
   "execution_count": null,
   "metadata": {
    "colab": {
     "base_uri": "https://localhost:8080/",
     "height": 737
    },
    "id": "YaXmWMymlCMq",
    "outputId": "80699829-6383-43dd-eb0f-97bc3f32e7e3"
   },
   "outputs": [],
   "source": [
    "# Renomeia as colunas do DataFrame para nomes mais descritivos\n",
    "df_weather_21 = df_monthly_weather_21.rename(columns={\n",
    "    'tavg': 'Temperatura Média',\n",
    "    'tmin': 'Temperatura Mínima',\n",
    "    'tmax': 'Temperatura Máxima',\n",
    "    'prcp': 'Precipitação',\n",
    "    'snow': 'Neve',\n",
    "    'wdir': 'Direção do Vento',\n",
    "    'wspd': 'Velocidade do Vento',\n",
    "    'wpgt': 'Rajada Máxima de Vento',\n",
    "    'pres': 'Pressão Atmosférica',\n",
    "    'tsun': 'Insolação'\n",
    "})\n",
    "\n",
    "# Exibe o DataFrame renomeado\n",
    "df_weather_21"
   ]
  },
  {
   "cell_type": "code",
   "execution_count": null,
   "metadata": {
    "id": "mL0X98X9lCMq"
   },
   "outputs": [],
   "source": [
    "df_weather_21 = df_weather_21.drop(columns=['Neve', 'Precipitação', 'Direção do Vento', 'Velocidade do Vento', 'Rajada Máxima de Vento', 'Pressão Atmosférica', 'Insolação'])\n",
    "\n",
    "df_weather_21"
   ]
  },
  {
   "cell_type": "code",
   "execution_count": null,
   "metadata": {
    "id": "Fqxa9xrllCMq"
   },
   "outputs": [],
   "source": [
    "# Converte a coluna 'REFERENCIA' para o tipo datetime\n",
    "df_21['REFERENCIA'] = pd.to_datetime(df_21['REFERENCIA'])\n",
    "\n",
    "# Extrai o mês da coluna 'REFERENCIA' e cria a coluna 'MES'\n",
    "df_21['MES'] = df_21['REFERENCIA'].dt.month\n",
    "\n",
    "# Extrai o mês do índice do DataFrame de clima e cria a coluna 'MES'\n",
    "df_weather_21['MES'] = df_weather_21.index.month\n",
    "\n",
    "# Calcula o consumo médio mensal e reseta o índice\n",
    "consumo_medio_21 = df_21.groupby('MES')['CONS_MEDIDO'].mean().reset_index()\n",
    "\n",
    "# Combina o consumo médio mensal com os dados climáticos com base na coluna 'MES'\n",
    "df_combined_21 = pd.merge(consumo_medio_21, df_weather_21, on='MES')"
   ]
  },
  {
   "cell_type": "markdown",
   "metadata": {
    "id": "QkyQpB8IlCMq"
   },
   "source": [
    "## Big Numbers\n",
    "\n",
    "Nesta seção, apresentamos os alguns indicadores e métricas do nosso dataset, destacando valores significativos que fornecem uma visão rápida e intuitiva sobre o comportamento dos dados."
   ]
  },
  {
   "cell_type": "code",
   "execution_count": null,
   "metadata": {
    "colab": {
     "base_uri": "https://localhost:8080/"
    },
    "id": "WtVnwJqglCMq",
    "outputId": "81be0986-08e6-40ab-ad93-216f4ca31f40"
   },
   "outputs": [],
   "source": [
    "# Obtém o número de linhas e colunas do DataFrame 'df_21'\n",
    "linhas, colunas = df_21.shape\n",
    "\n",
    "print(f\"O DataFrame de 2021 tem {linhas} linhas e {colunas} colunas.\")"
   ]
  },
  {
   "cell_type": "code",
   "execution_count": null,
   "metadata": {
    "colab": {
     "base_uri": "https://localhost:8080/"
    },
    "id": "-_9XOOHulCMr",
    "outputId": "6aab80d1-a98f-4042-aebf-d70ca9f841c2"
   },
   "outputs": [],
   "source": [
    "# Obtém os valores únicos da coluna 'MATRICULA' no DataFrame 'df_21'\n",
    "matriculas_unicas = df_21['MATRICULA'].unique()\n",
    "\n",
    "# Calcula o número total de matrículas únicas\n",
    "tamanho = len(matriculas_unicas)\n",
    "\n",
    "print(f\"O DataFrame de 2021 tem {tamanho} matrículas únicas\")"
   ]
  },
  {
   "cell_type": "code",
   "execution_count": null,
   "metadata": {
    "colab": {
     "base_uri": "https://localhost:8080/"
    },
    "id": "GqloAUMflCMr",
    "outputId": "6a97897b-e85c-417b-b139-d88dd40a2f90"
   },
   "outputs": [],
   "source": [
    "# Calcula a soma total do consumo medido no DataFrame 'df_21'\n",
    "soma_consumo = df_21['CONS_MEDIDO'].sum()\n",
    "\n",
    "print(f\"Em 2021 foi consumido {soma_consumo} m^3\")"
   ]
  },
  {
   "cell_type": "markdown",
   "metadata": {
    "id": "IG7UdKEylCMr"
   },
   "source": [
    "## Gráficos\n",
    "\n",
    "Nesta seção, apresentamos uma série de visualizações que ilustram as principais tendências e padrões encontrados nos dados. Os gráficos fornecem uma maneira intuitiva de entender a distribuição, variação e correlação entre as diferentes variáveis analisadas.\n"
   ]
  },
  {
   "cell_type": "markdown",
   "metadata": {
    "id": "hlS3tAIHlCMr"
   },
   "source": [
    "### Consumo Médio Mensal e Temperatura Média\n",
    "\n",
    "Este gráfico ilustra a relação entre o consumo médio de água e a temperatura média ao longo dos meses de 2021. A linha verde tracejada representa o consumo médio mensal, enquanto a linha vermelha sólida mostra a variação da temperatura média mensal.\n"
   ]
  },
  {
   "cell_type": "code",
   "execution_count": null,
   "metadata": {
    "colab": {
     "base_uri": "https://localhost:8080/",
     "height": 517
    },
    "id": "HMSxbiWnlCMr",
    "outputId": "417322e8-686b-429a-b78f-d77b5da44305"
   },
   "outputs": [],
   "source": [
    "# Cria uma figura para o gráfico\n",
    "fig = go.Figure()\n",
    "\n",
    "# Adiciona a linha do consumo médio ao gráfico\n",
    "fig.add_trace(go.Scatter(\n",
    "    x=df_combined_21['MES'],\n",
    "    y=df_combined_21['CONS_MEDIDO'],\n",
    "    mode='lines+markers',\n",
    "    name='Consumo Médio',\n",
    "    line=dict(color='green', dash='dash')\n",
    "))\n",
    "\n",
    "# Adiciona a linha da temperatura média ao gráfico\n",
    "fig.add_trace(go.Scatter(\n",
    "    x=df_combined_21['MES'],\n",
    "    y=df_combined_21['Temperatura Média'],\n",
    "    mode='lines+markers',\n",
    "    name='Temp. Média',\n",
    "    line=dict(color='red'),\n",
    "    yaxis='y2'\n",
    "))\n",
    "\n",
    "# Configura o layout do gráfico\n",
    "fig.update_layout(\n",
    "    title='Consumo Médio Mensal e Temperatura Média - 2021',\n",
    "    xaxis=dict(title='Mês', tickmode='array', tickvals=list(range(1, 13))),\n",
    "    yaxis=dict(title='Consumo Médio'),\n",
    "    yaxis2=dict(\n",
    "        title='Temperatura (°C)',\n",
    "        overlaying='y',\n",
    "        side='right'\n",
    "    ),\n",
    "    legend=dict(\n",
    "        x=0.5,\n",
    "        y=-0.2,\n",
    "        orientation=\"h\",\n",
    "        xanchor=\"center\"\n",
    "    ),\n",
    "    width=800,\n",
    "    height=500\n",
    ")\n",
    "\n",
    "# Exibe o gráfico\n",
    "fig.show()"
   ]
  },
  {
   "cell_type": "code",
   "execution_count": null,
   "metadata": {
    "colab": {
     "base_uri": "https://localhost:8080/"
    },
    "id": "Cz-UsyW6lCMr",
    "outputId": "1f25c229-21a8-4f83-b225-f0333e8afaef"
   },
   "outputs": [],
   "source": [
    "# Calcula a correlação de Pearson entre o consumo médio e a temperatura média\n",
    "correlation_21 = df_combined_21['CONS_MEDIDO'].corr(df_combined_21['Temperatura Média'])\n",
    "\n",
    "print(f\"Correlação de Pearson entre Consumo Médio e Temperatura Média: {correlation_21:.2f}\")"
   ]
  },
  {
   "cell_type": "markdown",
   "metadata": {
    "id": "dZe55eAXlCMr"
   },
   "source": [
    "### Consumo Médio Mensal e Temperatura Média por Categoria"
   ]
  },
  {
   "cell_type": "code",
   "execution_count": null,
   "metadata": {
    "colab": {
     "base_uri": "https://localhost:8080/"
    },
    "id": "BdwdJmi3lCMr",
    "outputId": "d9f94f94-0b6c-424f-a623-36e2f8f52756"
   },
   "outputs": [],
   "source": [
    "categorias_unicas = df_21['CATEGORIA'].unique()\n",
    "categorias_unicas"
   ]
  },
  {
   "cell_type": "code",
   "execution_count": null,
   "metadata": {
    "colab": {
     "base_uri": "https://localhost:8080/",
     "height": 517
    },
    "id": "0OVXns6ulCMr",
    "outputId": "20fa692a-7490-4e27-c8b0-d6facf0180c9"
   },
   "outputs": [],
   "source": [
    "# Filtra os dados para a categoria 'PUBLICA'\n",
    "consumo_publica_21 = df_21[df_21['CATEGORIA'] == 'PUBLICA']\n",
    "\n",
    "# Calcula o consumo médio mensal para a categoria 'PUBLICA'\n",
    "consumo_medio_publica_21 = consumo_publica_21.groupby('MES').agg({'CONS_MEDIDO': 'mean'}).reset_index()\n",
    "\n",
    "# Combina o consumo médio mensal com os dados de temperatura média com base no mês\n",
    "df_combined_publica_21 = pd.merge(consumo_medio_publica_21, df_weather_21, on='MES')\n",
    "\n",
    "# Cria uma figura para o gráfico\n",
    "fig = go.Figure()\n",
    "\n",
    "# Adiciona a linha do consumo médio para a categoria 'PUBLICA'\n",
    "fig.add_trace(go.Scatter(\n",
    "    x=df_combined_publica_21['MES'],\n",
    "    y=df_combined_publica_21['CONS_MEDIDO'],\n",
    "    mode='lines+markers',\n",
    "    name='Consumo Médio (Categoria: Pública)',\n",
    "    line=dict(color='green', dash='dash')\n",
    "))\n",
    "\n",
    "# Adiciona a linha da temperatura média\n",
    "fig.add_trace(go.Scatter(\n",
    "    x=df_combined_publica_21['MES'],\n",
    "    y=df_combined_publica_21['Temperatura Média'],\n",
    "    mode='lines+markers',\n",
    "    name='Temp. Média',\n",
    "    line=dict(color='red'),\n",
    "    yaxis='y2'\n",
    "))\n",
    "\n",
    "# Configura o layout do gráfico\n",
    "fig.update_layout(\n",
    "    title='Consumo Médio Mensal e Temperatura Média para Categoria Pública - 2021',\n",
    "    xaxis=dict(title='Mês', tickmode='array', tickvals=list(range(1, 13))),\n",
    "    yaxis=dict(title='Consumo Médio'),\n",
    "    yaxis2=dict(\n",
    "        title='Temperatura (°C)',\n",
    "        overlaying='y',\n",
    "        side='right'\n",
    "    ),\n",
    "    legend=dict(\n",
    "        x=0.5,\n",
    "        y=-0.2,\n",
    "        orientation=\"h\",\n",
    "        xanchor=\"center\"\n",
    "    ),\n",
    "    width=800,\n",
    "    height=500\n",
    ")\n",
    "\n",
    "# Exibe o gráfico\n",
    "fig.show()"
   ]
  },
  {
   "cell_type": "code",
   "execution_count": null,
   "metadata": {
    "colab": {
     "base_uri": "https://localhost:8080/"
    },
    "id": "tffFpt9PlCMr",
    "outputId": "eb082f01-dcd6-4828-81f0-c7b889cc2f2d"
   },
   "outputs": [],
   "source": [
    "# Calcula a correlação de Pearson entre o consumo médio e a temperatura média\n",
    "correlacao_pearson = df_combined_publica_21['CONS_MEDIDO'].corr(df_combined_publica_21['Temperatura Média'])\n",
    "\n",
    "print(f\"Correlação de Pearson entre Consumo Médio e Temperatura Média para a Categoria Pública: {correlacao_pearson:.4f}\")"
   ]
  },
  {
   "cell_type": "code",
   "execution_count": null,
   "metadata": {
    "colab": {
     "base_uri": "https://localhost:8080/",
     "height": 517
    },
    "id": "-aCULDhLlCMr",
    "outputId": "65f942f0-6271-4174-ea71-6163b00b34d4"
   },
   "outputs": [],
   "source": [
    "# Filtra os dados para a categoria 'COMERCIAL'\n",
    "consumo_comercial_21 = df_21[df_21['CATEGORIA'] == 'COMERCIAL']\n",
    "\n",
    "# Calcula o consumo médio mensal para a categoria 'COMERCIAL'\n",
    "consumo_medio_comercial_21 = consumo_comercial_21.groupby('MES').agg({'CONS_MEDIDO': 'mean'}).reset_index()\n",
    "\n",
    "# Combina o consumo médio mensal com os dados de temperatura média com base no mês\n",
    "df_combined_comercial_21 = pd.merge(consumo_medio_comercial_21, df_weather_21, on='MES')\n",
    "\n",
    "# Cria uma figura para o gráfico\n",
    "fig = go.Figure()\n",
    "\n",
    "# Adiciona a linha do consumo médio para a categoria 'COMERCIAL'\n",
    "fig.add_trace(go.Scatter(\n",
    "    x=df_combined_comercial_21['MES'],\n",
    "    y=df_combined_comercial_21['CONS_MEDIDO'],\n",
    "    mode='lines+markers',\n",
    "    name='Consumo Médio (Categoria: Comercial)',\n",
    "    line=dict(color='green', dash='dash')\n",
    "))\n",
    "\n",
    "# Adiciona a linha da temperatura média\n",
    "fig.add_trace(go.Scatter(\n",
    "    x=df_combined_comercial_21['MES'],\n",
    "    y=df_combined_comercial_21['Temperatura Média'],\n",
    "    mode='lines+markers',\n",
    "    name='Temp. Média',\n",
    "    line=dict(color='red'),\n",
    "    yaxis='y2'\n",
    "))\n",
    "\n",
    "# Configura o layout do gráfico\n",
    "fig.update_layout(\n",
    "    title='Consumo Médio Mensal e Temperatura Média para Categoria Comercial - 2021',\n",
    "    xaxis=dict(title='Mês', tickmode='array', tickvals=list(range(1, 13))),\n",
    "    yaxis=dict(title='Consumo Médio'),\n",
    "    yaxis2=dict(\n",
    "        title='Temperatura (°C)',\n",
    "        overlaying='y',\n",
    "        side='right'\n",
    "    ),\n",
    "    legend=dict(\n",
    "        x=0.5,\n",
    "        y=-0.2,\n",
    "        orientation=\"h\",\n",
    "        xanchor=\"center\"\n",
    "    ),\n",
    "    width=800,\n",
    "    height=500\n",
    ")\n",
    "\n",
    "# Exibe o gráfico\n",
    "fig.show()"
   ]
  },
  {
   "cell_type": "code",
   "execution_count": null,
   "metadata": {
    "colab": {
     "base_uri": "https://localhost:8080/"
    },
    "id": "qOvB3fqwlCMs",
    "outputId": "c34e7c79-312f-4ab3-9f30-332f5bcdfe51"
   },
   "outputs": [],
   "source": [
    "# Calcula a correlação de Pearson entre o consumo médio e a temperatura média\n",
    "correlacao_pearson = df_combined_comercial_21['CONS_MEDIDO'].corr(df_combined_comercial_21['Temperatura Média'])\n",
    "\n",
    "print(f\"Correlação de Pearson entre Consumo Médio e Temperatura Média para a Categoria Comercial: {correlacao_pearson:.4f}\")"
   ]
  },
  {
   "cell_type": "code",
   "execution_count": null,
   "metadata": {
    "colab": {
     "base_uri": "https://localhost:8080/",
     "height": 517
    },
    "id": "MiEcslzWlCMs",
    "outputId": "ebd6b892-7f21-49c4-e9c1-0a8439c065f5"
   },
   "outputs": [],
   "source": [
    "# Filtra os dados para a categoria 'RESIDENCIAL'\n",
    "consumo_residencial_21 = df_21[df_21['CATEGORIA'] == 'RESIDENCIAL']\n",
    "\n",
    "# Calcula o consumo médio mensal para a categoria 'RESIDENCIAL'\n",
    "consumo_medio_residencial_21 = consumo_residencial_21.groupby('MES').agg({'CONS_MEDIDO': 'mean'}).reset_index()\n",
    "\n",
    "# Combina o consumo médio mensal com os dados de temperatura média com base no mês\n",
    "df_combined_residencial_21 = pd.merge(consumo_medio_residencial_21, df_weather_21, on='MES')\n",
    "\n",
    "# Cria uma figura para o gráfico\n",
    "fig = go.Figure()\n",
    "\n",
    "# Adiciona a linha do consumo médio para a categoria 'RESIDENCIAL'\n",
    "fig.add_trace(go.Scatter(\n",
    "    x=df_combined_residencial_21['MES'],\n",
    "    y=df_combined_residencial_21['CONS_MEDIDO'],\n",
    "    mode='lines+markers',\n",
    "    name='Consumo Médio (Categoria: Residencial)',\n",
    "    line=dict(color='green', dash='dash')\n",
    "))\n",
    "\n",
    "# Adiciona a linha da temperatura média\n",
    "fig.add_trace(go.Scatter(\n",
    "    x=df_combined_residencial_21['MES'],\n",
    "    y=df_combined_residencial_21['Temperatura Média'],\n",
    "    mode='lines+markers',\n",
    "    name='Temp. Média',\n",
    "    line=dict(color='red'),\n",
    "    yaxis='y2'\n",
    "))\n",
    "\n",
    "# Configura o layout do gráfico\n",
    "fig.update_layout(\n",
    "    title='Consumo Médio Mensal e Temperatura Média para Categoria Residencial - 2021',\n",
    "    xaxis=dict(title='Mês', tickmode='array', tickvals=list(range(1, 13))),\n",
    "    yaxis=dict(title='Consumo Médio'),\n",
    "    yaxis2=dict(\n",
    "        title='Temperatura (°C)',\n",
    "        overlaying='y',\n",
    "        side='right'\n",
    "    ),\n",
    "    legend=dict(\n",
    "        x=0.5,\n",
    "        y=-0.2,\n",
    "        orientation=\"h\",\n",
    "        xanchor=\"center\"\n",
    "    ),\n",
    "    width=800,\n",
    "    height=500\n",
    ")\n",
    "\n",
    "# Exibe o gráfico\n",
    "fig.show()"
   ]
  },
  {
   "cell_type": "code",
   "execution_count": null,
   "metadata": {
    "colab": {
     "base_uri": "https://localhost:8080/"
    },
    "id": "MWUauazGlCMs",
    "outputId": "92f24c36-73a4-4dff-a785-ec23174bf2ee"
   },
   "outputs": [],
   "source": [
    "# Calcula a correlação de Pearson entre o consumo médio e a temperatura média\n",
    "correlacao_pearson = df_combined_residencial_21['CONS_MEDIDO'].corr(df_combined_residencial_21['Temperatura Média'])\n",
    "\n",
    "print(f\"Correlação de Pearson entre Consumo Médio e Temperatura Média para a Categoria Residencial: {correlacao_pearson:.4f}\")"
   ]
  },
  {
   "cell_type": "code",
   "execution_count": null,
   "metadata": {
    "colab": {
     "base_uri": "https://localhost:8080/",
     "height": 517
    },
    "id": "mcx4JT9MlCMs",
    "outputId": "ca1ff3fa-2154-42d6-b9ac-75f269677627"
   },
   "outputs": [],
   "source": [
    "# Filtra os dados para a categoria 'INDUSTRIAL'\n",
    "consumo_industrial_21 = df_21[df_21['CATEGORIA'] == 'INDUSTRIAL']\n",
    "\n",
    "# Calcula o consumo médio mensal para a categoria 'INDUSTRIAL'\n",
    "consumo_medio_industrial_21 = consumo_industrial_21.groupby('MES').agg({'CONS_MEDIDO': 'mean'}).reset_index()\n",
    "\n",
    "# Combina o consumo médio mensal com os dados de temperatura média com base no mês\n",
    "df_combined_industrial_21 = pd.merge(consumo_medio_industrial_21, df_weather_21, on='MES')\n",
    "\n",
    "# Cria uma figura para o gráfico\n",
    "fig = go.Figure()\n",
    "\n",
    "# Adiciona a linha do consumo médio para a categoria 'INDUSTRIAL'\n",
    "fig.add_trace(go.Scatter(\n",
    "    x=df_combined_industrial_21['MES'],\n",
    "    y=df_combined_industrial_21['CONS_MEDIDO'],\n",
    "    mode='lines+markers',\n",
    "    name='Consumo Médio (Categoria: Industrial)',\n",
    "    line=dict(color='green', dash='dash')\n",
    "))\n",
    "\n",
    "# Adiciona a linha da temperatura média\n",
    "fig.add_trace(go.Scatter(\n",
    "    x=df_combined_industrial_21['MES'],\n",
    "    y=df_combined_industrial_21['Temperatura Média'],\n",
    "    mode='lines+markers',\n",
    "    name='Temp. Média',\n",
    "    line=dict(color='red'),\n",
    "    yaxis='y2'\n",
    "))\n",
    "\n",
    "# Configura o layout do gráfico\n",
    "fig.update_layout(\n",
    "    title='Consumo Médio Mensal e Temperatura Média para Categoria Industrial - 2021',\n",
    "    xaxis=dict(title='Mês', tickmode='array', tickvals=list(range(1, 13))),\n",
    "    yaxis=dict(title='Consumo Médio'),\n",
    "    yaxis2=dict(\n",
    "        title='Temperatura (°C)',\n",
    "        overlaying='y',\n",
    "        side='right'\n",
    "    ),\n",
    "    legend=dict(\n",
    "        x=0.5,\n",
    "        y=-0.2,\n",
    "        orientation=\"h\",\n",
    "        xanchor=\"center\"\n",
    "    ),\n",
    "    width=800,\n",
    "    height=500\n",
    ")\n",
    "\n",
    "# Exibe o gráfico\n",
    "fig.show()"
   ]
  },
  {
   "cell_type": "code",
   "execution_count": null,
   "metadata": {
    "colab": {
     "base_uri": "https://localhost:8080/"
    },
    "id": "QxjHboEWlCMs",
    "outputId": "11dd90f8-2639-41b9-b085-4063854c93d2"
   },
   "outputs": [],
   "source": [
    "# Calcula a correlação de Pearson entre o consumo médio e a temperatura média\n",
    "correlacao_pearson = df_combined_industrial_21['CONS_MEDIDO'].corr(df_combined_industrial_21['Temperatura Média'])\n",
    "\n",
    "print(f\"Correlação de Pearson entre Consumo Médio e Temperatura Média para a Categoria Industrial: {correlacao_pearson:.4f}\")"
   ]
  },
  {
   "cell_type": "markdown",
   "metadata": {
    "id": "Z_8XOl7OlCMs"
   },
   "source": [
    "### Consumo Médio Mensal por Categoria"
   ]
  },
  {
   "cell_type": "code",
   "execution_count": null,
   "metadata": {
    "colab": {
     "base_uri": "https://localhost:8080/",
     "height": 517
    },
    "id": "9vlSl5SOlCMs",
    "outputId": "0076241c-a7d0-458a-f41a-5bd20582e21e"
   },
   "outputs": [],
   "source": [
    "# Define as categorias a serem analisadas\n",
    "categorias = ['PUBLICA', 'COMERCIAL', 'RESIDENCIAL', 'INDUSTRIAL']\n",
    "\n",
    "# Cria uma figura para o gráfico\n",
    "fig = go.Figure()\n",
    "\n",
    "# Loop para adicionar uma linha para cada categoria no gráfico\n",
    "for categoria in categorias:\n",
    "    consumo_categoria = df_21[df_21['CATEGORIA'] == categoria]  # Filtra os dados pela categoria\n",
    "    consumo_medio_categoria = consumo_categoria.groupby('MES').agg({'CONS_MEDIDO': 'mean'}).reset_index()  # Calcula o consumo médio mensal\n",
    "\n",
    "    # Adiciona a linha do consumo médio da categoria ao gráfico\n",
    "    fig.add_trace(go.Scatter(\n",
    "        x=consumo_medio_categoria['MES'],\n",
    "        y=consumo_medio_categoria['CONS_MEDIDO'],\n",
    "        mode='lines+markers',\n",
    "        name=f'Consumo Médio (Categoria: {categoria})'\n",
    "    ))\n",
    "\n",
    "# Configura o layout do gráfico\n",
    "fig.update_layout(\n",
    "    title='Consumo Médio Mensal por Categoria - 2021',\n",
    "    xaxis=dict(title='Mês', tickmode='array', tickvals=list(range(1, 13))),\n",
    "    yaxis=dict(title='Consumo Médio'),\n",
    "    legend=dict(\n",
    "        x=1,\n",
    "        y=1,\n",
    "        orientation=\"v\",\n",
    "        font=dict(size=10),\n",
    "    ),\n",
    "    margin=dict(l=40, r=40, t=40, b=40),\n",
    "    width=800,\n",
    "    height=500\n",
    ")\n",
    "\n",
    "# Exibe o gráfico\n",
    "fig.show()"
   ]
  },
  {
   "cell_type": "markdown",
   "metadata": {
    "id": "s3Y-JcDBlCMs"
   },
   "source": [
    "### Consumo Médio Mensal por Tipo de Ligação\n"
   ]
  },
  {
   "cell_type": "code",
   "execution_count": null,
   "metadata": {
    "colab": {
     "base_uri": "https://localhost:8080/"
    },
    "id": "bPG8csL1lCMs",
    "outputId": "30e79af6-b118-4795-fda1-32f6b53dffd9"
   },
   "outputs": [],
   "source": [
    "tipo_ligacao = df_21['TIPO_LIGACAO'].unique()\n",
    "tipo_ligacao"
   ]
  },
  {
   "cell_type": "code",
   "execution_count": null,
   "metadata": {
    "colab": {
     "base_uri": "https://localhost:8080/",
     "height": 517
    },
    "id": "pQjsPKzwlCMs",
    "outputId": "f4b1a81f-e68d-4479-f54b-bc6b39fa76dd"
   },
   "outputs": [],
   "source": [
    "# Define os tipos de ligação a serem analisados\n",
    "tipos_ligacao = ['Hidrometrado', 'Consumo Fixo']\n",
    "\n",
    "# Cria uma figura para o gráfico\n",
    "fig = go.Figure()\n",
    "\n",
    "# Loop para adicionar uma linha para cada tipo de ligação no gráfico\n",
    "for tipo in tipos_ligacao:\n",
    "    consumo_tipo = df_21[df_21['TIPO_LIGACAO'] == tipo]\n",
    "    consumo_medio_tipo = consumo_tipo.groupby('MES').agg({'CONS_MEDIDO': 'mean'}).reset_index()\n",
    "\n",
    "    # Adiciona a linha do consumo médio do tipo de ligação ao gráfico\n",
    "    fig.add_trace(go.Scatter(\n",
    "        x=consumo_medio_tipo['MES'],\n",
    "        y=consumo_medio_tipo['CONS_MEDIDO'],\n",
    "        mode='lines+markers',\n",
    "        name=f'Consumo Médio ({tipo})'\n",
    "    ))\n",
    "\n",
    "# Configura o layout do gráfico\n",
    "fig.update_layout(\n",
    "    title='Consumo Médio Mensal por Tipo de Ligação - 2021',\n",
    "    xaxis=dict(title='Mês', tickmode='array', tickvals=list(range(1, 13))),\n",
    "    yaxis=dict(title='Consumo Médio'),\n",
    "    legend=dict(\n",
    "        x=1,\n",
    "        y=1,\n",
    "        orientation=\"v\",\n",
    "        font=dict(size=10),\n",
    "    ),\n",
    "    margin=dict(l=40, r=40, t=40, b=40),\n",
    "    width=800,\n",
    "    height=500\n",
    ")\n",
    "\n",
    "# Exibe o gráfico\n",
    "fig.show()"
   ]
  },
  {
   "cell_type": "markdown",
   "metadata": {
    "id": "2XMcWUqllCMt"
   },
   "source": [
    "### Consumo Médio Mensal por Subcategoria"
   ]
  },
  {
   "cell_type": "code",
   "execution_count": null,
   "metadata": {
    "colab": {
     "base_uri": "https://localhost:8080/"
    },
    "id": "8w4FJ7IglCMt",
    "outputId": "c0bf7b92-afe8-4f20-f987-203c63f413f4"
   },
   "outputs": [],
   "source": [
    "sub_categoria = df_21['SUB_CATEGORIA'].unique()\n",
    "sub_categoria"
   ]
  },
  {
   "cell_type": "code",
   "execution_count": null,
   "metadata": {
    "colab": {
     "base_uri": "https://localhost:8080/",
     "height": 517
    },
    "id": "jeuZDkq_lCMt",
    "outputId": "9001944d-e5ea-4178-d5d1-2212d80ab91c"
   },
   "outputs": [],
   "source": [
    "# Define as subcategorias a serem analisadas\n",
    "sub_categorias = ['PUBLICA', 'COMERCIAL', 'RESIDENCIAL', 'RES. SOCIAL', 'INDUSTRIAL', 'RES. INDUBRASIL']\n",
    "\n",
    "# Cria uma figura para o gráfico\n",
    "fig = go.Figure()\n",
    "\n",
    "# Loop para adicionar uma linha para cada subcategoria no gráfico\n",
    "for sub_categoria in sub_categorias:\n",
    "    consumo_sub_categoria = df_21[df_21['SUB_CATEGORIA'] == sub_categoria]  #\n",
    "    consumo_medio_sub_categoria = consumo_sub_categoria.groupby('MES').agg({'CONS_MEDIDO': 'mean'}).reset_index()\n",
    "\n",
    "    # Adiciona a linha do consumo médio da subcategoria ao gráfico\n",
    "    fig.add_trace(go.Scatter(\n",
    "        x=consumo_medio_sub_categoria['MES'],\n",
    "        y=consumo_medio_sub_categoria['CONS_MEDIDO'],\n",
    "        mode='lines+markers',\n",
    "        name=f'Consumo Médio ({sub_categoria})'\n",
    "    ))\n",
    "\n",
    "# Configura o layout do gráfico\n",
    "fig.update_layout(\n",
    "    title='Consumo Médio Mensal por Subcategoria - 2021',\n",
    "    xaxis=dict(title='Mês', tickmode='array', tickvals=list(range(1, 13))),\n",
    "    yaxis=dict(title='Consumo Médio'),\n",
    "    legend=dict(\n",
    "        x=1,\n",
    "        y=1,\n",
    "        orientation=\"v\",\n",
    "        font=dict(size=10),\n",
    "    ),\n",
    "    margin=dict(l=40, r=40, t=40, b=40),\n",
    "    width=800,\n",
    "    height=500\n",
    ")\n",
    "\n",
    "# Exibe o gráfico\n",
    "fig.show()"
   ]
  },
  {
   "cell_type": "markdown",
   "metadata": {
    "id": "27ZrwojoozgH"
   },
   "source": [
    "# Consumo 2022\n"
   ]
  },
  {
   "cell_type": "markdown",
   "metadata": {
    "id": "q_33AaFxozgT"
   },
   "source": [
    "## Estruturação dos datasets\n",
    "\n",
    "Nesta seção, iremos organizar os arquivos, dataset do Consumo 2022 e os dados climáticos, que serão utilizados."
   ]
  },
  {
   "cell_type": "code",
   "execution_count": null,
   "metadata": {
    "id": "WeXpTYUrozgT"
   },
   "outputs": [],
   "source": [
    "df_22 = pd.read_csv(\"/content/dataset_consumo_2022.csv\", delimiter=\",\")"
   ]
  },
  {
   "cell_type": "code",
   "execution_count": null,
   "metadata": {
    "colab": {
     "base_uri": "https://localhost:8080/",
     "height": 443
    },
    "id": "ZcP6XHpKozgT",
    "outputId": "a283770b-7077-4b4d-95c6-3488b111a387"
   },
   "outputs": [],
   "source": [
    "df_22"
   ]
  },
  {
   "cell_type": "markdown",
   "metadata": {
    "id": "ykoq_U0s5zJH"
   },
   "source": [
    "Para o código a seguir é importante ressaltar que a Latitude e a Longitude foram retiradas de: [Campo Grande MS](https://pt.db-city.com/Brasil--Mato-Grosso-do-Sul--Campo-Grande)"
   ]
  },
  {
   "cell_type": "code",
   "execution_count": null,
   "metadata": {
    "id": "QieJv0VvozgT"
   },
   "outputs": [],
   "source": [
    "# Define a localização geográfica\n",
    "location = Point(-20.4435, -54.6478)\n",
    "\n",
    "# Define as datas de início e fim\n",
    "start = datetime(2022, 1, 1)\n",
    "end = datetime(2022, 12, 31)\n",
    "\n",
    "# Busca os dados diários para a localização e período definidos\n",
    "data = Daily(location, start, end)\n",
    "data = data.fetch()\n",
    "\n",
    "# Calcula a média mensal dos dados diários\n",
    "df_monthly_weather_22 = data.resample('M').mean()"
   ]
  },
  {
   "cell_type": "code",
   "execution_count": null,
   "metadata": {
    "colab": {
     "base_uri": "https://localhost:8080/",
     "height": 737
    },
    "id": "KdLmXhsqozgT",
    "outputId": "64e4c05e-270a-4621-ee60-d6694e238635"
   },
   "outputs": [],
   "source": [
    "# Renomeia as colunas do DataFrame para nomes mais descritivos\n",
    "df_weather_22 = df_monthly_weather_22.rename(columns={\n",
    "    'tavg': 'Temperatura Média',\n",
    "    'tmin': 'Temperatura Mínima',\n",
    "    'tmax': 'Temperatura Máxima',\n",
    "    'prcp': 'Precipitação',\n",
    "    'snow': 'Neve',\n",
    "    'wdir': 'Direção do Vento',\n",
    "    'wspd': 'Velocidade do Vento',\n",
    "    'wpgt': 'Rajada Máxima de Vento',\n",
    "    'pres': 'Pressão Atmosférica',\n",
    "    'tsun': 'Insolação'\n",
    "})\n",
    "\n",
    "# Exibe o DataFrame renomeado\n",
    "df_weather_22"
   ]
  },
  {
   "cell_type": "code",
   "execution_count": null,
   "metadata": {
    "id": "iwiOLHPZozgT"
   },
   "outputs": [],
   "source": [
    "df_weather_22 = df_weather_22.drop(columns=['Neve', 'Precipitação', 'Direção do Vento', 'Velocidade do Vento', 'Rajada Máxima de Vento', 'Pressão Atmosférica', 'Insolação'])"
   ]
  },
  {
   "cell_type": "code",
   "execution_count": null,
   "metadata": {
    "colab": {
     "base_uri": "https://localhost:8080/",
     "height": 457
    },
    "id": "1LYx9R_qozgU",
    "outputId": "add97573-d118-411c-86c8-fbfec2567d6b"
   },
   "outputs": [],
   "source": [
    "df_weather_22"
   ]
  },
  {
   "cell_type": "code",
   "execution_count": null,
   "metadata": {
    "id": "xGcFNkzDozgU"
   },
   "outputs": [],
   "source": [
    "# Converte a coluna 'REFERENCIA' para o tipo datetime\n",
    "df_22['REFERENCIA'] = pd.to_datetime(df_22['REFERENCIA'])\n",
    "\n",
    "# Extrai o mês da coluna 'REFERENCIA' e cria a coluna 'MES'\n",
    "df_22['MES'] = df_22['REFERENCIA'].dt.month\n",
    "\n",
    "# Extrai o mês do índice do DataFrame de clima e cria a coluna 'MES'\n",
    "df_weather_22['MES'] = df_weather_22.index.month\n",
    "\n",
    "# Calcula o consumo médio mensal e reseta o índice\n",
    "consumo_medio_22 = df_22.groupby('MES')['CONS_MEDIDO'].mean().reset_index()\n",
    "\n",
    "# Combina o consumo médio mensal com os dados climáticos com base na coluna 'MES'\n",
    "df_combined_22 = pd.merge(consumo_medio_22, df_weather_22, on='MES')"
   ]
  },
  {
   "cell_type": "markdown",
   "metadata": {
    "id": "55qfHChEozgU"
   },
   "source": [
    "## Big Numbers\n",
    "\n",
    "Nesta seção, apresentamos os alguns indicadores e métricas do nosso dataset, destacando valores significativos que fornecem uma visão rápida e intuitiva sobre o comportamento dos dados."
   ]
  },
  {
   "cell_type": "code",
   "execution_count": null,
   "metadata": {
    "colab": {
     "base_uri": "https://localhost:8080/"
    },
    "id": "ihx7FzZqozgU",
    "outputId": "b357c3da-f0ac-4f9d-b6b5-077c325c41aa"
   },
   "outputs": [],
   "source": [
    "# Obtém o número de linhas e colunas do DataFrame 'df_22'\n",
    "linhas, colunas = df_22.shape\n",
    "\n",
    "print(f\"O DataFrame de 2022 tem {linhas} linhas e {colunas} colunas.\")"
   ]
  },
  {
   "cell_type": "code",
   "execution_count": null,
   "metadata": {
    "colab": {
     "base_uri": "https://localhost:8080/"
    },
    "id": "sLqCpZpbozgU",
    "outputId": "da300e11-5e7a-4bd8-aa6f-eaa86cc73b36"
   },
   "outputs": [],
   "source": [
    "# Obtém os valores únicos da coluna 'MATRICULA' no DataFrame 'df_22'\n",
    "matriculas_unicas = df_22['MATRICULA'].unique()\n",
    "\n",
    "# Calcula o número total de matrículas únicas\n",
    "tamanho = len(matriculas_unicas)\n",
    "\n",
    "# Exibe a quantidade de matrículas únicas no DataFrame de 2022\n",
    "print(f\"O DataFrame de 2022 tem {tamanho} matrículas únicas\")"
   ]
  },
  {
   "cell_type": "code",
   "execution_count": null,
   "metadata": {
    "colab": {
     "base_uri": "https://localhost:8080/"
    },
    "id": "DSh71cBgozgU",
    "outputId": "b96a8175-8fa3-43fd-c749-4b13e15bc875"
   },
   "outputs": [],
   "source": [
    "# Calcula a soma total do consumo medido no DataFrame 'df_22'\n",
    "soma_consumo = df_22['CONS_MEDIDO'].sum()\n",
    "\n",
    "# Exibe o total de consumo em metros cúbicos (m^3) para o ano de 2022\n",
    "print(f\"Em 2022 foi consumido {soma_consumo} m^3\")"
   ]
  },
  {
   "cell_type": "markdown",
   "metadata": {
    "id": "XbS-FBhsozgU"
   },
   "source": [
    "## Gráficos\n",
    "\n",
    "Nesta seção, apresentamos uma série de visualizações que ilustram as principais tendências e padrões encontrados nos dados. Os gráficos fornecem uma maneira intuitiva de entender a distribuição, variação e correlação entre as diferentes variáveis analisadas.\n"
   ]
  },
  {
   "cell_type": "markdown",
   "metadata": {
    "id": "Q9DXACc2ozgU"
   },
   "source": [
    "### Consumo Médio Mensal e Temperatura Média"
   ]
  },
  {
   "cell_type": "code",
   "execution_count": null,
   "metadata": {
    "colab": {
     "base_uri": "https://localhost:8080/",
     "height": 517
    },
    "id": "g3lwMT3NozgU",
    "outputId": "0d7529fb-3b07-44a8-9af7-07f7420d4a50"
   },
   "outputs": [],
   "source": [
    "# Filtra os dados para a categoria 'PUBLICA'\n",
    "consumo_publica_22 = df_22[df_22['CATEGORIA'] == 'PUBLICA']\n",
    "\n",
    "# Calcula o consumo médio mensal para a categoria 'PUBLICA'\n",
    "consumo_medio_publica_22 = consumo_publica_22.groupby('MES').agg({'CONS_MEDIDO': 'mean'}).reset_index()\n",
    "\n",
    "# Combina o consumo médio mensal com os dados de temperatura média com base no mês\n",
    "df_combined_publica_22 = pd.merge(consumo_medio_publica_22, df_weather_22, on='MES')\n",
    "\n",
    "# Cria uma figura para o gráfico\n",
    "fig = go.Figure()\n",
    "\n",
    "# Adiciona a linha do consumo médio para a categoria 'PUBLICA'\n",
    "fig.add_trace(go.Scatter(\n",
    "    x=df_combined_publica_22['MES'],\n",
    "    y=df_combined_publica_22['CONS_MEDIDO'],\n",
    "    mode='lines+markers',\n",
    "    name='Consumo Médio (Categoria: Pública)',\n",
    "    line=dict(color='green', dash='dash')\n",
    "))\n",
    "\n",
    "# Adiciona a linha da temperatura média\n",
    "fig.add_trace(go.Scatter(\n",
    "    x=df_combined_publica_22['MES'],\n",
    "    y=df_combined_publica_22['Temperatura Média'],\n",
    "    mode='lines+markers',\n",
    "    name='Temp. Média',\n",
    "    line=dict(color='red'),\n",
    "    yaxis='y2'\n",
    "))\n",
    "\n",
    "# Configura o layout do gráfico\n",
    "fig.update_layout(\n",
    "    title='Consumo Médio Mensal e Temperatura Média para Categoria Pública - 2022',\n",
    "    xaxis=dict(title='Mês', tickmode='array', tickvals=list(range(1, 13))),\n",
    "    yaxis=dict(title='Consumo Médio'),\n",
    "    yaxis2=dict(\n",
    "        title='Temperatura (°C)',\n",
    "        overlaying='y',\n",
    "        side='right'\n",
    "    ),\n",
    "    legend=dict(\n",
    "        x=0.5,\n",
    "        y=-0.2,\n",
    "        orientation=\"h\",\n",
    "        xanchor=\"center\"\n",
    "    ),\n",
    "    width=800,\n",
    "    height=500\n",
    ")\n",
    "\n",
    "# Exibe o gráfico\n",
    "fig.show()"
   ]
  },
  {
   "cell_type": "code",
   "execution_count": null,
   "metadata": {
    "colab": {
     "base_uri": "https://localhost:8080/"
    },
    "id": "V-xV0MSiozgV",
    "outputId": "123c2d04-5f33-46b7-8ada-e1a6b030fc24"
   },
   "outputs": [],
   "source": [
    "correlation_22 = df_combined_22['CONS_MEDIDO'].corr(df_combined_22['Temperatura Média'])\n",
    "\n",
    "print(f\"Correlação de Pearson entre Consumo Médio e Temperatura Média: {correlation_22:.2f}\")"
   ]
  },
  {
   "cell_type": "markdown",
   "metadata": {
    "id": "k4b5D0h1ozgV"
   },
   "source": [
    "### Consumo Médio Mensal e Temperatura Média\n",
    "\n",
    "Este gráfico ilustra a relação entre o consumo médio de água e a temperatura média ao longo dos meses de 2022. A linha verde tracejada representa o consumo médio mensal, enquanto a linha vermelha sólida mostra a variação da temperatura média mensal.\n"
   ]
  },
  {
   "cell_type": "code",
   "execution_count": null,
   "metadata": {
    "colab": {
     "base_uri": "https://localhost:8080/"
    },
    "id": "JqRyF2pHozgV",
    "outputId": "e615e3d8-0d67-4bb4-a83e-10527053f2d5"
   },
   "outputs": [],
   "source": [
    "categorias_unicas = df_22['CATEGORIA'].unique()\n",
    "categorias_unicas"
   ]
  },
  {
   "cell_type": "code",
   "execution_count": null,
   "metadata": {
    "colab": {
     "base_uri": "https://localhost:8080/",
     "height": 517
    },
    "id": "eKydwQoIozgV",
    "outputId": "48123496-6899-4590-ed23-e90db86cdbe4"
   },
   "outputs": [],
   "source": [
    "# Filtra os dados para a categoria 'PUBLICA'\n",
    "consumo_publica_22 = df_22[df_22['CATEGORIA'] == 'PUBLICA']\n",
    "\n",
    "# Calcula o consumo médio mensal para a categoria 'PUBLICA'\n",
    "consumo_medio_publica_22 = consumo_publica_22.groupby('MES').agg({'CONS_MEDIDO': 'mean'}).reset_index()\n",
    "\n",
    "# Combina o consumo médio mensal com os dados de temperatura média com base no mês\n",
    "df_combined_publica_22 = pd.merge(consumo_medio_publica_22, df_weather_22, on='MES')\n",
    "\n",
    "# Cria uma figura para o gráfico\n",
    "fig = go.Figure()\n",
    "\n",
    "# Adiciona a linha do consumo médio para a categoria 'PUBLICA'\n",
    "fig.add_trace(go.Scatter(\n",
    "    x=df_combined_publica_22['MES'],\n",
    "    y=df_combined_publica_22['CONS_MEDIDO'],\n",
    "    mode='lines+markers',\n",
    "    name='Consumo Médio (Categoria: Pública)',\n",
    "    line=dict(color='green', dash='dash')\n",
    "))\n",
    "\n",
    "# Adiciona a linha da temperatura média\n",
    "fig.add_trace(go.Scatter(\n",
    "    x=df_combined_publica_22['MES'],\n",
    "    y=df_combined_publica_22['Temperatura Média'],\n",
    "    mode='lines+markers',\n",
    "    name='Temp. Média',\n",
    "    line=dict(color='red'),\n",
    "    yaxis='y2'\n",
    "))\n",
    "\n",
    "# Configura o layout do gráfico\n",
    "fig.update_layout(\n",
    "    title='Consumo Médio Mensal e Temperatura Média para Categoria Pública - 2022',\n",
    "    xaxis=dict(title='Mês', tickmode='array', tickvals=list(range(1, 13))),\n",
    "    yaxis=dict(title='Consumo Médio'),\n",
    "    yaxis2=dict(\n",
    "        title='Temperatura (°C)',\n",
    "        overlaying='y',\n",
    "        side='right'\n",
    "    ),\n",
    "    legend=dict(\n",
    "        x=0.5,\n",
    "        y=-0.2,\n",
    "        orientation=\"h\",\n",
    "        xanchor=\"center\"\n",
    "    ),\n",
    "    width=800,\n",
    "    height=500\n",
    ")\n",
    "\n",
    "# Exibe o gráfico\n",
    "fig.show()"
   ]
  },
  {
   "cell_type": "code",
   "execution_count": null,
   "metadata": {
    "colab": {
     "base_uri": "https://localhost:8080/"
    },
    "id": "u0vgMPKNozgV",
    "outputId": "70e22e20-a9a5-42e6-942b-b5de330f7189"
   },
   "outputs": [],
   "source": [
    "correlacao_pearson = df_combined_publica_22['CONS_MEDIDO'].corr(df_combined_publica_22['Temperatura Média'])\n",
    "\n",
    "print(f\"Correlação de Pearson entre Consumo Médio e Temperatura Média para a Categoria Pública: {correlacao_pearson:.4f}\")"
   ]
  },
  {
   "cell_type": "code",
   "execution_count": null,
   "metadata": {
    "colab": {
     "base_uri": "https://localhost:8080/",
     "height": 517
    },
    "id": "TdjgWBq7ozgV",
    "outputId": "c7d3816b-761d-4df2-8b64-21d0abe974e7"
   },
   "outputs": [],
   "source": [
    "# Filtra os dados para a categoria 'COMERCIAL'\n",
    "consumo_comercial_22 = df_22[df_22['CATEGORIA'] == 'COMERCIAL']\n",
    "\n",
    "# Calcula o consumo médio mensal para a categoria 'COMERCIAL'\n",
    "consumo_medio_comercial_22 = consumo_comercial_22.groupby('MES').agg({'CONS_MEDIDO': 'mean'}).reset_index()\n",
    "\n",
    "# Combina o consumo médio mensal com os dados de temperatura média com base no mês\n",
    "df_combined_comercial_22 = pd.merge(consumo_medio_comercial_22, df_weather_22, on='MES')\n",
    "\n",
    "# Cria uma figura para o gráfico\n",
    "fig = go.Figure()\n",
    "\n",
    "# Adiciona a linha do consumo médio para a categoria 'COMERCIAL'\n",
    "fig.add_trace(go.Scatter(\n",
    "    x=df_combined_comercial_22['MES'],\n",
    "    y=df_combined_comercial_22['CONS_MEDIDO'],\n",
    "    mode='lines+markers',\n",
    "    name='Consumo Médio (Categoria: Comercial)',\n",
    "    line=dict(color='green', dash='dash')\n",
    "))\n",
    "\n",
    "# Adiciona a linha da temperatura média\n",
    "fig.add_trace(go.Scatter(\n",
    "    x=df_combined_comercial_22['MES'],\n",
    "    y=df_combined_comercial_22['Temperatura Média'],\n",
    "    mode='lines+markers',\n",
    "    name='Temp. Média',\n",
    "    line=dict(color='red'),\n",
    "    yaxis='y2'\n",
    "))\n",
    "\n",
    "# Configura o layout do gráfico\n",
    "fig.update_layout(\n",
    "    title='Consumo Médio Mensal e Temperatura Média para Categoria Comercial - 2022',\n",
    "    xaxis=dict(title='Mês', tickmode='array', tickvals=list(range(1, 13))),\n",
    "    yaxis=dict(title='Consumo Médio'),\n",
    "    yaxis2=dict(\n",
    "        title='Temperatura (°C)',\n",
    "        overlaying='y',\n",
    "        side='right'\n",
    "    ),\n",
    "    legend=dict(\n",
    "        x=0.5,\n",
    "        y=-0.2,\n",
    "        orientation=\"h\",\n",
    "        xanchor=\"center\"\n",
    "    ),\n",
    "    width=800,\n",
    "    height=500\n",
    ")\n",
    "\n",
    "# Exibe o gráfico\n",
    "fig.show()"
   ]
  },
  {
   "cell_type": "code",
   "execution_count": null,
   "metadata": {
    "colab": {
     "base_uri": "https://localhost:8080/"
    },
    "id": "FXCSN1RMozgV",
    "outputId": "c90d7f9c-6b85-4c28-b90d-f627bbdbe0f5"
   },
   "outputs": [],
   "source": [
    "correlacao_pearson = df_combined_comercial_22['CONS_MEDIDO'].corr(df_combined_comercial_22['Temperatura Média'])\n",
    "\n",
    "print(f\"Correlação de Pearson entre Consumo Médio e Temperatura Média para a Categoria Comercial: {correlacao_pearson:.4f}\")"
   ]
  },
  {
   "cell_type": "code",
   "execution_count": null,
   "metadata": {
    "colab": {
     "base_uri": "https://localhost:8080/",
     "height": 517
    },
    "id": "goR3I8-BozgV",
    "outputId": "5053856c-b379-4524-c95c-4528eb51c1e6"
   },
   "outputs": [],
   "source": [
    "# Filtra os dados para a categoria 'RESIDENCIAL'\n",
    "consumo_residencial_22 = df_22[df_22['CATEGORIA'] == 'RESIDENCIAL']\n",
    "\n",
    "# Calcula o consumo médio mensal para a categoria 'RESIDENCIAL'\n",
    "consumo_medio_residencial_22 = consumo_residencial_22.groupby('MES').agg({'CONS_MEDIDO': 'mean'}).reset_index()\n",
    "\n",
    "# Combina o consumo médio mensal com os dados de temperatura média com base no mês\n",
    "df_combined_residencial_22 = pd.merge(consumo_medio_residencial_22, df_weather_22, on='MES')\n",
    "\n",
    "# Cria uma figura para o gráfico\n",
    "fig = go.Figure()\n",
    "\n",
    "# Adiciona a linha do consumo médio para a categoria 'RESIDENCIAL'\n",
    "fig.add_trace(go.Scatter(\n",
    "    x=df_combined_residencial_22['MES'],\n",
    "    y=df_combined_residencial_22['CONS_MEDIDO'],\n",
    "    mode='lines+markers',\n",
    "    name='Consumo Médio (Categoria: Residencial)',\n",
    "    line=dict(color='green', dash='dash')\n",
    "))\n",
    "\n",
    "# Adiciona a linha da temperatura média\n",
    "fig.add_trace(go.Scatter(\n",
    "    x=df_combined_residencial_22['MES'],\n",
    "    y=df_combined_residencial_22['Temperatura Média'],\n",
    "    mode='lines+markers',\n",
    "    name='Temp. Média',\n",
    "    line=dict(color='red'),\n",
    "    yaxis='y2'\n",
    "))\n",
    "\n",
    "# Configura o layout do gráfico\n",
    "fig.update_layout(\n",
    "    title='Consumo Médio Mensal e Temperatura Média para Categoria Residencial - 2022',\n",
    "    xaxis=dict(title='Mês', tickmode='array', tickvals=list(range(1, 13))),\n",
    "    yaxis=dict(title='Consumo Médio'),\n",
    "    yaxis2=dict(\n",
    "        title='Temperatura (°C)',\n",
    "        overlaying='y',\n",
    "        side='right'\n",
    "    ),\n",
    "    legend=dict(\n",
    "        x=0.5,\n",
    "        y=-0.2,\n",
    "        orientation=\"h\",\n",
    "        xanchor=\"center\"\n",
    "    ),\n",
    "    width=800,\n",
    "    height=500\n",
    ")\n",
    "\n",
    "# Exibe o gráfico\n",
    "fig.show()"
   ]
  },
  {
   "cell_type": "code",
   "execution_count": null,
   "metadata": {
    "colab": {
     "base_uri": "https://localhost:8080/"
    },
    "id": "BWxdbnc8ozgV",
    "outputId": "61195a32-0932-4176-fb7b-ca90ba3824b3"
   },
   "outputs": [],
   "source": [
    "correlacao_pearson = df_combined_residencial_22['CONS_MEDIDO'].corr(df_combined_residencial_22['Temperatura Média'])\n",
    "\n",
    "print(f\"Correlação de Pearson entre Consumo Médio e Temperatura Média para a Categoria Residencial: {correlacao_pearson:.4f}\")"
   ]
  },
  {
   "cell_type": "code",
   "execution_count": null,
   "metadata": {
    "colab": {
     "base_uri": "https://localhost:8080/",
     "height": 517
    },
    "id": "SZLIWqd8ozgW",
    "outputId": "175e2589-a0c4-4922-e00d-997fb30f0122"
   },
   "outputs": [],
   "source": [
    "# Filtra os dados para a categoria 'INDUSTRIAL'\n",
    "consumo_industrial_22 = df_22[df_22['CATEGORIA'] == 'INDUSTRIAL']\n",
    "\n",
    "# Calcula o consumo médio mensal para a categoria 'INDUSTRIAL'\n",
    "consumo_medio_industrial_22 = consumo_industrial_22.groupby('MES').agg({'CONS_MEDIDO': 'mean'}).reset_index()\n",
    "\n",
    "# Combina o consumo médio mensal com os dados de temperatura média com base no mês\n",
    "df_combined_industrial_22 = pd.merge(consumo_medio_industrial_22, df_weather_22, on='MES')\n",
    "\n",
    "# Cria uma figura para o gráfico\n",
    "fig = go.Figure()\n",
    "\n",
    "# Adiciona a linha do consumo médio para a categoria 'INDUSTRIAL'\n",
    "fig.add_trace(go.Scatter(\n",
    "    x=df_combined_industrial_22['MES'],\n",
    "    y=df_combined_industrial_22['CONS_MEDIDO'],\n",
    "    mode='lines+markers',\n",
    "    name='Consumo Médio (Categoria: Industrial)',\n",
    "    line=dict(color='green', dash='dash')\n",
    "))\n",
    "\n",
    "# Adiciona a linha da temperatura média\n",
    "fig.add_trace(go.Scatter(\n",
    "    x=df_combined_industrial_22['MES'],\n",
    "    y=df_combined_industrial_22['Temperatura Média'],\n",
    "    mode='lines+markers',\n",
    "    name='Temp. Média',\n",
    "    line=dict(color='red'),\n",
    "    yaxis='y2'\n",
    "))\n",
    "\n",
    "# Configura o layout do gráfico\n",
    "fig.update_layout(\n",
    "    title='Consumo Médio Mensal e Temperatura Média para Categoria Industrial - 2022',\n",
    "    xaxis=dict(title='Mês', tickmode='array', tickvals=list(range(1, 13))),\n",
    "    yaxis=dict(title='Consumo Médio'),\n",
    "    yaxis2=dict(\n",
    "        title='Temperatura (°C)',\n",
    "        overlaying='y',\n",
    "        side='right'\n",
    "    ),\n",
    "    legend=dict(\n",
    "        x=0.5,\n",
    "        y=-0.2,\n",
    "        orientation=\"h\",\n",
    "        xanchor=\"center\"\n",
    "    ),\n",
    "    width=800,\n",
    "    height=500\n",
    ")\n",
    "\n",
    "# Exibe o gráfico\n",
    "fig.show()"
   ]
  },
  {
   "cell_type": "code",
   "execution_count": null,
   "metadata": {
    "colab": {
     "base_uri": "https://localhost:8080/"
    },
    "id": "cKrDla93ozgW",
    "outputId": "f22416e2-e602-4b46-8b54-30a33d17e31e"
   },
   "outputs": [],
   "source": [
    "correlacao_pearson = df_combined_industrial_22['CONS_MEDIDO'].corr(df_combined_industrial_22['Temperatura Média'])\n",
    "\n",
    "print(f\"Correlação de Pearson entre Consumo Médio e Temperatura Média para a Categoria Industrial: {correlacao_pearson:.4f}\")"
   ]
  },
  {
   "cell_type": "markdown",
   "metadata": {
    "id": "2HKsDaF_ozgW"
   },
   "source": [
    "### Consumo Médio Mensal por Categoria"
   ]
  },
  {
   "cell_type": "code",
   "execution_count": null,
   "metadata": {
    "colab": {
     "base_uri": "https://localhost:8080/",
     "height": 517
    },
    "id": "Um_N2dmlozgW",
    "outputId": "4bd070e9-643b-40d6-c062-3af58b6127aa"
   },
   "outputs": [],
   "source": [
    "# Define as categorias a serem analisadas\n",
    "categorias = ['PUBLICA', 'COMERCIAL', 'RESIDENCIAL', 'INDUSTRIAL']\n",
    "\n",
    "# Cria uma figura para o gráfico\n",
    "fig = go.Figure()\n",
    "\n",
    "# Loop para adicionar uma linha para cada categoria no gráfico\n",
    "for categoria in categorias:\n",
    "    consumo_categoria = df_22[df_22['CATEGORIA'] == categoria]\n",
    "    consumo_medio_categoria = consumo_categoria.groupby('MES').agg({'CONS_MEDIDO': 'mean'}).reset_index()\n",
    "\n",
    "    # Adiciona a linha do consumo médio da categoria ao gráfico\n",
    "    fig.add_trace(go.Scatter(\n",
    "        x=consumo_medio_categoria['MES'],\n",
    "        y=consumo_medio_categoria['CONS_MEDIDO'],\n",
    "        mode='lines+markers',\n",
    "        name=f'Consumo Médio (Categoria: {categoria})'\n",
    "    ))\n",
    "\n",
    "# Configura o layout do gráfico\n",
    "fig.update_layout(\n",
    "    title='Consumo Médio Mensal por Categoria - 2022',\n",
    "    xaxis=dict(title='Mês', tickmode='array', tickvals=list(range(1, 13))),\n",
    "    yaxis=dict(title='Consumo Médio'),\n",
    "    legend=dict(\n",
    "        x=1,\n",
    "        y=1,\n",
    "        orientation=\"v\",\n",
    "        font=dict(size=10),\n",
    "    ),\n",
    "    margin=dict(l=40, r=40, t=40, b=40),\n",
    "    width=800,\n",
    "    height=500\n",
    ")\n",
    "\n",
    "# Exibe o gráfico\n",
    "fig.show()"
   ]
  },
  {
   "cell_type": "markdown",
   "metadata": {
    "id": "LU3BR2TTozgW"
   },
   "source": [
    "### Consumo Médio Mensal por Tipo de Ligação\n"
   ]
  },
  {
   "cell_type": "code",
   "execution_count": null,
   "metadata": {
    "colab": {
     "base_uri": "https://localhost:8080/"
    },
    "id": "WIW1DJrMozgW",
    "outputId": "3d1b4416-d0d6-4a4d-c906-f3a06e884b18"
   },
   "outputs": [],
   "source": [
    "tipo_ligacao = df_22['TIPO_LIGACAO'].unique()\n",
    "tipo_ligacao"
   ]
  },
  {
   "cell_type": "code",
   "execution_count": null,
   "metadata": {
    "colab": {
     "base_uri": "https://localhost:8080/",
     "height": 517
    },
    "id": "c98IsQJUozgW",
    "outputId": "371fb2df-e3aa-4e2f-f781-01734d4689b7"
   },
   "outputs": [],
   "source": [
    "# Define os tipos de ligação a serem analisados\n",
    "tipos_ligacao = ['Hidrometrado', 'Consumo Fixo']\n",
    "\n",
    "# Cria uma figura para o gráfico\n",
    "fig = go.Figure()\n",
    "\n",
    "# Loop para adicionar uma linha para cada tipo de ligação no gráfico\n",
    "for tipo in tipos_ligacao:\n",
    "    consumo_tipo = df_22[df_22['TIPO_LIGACAO'] == tipo]\n",
    "    consumo_medio_tipo = consumo_tipo.groupby('MES').agg({'CONS_MEDIDO': 'mean'}).reset_index()\n",
    "\n",
    "    # Adiciona a linha do consumo médio do tipo de ligação ao gráfico\n",
    "    fig.add_trace(go.Scatter(\n",
    "        x=consumo_medio_tipo['MES'],\n",
    "        y=consumo_medio_tipo['CONS_MEDIDO'],\n",
    "        mode='lines+markers',\n",
    "        name=f'Consumo Médio ({tipo})'\n",
    "    ))\n",
    "\n",
    "# Configura o layout do gráfico\n",
    "fig.update_layout(\n",
    "    title='Consumo Médio Mensal por Tipo de Ligação - 2022',\n",
    "    xaxis=dict(title='Mês', tickmode='array', tickvals=list(range(1, 13))),\n",
    "    yaxis=dict(title='Consumo Médio'),\n",
    "    legend=dict(\n",
    "        x=1,\n",
    "        y=1,\n",
    "        orientation=\"v\",\n",
    "        font=dict(size=10),\n",
    "    ),\n",
    "    margin=dict(l=40, r=40, t=40, b=40),\n",
    "    width=800,\n",
    "    height=500\n",
    ")\n",
    "\n",
    "# Exibe o gráfico\n",
    "fig.show()"
   ]
  },
  {
   "cell_type": "markdown",
   "metadata": {
    "id": "gIvm8DgqozgW"
   },
   "source": [
    "### Consumo Médio Mensal por Subcategoria"
   ]
  },
  {
   "cell_type": "code",
   "execution_count": null,
   "metadata": {
    "colab": {
     "base_uri": "https://localhost:8080/"
    },
    "id": "yPssRRoEozgW",
    "outputId": "2a35dcaa-0923-4bee-8eb9-7c6c564024d5"
   },
   "outputs": [],
   "source": [
    "sub_categoria = df_22['SUB_CATEGORIA'].unique()\n",
    "sub_categoria"
   ]
  },
  {
   "cell_type": "code",
   "execution_count": null,
   "metadata": {
    "colab": {
     "base_uri": "https://localhost:8080/",
     "height": 517
    },
    "id": "f-IJdhWyozgW",
    "outputId": "ccd734c3-7283-4486-d8bf-1e595d16ea95"
   },
   "outputs": [],
   "source": [
    "# Define as subcategorias a serem analisadas\n",
    "sub_categorias = ['PUBLICA', 'COMERCIAL', 'RESIDENCIAL', 'RES. SOCIAL', 'INDUSTRIAL', 'RES. INDUBRASIL']\n",
    "\n",
    "# Cria uma figura para o gráfico\n",
    "fig = go.Figure()\n",
    "\n",
    "# Loop para adicionar uma linha para cada subcategoria no gráfico\n",
    "for sub_categoria in sub_categorias:\n",
    "    consumo_sub_categoria = df_22[df_22['SUB_CATEGORIA'] == sub_categoria]\n",
    "    consumo_medio_sub_categoria = consumo_sub_categoria.groupby('MES').agg({'CONS_MEDIDO': 'mean'}).reset_index()\n",
    "\n",
    "    # Adiciona a linha do consumo médio da subcategoria ao gráfico\n",
    "    fig.add_trace(go.Scatter(\n",
    "        x=consumo_medio_sub_categoria['MES'],\n",
    "        y=consumo_medio_sub_categoria['CONS_MEDIDO'],\n",
    "        mode='lines+markers',\n",
    "        name=f'Consumo Médio ({sub_categoria})'\n",
    "    ))\n",
    "\n",
    "# Configura o layout do gráfico\n",
    "fig.update_layout(\n",
    "    title='Consumo Médio Mensal por Subcategoria - 2022',\n",
    "    xaxis=dict(title='Mês', tickmode='array', tickvals=list(range(1, 13))),\n",
    "    yaxis=dict(title='Consumo Médio'),\n",
    "    legend=dict(\n",
    "        x=1,\n",
    "        y=1,\n",
    "        orientation=\"v\",\n",
    "        font=dict(size=10),\n",
    "    ),\n",
    "    margin=dict(l=40, r=40, t=40, b=40),\n",
    "    width=800,\n",
    "    height=500\n",
    ")\n",
    "\n",
    "# Exibe o gráfico\n",
    "fig.show()"
   ]
  },
  {
   "cell_type": "markdown",
   "metadata": {
    "id": "2VGpWfJkrm2o"
   },
   "source": [
    "# Consumo 2023\n"
   ]
  },
  {
   "cell_type": "markdown",
   "metadata": {
    "id": "8w6kXPCTrm2o"
   },
   "source": [
    "## Estruturação dos datasets\n",
    "\n",
    "Nesta seção, iremos organizar os arquivos, dataset do Consumo 2023 e os dados climáticos, que serão utilizados."
   ]
  },
  {
   "cell_type": "code",
   "execution_count": null,
   "metadata": {
    "id": "gvLRofbnrm2p"
   },
   "outputs": [],
   "source": [
    "df_23 = pd.read_csv(\"/content/dataset_consumo_2023.csv\", delimiter=\",\")"
   ]
  },
  {
   "cell_type": "code",
   "execution_count": null,
   "metadata": {
    "colab": {
     "base_uri": "https://localhost:8080/",
     "height": 443
    },
    "id": "eX4oMQ6drm2p",
    "outputId": "95342f7e-fbf1-4187-a561-023f72bd71cf"
   },
   "outputs": [],
   "source": [
    "df_23"
   ]
  },
  {
   "cell_type": "markdown",
   "metadata": {
    "id": "GtfPngRW7q4F"
   },
   "source": [
    "Para o código a seguir é importante ressaltar que a Latitude e a Longitude foram retiradas de: [Campo Grande MS](https://pt.db-city.com/Brasil--Mato-Grosso-do-Sul--Campo-Grande)"
   ]
  },
  {
   "cell_type": "code",
   "execution_count": null,
   "metadata": {
    "id": "qfJmW-A0rm2p"
   },
   "outputs": [],
   "source": [
    "# Define a localização geográfica\n",
    "location = Point(-20.4435, -54.6478)\n",
    "\n",
    "# Define as datas de início e fim\n",
    "start = datetime(2023, 1, 1)\n",
    "end = datetime(2023, 12, 31)\n",
    "\n",
    "# Busca os dados diários para a localização e período definidos\n",
    "data = Daily(location, start, end)\n",
    "data = data.fetch()\n",
    "\n",
    "# Calcula a média mensal dos dados diários\n",
    "df_monthly_weather_23 = data.resample('M').mean()"
   ]
  },
  {
   "cell_type": "code",
   "execution_count": null,
   "metadata": {
    "colab": {
     "base_uri": "https://localhost:8080/",
     "height": 737
    },
    "id": "Xhgd-dzYrm2p",
    "outputId": "21e58107-d65a-41d4-a70b-c027d7b7e681"
   },
   "outputs": [],
   "source": [
    "# Renomeia as colunas do DataFrame para nomes mais descritivos\n",
    "df_weather_23 = df_monthly_weather_23.rename(columns={\n",
    "    'tavg': 'Temperatura Média',\n",
    "    'tmin': 'Temperatura Mínima',\n",
    "    'tmax': 'Temperatura Máxima',\n",
    "    'prcp': 'Precipitação',\n",
    "    'snow': 'Neve',\n",
    "    'wdir': 'Direção do Vento',\n",
    "    'wspd': 'Velocidade do Vento',\n",
    "    'wpgt': 'Rajada Máxima de Vento',\n",
    "    'pres': 'Pressão Atmosférica',\n",
    "    'tsun': 'Insolação'\n",
    "})\n",
    "\n",
    "# Exibe o DataFrame renomeado\n",
    "df_weather_23"
   ]
  },
  {
   "cell_type": "code",
   "execution_count": null,
   "metadata": {
    "id": "djvQPiTdrm2p"
   },
   "outputs": [],
   "source": [
    "# Remove as colunas que não são necessárias para a análise\n",
    "df_weather_23 = df_weather_23.drop(columns=['Neve', 'Precipitação', 'Direção do Vento', 'Velocidade do Vento', 'Rajada Máxima de Vento', 'Pressão Atmosférica', 'Insolação'])\n",
    "\n",
    "# Exibe o DataFrame após a remoção das colunas\n",
    "df_weather_23"
   ]
  },
  {
   "cell_type": "code",
   "execution_count": null,
   "metadata": {
    "id": "XfRlpDOtrm2q"
   },
   "outputs": [],
   "source": [
    "# Converte a coluna 'REFERENCIA' para o tipo datetime\n",
    "df_23['REFERENCIA'] = pd.to_datetime(df_23['REFERENCIA'])\n",
    "\n",
    "# Extrai o mês da coluna 'REFERENCIA' e cria a coluna 'MES'\n",
    "df_23['MES'] = df_23['REFERENCIA'].dt.month\n",
    "\n",
    "# Extrai o mês do índice do DataFrame de clima e cria a coluna 'MES'\n",
    "df_weather_23['MES'] = df_weather_23.index.month\n",
    "\n",
    "# Calcula o consumo médio mensal e reseta o índice\n",
    "consumo_medio_23 = df_23.groupby('MES')['CONS_MEDIDO'].mean().reset_index()\n",
    "\n",
    "# Combina o consumo médio mensal com os dados climáticos com base na coluna 'MES'\n",
    "df_combined_23 = pd.merge(consumo_medio_23, df_weather_23, on='MES')"
   ]
  },
  {
   "cell_type": "markdown",
   "metadata": {
    "id": "mDDXg_Scrm2q"
   },
   "source": [
    "## Big Numbers\n",
    "\n",
    "Nesta seção, apresentamos os alguns indicadores e métricas do nosso dataset, destacando valores significativos que fornecem uma visão rápida e intuitiva sobre o comportamento dos dados."
   ]
  },
  {
   "cell_type": "code",
   "execution_count": null,
   "metadata": {
    "colab": {
     "base_uri": "https://localhost:8080/"
    },
    "id": "8lGsDxDlrm2q",
    "outputId": "ed920253-8854-4789-a935-6decf4da4eae"
   },
   "outputs": [],
   "source": [
    "# Obtém o número de linhas e colunas do DataFrame 'df_23'\n",
    "linhas, colunas = df_23.shape\n",
    "\n",
    "print(f\"O DataFrame de 2023 tem {linhas} linhas e {colunas} colunas.\")"
   ]
  },
  {
   "cell_type": "code",
   "execution_count": null,
   "metadata": {
    "colab": {
     "base_uri": "https://localhost:8080/"
    },
    "id": "V683xJWsrm2q",
    "outputId": "733951f2-392c-40f7-99e6-e2747585b8b8"
   },
   "outputs": [],
   "source": [
    "# Obtém os valores únicos da coluna 'MATRICULA' no DataFrame 'df_23'\n",
    "matriculas_unicas = df_23['MATRICULA'].unique()\n",
    "\n",
    "# Calcula o número total de matrículas únicas\n",
    "tamanho = len(matriculas_unicas)\n",
    "\n",
    "print(f\"O DataFrame de 2023 tem {tamanho} matrículas únicas\")"
   ]
  },
  {
   "cell_type": "code",
   "execution_count": null,
   "metadata": {
    "colab": {
     "base_uri": "https://localhost:8080/"
    },
    "id": "6w4H0vARrm2q",
    "outputId": "be6c0cb9-521a-4efb-8815-3b252c1e1cde"
   },
   "outputs": [],
   "source": [
    "# Calcula a soma total do consumo medido no DataFrame 'df_22'\n",
    "soma_consumo = df_23['CONS_MEDIDO'].sum()\n",
    "print(f\"Em 2023 foi consumido {soma_consumo} m^3\")"
   ]
  },
  {
   "cell_type": "markdown",
   "metadata": {
    "id": "D4iuiHW9rm2q"
   },
   "source": [
    "## Gráficos\n",
    "\n",
    "Nesta seção, apresentamos uma série de visualizações que ilustram as principais tendências e padrões encontrados nos dados. Os gráficos fornecem uma maneira intuitiva de entender a distribuição, variação e correlação entre as diferentes variáveis analisadas.\n"
   ]
  },
  {
   "cell_type": "markdown",
   "metadata": {
    "id": "BD8bNhXLrm2r"
   },
   "source": [
    "### Consumo Médio Mensal e Temperatura Média"
   ]
  },
  {
   "cell_type": "code",
   "execution_count": null,
   "metadata": {
    "colab": {
     "base_uri": "https://localhost:8080/",
     "height": 517
    },
    "id": "mtDiLPQArm2r",
    "outputId": "e2bcf5cb-267f-4088-cc57-856753980661"
   },
   "outputs": [],
   "source": [
    "# Cria uma figura para o gráfico\n",
    "fig = go.Figure()\n",
    "\n",
    "# Adiciona a linha do consumo médio ao gráfico\n",
    "fig.add_trace(go.Scatter(\n",
    "    x=df_combined_23['MES'],\n",
    "    y=df_combined_23['CONS_MEDIDO'],\n",
    "    mode='lines+markers',\n",
    "    name='Consumo Médio',\n",
    "    line=dict(color='green', dash='dash')\n",
    "))\n",
    "\n",
    "# Adiciona a linha da temperatura média ao gráfico\n",
    "fig.add_trace(go.Scatter(\n",
    "    x=df_combined_23['MES'],\n",
    "    y=df_combined_23['Temperatura Média'],\n",
    "    mode='lines+markers',\n",
    "    name='Temp. Média',\n",
    "    line=dict(color='red'),\n",
    "    yaxis='y2'\n",
    "))\n",
    "\n",
    "# Configura o layout do gráfico\n",
    "fig.update_layout(\n",
    "    title='Consumo Médio Mensal e Temperatura Média - 2023',\n",
    "    xaxis=dict(title='Mês', tickmode='array', tickvals=list(range(1, 13))),\n",
    "    yaxis=dict(title='Consumo Médio'),\n",
    "    yaxis2=dict(\n",
    "        title='Temperatura (°C)',\n",
    "        overlaying='y',\n",
    "        side='right'\n",
    "    ),\n",
    "    legend=dict(\n",
    "        x=0.5,\n",
    "        y=-0.2,\n",
    "        orientation=\"h\",\n",
    "        xanchor=\"center\"\n",
    "    ),\n",
    "    width=800,\n",
    "    height=500\n",
    ")\n",
    "\n",
    "# Exibe o gráfico\n",
    "fig.show()"
   ]
  },
  {
   "cell_type": "code",
   "execution_count": null,
   "metadata": {
    "colab": {
     "base_uri": "https://localhost:8080/"
    },
    "id": "N7kqs6oErm2r",
    "outputId": "cfe1418c-8ea5-403d-a293-74d4160a7134"
   },
   "outputs": [],
   "source": [
    "correlation_23 = df_combined_23['CONS_MEDIDO'].corr(df_combined_23['Temperatura Média'])\n",
    "\n",
    "print(f\"Correlação de Pearson entre Consumo Médio e Temperatura Média: {correlation_23:.2f}\")"
   ]
  },
  {
   "cell_type": "markdown",
   "metadata": {
    "id": "YSdf_Jdkrm2r"
   },
   "source": [
    "### Consumo Médio Mensal e Temperatura Média por Categoria"
   ]
  },
  {
   "cell_type": "code",
   "execution_count": null,
   "metadata": {
    "colab": {
     "base_uri": "https://localhost:8080/"
    },
    "id": "Exif0u2trm2r",
    "outputId": "17923ea7-9d73-4899-901b-0b67167a4ed0"
   },
   "outputs": [],
   "source": [
    "categorias_unicas = df_23['CATEGORIA'].unique()\n",
    "categorias_unicas"
   ]
  },
  {
   "cell_type": "code",
   "execution_count": null,
   "metadata": {
    "colab": {
     "base_uri": "https://localhost:8080/",
     "height": 517
    },
    "id": "abUR2x9rrm2r",
    "outputId": "de1da3d9-aa36-4b63-d303-df0c1f455628"
   },
   "outputs": [],
   "source": [
    "# Filtra os dados para a categoria 'PUBLICA'\n",
    "consumo_publica_23 = df_23[df_23['CATEGORIA'] == 'PUBLICA']\n",
    "\n",
    "# Calcula o consumo médio mensal para a categoria 'PUBLICA'\n",
    "consumo_medio_publica_23 = consumo_publica_23.groupby('MES').agg({'CONS_MEDIDO': 'mean'}).reset_index()\n",
    "\n",
    "# Combina o consumo médio mensal com os dados de temperatura média com base no mês\n",
    "df_combined_publica_23 = pd.merge(consumo_medio_publica_23, df_weather_23, on='MES')\n",
    "\n",
    "# Cria uma figura para o gráfico\n",
    "fig = go.Figure()\n",
    "\n",
    "# Adiciona a linha do consumo médio para a categoria 'PUBLICA'\n",
    "fig.add_trace(go.Scatter(\n",
    "    x=df_combined_publica_23['MES'],\n",
    "    y=df_combined_publica_23['CONS_MEDIDO'],\n",
    "    mode='lines+markers',\n",
    "    name='Consumo Médio (Categoria: Pública)',\n",
    "    line=dict(color='green', dash='dash')\n",
    "))\n",
    "\n",
    "# Adiciona a linha da temperatura média\n",
    "fig.add_trace(go.Scatter(\n",
    "    x=df_combined_publica_23['MES'],\n",
    "    y=df_combined_publica_23['Temperatura Média'],\n",
    "    mode='lines+markers',\n",
    "    name='Temp. Média',\n",
    "    line=dict(color='red'),\n",
    "    yaxis='y2'\n",
    "))\n",
    "\n",
    "# Configura o layout do gráfico\n",
    "fig.update_layout(\n",
    "    title='Consumo Médio Mensal e Temperatura Média para Categoria Pública - 2023',\n",
    "    xaxis=dict(title='Mês', tickmode='array', tickvals=list(range(1, 13))),\n",
    "    yaxis=dict(title='Consumo Médio'),\n",
    "    yaxis2=dict(\n",
    "        title='Temperatura (°C)',\n",
    "        overlaying='y',\n",
    "        side='right'\n",
    "    ),\n",
    "    legend=dict(\n",
    "        x=0.5,\n",
    "        y=-0.2,\n",
    "        orientation=\"h\",\n",
    "        xanchor=\"center\"\n",
    "    ),\n",
    "    width=800,\n",
    "    height=500\n",
    ")\n",
    "\n",
    "# Exibe o gráfico\n",
    "fig.show()"
   ]
  },
  {
   "cell_type": "code",
   "execution_count": null,
   "metadata": {
    "colab": {
     "base_uri": "https://localhost:8080/"
    },
    "id": "hQzyjjoJrm2r",
    "outputId": "d6033596-a442-475c-96ca-6f858316c202"
   },
   "outputs": [],
   "source": [
    "correlacao_pearson = df_combined_publica_23['CONS_MEDIDO'].corr(df_combined_publica_23['Temperatura Média'])\n",
    "\n",
    "print(f\"Correlação de Pearson entre Consumo Médio e Temperatura Média para a Categoria Pública: {correlacao_pearson:.4f}\")"
   ]
  },
  {
   "cell_type": "code",
   "execution_count": null,
   "metadata": {
    "colab": {
     "base_uri": "https://localhost:8080/",
     "height": 517
    },
    "id": "EXuHXF42rm2r",
    "outputId": "12a59a04-b90b-429b-c0c2-acceb219c774"
   },
   "outputs": [],
   "source": [
    "# Filtra os dados para a categoria 'COMERCIAL'\n",
    "consumo_comercial_23 = df_23[df_23['CATEGORIA'] == 'COMERCIAL']\n",
    "\n",
    "# Calcula o consumo médio mensal para a categoria 'COMERCIAL'\n",
    "consumo_medio_comercial_23 = consumo_comercial_23.groupby('MES').agg({'CONS_MEDIDO': 'mean'}).reset_index()\n",
    "\n",
    "# Combina o consumo médio mensal com os dados de temperatura média com base no mês\n",
    "df_combined_comercial_23 = pd.merge(consumo_medio_comercial_23, df_weather_23, on='MES')\n",
    "\n",
    "# Cria uma figura para o gráfico\n",
    "fig = go.Figure()\n",
    "\n",
    "# Adiciona a linha do consumo médio para a categoria 'COMERCIAL'\n",
    "fig.add_trace(go.Scatter(\n",
    "    x=df_combined_comercial_23['MES'],\n",
    "    y=df_combined_comercial_23['CONS_MEDIDO'],\n",
    "    mode='lines+markers',\n",
    "    name='Consumo Médio (Categoria: Comercial)',\n",
    "    line=dict(color='green', dash='dash')\n",
    "))\n",
    "\n",
    "# Adiciona a linha da temperatura média\n",
    "fig.add_trace(go.Scatter(\n",
    "    x=df_combined_comercial_23['MES'],\n",
    "    y=df_combined_comercial_23['Temperatura Média'],\n",
    "    mode='lines+markers',\n",
    "    name='Temp. Média',\n",
    "    line=dict(color='red'),\n",
    "    yaxis='y2'\n",
    "))\n",
    "\n",
    "# Configura o layout do gráfico\n",
    "fig.update_layout(\n",
    "    title='Consumo Médio Mensal e Temperatura Média para Categoria Comercial - 2023',\n",
    "    xaxis=dict(title='Mês', tickmode='array', tickvals=list(range(1, 13))),\n",
    "    yaxis=dict(title='Consumo Médio'),\n",
    "    yaxis2=dict(\n",
    "        title='Temperatura (°C)',\n",
    "        overlaying='y',\n",
    "        side='right'\n",
    "    ),\n",
    "    legend=dict(\n",
    "        x=0.5,\n",
    "        y=-0.2,\n",
    "        orientation=\"h\",\n",
    "        xanchor=\"center\"\n",
    "    ),\n",
    "    width=800,\n",
    "    height=500\n",
    ")\n",
    "\n",
    "# Exibe o gráfico\n",
    "fig.show()"
   ]
  },
  {
   "cell_type": "code",
   "execution_count": null,
   "metadata": {
    "colab": {
     "base_uri": "https://localhost:8080/"
    },
    "id": "v6oILmU5rm2r",
    "outputId": "cc4917fa-f5bf-4c72-98d4-273a7ec7b078"
   },
   "outputs": [],
   "source": [
    "correlacao_pearson = df_combined_comercial_23['CONS_MEDIDO'].corr(df_combined_comercial_23['Temperatura Média'])\n",
    "\n",
    "print(f\"Correlação de Pearson entre Consumo Médio e Temperatura Média para a Categoria Comercial: {correlacao_pearson:.4f}\")"
   ]
  },
  {
   "cell_type": "code",
   "execution_count": null,
   "metadata": {
    "colab": {
     "base_uri": "https://localhost:8080/",
     "height": 517
    },
    "id": "qwtZI9DVrm2r",
    "outputId": "dc86defd-7940-4523-f528-d44e7e73f644"
   },
   "outputs": [],
   "source": [
    "# Filtra os dados para a categoria 'RESIDENCIAL'\n",
    "consumo_residencial_23 = df_23[df_23['CATEGORIA'] == 'RESIDENCIAL']\n",
    "\n",
    "# Calcula o consumo médio mensal para a categoria 'RESIDENCIAL'\n",
    "consumo_medio_residencial_23 = consumo_residencial_23.groupby('MES').agg({'CONS_MEDIDO': 'mean'}).reset_index()\n",
    "\n",
    "# Combina o consumo médio mensal com os dados de temperatura média com base no mês\n",
    "df_combined_residencial_23 = pd.merge(consumo_medio_residencial_23, df_weather_23, on='MES')\n",
    "\n",
    "# Cria uma figura para o gráfico\n",
    "fig = go.Figure()\n",
    "\n",
    "# Adiciona a linha do consumo médio para a categoria 'RESIDENCIAL'\n",
    "fig.add_trace(go.Scatter(\n",
    "    x=df_combined_residencial_23['MES'],\n",
    "    y=df_combined_residencial_23['CONS_MEDIDO'],\n",
    "    mode='lines+markers',\n",
    "    name='Consumo Médio (Categoria: Residencial)',\n",
    "    line=dict(color='green', dash='dash')\n",
    "))\n",
    "\n",
    "# Adiciona a linha da temperatura média\n",
    "fig.add_trace(go.Scatter(\n",
    "    x=df_combined_residencial_23['MES'],\n",
    "    y=df_combined_residencial_23['Temperatura Média'],\n",
    "    mode='lines+markers',\n",
    "    name='Temp. Média',\n",
    "    line=dict(color='red'),\n",
    "    yaxis='y2'\n",
    "))\n",
    "\n",
    "# Configura o layout do gráfico\n",
    "fig.update_layout(\n",
    "    title='Consumo Médio Mensal e Temperatura Média para Categoria Residencial - 2023',\n",
    "    xaxis=dict(title='Mês', tickmode='array', tickvals=list(range(1, 13))),\n",
    "    yaxis=dict(title='Consumo Médio'),\n",
    "    yaxis2=dict(\n",
    "        title='Temperatura (°C)',\n",
    "        overlaying='y',\n",
    "        side='right'\n",
    "    ),\n",
    "    legend=dict(\n",
    "        x=0.5,\n",
    "        y=-0.2,\n",
    "        orientation=\"h\",\n",
    "        xanchor=\"center\"\n",
    "    ),\n",
    "    width=800,\n",
    "    height=500\n",
    ")\n",
    "\n",
    "# Exibe o gráfico\n",
    "fig.show()"
   ]
  },
  {
   "cell_type": "code",
   "execution_count": null,
   "metadata": {
    "colab": {
     "base_uri": "https://localhost:8080/"
    },
    "id": "P6s1VJ8hrm2s",
    "outputId": "b69a4aac-2a8e-447f-cf33-846214ef19fc"
   },
   "outputs": [],
   "source": [
    "correlacao_pearson = df_combined_residencial_23['CONS_MEDIDO'].corr(df_combined_residencial_23['Temperatura Média'])\n",
    "\n",
    "print(f\"Correlação de Pearson entre Consumo Médio e Temperatura Média para a Categoria Residencial: {correlacao_pearson:.4f}\")"
   ]
  },
  {
   "cell_type": "code",
   "execution_count": null,
   "metadata": {
    "colab": {
     "base_uri": "https://localhost:8080/",
     "height": 517
    },
    "id": "CBfDaD4frm2s",
    "outputId": "badcea3e-5023-44e1-fe48-58e78d7db792"
   },
   "outputs": [],
   "source": [
    "# Filtra os dados para a categoria 'INDUSTRIAL'\n",
    "consumo_industrial_23 = df_23[df_23['CATEGORIA'] == 'INDUSTRIAL']\n",
    "\n",
    "# Calcula o consumo médio mensal para a categoria 'INDUSTRIAL'\n",
    "consumo_medio_industrial_23 = consumo_industrial_23.groupby('MES').agg({'CONS_MEDIDO': 'mean'}).reset_index()\n",
    "\n",
    "# Combina o consumo médio mensal com os dados de temperatura média com base no mês\n",
    "df_combined_industrial_23 = pd.merge(consumo_medio_industrial_23, df_weather_23, on='MES')\n",
    "\n",
    "# Cria uma figura para o gráfico\n",
    "fig = go.Figure()\n",
    "\n",
    "# Adiciona a linha do consumo médio para a categoria 'INDUSTRIAL'\n",
    "fig.add_trace(go.Scatter(\n",
    "    x=df_combined_industrial_23['MES'],\n",
    "    y=df_combined_industrial_23['CONS_MEDIDO'],\n",
    "    mode='lines+markers',\n",
    "    name='Consumo Médio (Categoria: Industrial)',\n",
    "    line=dict(color='green', dash='dash')\n",
    "))\n",
    "\n",
    "# Adiciona a linha da temperatura média\n",
    "fig.add_trace(go.Scatter(\n",
    "    x=df_combined_industrial_23['MES'],\n",
    "    y=df_combined_industrial_23['Temperatura Média'],\n",
    "    mode='lines+markers',\n",
    "    name='Temp. Média',\n",
    "    line=dict(color='red'),\n",
    "    yaxis='y2'\n",
    "))\n",
    "\n",
    "# Configura o layout do gráfico\n",
    "fig.update_layout(\n",
    "    title='Consumo Médio Mensal e Temperatura Média para Categoria Industrial - 2023',\n",
    "    xaxis=dict(title='Mês', tickmode='array', tickvals=list(range(1, 13))),\n",
    "    yaxis=dict(title='Consumo Médio'),\n",
    "    yaxis2=dict(\n",
    "        title='Temperatura (°C)',\n",
    "        overlaying='y',\n",
    "        side='right'\n",
    "    ),\n",
    "    legend=dict(\n",
    "        x=0.5,\n",
    "        y=-0.2,\n",
    "        orientation=\"h\",\n",
    "        xanchor=\"center\"\n",
    "    ),\n",
    "    width=800,\n",
    "    height=500\n",
    ")\n",
    "\n",
    "# Exibe o gráfico\n",
    "fig.show()"
   ]
  },
  {
   "cell_type": "code",
   "execution_count": null,
   "metadata": {
    "colab": {
     "base_uri": "https://localhost:8080/"
    },
    "id": "beITzsSTrm2s",
    "outputId": "6178e3c6-a766-4f7a-ce34-658c0b829603"
   },
   "outputs": [],
   "source": [
    "correlacao_pearson = df_combined_industrial_23['CONS_MEDIDO'].corr(df_combined_industrial_23['Temperatura Média'])\n",
    "\n",
    "print(f\"Correlação de Pearson entre Consumo Médio e Temperatura Média para a Categoria Industrial: {correlacao_pearson:.4f}\")"
   ]
  },
  {
   "cell_type": "markdown",
   "metadata": {
    "id": "pHwloxo0rm2s"
   },
   "source": [
    "### Consumo Médio Mensal por Categoria"
   ]
  },
  {
   "cell_type": "code",
   "execution_count": null,
   "metadata": {
    "colab": {
     "base_uri": "https://localhost:8080/",
     "height": 517
    },
    "id": "9ovEjrYnrm2s",
    "outputId": "e8ccea88-b4d8-4162-ad40-f296a920d6ee"
   },
   "outputs": [],
   "source": [
    "# Define as categorias a serem analisadas\n",
    "categorias = ['PUBLICA', 'COMERCIAL', 'RESIDENCIAL', 'INDUSTRIAL']\n",
    "\n",
    "# Cria uma figura para o gráfico\n",
    "fig = go.Figure()\n",
    "\n",
    "# Loop para adicionar uma linha para cada categoria no gráfico\n",
    "for categoria in categorias:\n",
    "    consumo_categoria = df_23[df_23['CATEGORIA'] == categoria]\n",
    "    consumo_medio_categoria = consumo_categoria.groupby('MES').agg({'CONS_MEDIDO': 'mean'}).reset_index()\n",
    "\n",
    "    # Adiciona a linha do consumo médio da categoria ao gráfico\n",
    "    fig.add_trace(go.Scatter(\n",
    "        x=consumo_medio_categoria['MES'],\n",
    "        y=consumo_medio_categoria['CONS_MEDIDO'],\n",
    "        mode='lines+markers',\n",
    "        name=f'Consumo Médio (Categoria: {categoria})'\n",
    "    ))\n",
    "\n",
    "# Configura o layout do gráfico\n",
    "fig.update_layout(\n",
    "    title='Consumo Médio Mensal por Categoria - 2023',\n",
    "    xaxis=dict(title='Mês', tickmode='array', tickvals=list(range(1, 13))),\n",
    "    yaxis=dict(title='Consumo Médio'),\n",
    "    legend=dict(\n",
    "        x=1,\n",
    "        y=1,\n",
    "        orientation=\"v\",\n",
    "        font=dict(size=10),\n",
    "    ),\n",
    "    margin=dict(l=40, r=40, t=40, b=40),\n",
    "    width=800,\n",
    "    height=500\n",
    ")\n",
    "\n",
    "# Exibe o gráfico\n",
    "fig.show()"
   ]
  },
  {
   "cell_type": "markdown",
   "metadata": {
    "id": "SoVdhJo1rm2t"
   },
   "source": [
    "### Consumo Médio Mensal por Tipo de Ligação\n"
   ]
  },
  {
   "cell_type": "code",
   "execution_count": null,
   "metadata": {
    "colab": {
     "base_uri": "https://localhost:8080/"
    },
    "id": "nVX3RYilrm2t",
    "outputId": "356fe453-445e-4bf5-c0b9-41062f94533f"
   },
   "outputs": [],
   "source": [
    "tipo_ligacao = df_23['TIPO_LIGACAO'].unique()\n",
    "tipo_ligacao"
   ]
  },
  {
   "cell_type": "code",
   "execution_count": null,
   "metadata": {
    "colab": {
     "base_uri": "https://localhost:8080/",
     "height": 517
    },
    "id": "8gG_Si94rm2t",
    "outputId": "75fd43b4-b0e6-4a45-a666-a654ad02a195"
   },
   "outputs": [],
   "source": [
    "# Define os tipos de ligação a serem analisados\n",
    "tipos_ligacao = ['Hidrometrado', 'Consumo Fixo']\n",
    "\n",
    "# Cria uma figura para o gráfico\n",
    "fig = go.Figure()\n",
    "\n",
    "# Loop para adicionar uma linha para cada tipo de ligação no gráfico\n",
    "for tipo in tipos_ligacao:\n",
    "    consumo_tipo = df_23[df_23['TIPO_LIGACAO'] == tipo]  # Filtra os dados pelo tipo de ligação\n",
    "    consumo_medio_tipo = consumo_tipo.groupby('MES').agg({'CONS_MEDIDO': 'mean'}).reset_index()  # Calcula o consumo médio mensal\n",
    "\n",
    "    # Adiciona a linha do consumo médio do tipo de ligação ao gráfico\n",
    "    fig.add_trace(go.Scatter(\n",
    "        x=consumo_medio_tipo['MES'],\n",
    "        y=consumo_medio_tipo['CONS_MEDIDO'],\n",
    "        mode='lines+markers',\n",
    "        name=f'Consumo Médio ({tipo})'\n",
    "    ))\n",
    "\n",
    "# Configura o layout do gráfico\n",
    "fig.update_layout(\n",
    "    title='Consumo Médio Mensal por Tipo de Ligação - 2023',\n",
    "    xaxis=dict(title='Mês', tickmode='array', tickvals=list(range(1, 13))),\n",
    "    yaxis=dict(title='Consumo Médio'),\n",
    "    legend=dict(\n",
    "        x=1,\n",
    "        y=1,\n",
    "        orientation=\"v\",\n",
    "        font=dict(size=10),\n",
    "    ),\n",
    "    margin=dict(l=40, r=40, t=40, b=40),\n",
    "    width=800,\n",
    "    height=500\n",
    ")\n",
    "\n",
    "# Exibe o gráfico\n",
    "fig.show()"
   ]
  },
  {
   "cell_type": "markdown",
   "metadata": {
    "id": "jVhLRtTwrm2t"
   },
   "source": [
    "### Consumo Médio Mensal por Subcategoria"
   ]
  },
  {
   "cell_type": "code",
   "execution_count": null,
   "metadata": {
    "colab": {
     "base_uri": "https://localhost:8080/"
    },
    "id": "yxA9FVH9rm2t",
    "outputId": "5bc0d554-dc92-47b6-fba5-af6f17c29b64"
   },
   "outputs": [],
   "source": [
    "sub_categoria = df_23['SUB_CATEGORIA'].unique()\n",
    "sub_categoria"
   ]
  },
  {
   "cell_type": "code",
   "execution_count": null,
   "metadata": {
    "colab": {
     "base_uri": "https://localhost:8080/",
     "height": 517
    },
    "id": "ulhGd08rrm2u",
    "outputId": "d2f4a29a-92d5-4e1e-9ddc-e29e466574bd"
   },
   "outputs": [],
   "source": [
    "# Define as subcategorias a serem analisadas\n",
    "sub_categorias = ['PUBLICA', 'COMERCIAL', 'RESIDENCIAL', 'RES. SOCIAL', 'INDUSTRIAL', 'RES. INDUBRASIL']\n",
    "\n",
    "# Cria uma figura para o gráfico\n",
    "fig = go.Figure()\n",
    "\n",
    "# Loop para adicionar uma linha para cada subcategoria no gráfico\n",
    "for sub_categoria in sub_categorias:\n",
    "    consumo_sub_categoria = df_23[df_23['SUB_CATEGORIA'] == sub_categoria]  # Filtra os dados pela subcategoria\n",
    "    consumo_medio_sub_categoria = consumo_sub_categoria.groupby('MES').agg({'CONS_MEDIDO': 'mean'}).reset_index()  # Calcula o consumo médio mensal\n",
    "\n",
    "    # Adiciona a linha do consumo médio da subcategoria ao gráfico\n",
    "    fig.add_trace(go.Scatter(\n",
    "        x=consumo_medio_sub_categoria['MES'],\n",
    "        y=consumo_medio_sub_categoria['CONS_MEDIDO'],\n",
    "        mode='lines+markers',\n",
    "        name=f'Consumo Médio ({sub_categoria})'\n",
    "    ))\n",
    "\n",
    "# Configura o layout do gráfico\n",
    "fig.update_layout(\n",
    "    title='Consumo Médio Mensal por Subcategoria - 2023',\n",
    "    xaxis=dict(title='Mês', tickmode='array', tickvals=list(range(1, 13))),\n",
    "    yaxis=dict(title='Consumo Médio'),\n",
    "    legend=dict(\n",
    "        x=1,\n",
    "        y=1,\n",
    "        orientation=\"v\",\n",
    "        font=dict(size=10),\n",
    "    ),\n",
    "    margin=dict(l=40, r=40, t=40, b=40),\n",
    "    width=800,\n",
    "    height=500\n",
    ")\n",
    "\n",
    "# Exibe o gráfico\n",
    "fig.show()"
   ]
  },
  {
   "cell_type": "code",
   "execution_count": null,
   "metadata": {
    "id": "DhTNYYSM-FmP"
   },
   "outputs": [],
   "source": []
  },
  {
   "cell_type": "markdown",
   "metadata": {
    "id": "3vFnf7OC-Pe9"
   },
   "source": [
    "# Consumo 2024\n"
   ]
  },
  {
   "cell_type": "markdown",
   "metadata": {
    "id": "SowSEHQm-PfH"
   },
   "source": [
    "## Estruturação dos datasets\n",
    "\n",
    "Nesta seção, iremos organizar os arquivos, dataset do Consumo 2024 e os dados climáticos, que serão utilizados."
   ]
  },
  {
   "cell_type": "code",
   "execution_count": null,
   "metadata": {
    "id": "3V-Y3l0d-PfI"
   },
   "outputs": [],
   "source": [
    "df_24 = pd.read_csv(\"/content/dataset_consumo_2024.csv\", delimiter=\",\")"
   ]
  },
  {
   "cell_type": "code",
   "execution_count": null,
   "metadata": {
    "colab": {
     "base_uri": "https://localhost:8080/",
     "height": 443
    },
    "id": "VG1HKmNL-PfI",
    "outputId": "ccc032db-037f-45bd-a7ad-947fa6882c46"
   },
   "outputs": [],
   "source": [
    "df_24"
   ]
  },
  {
   "cell_type": "markdown",
   "metadata": {
    "id": "gD3hvZ7Z-PeZ"
   },
   "source": [
    "Para o código a seguir é importante ressaltar que a Latitude e a Longitude foram retiradas de: [Campo Grande MS](https://pt.db-city.com/Brasil--Mato-Grosso-do-Sul--Campo-Grande)"
   ]
  },
  {
   "cell_type": "code",
   "execution_count": null,
   "metadata": {
    "id": "3pjSsxdQ-PfI"
   },
   "outputs": [],
   "source": [
    "# Define a localização geográfica\n",
    "location = Point(-20.4435, -54.6478)\n",
    "\n",
    "# Define as datas de início e fim\n",
    "start = datetime(2024, 1, 1)\n",
    "end = datetime(2024, 12, 31)\n",
    "\n",
    "# Busca os dados diários para a localização e período definidos\n",
    "data = Daily(location, start, end)\n",
    "data = data.fetch()\n",
    "\n",
    "# Calcula a média mensal dos dados diários\n",
    "df_monthly_weather_24 = data.resample('M').mean()"
   ]
  },
  {
   "cell_type": "code",
   "execution_count": null,
   "metadata": {
    "colab": {
     "base_uri": "https://localhost:8080/",
     "height": 542
    },
    "id": "1W7KneRk-PfI",
    "outputId": "96f9401d-91ae-4a3e-efdd-88f35b3ce733"
   },
   "outputs": [],
   "source": [
    "# Renomeia as colunas do DataFrame para nomes mais descritivos\n",
    "df_weather_24 = df_monthly_weather_24.rename(columns={\n",
    "    'tavg': 'Temperatura Média',\n",
    "    'tmin': 'Temperatura Mínima',\n",
    "    'tmax': 'Temperatura Máxima',\n",
    "    'prcp': 'Precipitação',\n",
    "    'snow': 'Neve',\n",
    "    'wdir': 'Direção do Vento',\n",
    "    'wspd': 'Velocidade do Vento',\n",
    "    'wpgt': 'Rajada Máxima de Vento',\n",
    "    'pres': 'Pressão Atmosférica',\n",
    "    'tsun': 'Insolação'\n",
    "})\n",
    "\n",
    "# Exibe o DataFrame renomeado\n",
    "df_weather_24"
   ]
  },
  {
   "cell_type": "code",
   "execution_count": null,
   "metadata": {
    "id": "M3wex-XH-PfI"
   },
   "outputs": [],
   "source": [
    "df_weather_24 = df_weather_24.drop(columns=['Neve', 'Precipitação', 'Direção do Vento', 'Velocidade do Vento', 'Rajada Máxima de Vento', 'Pressão Atmosférica', 'Insolação'])\n",
    "\n",
    "df_weather_24"
   ]
  },
  {
   "cell_type": "code",
   "execution_count": null,
   "metadata": {
    "id": "S37mxNMt-PfI"
   },
   "outputs": [],
   "source": [
    "# Converte a coluna 'REFERENCIA' para o tipo datetime\n",
    "df_24['REFERENCIA'] = pd.to_datetime(df_24['REFERENCIA'])\n",
    "\n",
    "# Extrai o mês da coluna 'REFERENCIA' e cria a coluna 'MES'\n",
    "df_24['MES'] = df_24['REFERENCIA'].dt.month\n",
    "\n",
    "# Extrai o mês do índice do DataFrame de clima e cria a coluna 'MES'\n",
    "df_weather_24['MES'] = df_weather_24.index.month\n",
    "\n",
    "# Calcula o consumo médio mensal e reseta o índice\n",
    "consumo_medio_24 = df_24.groupby('MES')['CONS_MEDIDO'].mean().reset_index()\n",
    "\n",
    "# Combina o consumo médio mensal com os dados climáticos com base na coluna 'MES'\n",
    "df_combined_24 = pd.merge(consumo_medio_24, df_weather_24, on='MES')"
   ]
  },
  {
   "cell_type": "markdown",
   "metadata": {
    "id": "Ny_LR0AB-PfJ"
   },
   "source": [
    "## Big Numbers\n",
    "\n",
    "Nesta seção, apresentamos os alguns indicadores e métricas do nosso dataset, destacando valores significativos que fornecem uma visão rápida e intuitiva sobre o comportamento dos dados."
   ]
  },
  {
   "cell_type": "code",
   "execution_count": null,
   "metadata": {
    "colab": {
     "base_uri": "https://localhost:8080/"
    },
    "id": "v9laj7k8-PfJ",
    "outputId": "cdf0e78a-52a6-4664-e0b8-f0b284bae47c"
   },
   "outputs": [],
   "source": [
    "# Obtém o número de linhas e colunas do DataFrame 'df_24'\n",
    "linhas, colunas = df_24.shape\n",
    "\n",
    "print(f\"O DataFrame de 2024 tem {linhas} linhas e {colunas} colunas.\")"
   ]
  },
  {
   "cell_type": "code",
   "execution_count": null,
   "metadata": {
    "colab": {
     "base_uri": "https://localhost:8080/"
    },
    "id": "03bzjruH-PfJ",
    "outputId": "a121de7d-0a1d-4e7f-e4cf-5bcaaa7c748f"
   },
   "outputs": [],
   "source": [
    "# Obtém os valores únicos da coluna 'MATRICULA' no DataFrame 'df_24'\n",
    "matriculas_unicas = df_24['MATRICULA'].unique()\n",
    "\n",
    "# Calcula o número total de matrículas únicas\n",
    "tamanho = len(matriculas_unicas)\n",
    "\n",
    "# Exibe a quantidade de matrículas únicas no DataFrame de 2024\n",
    "print(f\"O DataFrame de 2024 tem {tamanho} matrículas únicas\")"
   ]
  },
  {
   "cell_type": "code",
   "execution_count": null,
   "metadata": {
    "colab": {
     "base_uri": "https://localhost:8080/"
    },
    "id": "Pp9RPJY_-PfJ",
    "outputId": "db14dd2a-479d-4bd5-9cfc-7f3bad5541c0"
   },
   "outputs": [],
   "source": [
    "# Calcula a soma total do consumo medido no DataFrame 'df_24'\n",
    "soma_consumo = df_24['CONS_MEDIDO'].sum()\n",
    "print(f\"Em 2024 foi consumido {soma_consumo} m^3\")"
   ]
  },
  {
   "cell_type": "markdown",
   "metadata": {
    "id": "82S1ST27-PfJ"
   },
   "source": [
    "## Gráficos\n",
    "\n",
    "Nesta seção, apresentamos uma série de visualizações que ilustram as principais tendências e padrões encontrados nos dados. Os gráficos fornecem uma maneira intuitiva de entender a distribuição, variação e correlação entre as diferentes variáveis analisadas.\n"
   ]
  },
  {
   "cell_type": "markdown",
   "metadata": {
    "id": "cTogEUQr-PfJ"
   },
   "source": [
    "### Consumo Médio Mensal e Temperatura Média"
   ]
  },
  {
   "cell_type": "code",
   "execution_count": null,
   "metadata": {
    "colab": {
     "base_uri": "https://localhost:8080/",
     "height": 517
    },
    "id": "OVjrelAU-PfJ",
    "outputId": "84911c44-efbe-49bb-d903-a5c9f8f9b57c"
   },
   "outputs": [],
   "source": [
    "# Cria uma figura para o gráfico\n",
    "fig = go.Figure()\n",
    "\n",
    "# Adiciona a linha do consumo médio ao gráfico\n",
    "fig.add_trace(go.Scatter(\n",
    "    x=df_combined_24['MES'],\n",
    "    y=df_combined_24['CONS_MEDIDO'],\n",
    "    mode='lines+markers',\n",
    "    name='Consumo Médio',\n",
    "    line=dict(color='green', dash='dash')\n",
    "))\n",
    "\n",
    "# Adiciona a linha da temperatura média ao gráfico\n",
    "fig.add_trace(go.Scatter(\n",
    "    x=df_combined_24['MES'],\n",
    "    y=df_combined_24['Temperatura Média'],\n",
    "    mode='lines+markers',\n",
    "    name='Temp. Média',\n",
    "    line=dict(color='red'),\n",
    "    yaxis='y2'\n",
    "))\n",
    "\n",
    "# Configura o layout do gráfico\n",
    "fig.update_layout(\n",
    "    title='Consumo Médio Mensal e Temperatura Média - 2024',\n",
    "    xaxis=dict(title='Mês', tickmode='array', tickvals=list(range(1, 9))),\n",
    "    yaxis=dict(title='Consumo Médio'),\n",
    "    yaxis2=dict(\n",
    "        title='Temperatura (°C)',\n",
    "        overlaying='y',\n",
    "        side='right'\n",
    "    ),\n",
    "    legend=dict(\n",
    "        x=0.5,\n",
    "        y=-0.2,\n",
    "        orientation=\"h\",\n",
    "        xanchor=\"center\"\n",
    "    ),\n",
    "    width=800,\n",
    "    height=500\n",
    ")\n",
    "\n",
    "# Exibe o gráfico\n",
    "fig.show()"
   ]
  },
  {
   "cell_type": "code",
   "execution_count": null,
   "metadata": {
    "colab": {
     "base_uri": "https://localhost:8080/"
    },
    "id": "TbGXsMaV-PfJ",
    "outputId": "13ffdeba-a459-40d5-f28b-37382b32b170"
   },
   "outputs": [],
   "source": [
    "correlation_24 = df_combined_24['CONS_MEDIDO'].corr(df_combined_24['Temperatura Média'])\n",
    "\n",
    "print(f\"Correlação de Pearson entre Consumo Médio e Temperatura Média: {correlation_24:.2f}\")"
   ]
  },
  {
   "cell_type": "markdown",
   "metadata": {
    "id": "4wiCWBOa-PfJ"
   },
   "source": [
    "### Consumo Médio Mensal e Temperatura Média por Categoria"
   ]
  },
  {
   "cell_type": "code",
   "execution_count": null,
   "metadata": {
    "colab": {
     "base_uri": "https://localhost:8080/"
    },
    "id": "vb9wn2bS-PfJ",
    "outputId": "74291851-8f5e-4ac6-c8d8-62252b7aeaeb"
   },
   "outputs": [],
   "source": [
    "categorias_unicas = df_24['CATEGORIA'].unique()\n",
    "categorias_unicas"
   ]
  },
  {
   "cell_type": "code",
   "execution_count": null,
   "metadata": {
    "colab": {
     "base_uri": "https://localhost:8080/",
     "height": 517
    },
    "id": "KDvOwce1-PfJ",
    "outputId": "130995ec-19be-41d7-e24d-851d073f98bc"
   },
   "outputs": [],
   "source": [
    "# Filtra os dados para a categoria 'PUBLICA'\n",
    "consumo_publica_24 = df_24[df_24['CATEGORIA'] == 'PUBLICA']\n",
    "\n",
    "# Calcula o consumo médio mensal para a categoria 'PUBLICA'\n",
    "consumo_medio_publica_24 = consumo_publica_24.groupby('MES').agg({'CONS_MEDIDO': 'mean'}).reset_index()\n",
    "\n",
    "# Combina o consumo médio mensal com os dados de temperatura média com base no mês\n",
    "df_combined_publica_24 = pd.merge(consumo_medio_publica_24, df_weather_24, on='MES')\n",
    "\n",
    "# Cria uma figura para o gráfico\n",
    "fig = go.Figure()\n",
    "\n",
    "# Adiciona a linha do consumo médio para a categoria 'PUBLICA'\n",
    "fig.add_trace(go.Scatter(\n",
    "    x=df_combined_publica_24['MES'],\n",
    "    y=df_combined_publica_24['CONS_MEDIDO'],\n",
    "    mode='lines+markers',\n",
    "    name='Consumo Médio (Categoria: Pública)',\n",
    "    line=dict(color='green', dash='dash')\n",
    "))\n",
    "\n",
    "# Adiciona a linha da temperatura média\n",
    "fig.add_trace(go.Scatter(\n",
    "    x=df_combined_publica_24['MES'],\n",
    "    y=df_combined_publica_24['Temperatura Média'],\n",
    "    mode='lines+markers',\n",
    "    name='Temp. Média',\n",
    "    line=dict(color='red'),\n",
    "    yaxis='y2'\n",
    "))\n",
    "\n",
    "# Configura o layout do gráfico\n",
    "fig.update_layout(\n",
    "    title='Consumo Médio Mensal e Temperatura Média para Categoria Pública - 2024',\n",
    "    xaxis=dict(title='Mês', tickmode='array', tickvals=list(range(1, 9))),\n",
    "    yaxis=dict(title='Consumo Médio'),\n",
    "    yaxis2=dict(\n",
    "        title='Temperatura (°C)',\n",
    "        overlaying='y',\n",
    "        side='right'\n",
    "    ),\n",
    "    legend=dict(\n",
    "        x=0.5,\n",
    "        y=-0.2,\n",
    "        orientation=\"h\",\n",
    "        xanchor=\"center\"\n",
    "    ),\n",
    "    width=800,\n",
    "    height=500\n",
    ")\n",
    "\n",
    "# Exibe o gráfico\n",
    "fig.show()"
   ]
  },
  {
   "cell_type": "code",
   "execution_count": null,
   "metadata": {
    "colab": {
     "base_uri": "https://localhost:8080/"
    },
    "id": "zCrYV6CT-PfK",
    "outputId": "6b9b5311-cd93-48f6-c93d-864f21797c49"
   },
   "outputs": [],
   "source": [
    "correlacao_pearson = df_combined_publica_24['CONS_MEDIDO'].corr(df_combined_publica_24['Temperatura Média'])\n",
    "\n",
    "print(f\"Correlação de Pearson entre Consumo Médio e Temperatura Média para a Categoria Pública: {correlacao_pearson:.4f}\")"
   ]
  },
  {
   "cell_type": "code",
   "execution_count": null,
   "metadata": {
    "colab": {
     "base_uri": "https://localhost:8080/",
     "height": 517
    },
    "id": "Iyb25rEH-PfK",
    "outputId": "a5ad8e73-3603-4a98-cadc-706a42fdeb2a"
   },
   "outputs": [],
   "source": [
    "# Filtra os dados para a categoria 'COMERCIAL'\n",
    "consumo_comercial_24 = df_24[df_24['CATEGORIA'] == 'COMERCIAL']\n",
    "\n",
    "# Calcula o consumo médio mensal para a categoria 'COMERCIAL'\n",
    "consumo_medio_comercial_24 = consumo_comercial_24.groupby('MES').agg({'CONS_MEDIDO': 'mean'}).reset_index()\n",
    "\n",
    "# Combina o consumo médio mensal com os dados de temperatura média com base no mês\n",
    "df_combined_comercial_24 = pd.merge(consumo_medio_comercial_24, df_weather_24, on='MES')\n",
    "\n",
    "# Cria uma figura para o gráfico\n",
    "fig = go.Figure()\n",
    "\n",
    "# Adiciona a linha do consumo médio para a categoria 'COMERCIAL'\n",
    "fig.add_trace(go.Scatter(\n",
    "    x=df_combined_comercial_24['MES'],\n",
    "    y=df_combined_comercial_24['CONS_MEDIDO'],\n",
    "    mode='lines+markers',\n",
    "    name='Consumo Médio (Categoria: Comercial)',\n",
    "    line=dict(color='green', dash='dash')\n",
    "))\n",
    "\n",
    "# Adiciona a linha da temperatura média\n",
    "fig.add_trace(go.Scatter(\n",
    "    x=df_combined_comercial_24['MES'],\n",
    "    y=df_combined_comercial_24['Temperatura Média'],\n",
    "    mode='lines+markers',\n",
    "    name='Temp. Média',\n",
    "    line=dict(color='red'),\n",
    "    yaxis='y2'\n",
    "))\n",
    "\n",
    "# Configura o layout do gráfico\n",
    "fig.update_layout(\n",
    "    title='Consumo Médio Mensal e Temperatura Média para Categoria Comercial - 2024',\n",
    "    xaxis=dict(title='Mês', tickmode='array', tickvals=list(range(1, 13))),\n",
    "    yaxis=dict(title='Consumo Médio'),\n",
    "    yaxis2=dict(\n",
    "        title='Temperatura (°C)',\n",
    "        overlaying='y',\n",
    "        side='right'\n",
    "    ),\n",
    "    legend=dict(\n",
    "        x=0.5,\n",
    "        y=-0.2,\n",
    "        orientation=\"h\",\n",
    "        xanchor=\"center\"\n",
    "    ),\n",
    "    width=800,\n",
    "    height=500\n",
    ")\n",
    "\n",
    "# Exibe o gráfico\n",
    "fig.show()"
   ]
  },
  {
   "cell_type": "code",
   "execution_count": null,
   "metadata": {
    "colab": {
     "base_uri": "https://localhost:8080/"
    },
    "id": "gkMmgEyX-PfK",
    "outputId": "c232d221-54f2-48be-b351-a72e78efb25e"
   },
   "outputs": [],
   "source": [
    "correlacao_pearson = df_combined_comercial_24['CONS_MEDIDO'].corr(df_combined_comercial_24['Temperatura Média'])\n",
    "\n",
    "print(f\"Correlação de Pearson entre Consumo Médio e Temperatura Média para a Categoria Comercial: {correlacao_pearson:.4f}\")"
   ]
  },
  {
   "cell_type": "code",
   "execution_count": null,
   "metadata": {
    "colab": {
     "base_uri": "https://localhost:8080/",
     "height": 517
    },
    "id": "qgO9RpLZ-PfK",
    "outputId": "524a3226-2598-4a1d-a23e-00b70ce74189"
   },
   "outputs": [],
   "source": [
    "# Filtra os dados para a categoria 'RESIDENCIAL'\n",
    "consumo_residencial_24 = df_24[df_24['CATEGORIA'] == 'RESIDENCIAL']\n",
    "\n",
    "# Calcula o consumo médio mensal para a categoria 'RESIDENCIAL'\n",
    "consumo_medio_residencial_24 = consumo_residencial_24.groupby('MES').agg({'CONS_MEDIDO': 'mean'}).reset_index()\n",
    "\n",
    "# Combina o consumo médio mensal com os dados de temperatura média com base no mês\n",
    "df_combined_residencial_24 = pd.merge(consumo_medio_residencial_24, df_weather_24, on='MES')\n",
    "\n",
    "# Cria uma figura para o gráfico\n",
    "fig = go.Figure()\n",
    "\n",
    "# Adiciona a linha do consumo médio para a categoria 'RESIDENCIAL'\n",
    "fig.add_trace(go.Scatter(\n",
    "    x=df_combined_residencial_24['MES'],\n",
    "    y=df_combined_residencial_24['CONS_MEDIDO'],\n",
    "    mode='lines+markers',\n",
    "    name='Consumo Médio (Categoria: Residencial)',\n",
    "    line=dict(color='green', dash='dash')\n",
    "))\n",
    "\n",
    "# Adiciona a linha da temperatura média\n",
    "fig.add_trace(go.Scatter(\n",
    "    x=df_combined_residencial_24['MES'],\n",
    "    y=df_combined_residencial_24['Temperatura Média'],\n",
    "    mode='lines+markers',\n",
    "    name='Temp. Média',\n",
    "    line=dict(color='red'),\n",
    "    yaxis='y2'\n",
    "))\n",
    "\n",
    "# Configura o layout do gráfico\n",
    "fig.update_layout(\n",
    "    title='Consumo Médio Mensal e Temperatura Média para Categoria Residencial - 2024',\n",
    "    xaxis=dict(title='Mês', tickmode='array', tickvals=list(range(1, 13))),\n",
    "    yaxis=dict(title='Consumo Médio'),\n",
    "    yaxis2=dict(\n",
    "        title='Temperatura (°C)',\n",
    "        overlaying='y',\n",
    "        side='right'\n",
    "    ),\n",
    "    legend=dict(\n",
    "        x=0.5,\n",
    "        y=-0.2,\n",
    "        orientation=\"h\",\n",
    "        xanchor=\"center\"\n",
    "    ),\n",
    "    width=800,\n",
    "    height=500\n",
    ")\n",
    "\n",
    "# Exibe o gráfico\n",
    "fig.show()"
   ]
  },
  {
   "cell_type": "code",
   "execution_count": null,
   "metadata": {
    "colab": {
     "base_uri": "https://localhost:8080/"
    },
    "id": "ABz5D7RL-PfK",
    "outputId": "3701530e-434b-4803-edbd-2ac0030cbeec"
   },
   "outputs": [],
   "source": [
    "correlacao_pearson = df_combined_residencial_24['CONS_MEDIDO'].corr(df_combined_residencial_24['Temperatura Média'])\n",
    "\n",
    "print(f\"Correlação de Pearson entre Consumo Médio e Temperatura Média para a Categoria Residencial: {correlacao_pearson:.4f}\")"
   ]
  },
  {
   "cell_type": "code",
   "execution_count": null,
   "metadata": {
    "colab": {
     "base_uri": "https://localhost:8080/",
     "height": 517
    },
    "id": "3GAyNR16-PfK",
    "outputId": "c82ae5fc-00b8-4e57-a627-e40f88fc6855"
   },
   "outputs": [],
   "source": [
    "# Filtra os dados para a categoria 'INDUSTRIAL'\n",
    "consumo_industrial_24 = df_24[df_24['CATEGORIA'] == 'INDUSTRIAL']\n",
    "\n",
    "# Calcula o consumo médio mensal para a categoria 'INDUSTRIAL'\n",
    "consumo_medio_industrial_24 = consumo_industrial_24.groupby('MES').agg({'CONS_MEDIDO': 'mean'}).reset_index()\n",
    "\n",
    "# Combina o consumo médio mensal com os dados de temperatura média com base no mês\n",
    "df_combined_industrial_24 = pd.merge(consumo_medio_industrial_24, df_weather_24, on='MES')\n",
    "\n",
    "# Cria uma figura para o gráfico\n",
    "fig = go.Figure()\n",
    "\n",
    "# Adiciona a linha do consumo médio para a categoria 'INDUSTRIAL'\n",
    "fig.add_trace(go.Scatter(\n",
    "    x=df_combined_industrial_24['MES'],\n",
    "    y=df_combined_industrial_24['CONS_MEDIDO'],\n",
    "    mode='lines+markers',\n",
    "    name='Consumo Médio (Categoria: Industrial)',\n",
    "    line=dict(color='green', dash='dash')\n",
    "))\n",
    "\n",
    "# Adiciona a linha da temperatura média\n",
    "fig.add_trace(go.Scatter(\n",
    "    x=df_combined_industrial_24['MES'],\n",
    "    y=df_combined_industrial_24['Temperatura Média'],\n",
    "    mode='lines+markers',\n",
    "    name='Temp. Média',\n",
    "    line=dict(color='red'),\n",
    "    yaxis='y2'\n",
    "))\n",
    "\n",
    "# Configura o layout do gráfico\n",
    "fig.update_layout(\n",
    "    title='Consumo Médio Mensal e Temperatura Média para Categoria Industrial - 2024',\n",
    "    xaxis=dict(title='Mês', tickmode='array', tickvals=list(range(1, 13))),\n",
    "    yaxis=dict(title='Consumo Médio'),\n",
    "    yaxis2=dict(\n",
    "        title='Temperatura (°C)',\n",
    "        overlaying='y',\n",
    "        side='right'\n",
    "    ),\n",
    "    legend=dict(\n",
    "        x=0.5,\n",
    "        y=-0.2,\n",
    "        orientation=\"h\",\n",
    "        xanchor=\"center\"\n",
    "    ),\n",
    "    width=800,\n",
    "    height=500\n",
    ")\n",
    "\n",
    "# Exibe o gráfico\n",
    "fig.show()"
   ]
  },
  {
   "cell_type": "code",
   "execution_count": null,
   "metadata": {
    "colab": {
     "base_uri": "https://localhost:8080/"
    },
    "id": "pvRhwHDc-PfK",
    "outputId": "f20075ff-ad71-444f-c757-327ca45d2c57"
   },
   "outputs": [],
   "source": [
    "correlacao_pearson = df_combined_industrial_24['CONS_MEDIDO'].corr(df_combined_industrial_24['Temperatura Média'])\n",
    "\n",
    "print(f\"Correlação de Pearson entre Consumo Médio e Temperatura Média para a Categoria Industrial: {correlacao_pearson:.4f}\")"
   ]
  },
  {
   "cell_type": "markdown",
   "metadata": {
    "id": "lzDGnHWQ-PfK"
   },
   "source": [
    "### Consumo Médio Mensal por Categoria"
   ]
  },
  {
   "cell_type": "code",
   "execution_count": null,
   "metadata": {
    "colab": {
     "base_uri": "https://localhost:8080/",
     "height": 517
    },
    "id": "3nxjbAW3-PfK",
    "outputId": "92a6dad8-c11d-4f63-a647-f9167ff5f954"
   },
   "outputs": [],
   "source": [
    "# Define as categorias a serem analisadas\n",
    "categorias = ['PUBLICA', 'COMERCIAL', 'RESIDENCIAL', 'INDUSTRIAL']\n",
    "\n",
    "# Cria uma figura para o gráfico\n",
    "fig = go.Figure()\n",
    "\n",
    "# Loop para adicionar uma linha para cada categoria no gráfico\n",
    "for categoria in categorias:\n",
    "    consumo_categoria = df_24[df_24['CATEGORIA'] == categoria]  # Filtra os dados pela categoria\n",
    "    consumo_medio_categoria = consumo_categoria.groupby('MES').agg({'CONS_MEDIDO': 'mean'}).reset_index()  # Calcula o consumo médio mensal\n",
    "\n",
    "    # Adiciona a linha do consumo médio da categoria ao gráfico\n",
    "    fig.add_trace(go.Scatter(\n",
    "        x=consumo_medio_categoria['MES'],\n",
    "        y=consumo_medio_categoria['CONS_MEDIDO'],\n",
    "        mode='lines+markers',\n",
    "        name=f'Consumo Médio (Categoria: {categoria})'\n",
    "    ))\n",
    "\n",
    "# Configura o layout do gráfico\n",
    "fig.update_layout(\n",
    "    title='Consumo Médio Mensal por Categoria - 2024',\n",
    "    xaxis=dict(title='Mês', tickmode='array', tickvals=list(range(1, 13))),\n",
    "    yaxis=dict(title='Consumo Médio'),\n",
    "    legend=dict(\n",
    "        x=1,\n",
    "        y=1,\n",
    "        orientation=\"v\",\n",
    "        font=dict(size=10),\n",
    "    ),\n",
    "    margin=dict(l=40, r=40, t=40, b=40),\n",
    "    width=800,\n",
    "    height=500\n",
    ")\n",
    "\n",
    "# Exibe o gráfico\n",
    "fig.show()"
   ]
  },
  {
   "cell_type": "markdown",
   "metadata": {
    "id": "MATp_yD1-PfK"
   },
   "source": [
    "### Consumo Médio Mensal por Tipo de Ligação\n"
   ]
  },
  {
   "cell_type": "code",
   "execution_count": null,
   "metadata": {
    "colab": {
     "base_uri": "https://localhost:8080/"
    },
    "id": "IhVUoBfb-PfK",
    "outputId": "356fe453-445e-4bf5-c0b9-41062f94533f"
   },
   "outputs": [],
   "source": [
    "tipo_ligacao = df_24['TIPO_LIGACAO'].unique()\n",
    "tipo_ligacao"
   ]
  },
  {
   "cell_type": "code",
   "execution_count": null,
   "metadata": {
    "colab": {
     "base_uri": "https://localhost:8080/",
     "height": 517
    },
    "id": "5hxa9kEj-PfK",
    "outputId": "fae7cff9-ce6e-4000-85b5-d3fc7be9885b"
   },
   "outputs": [],
   "source": [
    "# Define os tipos de ligação a serem analisados\n",
    "tipos_ligacao = ['Hidrometrado', 'Consumo Fixo']\n",
    "\n",
    "# Cria uma figura para o gráfico\n",
    "fig = go.Figure()\n",
    "\n",
    "# Loop para adicionar uma linha para cada tipo de ligação no gráfico\n",
    "for tipo in tipos_ligacao:\n",
    "    consumo_tipo = df_24[df_24['TIPO_LIGACAO'] == tipo]  # Filtra os dados pelo tipo de ligação\n",
    "    consumo_medio_tipo = consumo_tipo.groupby('MES').agg({'CONS_MEDIDO': 'mean'}).reset_index()  # Calcula o consumo médio mensal\n",
    "\n",
    "    # Adiciona a linha do consumo médio do tipo de ligação ao gráfico\n",
    "    fig.add_trace(go.Scatter(\n",
    "        x=consumo_medio_tipo['MES'],\n",
    "        y=consumo_medio_tipo['CONS_MEDIDO'],\n",
    "        mode='lines+markers',\n",
    "        name=f'Consumo Médio ({tipo})'\n",
    "    ))\n",
    "\n",
    "# Configura o layout do gráfico\n",
    "fig.update_layout(\n",
    "    title='Consumo Médio Mensal por Tipo de Ligação - 2024',\n",
    "    xaxis=dict(title='Mês', tickmode='array', tickvals=list(range(1, 13))),\n",
    "    yaxis=dict(title='Consumo Médio'),\n",
    "    legend=dict(\n",
    "        x=1,\n",
    "        y=1,\n",
    "        orientation=\"v\",\n",
    "        font=dict(size=10),\n",
    "    ),\n",
    "    margin=dict(l=40, r=40, t=40, b=40),\n",
    "    width=800,\n",
    "    height=500\n",
    ")\n",
    "\n",
    "# Exibe o gráfico\n",
    "fig.show()"
   ]
  },
  {
   "cell_type": "markdown",
   "metadata": {
    "id": "FwfnQB-a-PfL"
   },
   "source": [
    "### Consumo Médio Mensal por Subcategoria"
   ]
  },
  {
   "cell_type": "code",
   "execution_count": null,
   "metadata": {
    "colab": {
     "base_uri": "https://localhost:8080/"
    },
    "id": "jka5j0um-PfL",
    "outputId": "5bc0d554-dc92-47b6-fba5-af6f17c29b64"
   },
   "outputs": [],
   "source": [
    "sub_categoria = df_24['SUB_CATEGORIA'].unique()\n",
    "sub_categoria"
   ]
  },
  {
   "cell_type": "code",
   "execution_count": null,
   "metadata": {
    "colab": {
     "base_uri": "https://localhost:8080/",
     "height": 517
    },
    "id": "MOOUulkK-PfL",
    "outputId": "83d541bf-c9df-49e6-afd2-3e361ebb2a2e"
   },
   "outputs": [],
   "source": [
    "# Define as subcategorias a serem analisadas\n",
    "sub_categorias = ['PUBLICA', 'COMERCIAL', 'RESIDENCIAL', 'RES. SOCIAL', 'INDUSTRIAL', 'RES. INDUBRASIL']\n",
    "\n",
    "# Cria uma figura para o gráfico\n",
    "fig = go.Figure()\n",
    "\n",
    "# Loop para adicionar uma linha para cada subcategoria no gráfico\n",
    "for sub_categoria in sub_categorias:\n",
    "    consumo_sub_categoria = df_24[df_24['SUB_CATEGORIA'] == sub_categoria]  # Filtra os dados pela subcategoria\n",
    "    consumo_medio_sub_categoria = consumo_sub_categoria.groupby('MES').agg({'CONS_MEDIDO': 'mean'}).reset_index()\n",
    "\n",
    "    # Adiciona a linha do consumo médio da subcategoria ao gráfico\n",
    "    fig.add_trace(go.Scatter(\n",
    "        x=consumo_medio_sub_categoria['MES'],\n",
    "        y=consumo_medio_sub_categoria['CONS_MEDIDO'],\n",
    "        mode='lines+markers',\n",
    "        name=f'Consumo Médio ({sub_categoria})'\n",
    "    ))\n",
    "\n",
    "# Configura o layout do gráfico\n",
    "fig.update_layout(\n",
    "    title='Consumo Médio Mensal por Subcategoria - 2024',\n",
    "    xaxis=dict(title='Mês', tickmode='array', tickvals=list(range(1, 13))),\n",
    "    yaxis=dict(title='Consumo Médio'),\n",
    "    legend=dict(\n",
    "        x=1,\n",
    "        y=1,\n",
    "        orientation=\"v\",\n",
    "        font=dict(size=10),\n",
    "    ),\n",
    "    margin=dict(l=40, r=40, t=40, b=40),\n",
    "    width=800,\n",
    "    height=500\n",
    ")\n",
    "\n",
    "# Exibe o gráfico\n",
    "fig.show()"
   ]
  },
  {
   "cell_type": "code",
   "execution_count": null,
   "metadata": {
    "id": "Ww8i-XGy-PfL"
   },
   "outputs": [],
   "source": []
  }
 ],
 "metadata": {
  "colab": {
   "provenance": []
  },
  "kernelspec": {
   "display_name": "Python 3",
   "name": "python3"
  },
  "language_info": {
   "name": "python"
  }
 },
 "nbformat": 4,
 "nbformat_minor": 0
}
